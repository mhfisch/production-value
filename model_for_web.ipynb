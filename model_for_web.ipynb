{
 "cells": [
  {
   "cell_type": "markdown",
   "metadata": {},
   "source": [
    "# Creating a web-ready model"
   ]
  },
  {
   "cell_type": "markdown",
   "metadata": {},
   "source": [
    "There are a few goals here:\n",
    "    \n",
    "- MVP\n",
    "    - Type in a known song in the database, return the 5 most likely producers and their percentages.\n",
    "    - Display the 5 most similar songs\n",
    "- Nice to Have\n",
    "    - All above plus\n",
    "    - Ability to type in any song with spotify mp3\n",
    "- Better\n",
    "    - All the above plus\n",
    "    - New song -> Display producer for that song.\n",
    "- Best\n",
    "    - All the above plus\n",
    "    - Model updates on the fly based on others' input"
   ]
  },
  {
   "cell_type": "markdown",
   "metadata": {},
   "source": [
    "# MVP"
   ]
  },
  {
   "cell_type": "markdown",
   "metadata": {},
   "source": [
    "### Recreate the model:"
   ]
  },
  {
   "cell_type": "code",
   "execution_count": 524,
   "metadata": {},
   "outputs": [],
   "source": [
    "# Standard Imports\n",
    "from __future__ import print_function\n",
    "import numpy as np\n",
    "import pandas as pd\n",
    "import os\n",
    "import sys\n",
    "from collections import defaultdict\n",
    "from importlib import reload\n",
    "from bs4 import BeautifulSoup\n",
    "import requests\n",
    "import scipy.stats as scs\n",
    "import time\n",
    "import seaborn as sns\n",
    "\n",
    "import matplotlib.pyplot as plt\n",
    "\n",
    "# Modeling\n",
    "# import tensorflow as tf\n",
    "# from tensorflow import keras\n",
    "# from tensorflow.keras import datasets, layers, models\n",
    "# import keras.backend as K\n",
    "# from tensorflow.keras.constraints import min_max_norm, non_neg\n",
    "from sklearn.model_selection import train_test_split\n",
    "from sklearn.preprocessing import StandardScaler\n",
    "from sklearn.metrics import confusion_matrix\n",
    "from sklearn.utils.multiclass import unique_labels\n",
    "from sklearn.manifold import TSNE\n",
    "from sklearn.decomposition import PCA\n",
    "from sklearn.neighbors import KNeighborsClassifier\n",
    "\n",
    "# Load MongoDB\n",
    "from pymongo import MongoClient\n",
    "client = MongoClient()\n",
    "# Access/Initiate Database\n",
    "db = client['producer_db']\n",
    "# Access/Initiate Table\n",
    "mfcc_tab = db['mfcc']\n",
    "tab = db['songs']\n",
    "collection = db.tab\n",
    "mfcc_collection = db.mfcc_tab\n",
    "\n",
    "# Authorize Spotify API\n",
    "import spotipy\n",
    "from spotipy.oauth2 import SpotifyClientCredentials\n",
    "client_id = os.environ['SPOTIFY_CLIENT_ID']\n",
    "client_secret = os.environ['SPOTIFY_CLIENT_SECRET']\n",
    "client_credentials_manager = SpotifyClientCredentials(client_id=client_id, client_secret=client_secret)\n",
    "sp = spotipy.Spotify(client_credentials_manager=client_credentials_manager)\n",
    "\n",
    "# Discogs token\n",
    "discogs_token = os.environ['DISCOGS_TOKEN']\n",
    "\n",
    "# Plotly\n",
    "import plotly\n",
    "import plotly.plotly as py\n",
    "import plotly.graph_objs as go\n",
    "import colorlover as cl\n",
    "from IPython.display import HTML\n",
    "plotly_username = os.environ['PLOTLY_USERNAME']\n",
    "plotly_api_key = os.environ['PLOTLY_API_KEY']\n",
    "plotly.tools.set_credentials_file(username=plotly_username, api_key=plotly_api_key)\n",
    "#set colormap\n",
    "Set3_10 = cl.scales['10']['qual']['Set3']\n",
    "cm_10 = list(zip(np.linspace(0,1,10),Set3_10)) \n",
    "\n"
   ]
  },
  {
   "cell_type": "code",
   "execution_count": 2,
   "metadata": {},
   "outputs": [
    {
     "name": "stdout",
     "output_type": "stream",
     "text": [
      "Producer Accuracy:\t0.43\n",
      "Benchmark:\t\t0.08\n",
      "\n"
     ]
    }
   ],
   "source": [
    "# Create a Pandas DataFrame of the Data\n",
    "song_data_list = []\n",
    "audio_feature = 'mfcc_highpass'\n",
    "for song in mfcc_collection.find():\n",
    "    try:\n",
    "        song_data = (song['track'],song['artist'],song['album'],song[audio_feature],song['basic_genre'],song['producer'])\n",
    "        song_data_list.append(song_data)\n",
    "    except:\n",
    "        pass\n",
    "song_df = pd.DataFrame(song_data_list, columns = ['track','artist','album',audio_feature,'genre','producer'])\n",
    "song_df = song_df[song_df[audio_feature].apply(lambda x: np.array(x).shape[1]) >= 1200] #ensures all audio features are same size.\n",
    "\n",
    "# Make feature matrix\n",
    "X = np.vstack(song_df[audio_feature].apply(lambda x: np.array(x)[:,:1200].flatten()).values)\n",
    "\n",
    "# Make target vector, one-hot encoded vector, and y_columns - a \"legend\" for the vectors.\n",
    "y = song_df['producer']\n",
    "y_one_hot = pd.get_dummies(y).values\n",
    "y_columns = np.array(pd.get_dummies(y).columns)\n",
    "\n",
    "# Test train split.\n",
    "X_train, X_test, y_train, y_test = train_test_split(X ,y_one_hot, test_size = 0.3, random_state = 440)\n",
    "\n",
    "# Standardize\n",
    "ss = StandardScaler()\n",
    "X_train_scale = ss.fit_transform(X_train)\n",
    "X_test_scale = ss.transform(X_test)\n",
    "\n",
    "\n",
    "# Use PCA to reduce dimensionality\n",
    "pca = PCA(n_components=12)\n",
    "X_train_pca = pca.fit_transform(X_train_scale)\n",
    "X_test_pca = pca.transform(X_test_scale)\n",
    "\n",
    "# Make a knn model\n",
    "knn = KNeighborsClassifier(n_neighbors = 30)\n",
    "knn.fit(X_train_pca, y_train)\n",
    "\n",
    "# Convert y labels from unit vectors to integers\n",
    "y_test_labels = np.argmax(y_test, axis = 1)\n",
    "y_hat = knn.predict(X_test_pca)\n",
    "y_hat_labels = np.argmax(np.stack(knn.predict_proba(X_test_pca))[:,:,1].T, axis = 1)\n",
    "\n",
    "\n",
    "# Calculate Metrics\n",
    "accuracy = (y_test_labels == y_hat_labels).sum()/y_test_labels.size\n",
    "maj_class = np.argmax(y_train.sum(axis = 0))\n",
    "benchmark = (y_test_labels == maj_class).sum()/y_test_labels.size # Benchmark is guessing majority class\n",
    "\n",
    "# Print Metric\n",
    "print(\"Producer Accuracy:\\t{:.2f}\".format(accuracy))\n",
    "print(\"Benchmark:\\t\\t{:.2f}\".format(benchmark)) \n",
    "print()\n"
   ]
  },
  {
   "cell_type": "code",
   "execution_count": 96,
   "metadata": {},
   "outputs": [],
   "source": [
    "distances, indices = knn.kneighbors(X_test_pca[0:1,:1200])"
   ]
  },
  {
   "cell_type": "code",
   "execution_count": 97,
   "metadata": {},
   "outputs": [],
   "source": [
    "is_neighbor = knn.kneighbors_graph(X_test_pca[0:1,:1200], n_neighbors = 5)"
   ]
  },
  {
   "cell_type": "code",
   "execution_count": 98,
   "metadata": {},
   "outputs": [],
   "source": [
    "my_df = pd.DataFrame([(1,2,3),(4,5,6),(1,2,3),(4,5,6),(1,2,3),(4,5,6),(1,2,3),(4,5,6)],columns=['A','B','C'])"
   ]
  },
  {
   "cell_type": "code",
   "execution_count": 99,
   "metadata": {},
   "outputs": [],
   "source": [
    "top_producers = np.argsort(np.vstack(knn.predict_proba(X_test_pca[0:1,:1200]))[:,1])[::-1]"
   ]
  },
  {
   "cell_type": "code",
   "execution_count": 100,
   "metadata": {},
   "outputs": [
    {
     "data": {
      "text/plain": [
       "array([[0.14084063, 0.52480538, 0.10881116, 0.54927421],\n",
       "       [0.28411038, 0.73124733, 0.3609393 , 0.07743544],\n",
       "       [0.67944859, 0.94568109, 0.00622502, 0.58103205]])"
      ]
     },
     "execution_count": 100,
     "metadata": {},
     "output_type": "execute_result"
    }
   ],
   "source": [
    "test_array = np.random.rand(3,4)\n",
    "test_array"
   ]
  },
  {
   "cell_type": "code",
   "execution_count": 101,
   "metadata": {},
   "outputs": [
    {
     "data": {
      "text/plain": [
       "array([[2, 0, 1, 3],\n",
       "       [3, 0, 2, 1],\n",
       "       [2, 3, 0, 1]])"
      ]
     },
     "execution_count": 101,
     "metadata": {},
     "output_type": "execute_result"
    }
   ],
   "source": [
    "np.argsort(test_array, axis = 1)"
   ]
  },
  {
   "cell_type": "code",
   "execution_count": 102,
   "metadata": {},
   "outputs": [
    {
     "data": {
      "text/html": [
       "<div>\n",
       "<style scoped>\n",
       "    .dataframe tbody tr th:only-of-type {\n",
       "        vertical-align: middle;\n",
       "    }\n",
       "\n",
       "    .dataframe tbody tr th {\n",
       "        vertical-align: top;\n",
       "    }\n",
       "\n",
       "    .dataframe thead th {\n",
       "        text-align: right;\n",
       "    }\n",
       "</style>\n",
       "<table border=\"1\" class=\"dataframe\">\n",
       "  <thead>\n",
       "    <tr style=\"text-align: right;\">\n",
       "      <th></th>\n",
       "      <th>track</th>\n",
       "      <th>artist</th>\n",
       "      <th>album</th>\n",
       "      <th>mfcc_highpass</th>\n",
       "      <th>genre</th>\n",
       "      <th>producer</th>\n",
       "    </tr>\n",
       "  </thead>\n",
       "  <tbody>\n",
       "    <tr>\n",
       "      <th>0</th>\n",
       "      <td>Act Naturally</td>\n",
       "      <td>Buck Owens and the Buckaroos</td>\n",
       "      <td>The Best of Buck Owens</td>\n",
       "      <td>[[-106.0409148180113, -114.71286150048788, -15...</td>\n",
       "      <td>country</td>\n",
       "      <td>George Martin</td>\n",
       "    </tr>\n",
       "    <tr>\n",
       "      <th>1</th>\n",
       "      <td>Alfie</td>\n",
       "      <td>Cilla Black</td>\n",
       "      <td>Cilla Black singles chronology</td>\n",
       "      <td>[[-115.42859278964515, -133.7129072512278, -20...</td>\n",
       "      <td>pop</td>\n",
       "      <td>George Martin</td>\n",
       "    </tr>\n",
       "    <tr>\n",
       "      <th>2</th>\n",
       "      <td>Amber Cascades</td>\n",
       "      <td>America</td>\n",
       "      <td>Hideaway</td>\n",
       "      <td>[[-132.7895650459967, -149.0103345463059, -205...</td>\n",
       "      <td>country</td>\n",
       "      <td>George Martin</td>\n",
       "    </tr>\n",
       "    <tr>\n",
       "      <th>3</th>\n",
       "      <td>Anyone Who Had a Heart</td>\n",
       "      <td>Dionne Warwick</td>\n",
       "      <td>Anyone Who Had a Heart</td>\n",
       "      <td>[[-417.5704948136371, -400.7918664259179, -375...</td>\n",
       "      <td>soul</td>\n",
       "      <td>George Martin</td>\n",
       "    </tr>\n",
       "    <tr>\n",
       "      <th>4</th>\n",
       "      <td>Baby It's You</td>\n",
       "      <td>The Shirelles</td>\n",
       "      <td>Baby It's You</td>\n",
       "      <td>[[-199.51104878028514, -215.14526944983157, -2...</td>\n",
       "      <td>soul</td>\n",
       "      <td>George Martin</td>\n",
       "    </tr>\n",
       "  </tbody>\n",
       "</table>\n",
       "</div>"
      ],
      "text/plain": [
       "                    track                        artist  \\\n",
       "0           Act Naturally  Buck Owens and the Buckaroos   \n",
       "1                   Alfie                   Cilla Black   \n",
       "2          Amber Cascades                       America   \n",
       "3  Anyone Who Had a Heart                Dionne Warwick   \n",
       "4           Baby It's You                 The Shirelles   \n",
       "\n",
       "                            album  \\\n",
       "0          The Best of Buck Owens   \n",
       "1  Cilla Black singles chronology   \n",
       "2                        Hideaway   \n",
       "3          Anyone Who Had a Heart   \n",
       "4                   Baby It's You   \n",
       "\n",
       "                                       mfcc_highpass    genre       producer  \n",
       "0  [[-106.0409148180113, -114.71286150048788, -15...  country  George Martin  \n",
       "1  [[-115.42859278964515, -133.7129072512278, -20...      pop  George Martin  \n",
       "2  [[-132.7895650459967, -149.0103345463059, -205...  country  George Martin  \n",
       "3  [[-417.5704948136371, -400.7918664259179, -375...     soul  George Martin  \n",
       "4  [[-199.51104878028514, -215.14526944983157, -2...     soul  George Martin  "
      ]
     },
     "execution_count": 102,
     "metadata": {},
     "output_type": "execute_result"
    }
   ],
   "source": [
    "song_df.head()"
   ]
  },
  {
   "cell_type": "code",
   "execution_count": 71,
   "metadata": {},
   "outputs": [
    {
     "data": {
      "text/plain": [
       "KNeighborsClassifier(algorithm='auto', leaf_size=30, metric='minkowski',\n",
       "           metric_params=None, n_jobs=None, n_neighbors=30, p=2,\n",
       "           weights='uniform')"
      ]
     },
     "execution_count": 71,
     "metadata": {},
     "output_type": "execute_result"
    }
   ],
   "source": [
    "X_scale = ss.transform(X)\n",
    "X_pca = pca.transform(X_scale)\n",
    "\n",
    "knn = KNeighborsClassifier(n_neighbors = 30)\n",
    "knn.fit(X_pca, y_one_hot)"
   ]
  },
  {
   "cell_type": "code",
   "execution_count": 64,
   "metadata": {},
   "outputs": [
    {
     "data": {
      "text/html": [
       "<div>\n",
       "<style scoped>\n",
       "    .dataframe tbody tr th:only-of-type {\n",
       "        vertical-align: middle;\n",
       "    }\n",
       "\n",
       "    .dataframe tbody tr th {\n",
       "        vertical-align: top;\n",
       "    }\n",
       "\n",
       "    .dataframe thead th {\n",
       "        text-align: right;\n",
       "    }\n",
       "</style>\n",
       "<table border=\"1\" class=\"dataframe\">\n",
       "  <thead>\n",
       "    <tr style=\"text-align: right;\">\n",
       "      <th></th>\n",
       "      <th>track</th>\n",
       "      <th>artist</th>\n",
       "      <th>album</th>\n",
       "      <th>mfcc_highpass</th>\n",
       "      <th>genre</th>\n",
       "      <th>producer</th>\n",
       "    </tr>\n",
       "  </thead>\n",
       "  <tbody>\n",
       "    <tr>\n",
       "      <th>0</th>\n",
       "      <td>Act Naturally</td>\n",
       "      <td>Buck Owens and the Buckaroos</td>\n",
       "      <td>The Best of Buck Owens</td>\n",
       "      <td>[[-106.0409148180113, -114.71286150048788, -15...</td>\n",
       "      <td>country</td>\n",
       "      <td>George Martin</td>\n",
       "    </tr>\n",
       "    <tr>\n",
       "      <th>1</th>\n",
       "      <td>Alfie</td>\n",
       "      <td>Cilla Black</td>\n",
       "      <td>Cilla Black singles chronology</td>\n",
       "      <td>[[-115.42859278964515, -133.7129072512278, -20...</td>\n",
       "      <td>pop</td>\n",
       "      <td>George Martin</td>\n",
       "    </tr>\n",
       "    <tr>\n",
       "      <th>2</th>\n",
       "      <td>Amber Cascades</td>\n",
       "      <td>America</td>\n",
       "      <td>Hideaway</td>\n",
       "      <td>[[-132.7895650459967, -149.0103345463059, -205...</td>\n",
       "      <td>country</td>\n",
       "      <td>George Martin</td>\n",
       "    </tr>\n",
       "    <tr>\n",
       "      <th>3</th>\n",
       "      <td>Anyone Who Had a Heart</td>\n",
       "      <td>Dionne Warwick</td>\n",
       "      <td>Anyone Who Had a Heart</td>\n",
       "      <td>[[-417.5704948136371, -400.7918664259179, -375...</td>\n",
       "      <td>soul</td>\n",
       "      <td>George Martin</td>\n",
       "    </tr>\n",
       "    <tr>\n",
       "      <th>4</th>\n",
       "      <td>Baby It's You</td>\n",
       "      <td>The Shirelles</td>\n",
       "      <td>Baby It's You</td>\n",
       "      <td>[[-199.51104878028514, -215.14526944983157, -2...</td>\n",
       "      <td>soul</td>\n",
       "      <td>George Martin</td>\n",
       "    </tr>\n",
       "  </tbody>\n",
       "</table>\n",
       "</div>"
      ],
      "text/plain": [
       "                    track                        artist  \\\n",
       "0           Act Naturally  Buck Owens and the Buckaroos   \n",
       "1                   Alfie                   Cilla Black   \n",
       "2          Amber Cascades                       America   \n",
       "3  Anyone Who Had a Heart                Dionne Warwick   \n",
       "4           Baby It's You                 The Shirelles   \n",
       "\n",
       "                            album  \\\n",
       "0          The Best of Buck Owens   \n",
       "1  Cilla Black singles chronology   \n",
       "2                        Hideaway   \n",
       "3          Anyone Who Had a Heart   \n",
       "4                   Baby It's You   \n",
       "\n",
       "                                       mfcc_highpass    genre       producer  \n",
       "0  [[-106.0409148180113, -114.71286150048788, -15...  country  George Martin  \n",
       "1  [[-115.42859278964515, -133.7129072512278, -20...      pop  George Martin  \n",
       "2  [[-132.7895650459967, -149.0103345463059, -205...  country  George Martin  \n",
       "3  [[-417.5704948136371, -400.7918664259179, -375...     soul  George Martin  \n",
       "4  [[-199.51104878028514, -215.14526944983157, -2...     soul  George Martin  "
      ]
     },
     "execution_count": 64,
     "metadata": {},
     "output_type": "execute_result"
    }
   ],
   "source": [
    "song_df.head()"
   ]
  },
  {
   "cell_type": "code",
   "execution_count": 59,
   "metadata": {},
   "outputs": [
    {
     "data": {
      "text/plain": [
       "(array([ 4.,  4.,  4.,  9., 21., 23., 40., 51., 83., 76., 88., 74., 72.,\n",
       "        81., 67., 56., 45., 32., 32., 23., 24., 20., 16.,  9.,  6.,  2.,\n",
       "         2.,  0.,  1.,  2.]),\n",
       " array([ 931.86984705,  982.92897116, 1033.98809527, 1085.04721937,\n",
       "        1136.10634348, 1187.16546759, 1238.2245917 , 1289.2837158 ,\n",
       "        1340.34283991, 1391.40196402, 1442.46108812, 1493.52021223,\n",
       "        1544.57933634, 1595.63846045, 1646.69758455, 1697.75670866,\n",
       "        1748.81583277, 1799.87495688, 1850.93408098, 1901.99320509,\n",
       "        1953.0523292 , 2004.1114533 , 2055.17057741, 2106.22970152,\n",
       "        2157.28882563, 2208.34794973, 2259.40707384, 2310.46619795,\n",
       "        2361.52532206, 2412.58444616, 2463.64357027]),\n",
       " <a list of 30 Patch objects>)"
      ]
     },
     "execution_count": 59,
     "metadata": {},
     "output_type": "execute_result"
    },
    {
     "data": {
      "image/png": "[encoded data removed]",
      "text/plain": [
       "<Figure size 432x288 with 1 Axes>"
      ]
     },
     "metadata": {
      "needs_background": "light"
     },
     "output_type": "display_data"
    }
   ],
   "source": [
    "plt.hist(X_pca[:,11].flatten(), bins = 30)"
   ]
  },
  {
   "cell_type": "code",
   "execution_count": null,
   "metadata": {},
   "outputs": [],
   "source": []
  },
  {
   "cell_type": "code",
   "execution_count": 105,
   "metadata": {},
   "outputs": [
    {
     "data": {
      "text/plain": [
       "(1, 12)"
      ]
     },
     "execution_count": 105,
     "metadata": {},
     "output_type": "execute_result"
    }
   ],
   "source": [
    "X_test_pca[0:1,:1200].shape"
   ]
  },
  {
   "cell_type": "code",
   "execution_count": 106,
   "metadata": {},
   "outputs": [
    {
     "data": {
      "text/plain": [
       "array(['Rick Rubin', 'Paul Epworth', 'Dr. Dre', 'RZA', 'George Martin',\n",
       "       'Brian Eno', 'Stock Aitken Waterman', 'Roy Thomas Baker',\n",
       "       'Pete Rock', 'Kanye West'], dtype=object)"
      ]
     },
     "execution_count": 106,
     "metadata": {},
     "output_type": "execute_result"
    }
   ],
   "source": [
    "# Takes a PCA vector and return top producers\n",
    "top_producers = y_columns[np.argsort(np.vstack(knn.predict_proba(X_test_pca[0:1,:1200]))[:,1])[::-1]]\n",
    "top_producers"
   ]
  },
  {
   "cell_type": "code",
   "execution_count": 30,
   "metadata": {},
   "outputs": [
    {
     "data": {
      "text/html": [
       "<div>\n",
       "<style scoped>\n",
       "    .dataframe tbody tr th:only-of-type {\n",
       "        vertical-align: middle;\n",
       "    }\n",
       "\n",
       "    .dataframe tbody tr th {\n",
       "        vertical-align: top;\n",
       "    }\n",
       "\n",
       "    .dataframe thead th {\n",
       "        text-align: right;\n",
       "    }\n",
       "</style>\n",
       "<table border=\"1\" class=\"dataframe\">\n",
       "  <thead>\n",
       "    <tr style=\"text-align: right;\">\n",
       "      <th></th>\n",
       "      <th>track</th>\n",
       "      <th>artist</th>\n",
       "      <th>album</th>\n",
       "      <th>mfcc_highpass</th>\n",
       "      <th>genre</th>\n",
       "      <th>producer</th>\n",
       "    </tr>\n",
       "  </thead>\n",
       "  <tbody>\n",
       "    <tr>\n",
       "      <th>534</th>\n",
       "      <td>Staying Fat</td>\n",
       "      <td>Bloc Party</td>\n",
       "      <td>Bloc Party</td>\n",
       "      <td>[[-44.57645748041316, -52.77683181545641, -73....</td>\n",
       "      <td>pop</td>\n",
       "      <td>Paul Epworth</td>\n",
       "    </tr>\n",
       "    <tr>\n",
       "      <th>176</th>\n",
       "      <td>Hell Yea</td>\n",
       "      <td>Obie Trice</td>\n",
       "      <td>Bottoms Up</td>\n",
       "      <td>[[10.34048419474026, -12.670717682660396, -98....</td>\n",
       "      <td>hip hop</td>\n",
       "      <td>Dr. Dre</td>\n",
       "    </tr>\n",
       "    <tr>\n",
       "      <th>122</th>\n",
       "      <td>Can't C Me</td>\n",
       "      <td>2Pac</td>\n",
       "      <td>All Eyez on Me</td>\n",
       "      <td>[[10.375651403535834, -5.4824673038451905, -92...</td>\n",
       "      <td>hip hop</td>\n",
       "      <td>Dr. Dre</td>\n",
       "    </tr>\n",
       "    <tr>\n",
       "      <th>170</th>\n",
       "      <td>Secrets</td>\n",
       "      <td>Obie Trice</td>\n",
       "      <td>Bottoms Up</td>\n",
       "      <td>[[33.05360338182072, 7.774573215040971, -102.4...</td>\n",
       "      <td>hip hop</td>\n",
       "      <td>Dr. Dre</td>\n",
       "    </tr>\n",
       "    <tr>\n",
       "      <th>582</th>\n",
       "      <td>Darkest Place</td>\n",
       "      <td>Plan B</td>\n",
       "      <td>The Defamation of Strickland Banks</td>\n",
       "      <td>[[-48.682799772834414, -63.59993311991465, -11...</td>\n",
       "      <td>None</td>\n",
       "      <td>Paul Epworth</td>\n",
       "    </tr>\n",
       "  </tbody>\n",
       "</table>\n",
       "</div>"
      ],
      "text/plain": [
       "             track      artist                               album  \\\n",
       "534    Staying Fat  Bloc Party                          Bloc Party   \n",
       "176       Hell Yea  Obie Trice                          Bottoms Up   \n",
       "122     Can't C Me        2Pac                      All Eyez on Me   \n",
       "170        Secrets  Obie Trice                          Bottoms Up   \n",
       "582  Darkest Place      Plan B  The Defamation of Strickland Banks   \n",
       "\n",
       "                                         mfcc_highpass    genre      producer  \n",
       "534  [[-44.57645748041316, -52.77683181545641, -73....      pop  Paul Epworth  \n",
       "176  [[10.34048419474026, -12.670717682660396, -98....  hip hop       Dr. Dre  \n",
       "122  [[10.375651403535834, -5.4824673038451905, -92...  hip hop       Dr. Dre  \n",
       "170  [[33.05360338182072, 7.774573215040971, -102.4...  hip hop       Dr. Dre  \n",
       "582  [[-48.682799772834414, -63.59993311991465, -11...     None  Paul Epworth  "
      ]
     },
     "execution_count": 30,
     "metadata": {},
     "output_type": "execute_result"
    }
   ],
   "source": [
    "# Takes a PCA vector and returns top songs\n",
    "\n",
    "distances, indices = knn.kneighbors(np.array([[50,50,50,50,50,50,50,50,50,50,50,50]]))\n",
    "song_df.loc[indices.flatten().tolist()[:5]]"
   ]
  },
  {
   "cell_type": "code",
   "execution_count": 35,
   "metadata": {},
   "outputs": [
    {
     "data": {
      "text/plain": [
       "2049.18747870678"
      ]
     },
     "execution_count": 35,
     "metadata": {},
     "output_type": "execute_result"
    }
   ],
   "source": [
    "X_pca.std()"
   ]
  },
  {
   "cell_type": "code",
   "execution_count": 166,
   "metadata": {},
   "outputs": [],
   "source": [
    "artist = None\n",
    "track = None"
   ]
  },
  {
   "cell_type": "code",
   "execution_count": 167,
   "metadata": {},
   "outputs": [
    {
     "data": {
      "text/html": [
       "<div>\n",
       "<style scoped>\n",
       "    .dataframe tbody tr th:only-of-type {\n",
       "        vertical-align: middle;\n",
       "    }\n",
       "\n",
       "    .dataframe tbody tr th {\n",
       "        vertical-align: top;\n",
       "    }\n",
       "\n",
       "    .dataframe thead th {\n",
       "        text-align: right;\n",
       "    }\n",
       "</style>\n",
       "<table border=\"1\" class=\"dataframe\">\n",
       "  <thead>\n",
       "    <tr style=\"text-align: right;\">\n",
       "      <th></th>\n",
       "      <th>track</th>\n",
       "      <th>artist</th>\n",
       "      <th>album</th>\n",
       "      <th>mfcc_highpass</th>\n",
       "      <th>genre</th>\n",
       "      <th>producer</th>\n",
       "    </tr>\n",
       "  </thead>\n",
       "  <tbody>\n",
       "  </tbody>\n",
       "</table>\n",
       "</div>"
      ],
      "text/plain": [
       "Empty DataFrame\n",
       "Columns: [track, artist, album, mfcc_highpass, genre, producer]\n",
       "Index: []"
      ]
     },
     "execution_count": 167,
     "metadata": {},
     "output_type": "execute_result"
    }
   ],
   "source": [
    "song_df[((song_df['artist']==artist) if artist else 1) \n",
    "        & (song_df['track']==track)]"
   ]
  },
  {
   "cell_type": "code",
   "execution_count": 103,
   "metadata": {},
   "outputs": [],
   "source": [
    "from sklearn.pipeline import Pipeline"
   ]
  },
  {
   "cell_type": "code",
   "execution_count": 89,
   "metadata": {},
   "outputs": [],
   "source": [
    "# Write a function that takes a track and artist and returns list of 5 producers and dataframe of 5 (track, artist, album, producer) entries\n",
    "\n",
    "def query_knn(song_df, ss, knn, y_columns, track, artist=None, album=None):\n",
    "    query_df = song_df[\n",
    "                      (song_df['track']==track) &\n",
    "                      (song_df['artist']==artist if artist else 1) &\n",
    "                      (song_df['album']==album if album else 1)\n",
    "                     ]\n",
    "    audio_data = query_df.iloc[0]['mfcc_highpass']\n",
    "    flat_audio_data = np.array(audio_data)[:,:1200].flatten().reshape(1,-1)\n",
    "    print(flat_audio_data.shape)\n",
    "    X_query_pca = pca.transform(ss.transform(flat_audio_data))\n",
    "    print(X_query_pca)\n",
    "    top_producers = y_columns[np.argsort(np.vstack(knn.predict_proba(X_query_pca))[:,1])[::-1]]\n",
    "\n",
    "    distances, indices = knn.kneighbors(X_query_pca)\n",
    "    print(indices)\n",
    "    top_songs = song_df.loc[indices.flatten().tolist()[:5]][['track','artist','album','producer']]\n",
    "    top_songs['distance'] = distances.flatten()[:5]\n",
    "    return top_producers, top_songs"
   ]
  },
  {
   "cell_type": "code",
   "execution_count": 93,
   "metadata": {},
   "outputs": [
    {
     "name": "stdout",
     "output_type": "stream",
     "text": [
      "(1, 24000)\n",
      "[[  8.03360782   9.42277472  14.96685391  19.18657558 -42.51323646\n",
      "    7.09033844 -11.39860995   1.52157473 -13.88262467 -22.01063886\n",
      "  -22.68022351  -6.48921458]]\n",
      "[[ 12 481 546  26 479 486 459 666 966 323 508 482  17 782 681 680 318 158\n",
      "  544 501  29 340 619 593 426 702 435 502   7 487]]\n"
     ]
    },
    {
     "data": {
      "text/plain": [
       "array(['Stock Aitken Waterman', 'Paul Epworth', 'George Martin',\n",
       "       'Pete Rock', 'Brian Eno', 'Kanye West', 'Roy Thomas Baker',\n",
       "       'Dr. Dre', 'Rick Rubin', 'RZA'], dtype=object)"
      ]
     },
     "execution_count": 93,
     "metadata": {},
     "output_type": "execute_result"
    }
   ],
   "source": [
    "top_producers, top_songs = query_knn(song_df, ss, knn, y_columns, track='Hymn')\n",
    "top_producers"
   ]
  },
  {
   "cell_type": "code",
   "execution_count": 94,
   "metadata": {},
   "outputs": [
    {
     "data": {
      "text/html": [
       "<div>\n",
       "<style scoped>\n",
       "    .dataframe tbody tr th:only-of-type {\n",
       "        vertical-align: middle;\n",
       "    }\n",
       "\n",
       "    .dataframe tbody tr th {\n",
       "        vertical-align: top;\n",
       "    }\n",
       "\n",
       "    .dataframe thead th {\n",
       "        text-align: right;\n",
       "    }\n",
       "</style>\n",
       "<table border=\"1\" class=\"dataframe\">\n",
       "  <thead>\n",
       "    <tr style=\"text-align: right;\">\n",
       "      <th></th>\n",
       "      <th>track</th>\n",
       "      <th>artist</th>\n",
       "      <th>album</th>\n",
       "      <th>producer</th>\n",
       "      <th>distance</th>\n",
       "    </tr>\n",
       "  </thead>\n",
       "  <tbody>\n",
       "    <tr>\n",
       "      <th>12</th>\n",
       "      <td>Hymn</td>\n",
       "      <td>Ultravox</td>\n",
       "      <td>Quartet</td>\n",
       "      <td>George Martin</td>\n",
       "      <td>1.476610e-13</td>\n",
       "    </tr>\n",
       "    <tr>\n",
       "      <th>481</th>\n",
       "      <td>Boom Boom Satellite</td>\n",
       "      <td>Sigue Sigue Sputnik</td>\n",
       "      <td>Dress for Excess</td>\n",
       "      <td>Stock Aitken Waterman</td>\n",
       "      <td>4.461858e+01</td>\n",
       "    </tr>\n",
       "    <tr>\n",
       "      <th>546</th>\n",
       "      <td>Ghost</td>\n",
       "      <td>Lianne La Havas</td>\n",
       "      <td>Blood</td>\n",
       "      <td>Paul Epworth</td>\n",
       "      <td>5.034530e+01</td>\n",
       "    </tr>\n",
       "    <tr>\n",
       "      <th>26</th>\n",
       "      <td>Something Tells Me (Something's Gonna Happen T...</td>\n",
       "      <td>Cilla Black</td>\n",
       "      <td>Cilla Black singles chronology</td>\n",
       "      <td>George Martin</td>\n",
       "      <td>5.050622e+01</td>\n",
       "    </tr>\n",
       "    <tr>\n",
       "      <th>479</th>\n",
       "      <td>Who Could Ask for Anything More?</td>\n",
       "      <td>Boy Krazy</td>\n",
       "      <td>Boy Krazy</td>\n",
       "      <td>Stock Aitken Waterman</td>\n",
       "      <td>5.558387e+01</td>\n",
       "    </tr>\n",
       "  </tbody>\n",
       "</table>\n",
       "</div>"
      ],
      "text/plain": [
       "                                                 track               artist  \\\n",
       "12                                                Hymn             Ultravox   \n",
       "481                                Boom Boom Satellite  Sigue Sigue Sputnik   \n",
       "546                                              Ghost      Lianne La Havas   \n",
       "26   Something Tells Me (Something's Gonna Happen T...          Cilla Black   \n",
       "479                   Who Could Ask for Anything More?            Boy Krazy   \n",
       "\n",
       "                              album               producer      distance  \n",
       "12                          Quartet          George Martin  1.476610e-13  \n",
       "481                Dress for Excess  Stock Aitken Waterman  4.461858e+01  \n",
       "546                           Blood           Paul Epworth  5.034530e+01  \n",
       "26   Cilla Black singles chronology          George Martin  5.050622e+01  \n",
       "479                       Boy Krazy  Stock Aitken Waterman  5.558387e+01  "
      ]
     },
     "execution_count": 94,
     "metadata": {},
     "output_type": "execute_result"
    }
   ],
   "source": [
    "top_songs"
   ]
  },
  {
   "cell_type": "code",
   "execution_count": 92,
   "metadata": {},
   "outputs": [
    {
     "data": {
      "text/html": [
       "<div>\n",
       "<style scoped>\n",
       "    .dataframe tbody tr th:only-of-type {\n",
       "        vertical-align: middle;\n",
       "    }\n",
       "\n",
       "    .dataframe tbody tr th {\n",
       "        vertical-align: top;\n",
       "    }\n",
       "\n",
       "    .dataframe thead th {\n",
       "        text-align: right;\n",
       "    }\n",
       "</style>\n",
       "<table border=\"1\" class=\"dataframe\">\n",
       "  <thead>\n",
       "    <tr style=\"text-align: right;\">\n",
       "      <th></th>\n",
       "      <th>track</th>\n",
       "      <th>artist</th>\n",
       "      <th>album</th>\n",
       "      <th>mfcc_highpass</th>\n",
       "      <th>genre</th>\n",
       "      <th>producer</th>\n",
       "    </tr>\n",
       "  </thead>\n",
       "  <tbody>\n",
       "    <tr>\n",
       "      <th>811</th>\n",
       "      <td>Here Comes the Gravediggaz</td>\n",
       "      <td>Gravediggaz</td>\n",
       "      <td>6 Feet Deep</td>\n",
       "      <td>[[-325.46069115854124, -314.2303934540428, -34...</td>\n",
       "      <td>hip hop</td>\n",
       "      <td>RZA</td>\n",
       "    </tr>\n",
       "    <tr>\n",
       "      <th>51</th>\n",
       "      <td>You've Got To Hide Your Love Away</td>\n",
       "      <td>the Beatles</td>\n",
       "      <td>20 Greatest Hits</td>\n",
       "      <td>[[-282.2831612029979, -292.63676738656136, -33...</td>\n",
       "      <td>rock</td>\n",
       "      <td>George Martin</td>\n",
       "    </tr>\n",
       "    <tr>\n",
       "      <th>322</th>\n",
       "      <td>Strangers When We Meet</td>\n",
       "      <td>David Bowie</td>\n",
       "      <td>1. Outside</td>\n",
       "      <td>[[-70.91511059540349, -86.2553956957963, -145....</td>\n",
       "      <td>rock</td>\n",
       "      <td>Brian Eno</td>\n",
       "    </tr>\n",
       "    <tr>\n",
       "      <th>761</th>\n",
       "      <td>All I'm Giving (feat. David Dam) [Radio Edit]</td>\n",
       "      <td>Chris Brown</td>\n",
       "      <td>Before the Party</td>\n",
       "      <td>[[-19.864762071374646, -29.131329746403775, -8...</td>\n",
       "      <td>None</td>\n",
       "      <td>Kanye West</td>\n",
       "    </tr>\n",
       "    <tr>\n",
       "      <th>75</th>\n",
       "      <td>To Each His Own - Live Version</td>\n",
       "      <td>America</td>\n",
       "      <td>Live</td>\n",
       "      <td>[[-201.4959375857263, -197.5275249796764, -206...</td>\n",
       "      <td>country</td>\n",
       "      <td>George Martin</td>\n",
       "    </tr>\n",
       "    <tr>\n",
       "      <th>316</th>\n",
       "      <td>Life During Wartime - 2005 Remastered Version</td>\n",
       "      <td>Talking Heads</td>\n",
       "      <td>Fear of Music</td>\n",
       "      <td>[[-168.19140377221478, -184.4793908749072, -24...</td>\n",
       "      <td>rock</td>\n",
       "      <td>Brian Eno</td>\n",
       "    </tr>\n",
       "    <tr>\n",
       "      <th>632</th>\n",
       "      <td>Genesis</td>\n",
       "      <td>De La Soul</td>\n",
       "      <td>And the Anonymous Nobody...</td>\n",
       "      <td>[[-222.71756596099848, -237.5803140511843, -28...</td>\n",
       "      <td>hip hop</td>\n",
       "      <td>Pete Rock</td>\n",
       "    </tr>\n",
       "    <tr>\n",
       "      <th>203</th>\n",
       "      <td>Aeroplane</td>\n",
       "      <td>Red Hot Chili Peppers</td>\n",
       "      <td>One Hot Minute</td>\n",
       "      <td>[[-21.13435077757185, -35.449959302930075, -10...</td>\n",
       "      <td>rock</td>\n",
       "      <td>Rick Rubin</td>\n",
       "    </tr>\n",
       "    <tr>\n",
       "      <th>868</th>\n",
       "      <td>Freakshow</td>\n",
       "      <td>Method Man &amp; Redman</td>\n",
       "      <td>Blackout!</td>\n",
       "      <td>[[-58.561402151842856, -78.01425508703323, -14...</td>\n",
       "      <td>hip hop</td>\n",
       "      <td>RZA</td>\n",
       "    </tr>\n",
       "    <tr>\n",
       "      <th>103</th>\n",
       "      <td>How We Do</td>\n",
       "      <td>The Game featuring 50 Cent</td>\n",
       "      <td>The Documentary</td>\n",
       "      <td>[[-285.48173165338903, -300.4269797071679, -36...</td>\n",
       "      <td>None</td>\n",
       "      <td>Dr. Dre</td>\n",
       "    </tr>\n",
       "    <tr>\n",
       "      <th>282</th>\n",
       "      <td>Solara</td>\n",
       "      <td>The Smashing Pumpkins</td>\n",
       "      <td>Shiny and Oh So Bright, Vol. 1 / LP: No Past. ...</td>\n",
       "      <td>[[-18.17069474611739, -40.3686896376484, -127....</td>\n",
       "      <td>pop</td>\n",
       "      <td>Rick Rubin</td>\n",
       "    </tr>\n",
       "    <tr>\n",
       "      <th>12</th>\n",
       "      <td>Hymn</td>\n",
       "      <td>Ultravox</td>\n",
       "      <td>Quartet</td>\n",
       "      <td>[[-101.69845027337355, -120.51650237604292, -1...</td>\n",
       "      <td>pop</td>\n",
       "      <td>George Martin</td>\n",
       "    </tr>\n",
       "    <tr>\n",
       "      <th>180</th>\n",
       "      <td>Beware</td>\n",
       "      <td>Big Pun</td>\n",
       "      <td>Capital Punishment</td>\n",
       "      <td>[[-88.84469106773051, -107.74702159026614, -18...</td>\n",
       "      <td>hip hop</td>\n",
       "      <td>Dr. Dre</td>\n",
       "    </tr>\n",
       "    <tr>\n",
       "      <th>750</th>\n",
       "      <td>Real Gangstaz</td>\n",
       "      <td>Mobb Deep</td>\n",
       "      <td>Amerikaz Nightmare</td>\n",
       "      <td>[[-142.5825535169874, -143.9077855421705, -193...</td>\n",
       "      <td>hip hop</td>\n",
       "      <td>Kanye West</td>\n",
       "    </tr>\n",
       "    <tr>\n",
       "      <th>365</th>\n",
       "      <td>A Clean Break (Let's Work) - Live at CBGB's, 1...</td>\n",
       "      <td>Talking Heads</td>\n",
       "      <td>Bonus Rarities and Outtakes</td>\n",
       "      <td>[[-187.09779873229766, -201.21818189114973, -2...</td>\n",
       "      <td>rock</td>\n",
       "      <td>Brian Eno</td>\n",
       "    </tr>\n",
       "    <tr>\n",
       "      <th>413</th>\n",
       "      <td>Hand on Your Heart</td>\n",
       "      <td>Kylie Minogue</td>\n",
       "      <td>Enjoy Yourself</td>\n",
       "      <td>[[-35.731679691478774, -54.81307241141335, -14...</td>\n",
       "      <td>pop</td>\n",
       "      <td>Stock Aitken Waterman</td>\n",
       "    </tr>\n",
       "    <tr>\n",
       "      <th>665</th>\n",
       "      <td>L.I. To L.E.S (feat. Feever, Rah &amp; Don Fu-Quan)</td>\n",
       "      <td>PMD</td>\n",
       "      <td>The Awakening</td>\n",
       "      <td>[[-234.91307545943494, -258.0080287601286, -32...</td>\n",
       "      <td>None</td>\n",
       "      <td>Pete Rock</td>\n",
       "    </tr>\n",
       "    <tr>\n",
       "      <th>885</th>\n",
       "      <td>See Me</td>\n",
       "      <td>Northstar</td>\n",
       "      <td>Bobby Digital Presents Northstar</td>\n",
       "      <td>[[-281.466321555172, -289.91549793652035, -335...</td>\n",
       "      <td>None</td>\n",
       "      <td>RZA</td>\n",
       "    </tr>\n",
       "    <tr>\n",
       "      <th>586</th>\n",
       "      <td>Stay Gold</td>\n",
       "      <td>The Big Pink</td>\n",
       "      <td>Future This</td>\n",
       "      <td>[[-41.66885668080785, -60.01653268755601, -120...</td>\n",
       "      <td>rock</td>\n",
       "      <td>Paul Epworth</td>\n",
       "    </tr>\n",
       "    <tr>\n",
       "      <th>23</th>\n",
       "      <td>She's a Woman</td>\n",
       "      <td>the Beatles</td>\n",
       "      <td>Beatles '65</td>\n",
       "      <td>[[-99.35819251531956, -111.6782004841919, -200...</td>\n",
       "      <td>rock</td>\n",
       "      <td>George Martin</td>\n",
       "    </tr>\n",
       "  </tbody>\n",
       "</table>\n",
       "</div>"
      ],
      "text/plain": [
       "                                                 track  \\\n",
       "811                         Here Comes the Gravediggaz   \n",
       "51                   You've Got To Hide Your Love Away   \n",
       "322                             Strangers When We Meet   \n",
       "761      All I'm Giving (feat. David Dam) [Radio Edit]   \n",
       "75                      To Each His Own - Live Version   \n",
       "316      Life During Wartime - 2005 Remastered Version   \n",
       "632                                            Genesis   \n",
       "203                                          Aeroplane   \n",
       "868                                          Freakshow   \n",
       "103                                          How We Do   \n",
       "282                                             Solara   \n",
       "12                                                Hymn   \n",
       "180                                             Beware   \n",
       "750                                      Real Gangstaz   \n",
       "365  A Clean Break (Let's Work) - Live at CBGB's, 1...   \n",
       "413                                 Hand on Your Heart   \n",
       "665    L.I. To L.E.S (feat. Feever, Rah & Don Fu-Quan)   \n",
       "885                                             See Me   \n",
       "586                                          Stay Gold   \n",
       "23                                       She's a Woman   \n",
       "\n",
       "                         artist  \\\n",
       "811                 Gravediggaz   \n",
       "51                  the Beatles   \n",
       "322                 David Bowie   \n",
       "761                 Chris Brown   \n",
       "75                      America   \n",
       "316               Talking Heads   \n",
       "632                  De La Soul   \n",
       "203       Red Hot Chili Peppers   \n",
       "868         Method Man & Redman   \n",
       "103  The Game featuring 50 Cent   \n",
       "282       The Smashing Pumpkins   \n",
       "12                     Ultravox   \n",
       "180                     Big Pun   \n",
       "750                   Mobb Deep   \n",
       "365               Talking Heads   \n",
       "413               Kylie Minogue   \n",
       "665                         PMD   \n",
       "885                   Northstar   \n",
       "586                The Big Pink   \n",
       "23                  the Beatles   \n",
       "\n",
       "                                                 album  \\\n",
       "811                                        6 Feet Deep   \n",
       "51                                    20 Greatest Hits   \n",
       "322                                         1. Outside   \n",
       "761                                   Before the Party   \n",
       "75                                                Live   \n",
       "316                                      Fear of Music   \n",
       "632                        And the Anonymous Nobody...   \n",
       "203                                     One Hot Minute   \n",
       "868                                          Blackout!   \n",
       "103                                    The Documentary   \n",
       "282  Shiny and Oh So Bright, Vol. 1 / LP: No Past. ...   \n",
       "12                                             Quartet   \n",
       "180                                 Capital Punishment   \n",
       "750                                 Amerikaz Nightmare   \n",
       "365                        Bonus Rarities and Outtakes   \n",
       "413                                     Enjoy Yourself   \n",
       "665                                      The Awakening   \n",
       "885                   Bobby Digital Presents Northstar   \n",
       "586                                        Future This   \n",
       "23                                         Beatles '65   \n",
       "\n",
       "                                         mfcc_highpass    genre  \\\n",
       "811  [[-325.46069115854124, -314.2303934540428, -34...  hip hop   \n",
       "51   [[-282.2831612029979, -292.63676738656136, -33...     rock   \n",
       "322  [[-70.91511059540349, -86.2553956957963, -145....     rock   \n",
       "761  [[-19.864762071374646, -29.131329746403775, -8...     None   \n",
       "75   [[-201.4959375857263, -197.5275249796764, -206...  country   \n",
       "316  [[-168.19140377221478, -184.4793908749072, -24...     rock   \n",
       "632  [[-222.71756596099848, -237.5803140511843, -28...  hip hop   \n",
       "203  [[-21.13435077757185, -35.449959302930075, -10...     rock   \n",
       "868  [[-58.561402151842856, -78.01425508703323, -14...  hip hop   \n",
       "103  [[-285.48173165338903, -300.4269797071679, -36...     None   \n",
       "282  [[-18.17069474611739, -40.3686896376484, -127....      pop   \n",
       "12   [[-101.69845027337355, -120.51650237604292, -1...      pop   \n",
       "180  [[-88.84469106773051, -107.74702159026614, -18...  hip hop   \n",
       "750  [[-142.5825535169874, -143.9077855421705, -193...  hip hop   \n",
       "365  [[-187.09779873229766, -201.21818189114973, -2...     rock   \n",
       "413  [[-35.731679691478774, -54.81307241141335, -14...      pop   \n",
       "665  [[-234.91307545943494, -258.0080287601286, -32...     None   \n",
       "885  [[-281.466321555172, -289.91549793652035, -335...     None   \n",
       "586  [[-41.66885668080785, -60.01653268755601, -120...     rock   \n",
       "23   [[-99.35819251531956, -111.6782004841919, -200...     rock   \n",
       "\n",
       "                  producer  \n",
       "811                    RZA  \n",
       "51           George Martin  \n",
       "322              Brian Eno  \n",
       "761             Kanye West  \n",
       "75           George Martin  \n",
       "316              Brian Eno  \n",
       "632              Pete Rock  \n",
       "203             Rick Rubin  \n",
       "868                    RZA  \n",
       "103                Dr. Dre  \n",
       "282             Rick Rubin  \n",
       "12           George Martin  \n",
       "180                Dr. Dre  \n",
       "750             Kanye West  \n",
       "365              Brian Eno  \n",
       "413  Stock Aitken Waterman  \n",
       "665              Pete Rock  \n",
       "885                    RZA  \n",
       "586           Paul Epworth  \n",
       "23           George Martin  "
      ]
     },
     "execution_count": 92,
     "metadata": {},
     "output_type": "execute_result"
    }
   ],
   "source": [
    "song_df.sample(20)"
   ]
  },
  {
   "cell_type": "code",
   "execution_count": 109,
   "metadata": {},
   "outputs": [
    {
     "ename": "TypeError",
     "evalue": "Last step of Pipeline should implement fit. '<bound method KNeighborsClassifier.predict_proba of KNeighborsClassifier(algorithm='auto', leaf_size=30, metric='minkowski',\n           metric_params=None, n_jobs=None, n_neighbors=30, p=2,\n           weights='uniform')>' (type <class 'method'>) doesn't",
     "output_type": "error",
     "traceback": [
      "\u001b[0;31m---------------------------------------------------------------------------\u001b[0m",
      "\u001b[0;31mTypeError\u001b[0m                                 Traceback (most recent call last)",
      "\u001b[0;32m<ipython-input-109-74171ea97c4c>\u001b[0m in \u001b[0;36m<module>\u001b[0;34m\u001b[0m\n\u001b[1;32m      1\u001b[0m pipeline = Pipeline(steps=[('ss',ss),\n\u001b[1;32m      2\u001b[0m                      \u001b[0;34m(\u001b[0m\u001b[0;34m'pca'\u001b[0m\u001b[0;34m,\u001b[0m\u001b[0mpca\u001b[0m\u001b[0;34m)\u001b[0m\u001b[0;34m,\u001b[0m\u001b[0;34m\u001b[0m\u001b[0;34m\u001b[0m\u001b[0m\n\u001b[0;32m----> 3\u001b[0;31m                      ('knn',knn.predict_proba)])\n\u001b[0m",
      "\u001b[0;32m~/anaconda3/lib/python3.7/site-packages/sklearn/pipeline.py\u001b[0m in \u001b[0;36m__init__\u001b[0;34m(self, steps, memory)\u001b[0m\n\u001b[1;32m    117\u001b[0m     \u001b[0;32mdef\u001b[0m \u001b[0m__init__\u001b[0m\u001b[0;34m(\u001b[0m\u001b[0mself\u001b[0m\u001b[0;34m,\u001b[0m \u001b[0msteps\u001b[0m\u001b[0;34m,\u001b[0m \u001b[0mmemory\u001b[0m\u001b[0;34m=\u001b[0m\u001b[0;32mNone\u001b[0m\u001b[0;34m)\u001b[0m\u001b[0;34m:\u001b[0m\u001b[0;34m\u001b[0m\u001b[0;34m\u001b[0m\u001b[0m\n\u001b[1;32m    118\u001b[0m         \u001b[0mself\u001b[0m\u001b[0;34m.\u001b[0m\u001b[0msteps\u001b[0m \u001b[0;34m=\u001b[0m \u001b[0msteps\u001b[0m\u001b[0;34m\u001b[0m\u001b[0;34m\u001b[0m\u001b[0m\n\u001b[0;32m--> 119\u001b[0;31m         \u001b[0mself\u001b[0m\u001b[0;34m.\u001b[0m\u001b[0m_validate_steps\u001b[0m\u001b[0;34m(\u001b[0m\u001b[0;34m)\u001b[0m\u001b[0;34m\u001b[0m\u001b[0;34m\u001b[0m\u001b[0m\n\u001b[0m\u001b[1;32m    120\u001b[0m         \u001b[0mself\u001b[0m\u001b[0;34m.\u001b[0m\u001b[0mmemory\u001b[0m \u001b[0;34m=\u001b[0m \u001b[0mmemory\u001b[0m\u001b[0;34m\u001b[0m\u001b[0;34m\u001b[0m\u001b[0m\n\u001b[1;32m    121\u001b[0m \u001b[0;34m\u001b[0m\u001b[0m\n",
      "\u001b[0;32m~/anaconda3/lib/python3.7/site-packages/sklearn/pipeline.py\u001b[0m in \u001b[0;36m_validate_steps\u001b[0;34m(self)\u001b[0m\n\u001b[1;32m    171\u001b[0m             raise TypeError(\"Last step of Pipeline should implement fit. \"\n\u001b[1;32m    172\u001b[0m                             \u001b[0;34m\"'%s' (type %s) doesn't\"\u001b[0m\u001b[0;34m\u001b[0m\u001b[0;34m\u001b[0m\u001b[0m\n\u001b[0;32m--> 173\u001b[0;31m                             % (estimator, type(estimator)))\n\u001b[0m\u001b[1;32m    174\u001b[0m \u001b[0;34m\u001b[0m\u001b[0m\n\u001b[1;32m    175\u001b[0m     \u001b[0;34m@\u001b[0m\u001b[0mproperty\u001b[0m\u001b[0;34m\u001b[0m\u001b[0;34m\u001b[0m\u001b[0m\n",
      "\u001b[0;31mTypeError\u001b[0m: Last step of Pipeline should implement fit. '<bound method KNeighborsClassifier.predict_proba of KNeighborsClassifier(algorithm='auto', leaf_size=30, metric='minkowski',\n           metric_params=None, n_jobs=None, n_neighbors=30, p=2,\n           weights='uniform')>' (type <class 'method'>) doesn't"
     ]
    }
   ],
   "source": [
    "pipeline = Pipeline(steps=[('ss',ss),\n",
    "                     ('pca',pca),\n",
    "                     ('knn',knn.predict_proba)])"
   ]
  },
  {
   "cell_type": "code",
   "execution_count": 114,
   "metadata": {},
   "outputs": [],
   "source": [
    "pipeline = Pipeline([('ss',StandardScaler()),\n",
    "                     ('pca',PCA(n_components=12))\n",
    "                    ]\n",
    "                   )"
   ]
  },
  {
   "cell_type": "code",
   "execution_count": 115,
   "metadata": {},
   "outputs": [
    {
     "data": {
      "text/plain": [
       "array([[ -5.92556759,   9.26195634, -38.40809255, ...,  16.4970865 ,\n",
       "         -5.10018973, -21.78687732],\n",
       "       [ 42.28521514,  22.35556663, -26.77753632, ...,  32.42379448,\n",
       "         -1.69549867, -14.76777689],\n",
       "       [ 14.22671922,  15.77747332,  -9.53423042, ...,  -6.48067064,\n",
       "        -18.02432766,   5.41703778],\n",
       "       ...,\n",
       "       [-12.78340473,   1.73643461, -28.38017091, ..., -20.60415641,\n",
       "          3.13398035,  -9.29451311],\n",
       "       [ 44.70922682, -11.88054257, -59.27307355, ..., -14.49855103,\n",
       "         -6.23283598,   5.84981373],\n",
       "       [-20.07065575,   2.42453256, -25.94165586, ...,  -6.2041021 ,\n",
       "          1.09094184,  -9.27239941]])"
      ]
     },
     "execution_count": 115,
     "metadata": {},
     "output_type": "execute_result"
    }
   ],
   "source": [
    "pipeline.fit_transform(X)"
   ]
  },
  {
   "cell_type": "code",
   "execution_count": 403,
   "metadata": {},
   "outputs": [],
   "source": [
    "import src.knn_modeling as km"
   ]
  },
  {
   "cell_type": "code",
   "execution_count": 475,
   "metadata": {},
   "outputs": [
    {
     "data": {
      "text/plain": [
       "<module 'src.knn_modeling' from '/Users/Maxwell/galvanize/production-value/src/knn_modeling.py'>"
      ]
     },
     "execution_count": 475,
     "metadata": {},
     "output_type": "execute_result"
    }
   ],
   "source": [
    "reload(km)"
   ]
  },
  {
   "cell_type": "code",
   "execution_count": 476,
   "metadata": {},
   "outputs": [],
   "source": [
    "pv = km.ProductionValue(collection = mfcc_collection, sp = sp, discogs_token = discogs_token)"
   ]
  },
  {
   "cell_type": "code",
   "execution_count": 477,
   "metadata": {},
   "outputs": [],
   "source": [
    "pv.fit_knn('mfcc_highpass')"
   ]
  },
  {
   "cell_type": "code",
   "execution_count": 478,
   "metadata": {},
   "outputs": [],
   "source": [
    "pv.to_pickle('does_this_work.pickle')"
   ]
  },
  {
   "cell_type": "code",
   "execution_count": 479,
   "metadata": {},
   "outputs": [
    {
     "data": {
      "text/html": [
       "<div>\n",
       "<style scoped>\n",
       "    .dataframe tbody tr th:only-of-type {\n",
       "        vertical-align: middle;\n",
       "    }\n",
       "\n",
       "    .dataframe tbody tr th {\n",
       "        vertical-align: top;\n",
       "    }\n",
       "\n",
       "    .dataframe thead th {\n",
       "        text-align: right;\n",
       "    }\n",
       "</style>\n",
       "<table border=\"1\" class=\"dataframe\">\n",
       "  <thead>\n",
       "    <tr style=\"text-align: right;\">\n",
       "      <th></th>\n",
       "      <th>track</th>\n",
       "      <th>artist</th>\n",
       "      <th>album</th>\n",
       "      <th>mfcc_highpass</th>\n",
       "      <th>genre</th>\n",
       "      <th>producer</th>\n",
       "    </tr>\n",
       "  </thead>\n",
       "  <tbody>\n",
       "    <tr>\n",
       "      <th>0</th>\n",
       "      <td>Act Naturally</td>\n",
       "      <td>Buck Owens and the Buckaroos</td>\n",
       "      <td>The Best of Buck Owens</td>\n",
       "      <td>[[-106.0409148180113, -114.71286150048788, -15...</td>\n",
       "      <td>country</td>\n",
       "      <td>George Martin</td>\n",
       "    </tr>\n",
       "    <tr>\n",
       "      <th>1</th>\n",
       "      <td>Alfie</td>\n",
       "      <td>Cilla Black</td>\n",
       "      <td>Cilla Black singles chronology</td>\n",
       "      <td>[[-115.42859278964515, -133.7129072512278, -20...</td>\n",
       "      <td>pop</td>\n",
       "      <td>George Martin</td>\n",
       "    </tr>\n",
       "    <tr>\n",
       "      <th>2</th>\n",
       "      <td>Amber Cascades</td>\n",
       "      <td>America</td>\n",
       "      <td>Hideaway</td>\n",
       "      <td>[[-132.7895650459967, -149.0103345463059, -205...</td>\n",
       "      <td>country</td>\n",
       "      <td>George Martin</td>\n",
       "    </tr>\n",
       "    <tr>\n",
       "      <th>3</th>\n",
       "      <td>Anyone Who Had a Heart</td>\n",
       "      <td>Dionne Warwick</td>\n",
       "      <td>Anyone Who Had a Heart</td>\n",
       "      <td>[[-417.5704948136371, -400.7918664259179, -375...</td>\n",
       "      <td>soul</td>\n",
       "      <td>George Martin</td>\n",
       "    </tr>\n",
       "    <tr>\n",
       "      <th>4</th>\n",
       "      <td>Baby It's You</td>\n",
       "      <td>The Shirelles</td>\n",
       "      <td>Baby It's You</td>\n",
       "      <td>[[-199.51104878028514, -215.14526944983157, -2...</td>\n",
       "      <td>soul</td>\n",
       "      <td>George Martin</td>\n",
       "    </tr>\n",
       "  </tbody>\n",
       "</table>\n",
       "</div>"
      ],
      "text/plain": [
       "                    track                        artist  \\\n",
       "0           Act Naturally  Buck Owens and the Buckaroos   \n",
       "1                   Alfie                   Cilla Black   \n",
       "2          Amber Cascades                       America   \n",
       "3  Anyone Who Had a Heart                Dionne Warwick   \n",
       "4           Baby It's You                 The Shirelles   \n",
       "\n",
       "                            album  \\\n",
       "0          The Best of Buck Owens   \n",
       "1  Cilla Black singles chronology   \n",
       "2                        Hideaway   \n",
       "3          Anyone Who Had a Heart   \n",
       "4                   Baby It's You   \n",
       "\n",
       "                                       mfcc_highpass    genre       producer  \n",
       "0  [[-106.0409148180113, -114.71286150048788, -15...  country  George Martin  \n",
       "1  [[-115.42859278964515, -133.7129072512278, -20...      pop  George Martin  \n",
       "2  [[-132.7895650459967, -149.0103345463059, -205...  country  George Martin  \n",
       "3  [[-417.5704948136371, -400.7918664259179, -375...     soul  George Martin  \n",
       "4  [[-199.51104878028514, -215.14526944983157, -2...     soul  George Martin  "
      ]
     },
     "execution_count": 479,
     "metadata": {},
     "output_type": "execute_result"
    }
   ],
   "source": [
    "pv2 = km.ProductionValue(collection = mfcc_collection, sp = sp, discogs_token = discogs_token)\n",
    "pv2.read_pickle('does_this_work.pickle')\n",
    "pv2.song_df.head()"
   ]
  },
  {
   "cell_type": "code",
   "execution_count": 480,
   "metadata": {},
   "outputs": [
    {
     "name": "stdout",
     "output_type": "stream",
     "text": [
      "money artist:pink floyd\n"
     ]
    },
    {
     "name": "stderr",
     "output_type": "stream",
     "text": [
      "/Users/Maxwell/anaconda3/lib/python3.7/site-packages/scipy/signal/_arraytools.py:45: FutureWarning: Using a non-tuple sequence for multidimensional indexing is deprecated; use `arr[tuple(seq)]` instead of `arr[seq]`. In the future this will be interpreted as an array index, `arr[np.array(seq)]`, which will result either in an error or a different result.\n",
      "  b = a[a_slice]\n"
     ]
    }
   ],
   "source": [
    "a, b, c, = pv2.query('money', artist='pink floyd', use_spotify=True)"
   ]
  },
  {
   "cell_type": "code",
   "execution_count": 481,
   "metadata": {},
   "outputs": [
    {
     "data": {
      "text/plain": [
       "array(['Rick Rubin', 'Dr. Dre', 'Paul Epworth', 'RZA',\n",
       "       'Stock Aitken Waterman', 'Kanye West', 'Roy Thomas Baker',\n",
       "       'Pete Rock', 'Brian Eno', 'George Martin'], dtype=object)"
      ]
     },
     "execution_count": 481,
     "metadata": {},
     "output_type": "execute_result"
    }
   ],
   "source": [
    "a"
   ]
  },
  {
   "cell_type": "code",
   "execution_count": 482,
   "metadata": {},
   "outputs": [
    {
     "data": {
      "text/html": [
       "<div>\n",
       "<style scoped>\n",
       "    .dataframe tbody tr th:only-of-type {\n",
       "        vertical-align: middle;\n",
       "    }\n",
       "\n",
       "    .dataframe tbody tr th {\n",
       "        vertical-align: top;\n",
       "    }\n",
       "\n",
       "    .dataframe thead th {\n",
       "        text-align: right;\n",
       "    }\n",
       "</style>\n",
       "<table border=\"1\" class=\"dataframe\">\n",
       "  <thead>\n",
       "    <tr style=\"text-align: right;\">\n",
       "      <th></th>\n",
       "      <th>track</th>\n",
       "      <th>artist</th>\n",
       "      <th>album</th>\n",
       "      <th>producer</th>\n",
       "      <th>distance</th>\n",
       "    </tr>\n",
       "  </thead>\n",
       "  <tbody>\n",
       "    <tr>\n",
       "      <th>2</th>\n",
       "      <td>Amber Cascades</td>\n",
       "      <td>America</td>\n",
       "      <td>Hideaway</td>\n",
       "      <td>George Martin</td>\n",
       "      <td>47.203039</td>\n",
       "    </tr>\n",
       "    <tr>\n",
       "      <th>25</th>\n",
       "      <td>Sister Golden Hair</td>\n",
       "      <td>America</td>\n",
       "      <td>Hearts</td>\n",
       "      <td>George Martin</td>\n",
       "      <td>47.658202</td>\n",
       "    </tr>\n",
       "    <tr>\n",
       "      <th>637</th>\n",
       "      <td>CBGBS</td>\n",
       "      <td>De La Soul</td>\n",
       "      <td>And the Anonymous Nobody...</td>\n",
       "      <td>Pete Rock</td>\n",
       "      <td>49.674801</td>\n",
       "    </tr>\n",
       "    <tr>\n",
       "      <th>332</th>\n",
       "      <td>This Is That</td>\n",
       "      <td>David Byrne</td>\n",
       "      <td>American Utopia</td>\n",
       "      <td>Brian Eno</td>\n",
       "      <td>50.269179</td>\n",
       "    </tr>\n",
       "    <tr>\n",
       "      <th>82</th>\n",
       "      <td>Smile of the Beyond</td>\n",
       "      <td>Mahavishnu Orchestra</td>\n",
       "      <td>Apocalypse</td>\n",
       "      <td>George Martin</td>\n",
       "      <td>50.498442</td>\n",
       "    </tr>\n",
       "  </tbody>\n",
       "</table>\n",
       "</div>"
      ],
      "text/plain": [
       "                   track                artist                        album  \\\n",
       "2         Amber Cascades               America                     Hideaway   \n",
       "25    Sister Golden Hair               America                       Hearts   \n",
       "637                CBGBS            De La Soul  And the Anonymous Nobody...   \n",
       "332         This Is That           David Byrne              American Utopia   \n",
       "82   Smile of the Beyond  Mahavishnu Orchestra                   Apocalypse   \n",
       "\n",
       "          producer   distance  \n",
       "2    George Martin  47.203039  \n",
       "25   George Martin  47.658202  \n",
       "637      Pete Rock  49.674801  \n",
       "332      Brian Eno  50.269179  \n",
       "82   George Martin  50.498442  "
      ]
     },
     "execution_count": 482,
     "metadata": {},
     "output_type": "execute_result"
    }
   ],
   "source": [
    "b"
   ]
  },
  {
   "cell_type": "code",
   "execution_count": 483,
   "metadata": {},
   "outputs": [
    {
     "data": {
      "text/plain": [
       "'Pink Floyd'"
      ]
     },
     "execution_count": 483,
     "metadata": {},
     "output_type": "execute_result"
    }
   ],
   "source": [
    "c"
   ]
  },
  {
   "cell_type": "code",
   "execution_count": 444,
   "metadata": {},
   "outputs": [
    {
     "data": {
      "text/html": [
       "<div>\n",
       "<style scoped>\n",
       "    .dataframe tbody tr th:only-of-type {\n",
       "        vertical-align: middle;\n",
       "    }\n",
       "\n",
       "    .dataframe tbody tr th {\n",
       "        vertical-align: top;\n",
       "    }\n",
       "\n",
       "    .dataframe thead th {\n",
       "        text-align: right;\n",
       "    }\n",
       "</style>\n",
       "<table border=\"1\" class=\"dataframe\">\n",
       "  <thead>\n",
       "    <tr style=\"text-align: right;\">\n",
       "      <th></th>\n",
       "      <th>track</th>\n",
       "      <th>artist</th>\n",
       "      <th>album</th>\n",
       "      <th>mfcc_highpass</th>\n",
       "      <th>genre</th>\n",
       "      <th>producer</th>\n",
       "    </tr>\n",
       "  </thead>\n",
       "  <tbody>\n",
       "    <tr>\n",
       "      <th>0</th>\n",
       "      <td>Act Naturally</td>\n",
       "      <td>Buck Owens and the Buckaroos</td>\n",
       "      <td>The Best of Buck Owens</td>\n",
       "      <td>[[-106.0409148180113, -114.71286150048788, -15...</td>\n",
       "      <td>country</td>\n",
       "      <td>George Martin</td>\n",
       "    </tr>\n",
       "    <tr>\n",
       "      <th>1</th>\n",
       "      <td>Alfie</td>\n",
       "      <td>Cilla Black</td>\n",
       "      <td>Cilla Black singles chronology</td>\n",
       "      <td>[[-115.42859278964515, -133.7129072512278, -20...</td>\n",
       "      <td>pop</td>\n",
       "      <td>George Martin</td>\n",
       "    </tr>\n",
       "    <tr>\n",
       "      <th>2</th>\n",
       "      <td>Amber Cascades</td>\n",
       "      <td>America</td>\n",
       "      <td>Hideaway</td>\n",
       "      <td>[[-132.7895650459967, -149.0103345463059, -205...</td>\n",
       "      <td>country</td>\n",
       "      <td>George Martin</td>\n",
       "    </tr>\n",
       "    <tr>\n",
       "      <th>3</th>\n",
       "      <td>Anyone Who Had a Heart</td>\n",
       "      <td>Dionne Warwick</td>\n",
       "      <td>Anyone Who Had a Heart</td>\n",
       "      <td>[[-417.5704948136371, -400.7918664259179, -375...</td>\n",
       "      <td>soul</td>\n",
       "      <td>George Martin</td>\n",
       "    </tr>\n",
       "    <tr>\n",
       "      <th>4</th>\n",
       "      <td>Baby It's You</td>\n",
       "      <td>The Shirelles</td>\n",
       "      <td>Baby It's You</td>\n",
       "      <td>[[-199.51104878028514, -215.14526944983157, -2...</td>\n",
       "      <td>soul</td>\n",
       "      <td>George Martin</td>\n",
       "    </tr>\n",
       "  </tbody>\n",
       "</table>\n",
       "</div>"
      ],
      "text/plain": [
       "                    track                        artist  \\\n",
       "0           Act Naturally  Buck Owens and the Buckaroos   \n",
       "1                   Alfie                   Cilla Black   \n",
       "2          Amber Cascades                       America   \n",
       "3  Anyone Who Had a Heart                Dionne Warwick   \n",
       "4           Baby It's You                 The Shirelles   \n",
       "\n",
       "                            album  \\\n",
       "0          The Best of Buck Owens   \n",
       "1  Cilla Black singles chronology   \n",
       "2                        Hideaway   \n",
       "3          Anyone Who Had a Heart   \n",
       "4                   Baby It's You   \n",
       "\n",
       "                                       mfcc_highpass    genre       producer  \n",
       "0  [[-106.0409148180113, -114.71286150048788, -15...  country  George Martin  \n",
       "1  [[-115.42859278964515, -133.7129072512278, -20...      pop  George Martin  \n",
       "2  [[-132.7895650459967, -149.0103345463059, -205...  country  George Martin  \n",
       "3  [[-417.5704948136371, -400.7918664259179, -375...     soul  George Martin  \n",
       "4  [[-199.51104878028514, -215.14526944983157, -2...     soul  George Martin  "
      ]
     },
     "execution_count": 444,
     "metadata": {},
     "output_type": "execute_result"
    }
   ],
   "source": [
    "pv.song_df.head()"
   ]
  },
  {
   "cell_type": "code",
   "execution_count": 438,
   "metadata": {},
   "outputs": [],
   "source": [
    "import pickle"
   ]
  },
  {
   "cell_type": "code",
   "execution_count": 459,
   "metadata": {},
   "outputs": [],
   "source": [
    "pv2 = km.ProductionValue(mfcc_collection, sp, discogs_token)"
   ]
  },
  {
   "cell_type": "code",
   "execution_count": 467,
   "metadata": {},
   "outputs": [],
   "source": [
    "my_list = ['never','gonna','give','you','up']"
   ]
  },
  {
   "cell_type": "code",
   "execution_count": 468,
   "metadata": {},
   "outputs": [],
   "source": [
    "with open('does_this_work.pickle', 'wb') as f:\n",
    "    pickle.dump(my_list, f, pickle.HIGHEST_PROTOCOL)"
   ]
  },
  {
   "cell_type": "code",
   "execution_count": 469,
   "metadata": {},
   "outputs": [],
   "source": [
    "with open('does_this_work.pickle', 'rb') as f:\n",
    "    loaded_obj = pickle.load(f)"
   ]
  },
  {
   "cell_type": "code",
   "execution_count": 470,
   "metadata": {},
   "outputs": [
    {
     "data": {
      "text/plain": [
       "['never', 'gonna', 'give', 'you', 'up']"
      ]
     },
     "execution_count": 470,
     "metadata": {},
     "output_type": "execute_result"
    }
   ],
   "source": [
    "loaded_obj"
   ]
  },
  {
   "cell_type": "code",
   "execution_count": 157,
   "metadata": {},
   "outputs": [],
   "source": [
    "top_producers, top_songs = pv.query('Alfie')"
   ]
  },
  {
   "cell_type": "code",
   "execution_count": 158,
   "metadata": {},
   "outputs": [
    {
     "data": {
      "text/plain": [
       "array(['George Martin', 'Brian Eno', 'Pete Rock', 'Dr. Dre',\n",
       "       'Roy Thomas Baker', 'Paul Epworth', 'Kanye West',\n",
       "       'Stock Aitken Waterman', 'Rick Rubin', 'RZA'], dtype=object)"
      ]
     },
     "execution_count": 158,
     "metadata": {},
     "output_type": "execute_result"
    }
   ],
   "source": [
    "top_producers"
   ]
  },
  {
   "cell_type": "code",
   "execution_count": 252,
   "metadata": {},
   "outputs": [],
   "source": [
    "from src.audio_processing import load_mp3_from_url, mfcc_highpass"
   ]
  },
  {
   "cell_type": "code",
   "execution_count": 394,
   "metadata": {},
   "outputs": [],
   "source": [
    "def query_spotify(track, artist=None, album=None):\n",
    "    query = track + (' artist:{}'.format(artist) if artist else '') + (' album:{}'.format(album) if album else '')\n",
    "    print(query)\n",
    "    search = sp.search(q=query, type='track')\n",
    "    song = search['tracks']['items'][0]\n",
    "       \n",
    "    # song info\n",
    "    preview_url = song['preview_url']\n",
    "    # check for mp3\n",
    "    if not preview_url:\n",
    "        print('No audio file available for track:'+query)\n",
    "        return None\n",
    "    \n",
    "    # more song info\n",
    "    song_id = song['id']\n",
    "    track = song['name']\n",
    "    album = song['album']['name']\n",
    "    artist = song['artists'][0]['name']\n",
    "    artist_id = song['artists'][0]['id']\n",
    "    \n",
    "    # Lookup producer on Discogs\n",
    "    producer_discogs = find_one_producer(discogs_token, track, album=album, artist=artist, year='', N=10)\n",
    "\n",
    "    # Get genre list from artist\n",
    "    genre_list = sp.artist(artist_id)['genres']\n",
    "    \n",
    "    # Use preview_url to get audio processing\n",
    "    y, sr = load_mp3_from_url(preview_url)\n",
    "    M = mfcc_highpass(y, sr)\n",
    "    \n",
    "    # Pipeline audio data\n",
    "    flat_audio_data = np.array(M)[:,:1200].flatten().reshape(1,-1)\n",
    "    X_query_pca = pipeline.transform(flat_audio_data)\n",
    "    \n",
    "    # Predict songs and producers\n",
    "    top_producers = y_columns[np.argsort(np.vstack(knn.predict_proba(X_query_pca))[:,1])]\n",
    "    # NEED TO ADD PROBABILITIES\n",
    "\n",
    "    distances, indices = knn.kneighbors(X_query_pca)\n",
    "    top_songs = song_df.loc[indices.flatten().tolist()[:5]][['track','artist','album','producer']]\n",
    "    top_songs['distance'] = distances.flatten()[:5]\n",
    "    pass\n",
    "\n",
    "    # Add data to MongoDB\n",
    "    myquery = { \"producer\": producer_discogs,\n",
    "                \"spotify_id\" : song_id }\n",
    "\n",
    "    newvalues = { \"$set\": {'mfcc_highpass':M.tolist(),\n",
    "                           'producer':producer_discogs,\n",
    "                           'spotify_id':song_id,\n",
    "                           'album':album,\n",
    "                           'artist':artist,\n",
    "                           'preview_url':preview_url,\n",
    "                           'track':track,\n",
    "                           'genres':genre_list}\n",
    "                }\n",
    "    collection.update_one(myquery, newvalues, upsert = False) #Change this to TRUE when I deploy\n",
    "\n",
    "    return top_producers, top_songs, producer_discogs"
   ]
  },
  {
   "cell_type": "code",
   "execution_count": 395,
   "metadata": {},
   "outputs": [
    {
     "name": "stdout",
     "output_type": "stream",
     "text": [
      "keep breathing artist:ingrid michaelson\n"
     ]
    },
    {
     "name": "stderr",
     "output_type": "stream",
     "text": [
      "/Users/Maxwell/anaconda3/lib/python3.7/site-packages/scipy/signal/_arraytools.py:45: FutureWarning: Using a non-tuple sequence for multidimensional indexing is deprecated; use `arr[tuple(seq)]` instead of `arr[seq]`. In the future this will be interpreted as an array index, `arr[np.array(seq)]`, which will result either in an error or a different result.\n",
      "  b = a[a_slice]\n"
     ]
    }
   ],
   "source": [
    "p, s, d = query_spotify('keep breathing',artist='ingrid michaelson')"
   ]
  },
  {
   "cell_type": "code",
   "execution_count": 396,
   "metadata": {},
   "outputs": [
    {
     "data": {
      "text/plain": [
       "array(['Kanye West', 'Stock Aitken Waterman', 'Pete Rock', 'RZA',\n",
       "       'Dr. Dre', 'Roy Thomas Baker', 'Rick Rubin', 'Paul Epworth',\n",
       "       'Brian Eno', 'George Martin'], dtype=object)"
      ]
     },
     "execution_count": 396,
     "metadata": {},
     "output_type": "execute_result"
    }
   ],
   "source": [
    "p"
   ]
  },
  {
   "cell_type": "code",
   "execution_count": 397,
   "metadata": {},
   "outputs": [
    {
     "data": {
      "text/html": [
       "<div>\n",
       "<style scoped>\n",
       "    .dataframe tbody tr th:only-of-type {\n",
       "        vertical-align: middle;\n",
       "    }\n",
       "\n",
       "    .dataframe tbody tr th {\n",
       "        vertical-align: top;\n",
       "    }\n",
       "\n",
       "    .dataframe thead th {\n",
       "        text-align: right;\n",
       "    }\n",
       "</style>\n",
       "<table border=\"1\" class=\"dataframe\">\n",
       "  <thead>\n",
       "    <tr style=\"text-align: right;\">\n",
       "      <th></th>\n",
       "      <th>track</th>\n",
       "      <th>artist</th>\n",
       "      <th>album</th>\n",
       "      <th>producer</th>\n",
       "      <th>distance</th>\n",
       "    </tr>\n",
       "  </thead>\n",
       "  <tbody>\n",
       "    <tr>\n",
       "      <th>305</th>\n",
       "      <td>Christmas Lights</td>\n",
       "      <td>Coldplay</td>\n",
       "      <td>Coldplay singles chronology</td>\n",
       "      <td>Brian Eno</td>\n",
       "      <td>34.172192</td>\n",
       "    </tr>\n",
       "    <tr>\n",
       "      <th>57</th>\n",
       "      <td>Just Got Back</td>\n",
       "      <td>Cheap Trick</td>\n",
       "      <td>All Shook Up</td>\n",
       "      <td>George Martin</td>\n",
       "      <td>35.564925</td>\n",
       "    </tr>\n",
       "    <tr>\n",
       "      <th>899</th>\n",
       "      <td>Strawberry</td>\n",
       "      <td>Ghostface Killah</td>\n",
       "      <td>Bulletproof Wallets</td>\n",
       "      <td>RZA</td>\n",
       "      <td>36.901566</td>\n",
       "    </tr>\n",
       "    <tr>\n",
       "      <th>348</th>\n",
       "      <td>Found a Job - Remastered</td>\n",
       "      <td>Talking Heads</td>\n",
       "      <td>The Best of Talking Heads</td>\n",
       "      <td>Brian Eno</td>\n",
       "      <td>36.936956</td>\n",
       "    </tr>\n",
       "    <tr>\n",
       "      <th>315</th>\n",
       "      <td>Jocko Homo</td>\n",
       "      <td>Devo</td>\n",
       "      <td>Q: Are We Not Men?A: We Are Devo!</td>\n",
       "      <td>Brian Eno</td>\n",
       "      <td>37.769704</td>\n",
       "    </tr>\n",
       "  </tbody>\n",
       "</table>\n",
       "</div>"
      ],
      "text/plain": [
       "                        track            artist  \\\n",
       "305          Christmas Lights          Coldplay   \n",
       "57              Just Got Back       Cheap Trick   \n",
       "899                Strawberry  Ghostface Killah   \n",
       "348  Found a Job - Remastered     Talking Heads   \n",
       "315                Jocko Homo              Devo   \n",
       "\n",
       "                                 album       producer   distance  \n",
       "305        Coldplay singles chronology      Brian Eno  34.172192  \n",
       "57                        All Shook Up  George Martin  35.564925  \n",
       "899                Bulletproof Wallets            RZA  36.901566  \n",
       "348          The Best of Talking Heads      Brian Eno  36.936956  \n",
       "315  Q: Are We Not Men?A: We Are Devo!      Brian Eno  37.769704  "
      ]
     },
     "execution_count": 397,
     "metadata": {},
     "output_type": "execute_result"
    }
   ],
   "source": [
    "s"
   ]
  },
  {
   "cell_type": "code",
   "execution_count": 398,
   "metadata": {},
   "outputs": [
    {
     "data": {
      "text/plain": [
       "'Bill Lefler'"
      ]
     },
     "execution_count": 398,
     "metadata": {},
     "output_type": "execute_result"
    }
   ],
   "source": [
    "d"
   ]
  },
  {
   "cell_type": "code",
   "execution_count": 260,
   "metadata": {},
   "outputs": [
    {
     "data": {
      "text/plain": [
       "array(['Brian Eno', 'Dr. Dre', 'George Martin', 'Kanye West',\n",
       "       'Paul Epworth', 'Pete Rock', 'RZA', 'Rick Rubin',\n",
       "       'Roy Thomas Baker', 'Stock Aitken Waterman'], dtype=object)"
      ]
     },
     "execution_count": 260,
     "metadata": {},
     "output_type": "execute_result"
    }
   ],
   "source": [
    "y_columns"
   ]
  },
  {
   "cell_type": "code",
   "execution_count": 242,
   "metadata": {},
   "outputs": [
    {
     "data": {
      "text/plain": [
       "array([[2, 2],\n",
       "       [2, 2]])"
      ]
     },
     "execution_count": 242,
     "metadata": {},
     "output_type": "execute_result"
    }
   ],
   "source": [
    "np.array(np.array([[2,2],[2,2]]))"
   ]
  },
  {
   "cell_type": "code",
   "execution_count": 204,
   "metadata": {},
   "outputs": [],
   "source": [
    "song = sp.search(q='never gonna give you up', type='track')['tracks']['items'][0]"
   ]
  },
  {
   "cell_type": "code",
   "execution_count": 206,
   "metadata": {},
   "outputs": [
    {
     "data": {
      "text/plain": [
       "dict_keys(['album', 'artists', 'available_markets', 'disc_number', 'duration_ms', 'explicit', 'external_ids', 'external_urls', 'href', 'id', 'is_local', 'name', 'popularity', 'preview_url', 'track_number', 'type', 'uri'])"
      ]
     },
     "execution_count": 206,
     "metadata": {},
     "output_type": "execute_result"
    }
   ],
   "source": [
    "song.keys()"
   ]
  },
  {
   "cell_type": "code",
   "execution_count": 391,
   "metadata": {},
   "outputs": [
    {
     "data": {
      "text/plain": [
       "dict_keys(['_id', 'producer', 'spotify_id', 'MFCC', 'album', 'artist', 'preview_url', 'songs_mongs_id', 'track', 'genres', 'basic_genre', 'mfcc_highpass', 'mfcc_harmonic', 'mfcc_percussive', 'mfcc_shuffle'])"
      ]
     },
     "execution_count": 391,
     "metadata": {},
     "output_type": "execute_result"
    }
   ],
   "source": [
    "mfcc_collection.find_one().keys()"
   ]
  },
  {
   "cell_type": "code",
   "execution_count": 216,
   "metadata": {},
   "outputs": [
    {
     "data": {
      "text/plain": [
       "('Never Gonna Give You Up',\n",
       " 'Whenever You Need Somebody',\n",
       " 'Rick Astley',\n",
       " '0gxyHStUsqpMadRV0Di1Qt',\n",
       " '7GhIk7Il098yCjg4BQjzvb',\n",
       " 'https://p.scdn.co/mp3-preview/22bf10aff02db272f0a053dff5c0063d729df988?cid=5157426229ce47aea8e1a6c56e231ddf')"
      ]
     },
     "execution_count": 216,
     "metadata": {},
     "output_type": "execute_result"
    }
   ],
   "source": [
    "song['name'], song['album']['name'], song['artists'][0]['name'], song['artists'][0]['id'], song['id'], song['preview_url']"
   ]
  },
  {
   "cell_type": "code",
   "execution_count": 236,
   "metadata": {},
   "outputs": [
    {
     "data": {
      "text/plain": [
       "['dance pop',\n",
       " 'dance rock',\n",
       " 'disco',\n",
       " 'europop',\n",
       " 'new romantic',\n",
       " 'new wave',\n",
       " 'new wave pop',\n",
       " 'soft rock']"
      ]
     },
     "execution_count": 236,
     "metadata": {},
     "output_type": "execute_result"
    }
   ],
   "source": [
    "sp.artist('0gxyHStUsqpMadRV0Di1Qt')['genres']"
   ]
  },
  {
   "cell_type": "code",
   "execution_count": 348,
   "metadata": {},
   "outputs": [],
   "source": [
    "def find_producer(discogs_token, track, album='', artist='', year='', N=10):\n",
    "    \"\"\"\n",
    "    Takes four strings: artist, track, album, and discogs token and returns the tuple (role='Producer', name, and discogs resource_url),\n",
    "    if one is returned in the first N results on discogs.\n",
    "\n",
    "    INPUTS:\n",
    "        track: STR - the name of the song\n",
    "        album: STR - the name of the album\n",
    "        artist: STR - the name of the artist\n",
    "        year: STR - the year the song was released\n",
    "        discogs_token: STR - API string for api.discogs.com\n",
    "        N: INT - number of results to iterate through before giving up on finding a producer\n",
    "    \"\"\"\n",
    "\n",
    "    # Use Discogs API to search for artist, track, album\n",
    "    artist = artist.replace(' ','+')\n",
    "    track = track.replace(' ','+')\n",
    "    album = album.replace(' ','+')\n",
    "    api_query = requests.get('https://api.discogs.com/database/search?track={}&artist={}&release_title={}&year={}&type=release&token={}'\n",
    "                             .format(track, artist, album, year, discogs_token)).json()['results']\n",
    "\n",
    "    # api_query is a LIST. Do the following:\n",
    "\n",
    "    producer_list = []\n",
    "    # search api_query for 'role' = 'Producer'\n",
    "    for i, entry in enumerate(api_query):\n",
    "        for producer in gen_key_value_extract('role', entry, 'producer', ['role','name','resource_url']):\n",
    "            producer_list.append(producer)\n",
    "\n",
    "        # check if we've found a producer yet\n",
    "        if len(producer_list) > 0:\n",
    "            return producer_list\n",
    "\n",
    "        # if no Producer, GET api_subquery from the 'resource_url' field\n",
    "        resource_url = list(gen_dict_extract('resource_url', entry))[0]\n",
    "        api_subquery = requests.get(resource_url).json()\n",
    "\n",
    "        # search next_api_query for 'role' = 'Producer'\n",
    "        for producer in gen_key_value_extract('role', api_subquery, 'producer', ['role','name','resource_url']):\n",
    "            producer_list.append(producer)\n",
    "\n",
    "        # check if we've found a producer yet\n",
    "        if len(producer_list) > 0:\n",
    "            return producer_list\n",
    "\n",
    "        # If no producer, loop back and go to the next item in api_query.\n",
    "        if i>=N:\n",
    "            return producer_list\n",
    "\n",
    "\n",
    "def gen_key_value_extract(key, var, value, req_keys):\n",
    "    \"\"\"\n",
    "    In a nested dictionary, var, where value in key, return req_value for keys in req_keys.\n",
    "\n",
    "    INPUT:\n",
    "        key: OBJECT - The key to match in a nested dictionary\n",
    "        var: DICT - The nested dictionary to iterate through\n",
    "        value: OBJECT - The desired matching value to `key`\n",
    "        req_keys: LISTLIKE - a list of requested keys whose values will be returned\n",
    "\n",
    "    OUTPUT:\n",
    "        result: GENERATOR OBJECT - result returns tuples of values associated with the keys in req_keys\n",
    "    \"\"\"\n",
    "    if hasattr(var,'items'):\n",
    "        for k, v in var.items():\n",
    "            if k == key:\n",
    "                if value.lower() in v.lower():\n",
    "                    v_list = []\n",
    "                    for req_key in req_keys:\n",
    "                        v_list.append(var[req_key])\n",
    "                    v_tup = tuple(v_list)\n",
    "                    yield v_tup\n",
    "            if isinstance(v, dict):\n",
    "                for result in gen_key_value_extract(key, v, value, req_keys):\n",
    "                    yield result\n",
    "            elif isinstance(v, list):\n",
    "                for d in v:\n",
    "                    for result in gen_key_value_extract(key, d, value, req_keys):\n",
    "                        yield result\n",
    "\n",
    "\n",
    "def gen_dict_extract(key, var):\n",
    "    \"\"\"\n",
    "    Creates a generator object that returns all of the matching values for a `key` in a nested dictionary, `var`\n",
    "\n",
    "    INPUT:\n",
    "        key: OBJECT - key to match in nested dictionary\n",
    "        var: DICT - nested dictionary\n",
    "\n",
    "    OUTPUT:\n",
    "        result: GENERATOR - generates the values wherever a key = `key` in the nested dictionary.\n",
    "\n",
    "    \"\"\"\n",
    "    if hasattr(var,'items'):\n",
    "        for k, v in var.items():\n",
    "            if k == key:\n",
    "                yield v\n",
    "            if isinstance(v, dict):\n",
    "                for result in gen_dict_extract(key, v):\n",
    "                    yield result\n",
    "            elif isinstance(v, list):\n",
    "                for d in v:\n",
    "                    for result in gen_dict_extract(key, d):\n",
    "                        yield result\n",
    "\n",
    "\n",
    "\n",
    "def add_producer(d, discogs_token, track, album='', artist='', year='', N=10):\n",
    "    \"\"\"\n",
    "    Adds a 'producer' key to a dictionary, d, inplace whose corresponding value is a set of tuples containing (producer_id, producer_name) pairs from the discogs API. The producer_id comes from the discogs database url.\n",
    "\n",
    "    INPUTS:\n",
    "        d: DICT - Dictionary to append\n",
    "        track: STR - the name of the song\n",
    "        album: STR - the name of the album\n",
    "        artist: STR - the name of the artist\n",
    "        year: STR - the year the song was released\n",
    "        discogs_token: STR - API string for api.discogs.com\n",
    "        N: INT - number of results to iterate through before giving up on finding a producer\n",
    "\n",
    "    OUPUTS:\n",
    "        None\n",
    "        Appends the current dictionary inplace\n",
    "\n",
    "    \"\"\"\n",
    "\n",
    "    output = []\n",
    "    producer_list = find_producer(track, album, artist, year, discogs_token, N=10)\n",
    "\n",
    "    # Does role == 'Producer'\n",
    "    for producer in producer_list:\n",
    "        print(producer[1])\n",
    "        if producer[0] == 'Producer':\n",
    "            output.append(producer)\n",
    "            print('Producer')\n",
    "\n",
    "    # Does role contain 'Producer'\n",
    "    if len(output) == 0:\n",
    "        for producer in producer_list:\n",
    "            print(producer[1])\n",
    "            if 'Producer' in producer[0]:\n",
    "                output.append(producer)\n",
    "                print('...Producer...')\n",
    "\n",
    "    # Does role contain 'produc'\n",
    "    if len(output) == 0:\n",
    "        for producer in producer_list:\n",
    "            print(producer[1])\n",
    "            if 'produc' in producer[0]:\n",
    "                output.append(producer)\n",
    "                print('...produc...')\n",
    "\n",
    "    # Add the set of likely producers to the input dictionary\n",
    "    producer_set = set()\n",
    "    for producer in output:\n",
    "        producer_id = int(producer[2].replace('https://api.discogs.com/artists/',''))\n",
    "        producer_set.add((producer_id, producer[1]))\n",
    "    d['producers'] = producer_set\n",
    "    \n",
    "    \n",
    "def find_one_producer(discogs_token, track, album='', artist='', year='', N=10):\n",
    "    producer_list = find_producer(discogs_token, track, album, artist, year, N)\n",
    "    output = []\n",
    "\n",
    "    # Does role == 'Producer'\n",
    "    for producer in producer_list:\n",
    "        if producer[0] == 'Producer':\n",
    "            output.append(producer)\n",
    "\n",
    "    # Does role contain 'Producer'\n",
    "    if len(output) == 0:\n",
    "        for producer in producer_list:\n",
    "            if 'Producer' in producer[0]:\n",
    "                output.append(producer)\n",
    "\n",
    "    # Does role contain 'produc'\n",
    "    if len(output) == 0:\n",
    "        for producer in producer_list:\n",
    "            if 'produc' in producer[0]:\n",
    "                output.append(producer)\n",
    "                \n",
    "    return output[0][1]"
   ]
  },
  {
   "cell_type": "code",
   "execution_count": 376,
   "metadata": {},
   "outputs": [],
   "source": [
    "a = find_one_producer(track = 'macarena', discogs_token=discogs_token)"
   ]
  },
  {
   "cell_type": "code",
   "execution_count": 377,
   "metadata": {},
   "outputs": [
    {
     "data": {
      "text/plain": [
       "'MC Rage'"
      ]
     },
     "execution_count": 377,
     "metadata": {},
     "output_type": "execute_result"
    }
   ],
   "source": [
    "a"
   ]
  },
  {
   "cell_type": "code",
   "execution_count": 378,
   "metadata": {},
   "outputs": [],
   "source": [
    "b = find_producer(track = 'never gonna give you up', discogs_token=discogs_token)"
   ]
  },
  {
   "cell_type": "code",
   "execution_count": 379,
   "metadata": {},
   "outputs": [
    {
     "data": {
      "text/plain": [
       "[('Written-By, Producer',\n",
       "  'Stock, Aitken & Waterman',\n",
       "  'https://api.discogs.com/artists/20942')]"
      ]
     },
     "execution_count": 379,
     "metadata": {},
     "output_type": "execute_result"
    }
   ],
   "source": [
    "b"
   ]
  },
  {
   "cell_type": "code",
   "execution_count": 339,
   "metadata": {},
   "outputs": [],
   "source": [
    "b = list(x[1] for x in a)"
   ]
  },
  {
   "cell_type": "code",
   "execution_count": 340,
   "metadata": {},
   "outputs": [
    {
     "data": {
      "text/plain": [
       "['Patti Pirooz', 'Dan Musselman']"
      ]
     },
     "execution_count": 340,
     "metadata": {},
     "output_type": "execute_result"
    }
   ],
   "source": [
    "b"
   ]
  },
  {
   "cell_type": "code",
   "execution_count": 492,
   "metadata": {},
   "outputs": [],
   "source": [
    "a = np.array([0.4,0.4,0,0,0,0,0.2])"
   ]
  },
  {
   "cell_type": "code",
   "execution_count": 494,
   "metadata": {},
   "outputs": [
    {
     "data": {
      "text/plain": [
       "array([0.4, 0.4, 0.2, 0. , 0. , 0. , 0. ])"
      ]
     },
     "execution_count": 494,
     "metadata": {},
     "output_type": "execute_result"
    }
   ],
   "source": [
    "a.sort()\n",
    "b = a[::-1]\n",
    "b"
   ]
  },
  {
   "cell_type": "code",
   "execution_count": 497,
   "metadata": {},
   "outputs": [
    {
     "data": {
      "text/plain": [
       "array([[0. , 0.4],\n",
       "       [0. , 0.4],\n",
       "       [0. , 0.2],\n",
       "       [0. , 0. ],\n",
       "       [0.2, 0. ],\n",
       "       [0.4, 0. ],\n",
       "       [0.4, 0. ]])"
      ]
     },
     "execution_count": 497,
     "metadata": {},
     "output_type": "execute_result"
    }
   ],
   "source": [
    "np.array(list(zip(a,b)))"
   ]
  },
  {
   "cell_type": "code",
   "execution_count": 542,
   "metadata": {},
   "outputs": [
    {
     "data": {
      "text/plain": [
       "<module 'src.knn_modeling' from '/Users/Maxwell/galvanize/production-value/src/knn_modeling.py'>"
      ]
     },
     "execution_count": 542,
     "metadata": {},
     "output_type": "execute_result"
    }
   ],
   "source": [
    "reload(km)"
   ]
  },
  {
   "cell_type": "code",
   "execution_count": 543,
   "metadata": {},
   "outputs": [],
   "source": [
    "pv = km.ProductionValue(mfcc_collection, sp, discogs_token)"
   ]
  },
  {
   "cell_type": "code",
   "execution_count": 544,
   "metadata": {},
   "outputs": [],
   "source": [
    "pv.fit_knn('mfcc_highpass')"
   ]
  },
  {
   "cell_type": "code",
   "execution_count": 545,
   "metadata": {},
   "outputs": [],
   "source": [
    "a,b,c = pv.query('The Drop Off', artist = 'RZA')"
   ]
  },
  {
   "cell_type": "code",
   "execution_count": 546,
   "metadata": {},
   "outputs": [
    {
     "data": {
      "text/plain": [
       "array([['RZA', 0.3],\n",
       "       ['Pete Rock', 0.26666666666666666],\n",
       "       ['Dr. Dre', 0.23333333333333334],\n",
       "       ['George Martin', 0.06666666666666667],\n",
       "       ['Stock Aitken Waterman', 0.03333333333333333],\n",
       "       ['Rick Rubin', 0.03333333333333333],\n",
       "       ['Kanye West', 0.03333333333333333],\n",
       "       ['Brian Eno', 0.03333333333333333],\n",
       "       ['Roy Thomas Baker', 0.0],\n",
       "       ['Paul Epworth', 0.0]], dtype=object)"
      ]
     },
     "execution_count": 546,
     "metadata": {},
     "output_type": "execute_result"
    }
   ],
   "source": [
    "a"
   ]
  },
  {
   "cell_type": "code",
   "execution_count": 547,
   "metadata": {},
   "outputs": [
    {
     "data": {
      "text/html": [
       "<div>\n",
       "<style scoped>\n",
       "    .dataframe tbody tr th:only-of-type {\n",
       "        vertical-align: middle;\n",
       "    }\n",
       "\n",
       "    .dataframe tbody tr th {\n",
       "        vertical-align: top;\n",
       "    }\n",
       "\n",
       "    .dataframe thead th {\n",
       "        text-align: right;\n",
       "    }\n",
       "</style>\n",
       "<table border=\"1\" class=\"dataframe\">\n",
       "  <thead>\n",
       "    <tr style=\"text-align: right;\">\n",
       "      <th></th>\n",
       "      <th>track</th>\n",
       "      <th>artist</th>\n",
       "      <th>album</th>\n",
       "      <th>producer</th>\n",
       "      <th>distance</th>\n",
       "    </tr>\n",
       "  </thead>\n",
       "  <tbody>\n",
       "    <tr>\n",
       "      <th>851</th>\n",
       "      <td>Chi Kung</td>\n",
       "      <td>RZA</td>\n",
       "      <td>Birth of a Prince</td>\n",
       "      <td>RZA</td>\n",
       "      <td>1.762917e-13</td>\n",
       "    </tr>\n",
       "    <tr>\n",
       "      <th>734</th>\n",
       "      <td>Knock Knock</td>\n",
       "      <td>Monica</td>\n",
       "      <td>After the Storm</td>\n",
       "      <td>Kanye West</td>\n",
       "      <td>4.014566e+01</td>\n",
       "    </tr>\n",
       "    <tr>\n",
       "      <th>857</th>\n",
       "      <td>Koto Chotan</td>\n",
       "      <td>RZA</td>\n",
       "      <td>Birth of a Prince</td>\n",
       "      <td>RZA</td>\n",
       "      <td>4.425508e+01</td>\n",
       "    </tr>\n",
       "    <tr>\n",
       "      <th>138</th>\n",
       "      <td>Living To Get High</td>\n",
       "      <td>Stat Quo</td>\n",
       "      <td>ATLA: All This Life Allows, Vol. 1</td>\n",
       "      <td>Dr. Dre</td>\n",
       "      <td>4.837617e+01</td>\n",
       "    </tr>\n",
       "    <tr>\n",
       "      <th>890</th>\n",
       "      <td>Destiny</td>\n",
       "      <td>Northstar</td>\n",
       "      <td>Bobby Digital Presents Northstar</td>\n",
       "      <td>RZA</td>\n",
       "      <td>5.022340e+01</td>\n",
       "    </tr>\n",
       "  </tbody>\n",
       "</table>\n",
       "</div>"
      ],
      "text/plain": [
       "                  track     artist                               album  \\\n",
       "851            Chi Kung        RZA                   Birth of a Prince   \n",
       "734         Knock Knock     Monica                     After the Storm   \n",
       "857         Koto Chotan        RZA                   Birth of a Prince   \n",
       "138  Living To Get High   Stat Quo  ATLA: All This Life Allows, Vol. 1   \n",
       "890             Destiny  Northstar    Bobby Digital Presents Northstar   \n",
       "\n",
       "       producer      distance  \n",
       "851         RZA  1.762917e-13  \n",
       "734  Kanye West  4.014566e+01  \n",
       "857         RZA  4.425508e+01  \n",
       "138     Dr. Dre  4.837617e+01  \n",
       "890         RZA  5.022340e+01  "
      ]
     },
     "execution_count": 547,
     "metadata": {},
     "output_type": "execute_result"
    }
   ],
   "source": [
    "b"
   ]
  },
  {
   "cell_type": "code",
   "execution_count": 548,
   "metadata": {},
   "outputs": [
    {
     "data": {
      "text/plain": [
       "'RZA'"
      ]
     },
     "execution_count": 548,
     "metadata": {},
     "output_type": "execute_result"
    }
   ],
   "source": [
    "c"
   ]
  },
  {
   "cell_type": "code",
   "execution_count": 516,
   "metadata": {},
   "outputs": [],
   "source": [
    "p = list(zip(a,b))"
   ]
  },
  {
   "cell_type": "code",
   "execution_count": 517,
   "metadata": {},
   "outputs": [
    {
     "data": {
      "text/plain": [
       "array([['Stock Aitken Waterman', '0.3'],\n",
       "       ['Dr. Dre', '0.16666666666666666'],\n",
       "       ['Roy Thomas Baker', '0.1'],\n",
       "       ['RZA', '0.1'],\n",
       "       ['Rick Rubin', '0.06666666666666667'],\n",
       "       ['Pete Rock', '0.06666666666666667'],\n",
       "       ['Kanye West', '0.06666666666666667'],\n",
       "       ['Brian Eno', '0.06666666666666667'],\n",
       "       ['Paul Epworth', '0.03333333333333333'],\n",
       "       ['George Martin', '0.03333333333333333']], dtype='<U21')"
      ]
     },
     "execution_count": 517,
     "metadata": {},
     "output_type": "execute_result"
    }
   ],
   "source": [
    "np.array(p)"
   ]
  },
  {
   "cell_type": "code",
   "execution_count": 521,
   "metadata": {},
   "outputs": [
    {
     "data": {
      "text/html": [
       "<div>\n",
       "<style scoped>\n",
       "    .dataframe tbody tr th:only-of-type {\n",
       "        vertical-align: middle;\n",
       "    }\n",
       "\n",
       "    .dataframe tbody tr th {\n",
       "        vertical-align: top;\n",
       "    }\n",
       "\n",
       "    .dataframe thead th {\n",
       "        text-align: right;\n",
       "    }\n",
       "</style>\n",
       "<table border=\"1\" class=\"dataframe\">\n",
       "  <thead>\n",
       "    <tr style=\"text-align: right;\">\n",
       "      <th></th>\n",
       "      <th>0</th>\n",
       "      <th>1</th>\n",
       "    </tr>\n",
       "  </thead>\n",
       "  <tbody>\n",
       "    <tr>\n",
       "      <th>0</th>\n",
       "      <td>Stock Aitken Waterman</td>\n",
       "      <td>0.3</td>\n",
       "    </tr>\n",
       "    <tr>\n",
       "      <th>1</th>\n",
       "      <td>Dr. Dre</td>\n",
       "      <td>0.166667</td>\n",
       "    </tr>\n",
       "    <tr>\n",
       "      <th>2</th>\n",
       "      <td>Roy Thomas Baker</td>\n",
       "      <td>0.1</td>\n",
       "    </tr>\n",
       "    <tr>\n",
       "      <th>3</th>\n",
       "      <td>RZA</td>\n",
       "      <td>0.1</td>\n",
       "    </tr>\n",
       "    <tr>\n",
       "      <th>4</th>\n",
       "      <td>Rick Rubin</td>\n",
       "      <td>0.0666667</td>\n",
       "    </tr>\n",
       "    <tr>\n",
       "      <th>5</th>\n",
       "      <td>Pete Rock</td>\n",
       "      <td>0.0666667</td>\n",
       "    </tr>\n",
       "    <tr>\n",
       "      <th>6</th>\n",
       "      <td>Kanye West</td>\n",
       "      <td>0.0666667</td>\n",
       "    </tr>\n",
       "    <tr>\n",
       "      <th>7</th>\n",
       "      <td>Brian Eno</td>\n",
       "      <td>0.0666667</td>\n",
       "    </tr>\n",
       "    <tr>\n",
       "      <th>8</th>\n",
       "      <td>Paul Epworth</td>\n",
       "      <td>0.0333333</td>\n",
       "    </tr>\n",
       "    <tr>\n",
       "      <th>9</th>\n",
       "      <td>George Martin</td>\n",
       "      <td>0.0333333</td>\n",
       "    </tr>\n",
       "  </tbody>\n",
       "</table>\n",
       "</div>"
      ],
      "text/plain": [
       "                       0          1\n",
       "0  Stock Aitken Waterman        0.3\n",
       "1                Dr. Dre   0.166667\n",
       "2       Roy Thomas Baker        0.1\n",
       "3                    RZA        0.1\n",
       "4             Rick Rubin  0.0666667\n",
       "5              Pete Rock  0.0666667\n",
       "6             Kanye West  0.0666667\n",
       "7              Brian Eno  0.0666667\n",
       "8           Paul Epworth  0.0333333\n",
       "9          George Martin  0.0333333"
      ]
     },
     "execution_count": 521,
     "metadata": {},
     "output_type": "execute_result"
    }
   ],
   "source": [
    "pd.DataFrame(np.stack([a,b]).T)"
   ]
  },
  {
   "cell_type": "code",
   "execution_count": null,
   "metadata": {},
   "outputs": [],
   "source": []
  }
 ],
 "metadata": {
  "kernelspec": {
   "display_name": "Python 3",
   "language": "python",
   "name": "python3"
  },
  "language_info": {
   "codemirror_mode": {
    "name": "ipython",
    "version": 3
   },
   "file_extension": ".py",
   "mimetype": "text/x-python",
   "name": "python",
   "nbconvert_exporter": "python",
   "pygments_lexer": "ipython3",
   "version": "3.7.1"
  }
 },
 "nbformat": 4,
 "nbformat_minor": 2
}
