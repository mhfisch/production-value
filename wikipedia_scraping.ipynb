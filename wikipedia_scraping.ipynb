{
 "cells": [
  {
   "cell_type": "code",
   "execution_count": 3,
   "metadata": {},
   "outputs": [],
   "source": [
    "import numpy as np\n",
    "import pandas as pd\n",
    "import os\n",
    "import sys\n",
    "from collections import defaultdict\n",
    "from importlib import reload\n",
    "from bs4 import BeautifulSoup\n",
    "import requests\n",
    "\n",
    "import matplotlib.pyplot as plt\n",
    "%matplotlib inline\n",
    "%config InlineBackend.figure_format = 'retina'"
   ]
  },
  {
   "cell_type": "markdown",
   "metadata": {},
   "source": [
    "# Getting Track-Artist-Album-Producer Data from a Wikipedia \"List of Songs Produced by PERSON-X Page\"\n",
    "\n",
    "## Step 1: Retrieving a list of URLs from a Wikipedia list page\n",
    "\n",
    "We want to scrape all of the URLs for the Wikipedia pages on songs produced by George Martin from this aggregate page: https://en.wikipedia.org/wiki/Category:Song_recordings_produced_by_George_Martin. We locate the relevant links and return a list of URL strings."
   ]
  },
  {
   "cell_type": "code",
   "execution_count": 8,
   "metadata": {},
   "outputs": [
    {
     "data": {
      "text/plain": [
       "'<!DOCTYPE html>\\n<html class=\"client-nojs\" lang=\"en\" dir=\"ltr\">\\n<head>\\n<meta charset=\"UTF-8\"/>\\n<title>Category:Song recordings produced by George Martin - Wikipedia</title>\\n<script>document.documentElement.className = document.documentElement.className.replace( /(^|\\\\s)client-nojs(\\\\s|$)/, \"$1client-js$2\" );</script>\\n<script>(window.RLQ=window.RLQ||[]).push(function(){mw.config.set({\"wgCanonicalNamespace\":\"Category\",\"wgCanonicalSpecialPageName\":false,\"wgNamespaceNumber\":14,\"wgPageName\":\"Category:Song_recordings_produced_by_George_Martin\",\"wgTitle\":\"Song recordings produced by George Martin\",\"wgCurRevisionId\":577742163,\"wgRevisionId\":577742163,\"wgArticleId\":38853525,\"wgIsArticle\":true,\"wgIsRedirect\":false,\"wgAction\":\"view\",\"wgUserName\":null,\"wgUserGroups\":[\"*\"],\"wgCategories\":[\"George Martin\",\"Song recordings by producer\"],\"wgBreakFrames\":false,\"wgPageContentLanguage\":\"en\",\"wgPageContentModel\":\"wikitext\",\"wgSeparatorTransformTable\":[\"\",\"\"],\"wgDigitTransformTable\":[\"\",\"\"],\"wgDefaultDateForm'"
      ]
     },
     "execution_count": 8,
     "metadata": {},
     "output_type": "execute_result"
    }
   ],
   "source": [
    "requests.get('https://en.wikipedia.org/wiki/Category:Song_recordings_produced_by_George_Martin').content.decode()[:1000]"
   ]
  },
  {
   "cell_type": "code",
   "execution_count": 10,
   "metadata": {},
   "outputs": [],
   "source": [
    "html = requests.get('https://en.wikipedia.org/wiki/Category:Song_recordings_produced_by_George_Martin').content\n",
    "soup = BeautifulSoup(html, 'html.parser')"
   ]
  },
  {
   "cell_type": "code",
   "execution_count": 27,
   "metadata": {},
   "outputs": [
    {
     "data": {
      "text/plain": [
       "'/wiki/Act_Naturally'"
      ]
     },
     "execution_count": 27,
     "metadata": {},
     "output_type": "execute_result"
    }
   ],
   "source": [
    "#select the url for one link\n",
    "soup.select('li')[3].select('a')[0]['href']"
   ]
  },
  {
   "cell_type": "code",
   "execution_count": 28,
   "metadata": {},
   "outputs": [
    {
     "data": {
      "text/plain": [
       "'https://en.wikipedia.org/wiki/Act_Naturally'"
      ]
     },
     "execution_count": 28,
     "metadata": {},
     "output_type": "execute_result"
    }
   ],
   "source": [
    "#The full URL is https://en.wikipedia.org/wiki/Act_Naturally\n",
    "\n",
    "url_test = 'https://en.wikipedia.org' + soup.select('li')[3].select('a')[0]['href']\n",
    "url_test"
   ]
  },
  {
   "cell_type": "markdown",
   "metadata": {},
   "source": [
    "The full list is in a `<div>` section where `class = \"mw-category\"`"
   ]
  },
  {
   "cell_type": "code",
   "execution_count": 33,
   "metadata": {},
   "outputs": [],
   "source": [
    "martin_urls = []\n",
    "domain = 'https://en.wikipedia.org'\n",
    "links = soup.find_all('div', class_=\"mw-category\")[0].find_all('a')\n",
    "for link in links:\n",
    "    path = link['href']\n",
    "    url = domain + path\n",
    "    martin_urls.append(url)\n",
    "    \n",
    "    \n",
    "#NEED TO ADD FUNCTIONALITY FOR MULTIPLE PAGES"
   ]
  },
  {
   "cell_type": "code",
   "execution_count": 35,
   "metadata": {},
   "outputs": [
    {
     "data": {
      "text/plain": [
       "['https://en.wikipedia.org/wiki/12-Bar_Original',\n",
       " 'https://en.wikipedia.org/wiki/Across_the_Universe',\n",
       " 'https://en.wikipedia.org/wiki/Act_Naturally',\n",
       " 'https://en.wikipedia.org/wiki/Alfie_(Burt_Bacharach_song)',\n",
       " 'https://en.wikipedia.org/wiki/All_I%27ve_Got_to_Do',\n",
       " 'https://en.wikipedia.org/wiki/All_My_Loving']"
      ]
     },
     "execution_count": 35,
     "metadata": {},
     "output_type": "execute_result"
    }
   ],
   "source": [
    "martin_urls[:6]"
   ]
  },
  {
   "cell_type": "markdown",
   "metadata": {},
   "source": [
    "Success! Now on to...\n",
    "\n",
    "## Step 2: Retrieving Track - Artist - Album - Producer from a Song's Wikipedia Page"
   ]
  }
 ],
 "metadata": {
  "kernelspec": {
   "display_name": "Python 3",
   "language": "python",
   "name": "python3"
  },
  "language_info": {
   "codemirror_mode": {
    "name": "ipython",
    "version": 3
   },
   "file_extension": ".py",
   "mimetype": "text/x-python",
   "name": "python",
   "nbconvert_exporter": "python",
   "pygments_lexer": "ipython3",
   "version": "3.7.1"
  }
 },
 "nbformat": 4,
 "nbformat_minor": 2
}
