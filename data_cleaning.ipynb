{
 "cells": [
  {
   "cell_type": "code",
   "execution_count": 35,
   "metadata": {},
   "outputs": [],
   "source": [
    "import h5py\n",
    "import numpy as np\n",
    "import pandas as pd\n",
    "from collections import defaultdict\n",
    "import h5py\n",
    "import os\n",
    "import sys\n",
    "import h5py\n",
    "from importlib import reload\n",
    "import src.MSDS_conversion as msds\n",
    "import matplotlib.pyplot as plt\n",
    "\n",
    "%matplotlib inline\n",
    "%config InlineBackend.figure_format = 'retina'"
   ]
  },
  {
   "cell_type": "code",
   "execution_count": 4,
   "metadata": {},
   "outputs": [],
   "source": [
    "filename = 'data/A/A/A/TRAAAAW128F429D538.h5'\n",
    "f = h5py.File(filename, 'r')"
   ]
  },
  {
   "cell_type": "code",
   "execution_count": 5,
   "metadata": {},
   "outputs": [
    {
     "data": {
      "text/html": [
       "<div>\n",
       "<style scoped>\n",
       "    .dataframe tbody tr th:only-of-type {\n",
       "        vertical-align: middle;\n",
       "    }\n",
       "\n",
       "    .dataframe tbody tr th {\n",
       "        vertical-align: top;\n",
       "    }\n",
       "\n",
       "    .dataframe thead tr th {\n",
       "        text-align: left;\n",
       "    }\n",
       "</style>\n",
       "<table border=\"1\" class=\"dataframe\">\n",
       "  <thead>\n",
       "    <tr>\n",
       "      <th></th>\n",
       "      <th colspan=\"13\" halign=\"left\">analysis</th>\n",
       "      <th colspan=\"5\" halign=\"left\">metadata</th>\n",
       "      <th colspan=\"3\" halign=\"left\">musicbrainz</th>\n",
       "    </tr>\n",
       "    <tr>\n",
       "      <th></th>\n",
       "      <th>bars_confidence</th>\n",
       "      <th>bars_start</th>\n",
       "      <th>beats_confidence</th>\n",
       "      <th>beats_start</th>\n",
       "      <th>sections_confidence</th>\n",
       "      <th>sections_start</th>\n",
       "      <th>segments_confidence</th>\n",
       "      <th>segments_loudness_max</th>\n",
       "      <th>segments_loudness_max_time</th>\n",
       "      <th>segments_loudness_start</th>\n",
       "      <th>...</th>\n",
       "      <th>tatums_confidence</th>\n",
       "      <th>tatums_start</th>\n",
       "      <th>artist_terms</th>\n",
       "      <th>artist_terms_freq</th>\n",
       "      <th>artist_terms_weight</th>\n",
       "      <th>similar_artists</th>\n",
       "      <th>songs</th>\n",
       "      <th>artist_mbtags</th>\n",
       "      <th>artist_mbtags_count</th>\n",
       "      <th>songs</th>\n",
       "    </tr>\n",
       "  </thead>\n",
       "  <tbody>\n",
       "    <tr>\n",
       "      <th>0</th>\n",
       "      <td>[0.005, 0.088, 0.017, 0.027, 0.044, 0.254, 0.4...</td>\n",
       "      <td>[0.88942, 2.40052, 3.90322, 5.40499, 6.90397, ...</td>\n",
       "      <td>[0.507, 0.468, 0.375, 0.255, 0.53, 0.37, 0.467...</td>\n",
       "      <td>[0.88942, 1.26696, 1.64264, 2.02297, 2.40052, ...</td>\n",
       "      <td>[1.0, 0.458, 0.138, 0.301, 0.669, 0.516, 0.996...</td>\n",
       "      <td>[0.0, 12.40949, 33.86513, 47.97004, 73.99013, ...</td>\n",
       "      <td>[0.0, 1.0, 0.768, 1.0, 0.459, 0.839, 0.541, 0....</td>\n",
       "      <td>[-59.293, -39.611, -42.627, -19.225, -29.229, ...</td>\n",
       "      <td>[0.83297, 0.08134, 0.0286, 0.06111, 0.03662, 0...</td>\n",
       "      <td>[-60.0, -59.316, -51.292, -50.699, -35.07, -37...</td>\n",
       "      <td>...</td>\n",
       "      <td>[0.332, 0.338, 0.342, 0.34, 0.321, 0.308, 0.30...</td>\n",
       "      <td>[0.88942, 1.07866, 1.26696, 1.45153, 1.64264, ...</td>\n",
       "      <td>[teen pop, country rock, country music, female...</td>\n",
       "      <td>[0.9769957203952209, 0.9769957203952209, 0.976...</td>\n",
       "      <td>[1.0, 1.0, 1.0, 0.8484985832840718, 0.82705290...</td>\n",
       "      <td>[AR23BO81187FB47087, ARFJXKQ119B86694AF, ARNHX...</td>\n",
       "      <td>[[b'', 266506, 0.7369919703227188, 0.477225190...</td>\n",
       "      <td>[]</td>\n",
       "      <td>[]</td>\n",
       "      <td>[[0, 0]]</td>\n",
       "    </tr>\n",
       "    <tr>\n",
       "      <th>1</th>\n",
       "      <td>[0.168, 0.133, 0.311, 0.34, 0.793, 0.241, 0.11...</td>\n",
       "      <td>[0.76458, 2.63485, 4.44621, 6.33987, 8.2279, 1...</td>\n",
       "      <td>[0.0, 0.0, 0.853, 0.363, 0.559, 0.079, 0.0, 0....</td>\n",
       "      <td>[0.38884, 0.76458, 1.14032, 1.51605, 1.8974, 2...</td>\n",
       "      <td>[1.0, 1.0, 1.0, 0.479, 0.348]</td>\n",
       "      <td>[0.0, 7.85497, 23.85339, 37.18821, 45.62191]</td>\n",
       "      <td>[0.0, 1.0, 0.205, 0.051, 0.36, 0.414, 1.0, 0.1...</td>\n",
       "      <td>[-60.0, -32.193, -31.1, -30.346, -29.11, -41.2...</td>\n",
       "      <td>[0.0, 0.13181, 0.10615, 0.04297, 0.05622, 0.43...</td>\n",
       "      <td>[-60.0, -60.0, -34.412, -32.543, -32.608, -45....</td>\n",
       "      <td>...</td>\n",
       "      <td>[0.215, 0.212, 0.211, 0.211, 0.211, 0.209, 0.2...</td>\n",
       "      <td>[0.20097, 0.38884, 0.57671, 0.76458, 0.95245, ...</td>\n",
       "      <td>[doom metal, viking metal, folk metal, death m...</td>\n",
       "      <td>[0.9648610538926313, 0.8538369682764827, 0.873...</td>\n",
       "      <td>[1.0, 0.9838773239907247, 0.9724934211084154, ...</td>\n",
       "      <td>[ARLPWJI1187FB4E7A4, ARBKRXT1187FB55707, AR1UF...</td>\n",
       "      <td>[[b'', 604768, 0.5110009439105907, 0.366743931...</td>\n",
       "      <td>[]</td>\n",
       "      <td>[]</td>\n",
       "      <td>[[0, 0]]</td>\n",
       "    </tr>\n",
       "    <tr>\n",
       "      <th>2</th>\n",
       "      <td>[0.071, 0.096, 0.501, 0.173, 0.044, 0.7, 0.195...</td>\n",
       "      <td>[1.03982, 2.62754, 4.21462, 5.79013, 7.36552, ...</td>\n",
       "      <td>[0.938, 0.516, 0.0, 0.4, 0.559, 0.0, 0.348, 0....</td>\n",
       "      <td>[0.25338, 0.63721, 1.03982, 1.43354, 1.83318, ...</td>\n",
       "      <td>[1.0, 1.0, 0.389, 0.704, 0.724, 0.388, 0.643, ...</td>\n",
       "      <td>[0.0, 6.58084, 24.70751, 44.845, 76.81754, 88....</td>\n",
       "      <td>[0.0, 1.0, 0.029, 0.028, 0.018, 0.001, 0.453, ...</td>\n",
       "      <td>[-60.0, -34.763, -33.572, -32.022, -31.496, -3...</td>\n",
       "      <td>[0.0, 0.35311, 0.03078, 0.80505, 0.0943, 0.176...</td>\n",
       "      <td>[-60.0, -60.0, -35.426, -34.888, -33.573, -34....</td>\n",
       "      <td>...</td>\n",
       "      <td>[0.306, 0.293, 0.24, 0.203, 0.172, 0.145, 0.12...</td>\n",
       "      <td>[0.05455, 0.25338, 0.44629, 0.63721, 0.83901, ...</td>\n",
       "      <td>[rock, alternative, rave, disco, new wave, sou...</td>\n",
       "      <td>[1.0, 0.8476018315794605, 0.3707999554207882, ...</td>\n",
       "      <td>[1.0, 0.8889613897444565, 0.6476217325902135, ...</td>\n",
       "      <td>[ARVN9FZ1187FB393F1, AR9O98A1187FB39621, ARYVO...</td>\n",
       "      <td>[[b'', 616, 0.9184517888889826, 0.819588282228...</td>\n",
       "      <td>[rock and indie, united states, alternative ro...</td>\n",
       "      <td>[1, 1, 1, 1, 1, 1, 1]</td>\n",
       "      <td>[[0, 2008]]</td>\n",
       "    </tr>\n",
       "    <tr>\n",
       "      <th>3</th>\n",
       "      <td>[0.007, 0.18, 0.173, 0.057, 0.008, 0.123, 0.43...</td>\n",
       "      <td>[1.11054, 2.99649, 4.87299, 6.74848, 8.6137, 1...</td>\n",
       "      <td>[0.838, 0.877, 0.562, 0.766, 0.769, 0.854, 0.6...</td>\n",
       "      <td>[0.1732, 0.64258, 1.11054, 1.58181, 2.05087, 2...</td>\n",
       "      <td>[1.0, 0.202, 0.325, 0.293, 0.391, 0.043, 0.306...</td>\n",
       "      <td>[0.0, 31.53264, 46.02109, 60.99337, 80.63561, ...</td>\n",
       "      <td>[1.0, 1.0, 0.812, 1.0, 1.0, 0.347, 0.896, 1.0,...</td>\n",
       "      <td>[-16.392, -7.231, -17.569, -15.025, -9.539, -2...</td>\n",
       "      <td>[0.19096, 0.09896, 0.01821, 0.03121, 0.03175, ...</td>\n",
       "      <td>[-60.0, -26.315, -31.727, -43.658, -28.616, -3...</td>\n",
       "      <td>...</td>\n",
       "      <td>[1.0, 1.0, 1.0, 1.0, 1.0, 1.0, 1.0, 0.984, 0.9...</td>\n",
       "      <td>[0.1732, 0.40789, 0.64258, 0.87372, 1.11054, 1...</td>\n",
       "      <td>[smooth jazz, jazz fusion, instrumental pop, h...</td>\n",
       "      <td>[1.0, 0.8372168485885083, 0.7870977647303522, ...</td>\n",
       "      <td>[1.0, 0.8851412803254898, 0.8639191788780112, ...</td>\n",
       "      <td>[AR2LRXK1187FB593DD, ARC0PQA1187B98B804, ARQQF...</td>\n",
       "      <td>[[b'', 341235, 0.4229713078848842, 0.317248425...</td>\n",
       "      <td>[production music]</td>\n",
       "      <td>[1]</td>\n",
       "      <td>[[0, 0]]</td>\n",
       "    </tr>\n",
       "    <tr>\n",
       "      <th>4</th>\n",
       "      <td>[0.174, 0.056, 0.171, 0.002, 0.011, 0.043, 0.0...</td>\n",
       "      <td>[0.86869, 2.81287, 4.82044, 6.83859, 8.85129, ...</td>\n",
       "      <td>[0.737, 0.963, 0.808, 0.733, 0.943, 0.979, 0.8...</td>\n",
       "      <td>[0.38598, 0.86869, 1.3578, 1.83733, 2.32755, 2...</td>\n",
       "      <td>[1.0, 0.976, 0.672, 0.874, 0.631, 0.63, 0.721]</td>\n",
       "      <td>[0.0, 24.91439, 63.56777, 97.20426, 122.31641,...</td>\n",
       "      <td>[0.0, 0.9, 0.971, 1.0, 0.23, 0.304, 0.331, 0.5...</td>\n",
       "      <td>[-60.0, -45.984, -35.374, -16.982, -19.347, -2...</td>\n",
       "      <td>[0.0, 0.16157, 0.13967, 0.09241, 0.07211, 0.04...</td>\n",
       "      <td>[-60.0, -60.0, -53.731, -49.263, -23.33, -25.2...</td>\n",
       "      <td>...</td>\n",
       "      <td>[0.538, 0.547, 0.551, 0.546, 0.517, 0.505, 0.4...</td>\n",
       "      <td>[0.14402, 0.38598, 0.62793, 0.86869, 1.11025, ...</td>\n",
       "      <td>[pop rock, rock, new wave, pop, latin pop, spa...</td>\n",
       "      <td>[0.8736979280713694, 1.0, 0.8369951126551414, ...</td>\n",
       "      <td>[1.0, 0.9497470542946959, 0.941557527218568, 0...</td>\n",
       "      <td>[AR1FROD1187B9B984C, ARGCGKV1187B9B6E25, ARQGN...</td>\n",
       "      <td>[[b'', 19856, 0.5150440564086359, 0.3166921615...</td>\n",
       "      <td>[spanish, pop]</td>\n",
       "      <td>[1, 1]</td>\n",
       "      <td>[[0, 0]]</td>\n",
       "    </tr>\n",
       "  </tbody>\n",
       "</table>\n",
       "<p>5 rows × 24 columns</p>\n",
       "</div>"
      ],
      "text/plain": [
       "                                            analysis  \\\n",
       "                                     bars_confidence   \n",
       "0  [0.005, 0.088, 0.017, 0.027, 0.044, 0.254, 0.4...   \n",
       "1  [0.168, 0.133, 0.311, 0.34, 0.793, 0.241, 0.11...   \n",
       "2  [0.071, 0.096, 0.501, 0.173, 0.044, 0.7, 0.195...   \n",
       "3  [0.007, 0.18, 0.173, 0.057, 0.008, 0.123, 0.43...   \n",
       "4  [0.174, 0.056, 0.171, 0.002, 0.011, 0.043, 0.0...   \n",
       "\n",
       "                                                      \\\n",
       "                                          bars_start   \n",
       "0  [0.88942, 2.40052, 3.90322, 5.40499, 6.90397, ...   \n",
       "1  [0.76458, 2.63485, 4.44621, 6.33987, 8.2279, 1...   \n",
       "2  [1.03982, 2.62754, 4.21462, 5.79013, 7.36552, ...   \n",
       "3  [1.11054, 2.99649, 4.87299, 6.74848, 8.6137, 1...   \n",
       "4  [0.86869, 2.81287, 4.82044, 6.83859, 8.85129, ...   \n",
       "\n",
       "                                                      \\\n",
       "                                    beats_confidence   \n",
       "0  [0.507, 0.468, 0.375, 0.255, 0.53, 0.37, 0.467...   \n",
       "1  [0.0, 0.0, 0.853, 0.363, 0.559, 0.079, 0.0, 0....   \n",
       "2  [0.938, 0.516, 0.0, 0.4, 0.559, 0.0, 0.348, 0....   \n",
       "3  [0.838, 0.877, 0.562, 0.766, 0.769, 0.854, 0.6...   \n",
       "4  [0.737, 0.963, 0.808, 0.733, 0.943, 0.979, 0.8...   \n",
       "\n",
       "                                                      \\\n",
       "                                         beats_start   \n",
       "0  [0.88942, 1.26696, 1.64264, 2.02297, 2.40052, ...   \n",
       "1  [0.38884, 0.76458, 1.14032, 1.51605, 1.8974, 2...   \n",
       "2  [0.25338, 0.63721, 1.03982, 1.43354, 1.83318, ...   \n",
       "3  [0.1732, 0.64258, 1.11054, 1.58181, 2.05087, 2...   \n",
       "4  [0.38598, 0.86869, 1.3578, 1.83733, 2.32755, 2...   \n",
       "\n",
       "                                                      \\\n",
       "                                 sections_confidence   \n",
       "0  [1.0, 0.458, 0.138, 0.301, 0.669, 0.516, 0.996...   \n",
       "1                      [1.0, 1.0, 1.0, 0.479, 0.348]   \n",
       "2  [1.0, 1.0, 0.389, 0.704, 0.724, 0.388, 0.643, ...   \n",
       "3  [1.0, 0.202, 0.325, 0.293, 0.391, 0.043, 0.306...   \n",
       "4     [1.0, 0.976, 0.672, 0.874, 0.631, 0.63, 0.721]   \n",
       "\n",
       "                                                      \\\n",
       "                                      sections_start   \n",
       "0  [0.0, 12.40949, 33.86513, 47.97004, 73.99013, ...   \n",
       "1       [0.0, 7.85497, 23.85339, 37.18821, 45.62191]   \n",
       "2  [0.0, 6.58084, 24.70751, 44.845, 76.81754, 88....   \n",
       "3  [0.0, 31.53264, 46.02109, 60.99337, 80.63561, ...   \n",
       "4  [0.0, 24.91439, 63.56777, 97.20426, 122.31641,...   \n",
       "\n",
       "                                                      \\\n",
       "                                 segments_confidence   \n",
       "0  [0.0, 1.0, 0.768, 1.0, 0.459, 0.839, 0.541, 0....   \n",
       "1  [0.0, 1.0, 0.205, 0.051, 0.36, 0.414, 1.0, 0.1...   \n",
       "2  [0.0, 1.0, 0.029, 0.028, 0.018, 0.001, 0.453, ...   \n",
       "3  [1.0, 1.0, 0.812, 1.0, 1.0, 0.347, 0.896, 1.0,...   \n",
       "4  [0.0, 0.9, 0.971, 1.0, 0.23, 0.304, 0.331, 0.5...   \n",
       "\n",
       "                                                      \\\n",
       "                               segments_loudness_max   \n",
       "0  [-59.293, -39.611, -42.627, -19.225, -29.229, ...   \n",
       "1  [-60.0, -32.193, -31.1, -30.346, -29.11, -41.2...   \n",
       "2  [-60.0, -34.763, -33.572, -32.022, -31.496, -3...   \n",
       "3  [-16.392, -7.231, -17.569, -15.025, -9.539, -2...   \n",
       "4  [-60.0, -45.984, -35.374, -16.982, -19.347, -2...   \n",
       "\n",
       "                                                      \\\n",
       "                          segments_loudness_max_time   \n",
       "0  [0.83297, 0.08134, 0.0286, 0.06111, 0.03662, 0...   \n",
       "1  [0.0, 0.13181, 0.10615, 0.04297, 0.05622, 0.43...   \n",
       "2  [0.0, 0.35311, 0.03078, 0.80505, 0.0943, 0.176...   \n",
       "3  [0.19096, 0.09896, 0.01821, 0.03121, 0.03175, ...   \n",
       "4  [0.0, 0.16157, 0.13967, 0.09241, 0.07211, 0.04...   \n",
       "\n",
       "                                                      ...  \\\n",
       "                             segments_loudness_start  ...   \n",
       "0  [-60.0, -59.316, -51.292, -50.699, -35.07, -37...  ...   \n",
       "1  [-60.0, -60.0, -34.412, -32.543, -32.608, -45....  ...   \n",
       "2  [-60.0, -60.0, -35.426, -34.888, -33.573, -34....  ...   \n",
       "3  [-60.0, -26.315, -31.727, -43.658, -28.616, -3...  ...   \n",
       "4  [-60.0, -60.0, -53.731, -49.263, -23.33, -25.2...  ...   \n",
       "\n",
       "                                                      \\\n",
       "                                   tatums_confidence   \n",
       "0  [0.332, 0.338, 0.342, 0.34, 0.321, 0.308, 0.30...   \n",
       "1  [0.215, 0.212, 0.211, 0.211, 0.211, 0.209, 0.2...   \n",
       "2  [0.306, 0.293, 0.24, 0.203, 0.172, 0.145, 0.12...   \n",
       "3  [1.0, 1.0, 1.0, 1.0, 1.0, 1.0, 1.0, 0.984, 0.9...   \n",
       "4  [0.538, 0.547, 0.551, 0.546, 0.517, 0.505, 0.4...   \n",
       "\n",
       "                                                      \\\n",
       "                                        tatums_start   \n",
       "0  [0.88942, 1.07866, 1.26696, 1.45153, 1.64264, ...   \n",
       "1  [0.20097, 0.38884, 0.57671, 0.76458, 0.95245, ...   \n",
       "2  [0.05455, 0.25338, 0.44629, 0.63721, 0.83901, ...   \n",
       "3  [0.1732, 0.40789, 0.64258, 0.87372, 1.11054, 1...   \n",
       "4  [0.14402, 0.38598, 0.62793, 0.86869, 1.11025, ...   \n",
       "\n",
       "                                            metadata  \\\n",
       "                                        artist_terms   \n",
       "0  [teen pop, country rock, country music, female...   \n",
       "1  [doom metal, viking metal, folk metal, death m...   \n",
       "2  [rock, alternative, rave, disco, new wave, sou...   \n",
       "3  [smooth jazz, jazz fusion, instrumental pop, h...   \n",
       "4  [pop rock, rock, new wave, pop, latin pop, spa...   \n",
       "\n",
       "                                                      \\\n",
       "                                   artist_terms_freq   \n",
       "0  [0.9769957203952209, 0.9769957203952209, 0.976...   \n",
       "1  [0.9648610538926313, 0.8538369682764827, 0.873...   \n",
       "2  [1.0, 0.8476018315794605, 0.3707999554207882, ...   \n",
       "3  [1.0, 0.8372168485885083, 0.7870977647303522, ...   \n",
       "4  [0.8736979280713694, 1.0, 0.8369951126551414, ...   \n",
       "\n",
       "                                                      \\\n",
       "                                 artist_terms_weight   \n",
       "0  [1.0, 1.0, 1.0, 0.8484985832840718, 0.82705290...   \n",
       "1  [1.0, 0.9838773239907247, 0.9724934211084154, ...   \n",
       "2  [1.0, 0.8889613897444565, 0.6476217325902135, ...   \n",
       "3  [1.0, 0.8851412803254898, 0.8639191788780112, ...   \n",
       "4  [1.0, 0.9497470542946959, 0.941557527218568, 0...   \n",
       "\n",
       "                                                      \\\n",
       "                                     similar_artists   \n",
       "0  [AR23BO81187FB47087, ARFJXKQ119B86694AF, ARNHX...   \n",
       "1  [ARLPWJI1187FB4E7A4, ARBKRXT1187FB55707, AR1UF...   \n",
       "2  [ARVN9FZ1187FB393F1, AR9O98A1187FB39621, ARYVO...   \n",
       "3  [AR2LRXK1187FB593DD, ARC0PQA1187B98B804, ARQQF...   \n",
       "4  [AR1FROD1187B9B984C, ARGCGKV1187B9B6E25, ARQGN...   \n",
       "\n",
       "                                                      \\\n",
       "                                               songs   \n",
       "0  [[b'', 266506, 0.7369919703227188, 0.477225190...   \n",
       "1  [[b'', 604768, 0.5110009439105907, 0.366743931...   \n",
       "2  [[b'', 616, 0.9184517888889826, 0.819588282228...   \n",
       "3  [[b'', 341235, 0.4229713078848842, 0.317248425...   \n",
       "4  [[b'', 19856, 0.5150440564086359, 0.3166921615...   \n",
       "\n",
       "                                         musicbrainz                         \\\n",
       "                                       artist_mbtags    artist_mbtags_count   \n",
       "0                                                 []                     []   \n",
       "1                                                 []                     []   \n",
       "2  [rock and indie, united states, alternative ro...  [1, 1, 1, 1, 1, 1, 1]   \n",
       "3                                 [production music]                    [1]   \n",
       "4                                     [spanish, pop]                 [1, 1]   \n",
       "\n",
       "                \n",
       "         songs  \n",
       "0     [[0, 0]]  \n",
       "1     [[0, 0]]  \n",
       "2  [[0, 2008]]  \n",
       "3     [[0, 0]]  \n",
       "4     [[0, 0]]  \n",
       "\n",
       "[5 rows x 24 columns]"
      ]
     },
     "execution_count": 5,
     "metadata": {},
     "output_type": "execute_result"
    }
   ],
   "source": [
    "path = '/Users/Maxwell/galvanize/production-value/data/A/A/'\n",
    "df = msds.dir_to_h5df(path, 5)\n",
    "df"
   ]
  },
  {
   "cell_type": "code",
   "execution_count": 30,
   "metadata": {},
   "outputs": [
    {
     "data": {
      "text/plain": [
       "analysis     bars_confidence               [0.005, 0.088, 0.017, 0.027, 0.044, 0.254, 0.4...\n",
       "             bars_start                    [0.88942, 2.40052, 3.90322, 5.40499, 6.90397, ...\n",
       "             beats_confidence              [0.507, 0.468, 0.375, 0.255, 0.53, 0.37, 0.467...\n",
       "             beats_start                   [0.88942, 1.26696, 1.64264, 2.02297, 2.40052, ...\n",
       "             sections_confidence           [1.0, 0.458, 0.138, 0.301, 0.669, 0.516, 0.996...\n",
       "             sections_start                [0.0, 12.40949, 33.86513, 47.97004, 73.99013, ...\n",
       "             segments_confidence           [0.0, 1.0, 0.768, 1.0, 0.459, 0.839, 0.541, 0....\n",
       "             segments_loudness_max         [-59.293, -39.611, -42.627, -19.225, -29.229, ...\n",
       "             segments_loudness_max_time    [0.83297, 0.08134, 0.0286, 0.06111, 0.03662, 0...\n",
       "             segments_loudness_start       [-60.0, -59.316, -51.292, -50.699, -35.07, -37...\n",
       "             segments_pitches              [[0.031, 0.022, 0.056, 0.036, 0.025, 0.016, 0....\n",
       "             segments_start                [0.0, 0.84399, 1.24535, 1.37887, 1.71528, 1.87...\n",
       "             segments_timbre               [[0.0, 171.13, 9.469, -28.48, 57.491, -50.067,...\n",
       "             songs                         [[22050, b'a6d5208078516c9f7b81c817f6ed192a', ...\n",
       "             tatums_confidence             [0.332, 0.338, 0.342, 0.34, 0.321, 0.308, 0.30...\n",
       "             tatums_start                  [0.88942, 1.07866, 1.26696, 1.45153, 1.64264, ...\n",
       "metadata     artist_terms                  [teen pop, country rock, country music, female...\n",
       "             artist_terms_freq             [0.9769957203952209, 0.9769957203952209, 0.976...\n",
       "             artist_terms_weight           [1.0, 1.0, 1.0, 0.8484985832840718, 0.82705290...\n",
       "             similar_artists               [AR23BO81187FB47087, ARFJXKQ119B86694AF, ARNHX...\n",
       "             songs                         [[b'', 266506, 0.7369919703227188, 0.477225190...\n",
       "musicbrainz  artist_mbtags                                                                []\n",
       "             artist_mbtags_count                                                          []\n",
       "             songs                                                                  [[0, 0]]\n",
       "Name: 0, dtype: object"
      ]
     },
     "execution_count": 30,
     "metadata": {},
     "output_type": "execute_result"
    }
   ],
   "source": [
    "df.iloc[0]"
   ]
  },
  {
   "cell_type": "code",
   "execution_count": 37,
   "metadata": {},
   "outputs": [
    {
     "data": {
      "text/plain": [
       "(array([ 21.,  77.,  39., 143., 456., 100.,  54.,  47.,   9.,   3.]),\n",
       " array([0.14101 , 0.151271, 0.161532, 0.171793, 0.182054, 0.192315,\n",
       "        0.202576, 0.212837, 0.223098, 0.233359, 0.24362 ]),\n",
       " <a list of 10 Patch objects>)"
      ]
     },
     "execution_count": 37,
     "metadata": {},
     "output_type": "execute_result"
    },
    {
     "data": {
      "image/png": "[encoded data removed]",
      "text/plain": [
       "<Figure size 432x288 with 1 Axes>"
      ]
     },
     "metadata": {
      "image/png": {
       "height": 250,
       "width": 377
      },
      "needs_background": "light"
     },
     "output_type": "display_data"
    }
   ],
   "source": [
    "diff = np.array(df.iloc[0]['analysis']['tatums_start'][1:]) - np.array(df.iloc[0]['analysis']['tatums_start'][:-1]) \n",
    "plt.hist(diff)"
   ]
  },
  {
   "cell_type": "code",
   "execution_count": 22,
   "metadata": {},
   "outputs": [
    {
     "data": {
      "text/plain": [
       "8044883"
      ]
     },
     "execution_count": 22,
     "metadata": {},
     "output_type": "execute_result"
    }
   ],
   "source": [
    "df.iloc[0]['metadata']['songs'][0][-1]"
   ]
  },
  {
   "cell_type": "code",
   "execution_count": 28,
   "metadata": {},
   "outputs": [
    {
     "data": {
      "text/plain": [
       "dtype([('analysis_sample_rate', '<i4'), ('audio_md5', 'S32'), ('danceability', '<f8'), ('duration', '<f8'), ('end_of_fade_in', '<f8'), ('energy', '<f8'), ('idx_bars_confidence', '<i4'), ('idx_bars_start', '<i4'), ('idx_beats_confidence', '<i4'), ('idx_beats_start', '<i4'), ('idx_sections_confidence', '<i4'), ('idx_sections_start', '<i4'), ('idx_segments_confidence', '<i4'), ('idx_segments_loudness_max', '<i4'), ('idx_segments_loudness_max_time', '<i4'), ('idx_segments_loudness_start', '<i4'), ('idx_segments_pitches', '<i4'), ('idx_segments_start', '<i4'), ('idx_segments_timbre', '<i4'), ('idx_tatums_confidence', '<i4'), ('idx_tatums_start', '<i4'), ('key', '<i4'), ('key_confidence', '<f8'), ('loudness', '<f8'), ('mode', '<i4'), ('mode_confidence', '<f8'), ('start_of_fade_out', '<f8'), ('tempo', '<f8'), ('time_signature', '<i4'), ('time_signature_confidence', '<f8'), ('track_id', 'S32')])"
      ]
     },
     "execution_count": 28,
     "metadata": {},
     "output_type": "execute_result"
    }
   ],
   "source": [
    "df['analysis']['songs'].iloc[0][0].dtype"
   ]
  },
  {
   "cell_type": "code",
   "execution_count": 29,
   "metadata": {},
   "outputs": [
    {
     "data": {
      "text/plain": [
       "(22050, b'a6d5208078516c9f7b81c817f6ed192a', 0., 179.06893, 0.844, 0., 0, 0, 0, 0, 0, 0, 0, 0, 0, 0, 0, 0, 0, 0, 0, 0, 0.437, -17.522, 0, 0.465, 175.92, 161.054, 4, 0.67, b'TRAARRG12903CDB456')"
      ]
     },
     "execution_count": 29,
     "metadata": {},
     "output_type": "execute_result"
    }
   ],
   "source": [
    "df['analysis']['songs'].iloc[0][0]"
   ]
  },
  {
   "cell_type": "markdown",
   "metadata": {},
   "source": [
    "# Data Cleaning:\n",
    "\n",
    "Fields I am interested in currently:\n",
    "\n",
    "Metadata\n",
    "- Song Title\n",
    "- Artist\n",
    "- Album\n",
    "\n",
    "Analysis:\n",
    "- segments_pitches\n",
    "- segments_timbre\n",
    "- maybe just all of the segments...\n",
    "- maybe just everything\n"
   ]
  },
  {
   "cell_type": "code",
   "execution_count": 41,
   "metadata": {},
   "outputs": [
    {
     "data": {
      "text/plain": [
       "dtype([('analyzer_version', 'S32'), ('artist_7digitalid', '<i4'), ('artist_familiarity', '<f8'), ('artist_hotttnesss', '<f8'), ('artist_id', 'S32'), ('artist_latitude', '<f8'), ('artist_location', 'S1024'), ('artist_longitude', '<f8'), ('artist_mbid', 'S40'), ('artist_name', 'S1024'), ('artist_playmeid', '<i4'), ('genre', 'S1024'), ('idx_artist_terms', '<i4'), ('idx_similar_artists', '<i4'), ('release', 'S1024'), ('release_7digitalid', '<i4'), ('song_hotttnesss', '<f8'), ('song_id', 'S32'), ('title', 'S1024'), ('track_7digitalid', '<i4')])"
      ]
     },
     "execution_count": 41,
     "metadata": {},
     "output_type": "execute_result"
    }
   ],
   "source": [
    "f['metadata']['songs'][0].dtype"
   ]
  },
  {
   "cell_type": "code",
   "execution_count": 49,
   "metadata": {},
   "outputs": [
    {
     "data": {
      "text/plain": [
       "('Casual', \"I Didn't Mean To\", 'Fear Itself')"
      ]
     },
     "execution_count": 49,
     "metadata": {},
     "output_type": "execute_result"
    }
   ],
   "source": [
    "artist = f['metadata']['songs'][0][9].decode()\n",
    "release = f['metadata']['songs'][0][14].decode()\n",
    "track = f['metadata']['songs'][0][18].decode()\n",
    "artist, track, release"
   ]
  },
  {
   "cell_type": "code",
   "execution_count": null,
   "metadata": {},
   "outputs": [],
   "source": []
  }
 ],
 "metadata": {
  "kernelspec": {
   "display_name": "Python 3",
   "language": "python",
   "name": "python3"
  },
  "language_info": {
   "codemirror_mode": {
    "name": "ipython",
    "version": 3
   },
   "file_extension": ".py",
   "mimetype": "text/x-python",
   "name": "python",
   "nbconvert_exporter": "python",
   "pygments_lexer": "ipython3",
   "version": "3.7.1"
  }
 },
 "nbformat": 4,
 "nbformat_minor": 2
}
