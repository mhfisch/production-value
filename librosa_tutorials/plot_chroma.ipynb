{
 "cells": [
  {
   "cell_type": "code",
   "execution_count": 1,
   "metadata": {
    "collapsed": false
   },
   "outputs": [],
   "source": [
    "%matplotlib inline"
   ]
  },
  {
   "cell_type": "markdown",
   "metadata": {},
   "source": [
    "\n",
    "# Enhanced chroma and chroma variants\n",
    "\n",
    "\n",
    "This notebook demonstrates a variety of techniques for enhancing chroma features and \n",
    "also, introduces chroma variants implemented in librosa.\n",
    "\n"
   ]
  },
  {
   "cell_type": "markdown",
   "metadata": {},
   "source": [
    "Enhanced chroma\n",
    "^^^^^^^^^^^^^^^\n",
    "Beyond the default parameter settings of librosa's chroma functions, we apply the following \n",
    "enhancements:\n",
    "\n",
    "   1. Over-sampling the frequency axis to reduce sensitivity to tuning deviations\n",
    "   2. Harmonic-percussive-residual source separation to eliminate transients.\n",
    "   3. Nearest-neighbor smoothing to eliminate passing tones and sparse noise.  This is inspired by the\n",
    "      recurrence-based smoothing technique of\n",
    "      `Cho and Bello, 2011 <http://ismir2011.ismir.net/papers/OS8-4.pdf>`_.\n",
    "   4. Local median filtering to suppress remaining discontinuities.\n",
    "\n"
   ]
  },
  {
   "cell_type": "code",
   "execution_count": null,
   "metadata": {
    "collapsed": false
   },
   "outputs": [],
   "source": [
    "# Code source: Brian McFee\n",
    "# License: ISC\n",
    "# sphinx_gallery_thumbnail_number = 6\n",
    "\n",
    "from __future__ import print_function\n",
    "import numpy as np\n",
    "import scipy\n",
    "import matplotlib.pyplot as plt\n",
    "\n",
    "import librosa\n",
    "import librosa.display"
   ]
  },
  {
   "cell_type": "markdown",
   "metadata": {},
   "source": [
    "We'll use a track that has harmonic, melodic, and percussive elements\n",
    "\n"
   ]
  },
  {
   "cell_type": "code",
   "execution_count": null,
   "metadata": {
    "collapsed": false
   },
   "outputs": [],
   "source": [
    "y, sr = librosa.load('audio/Karissa_Hobbs_-_09_-_Lets_Go_Fishin.mp3')"
   ]
  },
  {
   "cell_type": "markdown",
   "metadata": {},
   "source": [
    "First, let's plot the original chroma\n",
    "\n"
   ]
  },
  {
   "cell_type": "code",
   "execution_count": null,
   "metadata": {
    "collapsed": false
   },
   "outputs": [],
   "source": [
    "chroma_orig = librosa.feature.chroma_cqt(y=y, sr=sr)\n",
    "\n",
    "# For display purposes, let's zoom in on a 15-second chunk from the middle of the song\n",
    "idx = tuple([slice(None), slice(*list(librosa.time_to_frames([45, 60])))])\n",
    "\n",
    "# And for comparison, we'll show the CQT matrix as well.\n",
    "C = np.abs(librosa.cqt(y=y, sr=sr, bins_per_octave=12*3, n_bins=7*12*3))\n",
    "\n",
    "\n",
    "plt.figure(figsize=(12, 4))\n",
    "plt.subplot(2, 1, 1)\n",
    "librosa.display.specshow(librosa.amplitude_to_db(C, ref=np.max)[idx],\n",
    "                         y_axis='cqt_note', bins_per_octave=12*3)\n",
    "plt.colorbar()\n",
    "plt.subplot(2, 1, 2)\n",
    "librosa.display.specshow(chroma_orig[idx], y_axis='chroma')\n",
    "plt.colorbar()\n",
    "plt.ylabel('Original')\n",
    "plt.tight_layout()"
   ]
  },
  {
   "cell_type": "markdown",
   "metadata": {},
   "source": [
    "We can correct for minor tuning deviations by using 3 CQT\n",
    "bins per semi-tone, instead of one\n",
    "\n"
   ]
  },
  {
   "cell_type": "code",
   "execution_count": null,
   "metadata": {
    "collapsed": false
   },
   "outputs": [],
   "source": [
    "chroma_os = librosa.feature.chroma_cqt(y=y, sr=sr, bins_per_octave=12*3)\n",
    "\n",
    "\n",
    "plt.figure(figsize=(12, 4))\n",
    "\n",
    "plt.subplot(2, 1, 1)\n",
    "librosa.display.specshow(chroma_orig[idx], y_axis='chroma')\n",
    "plt.colorbar()\n",
    "plt.ylabel('Original')\n",
    "\n",
    "\n",
    "plt.subplot(2, 1, 2)\n",
    "librosa.display.specshow(chroma_os[idx], y_axis='chroma', x_axis='time')\n",
    "plt.colorbar()\n",
    "plt.ylabel('3x-over')\n",
    "plt.tight_layout()"
   ]
  },
  {
   "cell_type": "markdown",
   "metadata": {},
   "source": [
    "That cleaned up some rough edges, but we can do better\n",
    "by isolating the harmonic component.\n",
    "We'll use a large margin for separating harmonics from percussives\n",
    "\n"
   ]
  },
  {
   "cell_type": "code",
   "execution_count": null,
   "metadata": {
    "collapsed": false
   },
   "outputs": [],
   "source": [
    "y_harm = librosa.effects.harmonic(y=y, margin=8)\n",
    "chroma_os_harm = librosa.feature.chroma_cqt(y=y_harm, sr=sr, bins_per_octave=12*3)\n",
    "\n",
    "\n",
    "plt.figure(figsize=(12, 4))\n",
    "\n",
    "plt.subplot(2, 1, 1)\n",
    "librosa.display.specshow(chroma_os[idx], y_axis='chroma')\n",
    "plt.colorbar()\n",
    "plt.ylabel('3x-over')\n",
    "\n",
    "plt.subplot(2, 1, 2)\n",
    "librosa.display.specshow(chroma_os_harm[idx], y_axis='chroma', x_axis='time')\n",
    "plt.colorbar()\n",
    "plt.ylabel('Harmonic')\n",
    "plt.tight_layout()"
   ]
  },
  {
   "cell_type": "markdown",
   "metadata": {},
   "source": [
    "There's still some noise in there though.\n",
    "We can clean it up using non-local filtering.\n",
    "This effectively removes any sparse additive noise from the features.\n",
    "\n"
   ]
  },
  {
   "cell_type": "code",
   "execution_count": null,
   "metadata": {
    "collapsed": false
   },
   "outputs": [],
   "source": [
    "chroma_filter = np.minimum(chroma_os_harm,\n",
    "                           librosa.decompose.nn_filter(chroma_os_harm,\n",
    "                                                       aggregate=np.median,\n",
    "                                                       metric='cosine'))\n",
    "\n",
    "\n",
    "plt.figure(figsize=(12, 4))\n",
    "\n",
    "plt.subplot(2, 1, 1)\n",
    "librosa.display.specshow(chroma_os_harm[idx], y_axis='chroma')\n",
    "plt.colorbar()\n",
    "plt.ylabel('Harmonic')\n",
    "\n",
    "plt.subplot(2, 1, 2)\n",
    "librosa.display.specshow(chroma_filter[idx], y_axis='chroma', x_axis='time')\n",
    "plt.colorbar()\n",
    "plt.ylabel('Non-local')\n",
    "plt.tight_layout()"
   ]
  },
  {
   "cell_type": "markdown",
   "metadata": {},
   "source": [
    "Local discontinuities and transients can be suppressed by\n",
    "using a horizontal median filter.\n",
    "\n"
   ]
  },
  {
   "cell_type": "code",
   "execution_count": null,
   "metadata": {
    "collapsed": false
   },
   "outputs": [],
   "source": [
    "chroma_smooth = scipy.ndimage.median_filter(chroma_filter, size=(1, 9))\n",
    "\n",
    "\n",
    "plt.figure(figsize=(12, 4))\n",
    "\n",
    "plt.subplot(2, 1, 1)\n",
    "librosa.display.specshow(chroma_filter[idx], y_axis='chroma')\n",
    "plt.colorbar()\n",
    "plt.ylabel('Non-local')\n",
    "\n",
    "plt.subplot(2, 1, 2)\n",
    "librosa.display.specshow(chroma_smooth[idx], y_axis='chroma', x_axis='time')\n",
    "plt.colorbar()\n",
    "plt.ylabel('Median-filtered')\n",
    "plt.tight_layout()"
   ]
  },
  {
   "cell_type": "markdown",
   "metadata": {},
   "source": [
    "A final comparison between the CQT, original chromagram\n",
    "and the result of our filtering.\n",
    "\n"
   ]
  },
  {
   "cell_type": "code",
   "execution_count": null,
   "metadata": {
    "collapsed": false
   },
   "outputs": [],
   "source": [
    "plt.figure(figsize=(12, 8))\n",
    "plt.subplot(3, 1, 1)\n",
    "librosa.display.specshow(librosa.amplitude_to_db(C, ref=np.max)[idx],\n",
    "                         y_axis='cqt_note', bins_per_octave=12*3)\n",
    "plt.colorbar()\n",
    "plt.ylabel('CQT')\n",
    "plt.subplot(3, 1, 2)\n",
    "librosa.display.specshow(chroma_orig[idx], y_axis='chroma')\n",
    "plt.ylabel('Original')\n",
    "plt.colorbar()\n",
    "plt.subplot(3, 1, 3)\n",
    "librosa.display.specshow(chroma_smooth[idx], y_axis='chroma', x_axis='time')\n",
    "plt.ylabel('Processed')\n",
    "plt.colorbar()\n",
    "plt.tight_layout()\n",
    "plt.show()"
   ]
  },
  {
   "cell_type": "markdown",
   "metadata": {},
   "source": [
    "Chroma variants\n",
    "^^^^^^^^^^^^^^^\n",
    "There are three chroma variants implemented in librosa: `chroma_stft`, `chroma_cqt`, and `chroma_cens`.\n",
    "`chroma_stft` and `chroma_cqt` are two alternative ways of plotting chroma.    \n",
    "\n",
    "`chroma_stft` performs short-time fourier transform of an audio input and maps each STFT bin to chroma, while `chroma_cqt` uses constant-Q transform and maps each cq-bin to chroma.      \n",
    "\n",
    "A comparison between the STFT and the CQT methods for chromagram. \n",
    "\n"
   ]
  },
  {
   "cell_type": "code",
   "execution_count": null,
   "metadata": {
    "collapsed": false
   },
   "outputs": [],
   "source": [
    "chromagram_stft = librosa.feature.chroma_stft(y=y, sr=sr)\n",
    "chromagram_cqt = librosa.feature.chroma_cqt(y=y, sr=sr)\n",
    "\n",
    "\n",
    "plt.figure(figsize=(12, 4))\n",
    "\n",
    "plt.subplot(2, 1, 1)\n",
    "librosa.display.specshow(chromagram_stft[idx], y_axis='chroma')\n",
    "plt.colorbar()\n",
    "plt.ylabel('STFT')\n",
    "\n",
    "plt.subplot(2, 1, 2)\n",
    "librosa.display.specshow(chromagram_cqt[idx], y_axis='chroma', x_axis='time')\n",
    "plt.colorbar()\n",
    "plt.ylabel('CQT')\n",
    "plt.tight_layout()"
   ]
  },
  {
   "cell_type": "markdown",
   "metadata": {},
   "source": [
    "CENS features (`chroma_cens`) are variants of chroma features introduced in \n",
    "`Müller and Ewart, 2011 <http://ismir2011.ismir.net/papers/PS2-8.pdf>`_, in which \n",
    "additional post processing steps are performed on the constant-Q chromagram to obtain features \n",
    "that are invariant to dynamics and timbre.     \n",
    "\n",
    "Thus, the CENS features are useful for applications, such as audio matching and retrieval.\n",
    "\n",
    "Following steps are additional processing done on the chromagram, and are implemented in `chroma_cens`:  \n",
    "  1. L1-Normalization across each chroma vector\n",
    "  2. Quantization of the amplitudes based on \"log-like\" amplitude thresholds\n",
    "  3. Smoothing with sliding window (optional parameter) \n",
    "  4. Downsampling (not implemented)\n",
    "\n",
    "A comparison between the original constant-Q chromagram and the CENS features.  \n",
    "\n"
   ]
  },
  {
   "cell_type": "code",
   "execution_count": null,
   "metadata": {
    "collapsed": false
   },
   "outputs": [],
   "source": [
    "chromagram_cens = librosa.feature.chroma_cens(y=y, sr=sr)\n",
    "\n",
    "\n",
    "plt.figure(figsize=(12, 4))\n",
    "\n",
    "plt.subplot(2, 1, 1)\n",
    "librosa.display.specshow(chromagram_cqt[idx], y_axis='chroma')\n",
    "plt.colorbar()\n",
    "plt.ylabel('Orig')\n",
    "\n",
    "plt.subplot(2, 1, 2)\n",
    "librosa.display.specshow(chromagram_cens[idx], y_axis='chroma', x_axis='time')\n",
    "plt.colorbar()\n",
    "plt.ylabel('CENS')\n",
    "plt.tight_layout()"
   ]
  }
 ],
 "metadata": {
  "kernelspec": {
   "display_name": "Python 3",
   "language": "python",
   "name": "python3"
  },
  "language_info": {
   "codemirror_mode": {
    "name": "ipython",
    "version": 3
   },
   "file_extension": ".py",
   "mimetype": "text/x-python",
   "name": "python",
   "nbconvert_exporter": "python",
   "pygments_lexer": "ipython3",
   "version": "3.7.1"
  }
 },
 "nbformat": 4,
 "nbformat_minor": 2
}
