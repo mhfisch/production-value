{
 "cells": [
  {
   "cell_type": "code",
   "execution_count": null,
   "metadata": {
    "collapsed": false
   },
   "outputs": [],
   "source": [
    "%matplotlib inline"
   ]
  },
  {
   "cell_type": "markdown",
   "metadata": {},
   "source": [
    "\n",
    "# Superflux onsets\n",
    "\n",
    "\n",
    "This notebook demonstrates how to recover the Superflux onset detection algorithm of\n",
    "`Boeck and Widmer, 2013 <http://dafx13.nuim.ie/papers/09.dafx2013_submission_12.pdf>`_\n",
    "from librosa.\n",
    "\n",
    "This algorithm improves onset detection accuracy in the presence of vibrato.\n",
    "\n"
   ]
  },
  {
   "cell_type": "code",
   "execution_count": null,
   "metadata": {
    "collapsed": false
   },
   "outputs": [],
   "source": [
    "# Code source: Brian McFee\n",
    "# License: ISC"
   ]
  },
  {
   "cell_type": "markdown",
   "metadata": {},
   "source": [
    "We'll need numpy and matplotlib for this example\n",
    "\n"
   ]
  },
  {
   "cell_type": "code",
   "execution_count": null,
   "metadata": {
    "collapsed": false
   },
   "outputs": [],
   "source": [
    "from __future__ import print_function\n",
    "import numpy as np\n",
    "import matplotlib.pyplot as plt\n",
    "\n",
    "import librosa\n",
    "import librosa.display"
   ]
  },
  {
   "cell_type": "markdown",
   "metadata": {},
   "source": [
    "We'll load in a five-second clip of a track that has\n",
    "noticeable vocal vibrato.\n",
    "The method works fine for longer signals, but the\n",
    "results are harder to visualize.\n",
    "\n"
   ]
  },
  {
   "cell_type": "code",
   "execution_count": null,
   "metadata": {
    "collapsed": false
   },
   "outputs": [],
   "source": [
    "y, sr = librosa.load('audio/Karissa_Hobbs_-_09_-_Lets_Go_Fishin.mp3',\n",
    "                     sr=44100,\n",
    "                     duration=5,\n",
    "                     offset=35)"
   ]
  },
  {
   "cell_type": "markdown",
   "metadata": {},
   "source": [
    "These parameters are taken directly from the paper\n",
    "\n"
   ]
  },
  {
   "cell_type": "code",
   "execution_count": null,
   "metadata": {
    "collapsed": false
   },
   "outputs": [],
   "source": [
    "n_fft = 1024\n",
    "hop_length = int(librosa.time_to_samples(1./200, sr=sr))\n",
    "lag = 2\n",
    "n_mels = 138\n",
    "fmin = 27.5\n",
    "fmax = 16000.\n",
    "max_size = 3"
   ]
  },
  {
   "cell_type": "markdown",
   "metadata": {},
   "source": [
    "The paper uses a log-frequency representation, but for\n",
    "simplicity, we'll use a Mel spectrogram instead.\n",
    "\n"
   ]
  },
  {
   "cell_type": "code",
   "execution_count": null,
   "metadata": {
    "collapsed": false
   },
   "outputs": [],
   "source": [
    "S = librosa.feature.melspectrogram(y, sr=sr, n_fft=n_fft,\n",
    "                                   hop_length=hop_length,\n",
    "                                   fmin=fmin,\n",
    "                                   fmax=fmax,\n",
    "                                   n_mels=n_mels)\n",
    "\n",
    "\n",
    "plt.figure(figsize=(6, 4))\n",
    "librosa.display.specshow(librosa.power_to_db(S, ref=np.max),\n",
    "                         y_axis='mel', x_axis='time', sr=sr,\n",
    "                         hop_length=hop_length, fmin=fmin, fmax=fmax)\n",
    "plt.tight_layout()"
   ]
  },
  {
   "cell_type": "markdown",
   "metadata": {},
   "source": [
    "Now we'll compute the onset strength envelope and onset events\n",
    "using the librosa defaults.\n",
    "\n"
   ]
  },
  {
   "cell_type": "code",
   "execution_count": null,
   "metadata": {
    "collapsed": false
   },
   "outputs": [],
   "source": [
    "odf_default = librosa.onset.onset_strength(y=y, sr=sr, hop_length=hop_length)\n",
    "onset_default = librosa.onset.onset_detect(y=y, sr=sr, hop_length=hop_length,\n",
    "                                           units='time')"
   ]
  },
  {
   "cell_type": "markdown",
   "metadata": {},
   "source": [
    "And similarly with the superflux method\n",
    "\n"
   ]
  },
  {
   "cell_type": "code",
   "execution_count": null,
   "metadata": {
    "collapsed": false
   },
   "outputs": [],
   "source": [
    "odf_sf = librosa.onset.onset_strength(S=librosa.power_to_db(S, ref=np.max),\n",
    "                                      sr=sr,\n",
    "                                      hop_length=hop_length,\n",
    "                                      lag=lag, max_size=max_size)\n",
    "\n",
    "onset_sf = librosa.onset.onset_detect(onset_envelope=odf_sf,\n",
    "                                      sr=sr,\n",
    "                                      hop_length=hop_length,\n",
    "                                      units='time')"
   ]
  },
  {
   "cell_type": "markdown",
   "metadata": {},
   "source": [
    "If you look carefully, the default onset detector (top sub-plot) has\n",
    "several false positives in high-vibrato regions, eg around 0.62s or\n",
    "1.80s.\n",
    "\n",
    "The superflux method (middle plot) is less susceptible to vibrato, and\n",
    "does not detect onset events at those points.\n",
    "\n"
   ]
  },
  {
   "cell_type": "code",
   "execution_count": null,
   "metadata": {
    "collapsed": false
   },
   "outputs": [],
   "source": [
    "# sphinx_gallery_thumbnail_number = 2\n",
    "plt.figure(figsize=(6, 6))\n",
    "\n",
    "frame_time = librosa.frames_to_time(np.arange(len(odf_default)),\n",
    "                                    sr=sr,\n",
    "                                    hop_length=hop_length)\n",
    "\n",
    "ax = plt.subplot(2, 1, 2)\n",
    "librosa.display.specshow(librosa.power_to_db(S, ref=np.max),\n",
    "                         y_axis='mel', x_axis='time', sr=sr,\n",
    "                         hop_length=hop_length, fmin=fmin, fmax=fmax)\n",
    "plt.xlim([0, 5.0])\n",
    "plt.axis('tight')\n",
    "\n",
    "\n",
    "plt.subplot(4, 1, 1, sharex=ax)\n",
    "plt.plot(frame_time, odf_default, label='Spectral flux')\n",
    "plt.vlines(onset_default, 0, odf_default.max(), label='Onsets')\n",
    "plt.xlim([0, 5.0])\n",
    "plt.legend()\n",
    "\n",
    "\n",
    "plt.subplot(4, 1, 2, sharex=ax)\n",
    "plt.plot(frame_time, odf_sf, color='g', label='Superflux')\n",
    "plt.vlines(onset_sf, 0, odf_sf.max(), label='Onsets')\n",
    "plt.xlim([0, 5.0])\n",
    "plt.legend()\n",
    "\n",
    "plt.tight_layout()\n",
    "plt.show()"
   ]
  }
 ],
 "metadata": {
  "kernelspec": {
   "display_name": "Python 3",
   "language": "python",
   "name": "python3"
  },
  "language_info": {
   "codemirror_mode": {
    "name": "ipython",
    "version": 3
   },
   "file_extension": ".py",
   "mimetype": "text/x-python",
   "name": "python",
   "nbconvert_exporter": "python",
   "pygments_lexer": "ipython3",
   "version": "3.7.1"
  }
 },
 "nbformat": 4,
 "nbformat_minor": 2
}
