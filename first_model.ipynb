{
 "cells": [
  {
   "cell_type": "code",
   "execution_count": 2,
   "metadata": {},
   "outputs": [],
   "source": [
    "# Standard Imports\n",
    "\n",
    "import numpy as np\n",
    "import pandas as pd\n",
    "import os\n",
    "import sys\n",
    "from collections import defaultdict\n",
    "from importlib import reload\n",
    "from bs4 import BeautifulSoup\n",
    "import requests\n",
    "\n",
    "import matplotlib.pyplot as plt\n",
    "%matplotlib inline\n",
    "%config InlineBackend.figure_format = 'retina'\n",
    "\n",
    "\n",
    "# Load MongoDB\n",
    "\n",
    "from pymongo import MongoClient\n",
    "client = MongoClient()\n",
    "# Access/Initiate Database\n",
    "db = client['producer_db']\n",
    "# Access/Initiate Table\n",
    "tab = db['songs']\n",
    "collection = db.tab\n",
    "\n",
    "# Authorize Spotify API\n",
    "\n",
    "import spotipy\n",
    "from spotipy.oauth2 import SpotifyClientCredentials\n",
    "\n",
    "client_id = os.environ['SPOTIFY_CLIENT_ID']\n",
    "client_secret = os.environ['SPOTIFY_CLIENT_SECRET']\n",
    "client_credentials_manager = SpotifyClientCredentials(client_id=client_id, client_secret=client_secret)\n",
    "sp = spotipy.Spotify(client_credentials_manager=client_credentials_manager)"
   ]
  },
  {
   "cell_type": "code",
   "execution_count": 9,
   "metadata": {},
   "outputs": [
    {
     "data": {
      "text/plain": [
       "498"
      ]
     },
     "execution_count": 9,
     "metadata": {},
     "output_type": "execute_result"
    }
   ],
   "source": [
    "len(collection.find_one()['audio_analysis']['segments'])"
   ]
  },
  {
   "cell_type": "markdown",
   "metadata": {},
   "source": [
    "### Gameplan: \n",
    "\n",
    "Make a `timbre` array for every song of size (12,100) by taking the first 100 segments. Make a dictionary where..."
   ]
  },
  {
   "cell_type": "code",
   "execution_count": 13,
   "metadata": {},
   "outputs": [
    {
     "data": {
      "text/plain": [
       "array([1, 2, 3])"
      ]
     },
     "execution_count": 13,
     "metadata": {},
     "output_type": "execute_result"
    }
   ],
   "source": [
    "test_dict = {'colA':[1,2,3],\n",
    "             'colB':[4,5,6],\n",
    "             'colC':['now','we are','done'],\n",
    "             'colD':[np.array([1,2,3]),np.array([1,2,3]),np.array([1,2,3])]}\n",
    "\n",
    "pd.DataFrame(test_dict)['colD'][0]"
   ]
  },
  {
   "cell_type": "code",
   "execution_count": 17,
   "metadata": {},
   "outputs": [],
   "source": [
    "track = collection.find_one()['track']\n",
    "artist = collection.find_one()['artist']\n",
    "producer = collection.find_one()['producer']"
   ]
  },
  {
   "cell_type": "code",
   "execution_count": 19,
   "metadata": {},
   "outputs": [],
   "source": [
    "timbre_list = []\n",
    "\n",
    "for i in range(100):\n",
    "    timbre_list.append(collection.find_one()['audio_analysis']['segments'][i]['timbre'])\n",
    "    \n",
    "timbre = np.stack(timbre_list)"
   ]
  },
  {
   "cell_type": "code",
   "execution_count": 22,
   "metadata": {},
   "outputs": [
    {
     "data": {
      "text/plain": [
       "(1200,)"
      ]
     },
     "execution_count": 22,
     "metadata": {},
     "output_type": "execute_result"
    }
   ],
   "source": [
    "timbre.flatten().shape"
   ]
  },
  {
   "cell_type": "markdown",
   "metadata": {},
   "source": [
    "Let's see if we can use PCA to distinguish between George Martin (ct. 130) and Rick Rubin (ct. 155)"
   ]
  },
  {
   "cell_type": "code",
   "execution_count": 32,
   "metadata": {},
   "outputs": [],
   "source": [
    "gm = collection.find({'producer':'George Martin'})\n",
    "rr = collection.find({'producer':'Rick Rubin'})"
   ]
  },
  {
   "cell_type": "code",
   "execution_count": 34,
   "metadata": {},
   "outputs": [
    {
     "data": {
      "text/html": [
       "<div>\n",
       "<style scoped>\n",
       "    .dataframe tbody tr th:only-of-type {\n",
       "        vertical-align: middle;\n",
       "    }\n",
       "\n",
       "    .dataframe tbody tr th {\n",
       "        vertical-align: top;\n",
       "    }\n",
       "\n",
       "    .dataframe thead th {\n",
       "        text-align: right;\n",
       "    }\n",
       "</style>\n",
       "<table border=\"1\" class=\"dataframe\">\n",
       "  <thead>\n",
       "    <tr style=\"text-align: right;\">\n",
       "      <th></th>\n",
       "      <th>track</th>\n",
       "      <th>artist</th>\n",
       "      <th>producer</th>\n",
       "      <th>timbre</th>\n",
       "    </tr>\n",
       "  </thead>\n",
       "  <tbody>\n",
       "    <tr>\n",
       "      <th>0</th>\n",
       "      <td>Here Comes the Sun</td>\n",
       "      <td>the Beatles</td>\n",
       "      <td>George Martin</td>\n",
       "      <td>[0.0, 171.13, 9.469, -28.48, 57.491, -50.067, ...</td>\n",
       "    </tr>\n",
       "    <tr>\n",
       "      <th>1</th>\n",
       "      <td>Here Today</td>\n",
       "      <td>Paul McCartney</td>\n",
       "      <td>George Martin</td>\n",
       "      <td>[2.061, 134.583, 6.964, -64.095, 54.755, -47.1...</td>\n",
       "    </tr>\n",
       "    <tr>\n",
       "      <th>2</th>\n",
       "      <td>Here, There and Everywhere</td>\n",
       "      <td>the Beatles</td>\n",
       "      <td>George Martin</td>\n",
       "      <td>[0.0, 171.13, 9.469, -28.48, 57.491, -50.067, ...</td>\n",
       "    </tr>\n",
       "    <tr>\n",
       "      <th>3</th>\n",
       "      <td>Hey Bulldog</td>\n",
       "      <td>the Beatles</td>\n",
       "      <td>George Martin</td>\n",
       "      <td>[0.0, 171.13, 9.469, -28.48, 57.491, -50.067, ...</td>\n",
       "    </tr>\n",
       "    <tr>\n",
       "      <th>4</th>\n",
       "      <td>Hey Jude</td>\n",
       "      <td>the Beatles</td>\n",
       "      <td>George Martin</td>\n",
       "      <td>[30.453, 132.462, 82.292, -312.805, 35.647, 22...</td>\n",
       "    </tr>\n",
       "  </tbody>\n",
       "</table>\n",
       "</div>"
      ],
      "text/plain": [
       "                        track          artist       producer  \\\n",
       "0          Here Comes the Sun     the Beatles  George Martin   \n",
       "1                  Here Today  Paul McCartney  George Martin   \n",
       "2  Here, There and Everywhere     the Beatles  George Martin   \n",
       "3                 Hey Bulldog     the Beatles  George Martin   \n",
       "4                    Hey Jude     the Beatles  George Martin   \n",
       "\n",
       "                                              timbre  \n",
       "0  [0.0, 171.13, 9.469, -28.48, 57.491, -50.067, ...  \n",
       "1  [2.061, 134.583, 6.964, -64.095, 54.755, -47.1...  \n",
       "2  [0.0, 171.13, 9.469, -28.48, 57.491, -50.067, ...  \n",
       "3  [0.0, 171.13, 9.469, -28.48, 57.491, -50.067, ...  \n",
       "4  [30.453, 132.462, 82.292, -312.805, 35.647, 22...  "
      ]
     },
     "execution_count": 34,
     "metadata": {},
     "output_type": "execute_result"
    }
   ],
   "source": [
    "tracks = []\n",
    "artists = []\n",
    "producers = []\n",
    "timbres = []\n",
    "collections = [gm, rr]\n",
    "\n",
    "for collection in collections:\n",
    "    for song in collection:\n",
    "        track = song['track']\n",
    "        artist = song['artist']\n",
    "        producer = song['producer']\n",
    "\n",
    "        timbre_list=[]\n",
    "        for i in range(80):\n",
    "            timbre_list.append(song['audio_analysis']['segments'][i]['timbre'])\n",
    "        timbre = np.concatenate(timbre_list, axis=0)\n",
    "    \n",
    "        tracks.append(track)\n",
    "        artists.append(artist)\n",
    "        producers.append(producer)\n",
    "        timbres.append(timbre)\n",
    "        \n",
    "producer_dict = {}\n",
    "producer_dict['track'] = tracks\n",
    "producer_dict['artist'] = artists\n",
    "producer_dict['producer'] = producers\n",
    "producer_dict['timbre'] = timbres\n",
    "\n",
    "producer_df = pd.DataFrame(producer_dict)\n",
    "\n",
    "producer_df.head()"
   ]
  },
  {
   "cell_type": "code",
   "execution_count": 37,
   "metadata": {},
   "outputs": [
    {
     "data": {
      "text/plain": [
       "Rick Rubin       155\n",
       "George Martin     61\n",
       "Name: producer, dtype: int64"
      ]
     },
     "execution_count": 37,
     "metadata": {},
     "output_type": "execute_result"
    }
   ],
   "source": [
    "producer_df.producer.value_counts()"
   ]
  },
  {
   "cell_type": "code",
   "execution_count": 30,
   "metadata": {},
   "outputs": [
    {
     "data": {
      "text/plain": [
       "array([1, 2, 3, 4, 5, 6, 1, 2, 3])"
      ]
     },
     "execution_count": 30,
     "metadata": {},
     "output_type": "execute_result"
    }
   ],
   "source": [
    "a = [1,2,3]\n",
    "b = [4,5,6]\n",
    "\n",
    "np.concatenate([a,b,a],axis=0)"
   ]
  },
  {
   "cell_type": "code",
   "execution_count": null,
   "metadata": {},
   "outputs": [],
   "source": []
  }
 ],
 "metadata": {
  "kernelspec": {
   "display_name": "Python 3",
   "language": "python",
   "name": "python3"
  },
  "language_info": {
   "codemirror_mode": {
    "name": "ipython",
    "version": 3
   },
   "file_extension": ".py",
   "mimetype": "text/x-python",
   "name": "python",
   "nbconvert_exporter": "python",
   "pygments_lexer": "ipython3",
   "version": "3.7.1"
  }
 },
 "nbformat": 4,
 "nbformat_minor": 2
}
