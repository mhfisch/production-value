{
 "cells": [
  {
   "cell_type": "code",
   "execution_count": 1,
   "metadata": {},
   "outputs": [],
   "source": [
    "# Standard Imports\n",
    "\n",
    "import numpy as np\n",
    "import pandas as pd\n",
    "import os\n",
    "import sys\n",
    "from collections import defaultdict\n",
    "from importlib import reload\n",
    "from bs4 import BeautifulSoup\n",
    "import requests\n",
    "\n",
    "import matplotlib.pyplot as plt\n",
    "%matplotlib inline\n",
    "%config InlineBackend.figure_format = 'retina'\n",
    "\n",
    "\n",
    "# Load MongoDB\n",
    "\n",
    "from pymongo import MongoClient\n",
    "client = MongoClient()\n",
    "# Access/Initiate Database\n",
    "db = client['producer_db']\n",
    "# Access/Initiate Table\n",
    "tab = db['songs']\n",
    "collection = db.tab\n",
    "\n",
    "# Authorize Spotify API\n",
    "\n",
    "import spotipy\n",
    "from spotipy.oauth2 import SpotifyClientCredentials\n",
    "\n",
    "client_id = os.environ['SPOTIFY_CLIENT_ID']\n",
    "client_secret = os.environ['SPOTIFY_CLIENT_SECRET']\n",
    "client_credentials_manager = SpotifyClientCredentials(client_id=client_id, client_secret=client_secret)\n",
    "sp = spotipy.Spotify(client_credentials_manager=client_credentials_manager)"
   ]
  },
  {
   "cell_type": "code",
   "execution_count": 2,
   "metadata": {},
   "outputs": [
    {
     "data": {
      "text/plain": [
       "498"
      ]
     },
     "execution_count": 2,
     "metadata": {},
     "output_type": "execute_result"
    }
   ],
   "source": [
    "len(collection.find_one()['audio_analysis']['segments'])"
   ]
  },
  {
   "cell_type": "markdown",
   "metadata": {},
   "source": [
    "### Gameplan: \n",
    "\n",
    "Make a `timbre` array for every song of size (12,100) by taking the first 100 segments. Make a dictionary where..."
   ]
  },
  {
   "cell_type": "code",
   "execution_count": 3,
   "metadata": {},
   "outputs": [
    {
     "data": {
      "text/plain": [
       "array([1, 2, 3])"
      ]
     },
     "execution_count": 3,
     "metadata": {},
     "output_type": "execute_result"
    }
   ],
   "source": [
    "test_dict = {'colA':[1,2,3],\n",
    "             'colB':[4,5,6],\n",
    "             'colC':['now','we are','done'],\n",
    "             'colD':[np.array([1,2,3]),np.array([1,2,3]),np.array([1,2,3])]}\n",
    "\n",
    "pd.DataFrame(test_dict)['colD'][0]"
   ]
  },
  {
   "cell_type": "code",
   "execution_count": 4,
   "metadata": {},
   "outputs": [],
   "source": [
    "track = collection.find_one()['track']\n",
    "artist = collection.find_one()['artist']\n",
    "producer = collection.find_one()['producer']"
   ]
  },
  {
   "cell_type": "code",
   "execution_count": 5,
   "metadata": {},
   "outputs": [],
   "source": [
    "timbre_list = []\n",
    "\n",
    "for i in range(100):\n",
    "    timbre_list.append(collection.find_one()['audio_analysis']['segments'][i]['timbre'])\n",
    "    \n",
    "timbre = np.stack(timbre_list)"
   ]
  },
  {
   "cell_type": "code",
   "execution_count": 6,
   "metadata": {},
   "outputs": [
    {
     "data": {
      "text/plain": [
       "(1200,)"
      ]
     },
     "execution_count": 6,
     "metadata": {},
     "output_type": "execute_result"
    }
   ],
   "source": [
    "timbre.flatten().shape"
   ]
  },
  {
   "cell_type": "markdown",
   "metadata": {},
   "source": [
    "Let's see if we can use PCA to distinguish between George Martin (ct. 130) and Rick Rubin (ct. 155)"
   ]
  },
  {
   "cell_type": "code",
   "execution_count": 7,
   "metadata": {},
   "outputs": [],
   "source": [
    "gm = collection.find({'producer':'George Martin'})\n",
    "rr = collection.find({'producer':'Rick Rubin'})"
   ]
  },
  {
   "cell_type": "code",
   "execution_count": 8,
   "metadata": {},
   "outputs": [
    {
     "data": {
      "text/html": [
       "<div>\n",
       "<style scoped>\n",
       "    .dataframe tbody tr th:only-of-type {\n",
       "        vertical-align: middle;\n",
       "    }\n",
       "\n",
       "    .dataframe tbody tr th {\n",
       "        vertical-align: top;\n",
       "    }\n",
       "\n",
       "    .dataframe thead th {\n",
       "        text-align: right;\n",
       "    }\n",
       "</style>\n",
       "<table border=\"1\" class=\"dataframe\">\n",
       "  <thead>\n",
       "    <tr style=\"text-align: right;\">\n",
       "      <th></th>\n",
       "      <th>track</th>\n",
       "      <th>artist</th>\n",
       "      <th>producer</th>\n",
       "      <th>timbre</th>\n",
       "    </tr>\n",
       "  </thead>\n",
       "  <tbody>\n",
       "    <tr>\n",
       "      <th>0</th>\n",
       "      <td>12-Bar Original</td>\n",
       "      <td>the Beatles</td>\n",
       "      <td>George Martin</td>\n",
       "      <td>[0.0, 171.13, 9.469, -28.48, 57.491, -50.067, ...</td>\n",
       "    </tr>\n",
       "    <tr>\n",
       "      <th>1</th>\n",
       "      <td>Across the Universe</td>\n",
       "      <td>the Beatles</td>\n",
       "      <td>George Martin</td>\n",
       "      <td>[0.0, 171.13, 9.469, -28.48, 57.491, -50.067, ...</td>\n",
       "    </tr>\n",
       "    <tr>\n",
       "      <th>2</th>\n",
       "      <td>Act Naturally</td>\n",
       "      <td>Buck Owens and the Buckaroos</td>\n",
       "      <td>George Martin</td>\n",
       "      <td>[41.561, 196.927, 110.997, 28.169, 47.868, -31...</td>\n",
       "    </tr>\n",
       "    <tr>\n",
       "      <th>3</th>\n",
       "      <td>Alfie</td>\n",
       "      <td>Cilla Black</td>\n",
       "      <td>George Martin</td>\n",
       "      <td>[0.0, 171.13, 9.469, -28.48, 57.491, -50.067, ...</td>\n",
       "    </tr>\n",
       "    <tr>\n",
       "      <th>4</th>\n",
       "      <td>All I've Got to Do</td>\n",
       "      <td>the Beatles</td>\n",
       "      <td>George Martin</td>\n",
       "      <td>[0.0, 171.13, 9.469, -28.48, 57.491, -50.067, ...</td>\n",
       "    </tr>\n",
       "  </tbody>\n",
       "</table>\n",
       "</div>"
      ],
      "text/plain": [
       "                 track                        artist       producer  \\\n",
       "0      12-Bar Original                   the Beatles  George Martin   \n",
       "1  Across the Universe                   the Beatles  George Martin   \n",
       "2        Act Naturally  Buck Owens and the Buckaroos  George Martin   \n",
       "3                Alfie                   Cilla Black  George Martin   \n",
       "4   All I've Got to Do                   the Beatles  George Martin   \n",
       "\n",
       "                                              timbre  \n",
       "0  [0.0, 171.13, 9.469, -28.48, 57.491, -50.067, ...  \n",
       "1  [0.0, 171.13, 9.469, -28.48, 57.491, -50.067, ...  \n",
       "2  [41.561, 196.927, 110.997, 28.169, 47.868, -31...  \n",
       "3  [0.0, 171.13, 9.469, -28.48, 57.491, -50.067, ...  \n",
       "4  [0.0, 171.13, 9.469, -28.48, 57.491, -50.067, ...  "
      ]
     },
     "execution_count": 8,
     "metadata": {},
     "output_type": "execute_result"
    }
   ],
   "source": [
    "tracks = []\n",
    "artists = []\n",
    "producers = []\n",
    "timbres = []\n",
    "collections = [gm, rr]\n",
    "\n",
    "for collection in collections:\n",
    "    for song in collection:\n",
    "        track = song['track']\n",
    "        artist = song['artist']\n",
    "        producer = song['producer']\n",
    "\n",
    "        timbre_list=[]\n",
    "        for i in range(80):\n",
    "            timbre_list.append(song['audio_analysis']['segments'][i]['timbre'])\n",
    "        timbre = np.concatenate(timbre_list, axis=0)\n",
    "    \n",
    "        tracks.append(track)\n",
    "        artists.append(artist)\n",
    "        producers.append(producer)\n",
    "        timbres.append(timbre)\n",
    "        \n",
    "producer_dict = {}\n",
    "producer_dict['track'] = tracks\n",
    "producer_dict['artist'] = artists\n",
    "producer_dict['producer'] = producers\n",
    "producer_dict['timbre'] = timbres\n",
    "\n",
    "producer_df = pd.DataFrame(producer_dict)\n",
    "\n",
    "producer_df.head()"
   ]
  },
  {
   "cell_type": "code",
   "execution_count": 9,
   "metadata": {},
   "outputs": [
    {
     "data": {
      "text/plain": [
       "George Martin    213\n",
       "Rick Rubin       155\n",
       "Name: producer, dtype: int64"
      ]
     },
     "execution_count": 9,
     "metadata": {},
     "output_type": "execute_result"
    }
   ],
   "source": [
    "producer_df.producer.value_counts()"
   ]
  },
  {
   "cell_type": "code",
   "execution_count": 12,
   "metadata": {},
   "outputs": [
    {
     "name": "stdout",
     "output_type": "stream",
     "text": [
      "<class 'pandas.core.frame.DataFrame'>\n",
      "RangeIndex: 368 entries, 0 to 367\n",
      "Data columns (total 4 columns):\n",
      "track       368 non-null object\n",
      "artist      368 non-null object\n",
      "producer    368 non-null object\n",
      "timbre      368 non-null object\n",
      "dtypes: object(4)\n",
      "memory usage: 11.6+ KB\n"
     ]
    }
   ],
   "source": [
    "producer_df.info()"
   ]
  },
  {
   "cell_type": "code",
   "execution_count": 14,
   "metadata": {},
   "outputs": [
    {
     "data": {
      "text/plain": [
       "0       True\n",
       "1       True\n",
       "2       True\n",
       "3       True\n",
       "4       True\n",
       "5       True\n",
       "6       True\n",
       "7       True\n",
       "8       True\n",
       "9       True\n",
       "10      True\n",
       "11      True\n",
       "12      True\n",
       "13      True\n",
       "14      True\n",
       "15      True\n",
       "16      True\n",
       "17      True\n",
       "18      True\n",
       "19      True\n",
       "20      True\n",
       "21      True\n",
       "22      True\n",
       "23      True\n",
       "24      True\n",
       "25      True\n",
       "26      True\n",
       "27      True\n",
       "28      True\n",
       "29      True\n",
       "       ...  \n",
       "338    False\n",
       "339    False\n",
       "340    False\n",
       "341    False\n",
       "342    False\n",
       "343    False\n",
       "344    False\n",
       "345    False\n",
       "346    False\n",
       "347    False\n",
       "348    False\n",
       "349    False\n",
       "350    False\n",
       "351    False\n",
       "352    False\n",
       "353    False\n",
       "354    False\n",
       "355    False\n",
       "356    False\n",
       "357    False\n",
       "358    False\n",
       "359    False\n",
       "360    False\n",
       "361    False\n",
       "362    False\n",
       "363    False\n",
       "364    False\n",
       "365    False\n",
       "366    False\n",
       "367    False\n",
       "Name: producer, Length: 368, dtype: bool"
      ]
     },
     "execution_count": 14,
     "metadata": {},
     "output_type": "execute_result"
    }
   ],
   "source": [
    "producer_df['producer'] == \"George Martin\" "
   ]
  },
  {
   "cell_type": "code",
   "execution_count": null,
   "metadata": {},
   "outputs": [],
   "source": []
  }
 ],
 "metadata": {
  "kernelspec": {
   "display_name": "Python 3",
   "language": "python",
   "name": "python3"
  },
  "language_info": {
   "codemirror_mode": {
    "name": "ipython",
    "version": 3
   },
   "file_extension": ".py",
   "mimetype": "text/x-python",
   "name": "python",
   "nbconvert_exporter": "python",
   "pygments_lexer": "ipython3",
   "version": "3.7.1"
  }
 },
 "nbformat": 4,
 "nbformat_minor": 2
}
