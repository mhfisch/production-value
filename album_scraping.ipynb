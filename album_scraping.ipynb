{
 "cells": [
  {
   "cell_type": "markdown",
   "metadata": {},
   "source": [
    "# Scraping Spotify Data for All Songs from All Albums by a Producer"
   ]
  },
  {
   "cell_type": "markdown",
   "metadata": {},
   "source": [
    "## End Goal:\n",
    "\n",
    "Take All Pages in Wikipedia's [Category:Albums by producer](https://en.wikipedia.org/wiki/Category:Albums_by_producer) and scrape all album info and then call featurized audio from Spotify's API.\n",
    "\n",
    "\n",
    "### Goal for Today (March 28, 2019):\n",
    "\n",
    "Take a page like Wikipedia's [Category:Albums produced by Rick Rubin](https://en.wikipedia.org/wiki/Category:Albums_produced_by_Rick_Rubin) and return featurized audio from every song on every album in the list."
   ]
  },
  {
   "cell_type": "code",
   "execution_count": 1,
   "metadata": {},
   "outputs": [],
   "source": [
    "# Standard Imports\n",
    "\n",
    "import numpy as np\n",
    "import pandas as pd\n",
    "import os\n",
    "import sys\n",
    "from collections import defaultdict\n",
    "from importlib import reload\n",
    "from bs4 import BeautifulSoup\n",
    "import requests\n",
    "\n",
    "import matplotlib.pyplot as plt\n",
    "%matplotlib inline\n",
    "%config InlineBackend.figure_format = 'retina'\n",
    "\n",
    "\n",
    "# Load MongoDB\n",
    "\n",
    "from pymongo import MongoClient\n",
    "client = MongoClient()\n",
    "# Access/Initiate Database\n",
    "db = client['producer_db']\n",
    "# Access/Initiate Table\n",
    "tab = db['songs']\n",
    "collection = db.tab\n",
    "\n",
    "# Authorize Spotify API\n",
    "\n",
    "import spotipy\n",
    "from spotipy.oauth2 import SpotifyClientCredentials\n",
    "\n",
    "client_id = os.environ['SPOTIFY_CLIENT_ID']\n",
    "client_secret = os.environ['SPOTIFY_CLIENT_SECRET']\n",
    "client_credentials_manager = SpotifyClientCredentials(client_id=client_id, client_secret=client_secret)\n",
    "sp = spotipy.Spotify(client_credentials_manager=client_credentials_manager)"
   ]
  },
  {
   "cell_type": "code",
   "execution_count": 14,
   "metadata": {},
   "outputs": [],
   "source": [
    "def get_category_links(wiki_url):\n",
    "    \"\"\"\n",
    "    Takes a link to a category Wikipedia page and returns a list of urls to the hyperlinks\n",
    "    \"\"\"\n",
    "    \n",
    "    wiki_urls = []\n",
    "    domain = 'https://en.wikipedia.org'\n",
    "    \n",
    "    html = requests.get(wiki_url).content\n",
    "    soup = BeautifulSoup(html, 'html.parser')\n",
    "    \n",
    "    wiki_links = soup.find_all('div', class_=\"mw-category\")[0].find_all('a')\n",
    "    for link in wiki_links:\n",
    "        path = link['href']\n",
    "        url = domain + path\n",
    "        wiki_urls.append(url)\n",
    "        \n",
    "    # check for a \"next page\" button\n",
    "    next_page_url = ''\n",
    "    if soup.find_all('div', {'id':\"mw-subcategories\"}):\n",
    "        next_page_links = soup.find_all('div', {'id':\"mw-subcategories\"})[0].find_all('a') #next page like will be within the first 5 links\n",
    "        for link in next_page_links:\n",
    "            if link.text == 'next page':\n",
    "                next_page_path = link['href']\n",
    "                next_page_url = domain + next_page_path\n",
    "        \n",
    "    # Append links from next pages recursively\n",
    "    if next_page_url: \n",
    "        print('getting links from {}'.format(next_page_url))\n",
    "        next_page_wiki_urls = get_category_links(next_page_url)\n",
    "        wiki_urls = wiki_urls + next_page_wiki_urls\n",
    "    \n",
    "    \n",
    "    return wiki_urls"
   ]
  },
  {
   "cell_type": "code",
   "execution_count": 15,
   "metadata": {},
   "outputs": [
    {
     "name": "stdout",
     "output_type": "stream",
     "text": [
      "getting links from https://en.wikipedia.org/w/index.php?title=Category:Albums_by_producer&subcatfrom=Bellotte%2C+Pete%0AAlbums+produced+by+Pete+Bellotte#mw-subcategories\n",
      "getting links from https://en.wikipedia.org/w/index.php?title=Category:Albums_by_producer&subcatfrom=Chess%2C+Leonard%0AAlbums+produced+by+Leonard+Chess#mw-subcategories\n",
      "getting links from https://en.wikipedia.org/w/index.php?title=Category:Albums_by_producer&subcatfrom=Dj+Premier%0AAlbums+produced+by+DJ+Premier#mw-subcategories\n",
      "getting links from https://en.wikipedia.org/w/index.php?title=Category:Albums_by_producer&subcatfrom=Frayne%2C+George%0AAlbums+produced+by+George+Frayne#mw-subcategories\n",
      "getting links from https://en.wikipedia.org/w/index.php?title=Category:Albums_by_producer&subcatfrom=Hayton%2C+Lennie%0AAlbums+produced+by+Lennie+Hayton#mw-subcategories\n",
      "getting links from https://en.wikipedia.org/w/index.php?title=Category:Albums_by_producer&subcatfrom=Juicy+J%0AAlbums+produced+by+Juicy+J#mw-subcategories\n",
      "getting links from https://en.wikipedia.org/w/index.php?title=Category:Albums_by_producer&subcatfrom=Levine%2C+Stewart%0AAlbums+produced+by+Stewart+Levine#mw-subcategories\n",
      "getting links from https://en.wikipedia.org/w/index.php?title=Category:Albums_by_producer&subcatfrom=Mike+D%0AAlbums+produced+by+Mike+D#mw-subcategories\n",
      "getting links from https://en.wikipedia.org/w/index.php?title=Category:Albums_by_producer&subcatfrom=Pegg%2C+Dave%0AAlbums+produced+by+Dave+Pegg#mw-subcategories\n",
      "getting links from https://en.wikipedia.org/w/index.php?title=Category:Albums_by_producer&subcatfrom=Rose%2C+Wesley%0AAlbums+produced+by+Wesley+Rose#mw-subcategories\n",
      "getting links from https://en.wikipedia.org/w/index.php?title=Category:Albums_by_producer&subcatfrom=Springsteen%2C+Devo%0AAlbums+produced+by+Devo+Springsteen#mw-subcategories\n",
      "getting links from https://en.wikipedia.org/w/index.php?title=Category:Albums_by_producer&subcatfrom=Vaughn%2C+Ben%0AAlbums+produced+by+Ben+Vaughn#mw-subcategories\n"
     ]
    },
    {
     "data": {
      "text/plain": [
       "2581"
      ]
     },
     "execution_count": 15,
     "metadata": {},
     "output_type": "execute_result"
    }
   ],
   "source": [
    "wiki_url2 = 'https://en.wikipedia.org/wiki/Category:Albums_by_producer'\n",
    "links = get_category_links(wiki_url2)\n",
    "len(links)"
   ]
  },
  {
   "cell_type": "code",
   "execution_count": 16,
   "metadata": {},
   "outputs": [
    {
     "data": {
      "text/plain": [
       "['https://en.wikipedia.org/wiki/Category:Albums_produced_by_4th_Disciple',\n",
       " 'https://en.wikipedia.org/wiki/Category:Albums_produced_by_8Ball_%26_MJG',\n",
       " 'https://en.wikipedia.org/wiki/Category:Albums_produced_by_9th_Wonder',\n",
       " 'https://en.wikipedia.org/wiki/Category:Albums_produced_by_The_45_King',\n",
       " 'https://en.wikipedia.org/wiki/Category:Albums_produced_by_88-Keys',\n",
       " 'https://en.wikipedia.org/wiki/Category:Albums_produced_by_Kenny_Aaronson',\n",
       " 'https://en.wikipedia.org/wiki/Category:Albums_produced_by_Jim_Abbiss',\n",
       " 'https://en.wikipedia.org/wiki/Category:Albums_produced_by_Dave_Abbruzzese',\n",
       " 'https://en.wikipedia.org/wiki/Category:Albums_produced_by_Daniel_Abraham_(record_producer)',\n",
       " 'https://en.wikipedia.org/wiki/Category:Albums_produced_by_Josh_Abraham']"
      ]
     },
     "execution_count": 16,
     "metadata": {},
     "output_type": "execute_result"
    }
   ],
   "source": [
    "links[:10]"
   ]
  },
  {
   "cell_type": "code",
   "execution_count": 17,
   "metadata": {},
   "outputs": [],
   "source": [
    "wiki_url = 'https://en.wikipedia.org/wiki/Category:Albums_produced_by_Rick_Rubin'\n",
    "rr_albums = get_category_links(wiki_url)"
   ]
  },
  {
   "cell_type": "code",
   "execution_count": 18,
   "metadata": {},
   "outputs": [
    {
     "data": {
      "text/plain": [
       "['https://en.wikipedia.org/wiki/12_Songs_(Neil_Diamond_album)',\n",
       " 'https://en.wikipedia.org/wiki/13_(Black_Sabbath_album)',\n",
       " 'https://en.wikipedia.org/wiki/21_(Adele_album)',\n",
       " 'https://en.wikipedia.org/wiki/All_World_2',\n",
       " 'https://en.wikipedia.org/wiki/All_World:_Greatest_Hits',\n",
       " 'https://en.wikipedia.org/wiki/American_IV:_The_Man_Comes_Around',\n",
       " 'https://en.wikipedia.org/wiki/American_Grafishy',\n",
       " 'https://en.wikipedia.org/wiki/American_III:_Solitary_Man',\n",
       " 'https://en.wikipedia.org/wiki/American_Recordings_(album)',\n",
       " 'https://en.wikipedia.org/wiki/American_V:_A_Hundred_Highways',\n",
       " 'https://en.wikipedia.org/wiki/American_VI:_Ain%27t_No_Grave',\n",
       " 'https://en.wikipedia.org/wiki/Amethyst_Rock_Star',\n",
       " 'https://en.wikipedia.org/wiki/Angus_%26_Julia_Stone_(album)',\n",
       " 'https://en.wikipedia.org/wiki/Antennas_to_Hell',\n",
       " 'https://en.wikipedia.org/wiki/Anthology:_Through_the_Years',\n",
       " 'https://en.wikipedia.org/wiki/Armed_Love',\n",
       " 'https://en.wikipedia.org/wiki/Artpop',\n",
       " 'https://en.wikipedia.org/wiki/Audioslave_(album)',\n",
       " 'https://en.wikipedia.org/wiki/Back_and_Fourth_(Pete_Yorn_album)',\n",
       " 'https://en.wikipedia.org/wiki/Ballbreaker',\n",
       " 'https://en.wikipedia.org/wiki/A_Better_Tomorrow_(album)',\n",
       " 'https://en.wikipedia.org/wiki/Beyond_Magnetic',\n",
       " 'https://en.wikipedia.org/wiki/The_Black_Album_(Jay-Z_album)',\n",
       " 'https://en.wikipedia.org/wiki/Blood_Sugar_Sex_Magik',\n",
       " 'https://en.wikipedia.org/wiki/Born_Free_(Kid_Rock_album)',\n",
       " 'https://en.wikipedia.org/wiki/Born_to_Die:_The_Paradise_Edition',\n",
       " 'https://en.wikipedia.org/wiki/By_the_Way',\n",
       " 'https://en.wikipedia.org/wiki/Californication_(album)',\n",
       " 'https://en.wikipedia.org/wiki/Chef_Aid:_The_South_Park_Album',\n",
       " 'https://en.wikipedia.org/wiki/Chief_Boot_Knocka',\n",
       " 'https://en.wikipedia.org/wiki/Christ_Illusion',\n",
       " 'https://en.wikipedia.org/wiki/Collected_(Limp_Bizkit_album)',\n",
       " 'https://en.wikipedia.org/wiki/The_Colour_in_Anything',\n",
       " 'https://en.wikipedia.org/wiki/Coordinates_(The_Band_Perry_EP)',\n",
       " 'https://en.wikipedia.org/wiki/The_Cross_of_My_Calling',\n",
       " 'https://en.wikipedia.org/wiki/Crunk_Juice',\n",
       " 'https://en.wikipedia.org/wiki/Dancing_for_the_Death_of_an_Imaginary_Enemy',\n",
       " 'https://en.wikipedia.org/wiki/Danzig_(album)',\n",
       " 'https://en.wikipedia.org/wiki/Danzig_4',\n",
       " 'https://en.wikipedia.org/wiki/Danzig_II:_Lucifuge',\n",
       " 'https://en.wikipedia.org/wiki/Danzig_III:_How_the_Gods_Kill',\n",
       " 'https://en.wikipedia.org/wiki/The_Day_the_Laughter_Died',\n",
       " 'https://en.wikipedia.org/wiki/The_Day_the_Laughter_Died,_Part_II',\n",
       " 'https://en.wikipedia.org/wiki/De-Loused_in_the_Comatorium',\n",
       " 'https://en.wikipedia.org/wiki/Death_Magnetic',\n",
       " 'https://en.wikipedia.org/wiki/Decade_of_Aggression',\n",
       " 'https://en.wikipedia.org/wiki/Diabolus_in_Musica',\n",
       " 'https://en.wikipedia.org/wiki/Divine_Intervention_(album)',\n",
       " 'https://en.wikipedia.org/wiki/Dynamite_Monster_Boogie_Concert',\n",
       " 'https://en.wikipedia.org/wiki/Echo_(Tom_Petty_and_the_Heartbreakers_album)',\n",
       " 'https://en.wikipedia.org/wiki/Electric_(The_Cult_album)',\n",
       " 'https://en.wikipedia.org/wiki/Empty_(God_Lives_Underwater_album)',\n",
       " 'https://en.wikipedia.org/wiki/The_End_(Black_Sabbath_EP)',\n",
       " 'https://en.wikipedia.org/wiki/The_Essential_Bangles',\n",
       " 'https://en.wikipedia.org/wiki/Fijaci%C3%B3n_Oral,_Vol._1',\n",
       " 'https://en.wikipedia.org/wiki/Further_Down_the_Spiral',\n",
       " 'https://en.wikipedia.org/wiki/FutureSex/LoveSounds',\n",
       " 'https://en.wikipedia.org/wiki/The_Geto_Boys_(album)',\n",
       " 'https://en.wikipedia.org/wiki/Give_Up_the_Ghost_(album)',\n",
       " 'https://en.wikipedia.org/wiki/The_Globe_Sessions',\n",
       " 'https://en.wikipedia.org/wiki/God_Hates_Us_All',\n",
       " 'https://en.wikipedia.org/wiki/God_Lives_Underwater_(EP)',\n",
       " 'https://en.wikipedia.org/wiki/The_Great_Adventures_of_Slick_Rick',\n",
       " 'https://en.wikipedia.org/wiki/Greatest_Hits_(Jay-Z_album)',\n",
       " 'https://en.wikipedia.org/wiki/Greatest_Hits_(Red_Hot_Chili_Peppers_album)',\n",
       " 'https://en.wikipedia.org/wiki/Greatest_Hits_(The_Bangles_album)',\n",
       " 'https://en.wikipedia.org/wiki/Greatest_Hits_(Tom_Petty_album)',\n",
       " 'https://en.wikipedia.org/wiki/Greatest_Hitz_(Limp_Bizkit_album)',\n",
       " 'https://en.wikipedia.org/wiki/Heroes_and_Villains_(album)',\n",
       " 'https://en.wikipedia.org/wiki/Home_Before_Dark',\n",
       " 'https://en.wikipedia.org/wiki/Hose_(album)',\n",
       " 'https://en.wikipedia.org/wiki/Hypnotize_(album)',\n",
       " 'https://en.wikipedia.org/wiki/I_and_Love_and_You',\n",
       " 'https://en.wikipedia.org/wiki/I%27m_Beside_You',\n",
       " 'https://en.wikipedia.org/wiki/I%27m_with_You_(album)',\n",
       " 'https://en.wikipedia.org/wiki/I%27m_with_You_Sessions',\n",
       " 'https://en.wikipedia.org/wiki/Icon_(Limp_Bizkit_album)',\n",
       " 'https://en.wikipedia.org/wiki/Illuminations_(Josh_Groban_album)',\n",
       " 'https://en.wikipedia.org/wiki/It_Takes_a_Nation_of_Millions_to_Hold_Us_Back',\n",
       " 'https://en.wikipedia.org/wiki/Jay-Z:_The_Hits_Collection,_Volume_One',\n",
       " 'https://en.wikipedia.org/wiki/Joe_Strummer_%26_the_Mescaleros:_The_Hellcat_Years',\n",
       " 'https://en.wikipedia.org/wiki/King_King_(album)',\n",
       " 'https://en.wikipedia.org/wiki/Krush_Groove',\n",
       " 'https://en.wikipedia.org/wiki/La_Futura',\n",
       " 'https://en.wikipedia.org/wiki/Less_Than_Zero_(soundtrack)',\n",
       " 'https://en.wikipedia.org/wiki/Licensed_to_Ill',\n",
       " 'https://en.wikipedia.org/wiki/The_Life_of_Pablo',\n",
       " 'https://en.wikipedia.org/wiki/Live_at_the_Grand_Olympic_Auditorium',\n",
       " 'https://en.wikipedia.org/wiki/Live_Fast,_Die_Fast',\n",
       " 'https://en.wikipedia.org/wiki/Live_in_Cuba_(Audioslave_album)',\n",
       " 'https://en.wikipedia.org/wiki/Live_Rare_Remix_Box',\n",
       " 'https://en.wikipedia.org/wiki/Living_in_the_Present_Future',\n",
       " 'https://en.wikipedia.org/wiki/Living_Things_(Linkin_Park_album)',\n",
       " 'https://en.wikipedia.org/wiki/The_Lost_Tracks_of_Danzig',\n",
       " 'https://en.wikipedia.org/wiki/Luna_Halo_(album)',\n",
       " 'https://en.wikipedia.org/wiki/Mack_Daddy',\n",
       " 'https://en.wikipedia.org/wiki/Magpie_and_the_Dandelion',\n",
       " 'https://en.wikipedia.org/wiki/Make_Believe_(Weezer_album)',\n",
       " 'https://en.wikipedia.org/wiki/Manic_Frustration',\n",
       " 'https://en.wikipedia.org/wiki/The_Marshall_Mathers_LP_2',\n",
       " 'https://en.wikipedia.org/wiki/Masters_of_Reality_(album)',\n",
       " 'https://en.wikipedia.org/wiki/The_Metallica_Collection',\n",
       " 'https://en.wikipedia.org/wiki/Mezmerize_(album)',\n",
       " 'https://en.wikipedia.org/wiki/Minutes_to_Midnight_(Linkin_Park_album)',\n",
       " 'https://en.wikipedia.org/wiki/Mr._Hankey%27s_Christmas_Classics',\n",
       " 'https://en.wikipedia.org/wiki/Music_for_Men',\n",
       " 'https://en.wikipedia.org/wiki/My_Favourite_Faded_Fantasy',\n",
       " 'https://en.wikipedia.org/wiki/My_Mother%27s_Hymn_Book',\n",
       " 'https://en.wikipedia.org/wiki/Northern_Star_(Melanie_C_album)',\n",
       " 'https://en.wikipedia.org/wiki/O,_Yeah!_Ultimate_Aerosmith_Hits',\n",
       " 'https://en.wikipedia.org/wiki/Ogilala',\n",
       " 'https://en.wikipedia.org/wiki/One_Hot_Minute',\n",
       " 'https://en.wikipedia.org/wiki/Oral_Fixation,_Vol._1_%26_2',\n",
       " 'https://en.wikipedia.org/wiki/Oral_Fixation,_Vol._2',\n",
       " 'https://en.wikipedia.org/wiki/Out_of_Exile',\n",
       " 'https://en.wikipedia.org/wiki/Paloalto_(album)',\n",
       " 'https://en.wikipedia.org/wiki/Paradise_(Lana_Del_Rey_EP)',\n",
       " 'https://en.wikipedia.org/wiki/Peasants,_Pigs_%26_Astronauts',\n",
       " 'https://en.wikipedia.org/wiki/Radio_(LL_Cool_J_album)',\n",
       " 'https://en.wikipedia.org/wiki/Rainy_Day_Music',\n",
       " 'https://en.wikipedia.org/wiki/Raising_Hell_(album)',\n",
       " 'https://en.wikipedia.org/wiki/Recharged_(album)',\n",
       " 'https://en.wikipedia.org/wiki/Reign_in_Blood',\n",
       " 'https://en.wikipedia.org/wiki/Renegades_(Rage_Against_the_Machine_album)',\n",
       " 'https://en.wikipedia.org/wiki/Results_May_Vary',\n",
       " 'https://en.wikipedia.org/wiki/Return_of_the_Bumpasaurus',\n",
       " 'https://en.wikipedia.org/wiki/Revival_(Eminem_album)',\n",
       " 'https://en.wikipedia.org/wiki/Road_Trippin%27_Through_Time',\n",
       " 'https://en.wikipedia.org/wiki/Rock_%26_Roll_Hall_of_Fame_Covers_EP',\n",
       " 'https://en.wikipedia.org/wiki/Seasons_in_the_Abyss',\n",
       " 'https://en.wikipedia.org/wiki/Seeing_Things_(album)',\n",
       " 'https://en.wikipedia.org/wiki/Shake_Your_Money_Maker_(album)',\n",
       " 'https://en.wikipedia.org/wiki/Shangri_La_(Jake_Bugg_album)',\n",
       " 'https://en.wikipedia.org/wiki/Shiny_and_Oh_So_Bright,_Vol._1_/_LP:_No_Past._No_Future._No_Sun.',\n",
       " 'https://en.wikipedia.org/wiki/Solid_Gold_Hits',\n",
       " 'https://en.wikipedia.org/wiki/Songs_and_Music_from_%22She%27s_the_One%22',\n",
       " 'https://en.wikipedia.org/wiki/Soundtrack_to_the_Apocalypse',\n",
       " 'https://en.wikipedia.org/wiki/South_of_Heaven',\n",
       " 'https://en.wikipedia.org/wiki/Stadium_Arcadium',\n",
       " 'https://en.wikipedia.org/wiki/Star_Wars_Headspace',\n",
       " 'https://en.wikipedia.org/wiki/Steal_This_Album!',\n",
       " 'https://en.wikipedia.org/wiki/Streetcore',\n",
       " 'https://en.wikipedia.org/wiki/Studio_Collection_2000%E2%80%932012',\n",
       " 'https://en.wikipedia.org/wiki/Sutras_(album)',\n",
       " 'https://en.wikipedia.org/wiki/System_of_a_Down_(album)',\n",
       " 'https://en.wikipedia.org/wiki/Taking_the_Long_Way',\n",
       " 'https://en.wikipedia.org/wiki/Tell_%27Em_I%27m_Gone',\n",
       " 'https://en.wikipedia.org/wiki/That_Girl_(album)',\n",
       " 'https://en.wikipedia.org/wiki/A_Thousand_Suns',\n",
       " 'https://en.wikipedia.org/wiki/Thrall:_Demonsweatlive',\n",
       " 'https://en.wikipedia.org/wiki/Tougher_Than_Leather',\n",
       " 'https://en.wikipedia.org/wiki/Toxicity_(album)',\n",
       " 'https://en.wikipedia.org/wiki/Trans-Continental_Hustle',\n",
       " 'https://en.wikipedia.org/wiki/Trouble_(Trouble_album)',\n",
       " 'https://en.wikipedia.org/wiki/True_Sadness',\n",
       " 'https://en.wikipedia.org/wiki/U218_Singles',\n",
       " 'https://en.wikipedia.org/wiki/Unchained_(Johnny_Cash_album)',\n",
       " 'https://en.wikipedia.org/wiki/Undisputed_Attitude',\n",
       " 'https://en.wikipedia.org/wiki/Unearthed_(Johnny_Cash_album)',\n",
       " 'https://en.wikipedia.org/wiki/VH1_Storytellers:_Johnny_Cash_%26_Willie_Nelson',\n",
       " 'https://en.wikipedia.org/wiki/Vol._3:_(The_Subliminal_Verses)',\n",
       " 'https://en.wikipedia.org/wiki/Voodoo-U',\n",
       " 'https://en.wikipedia.org/wiki/Walking_with_a_Panther',\n",
       " 'https://en.wikipedia.org/wiki/Wandering_Spirit_(album)',\n",
       " 'https://en.wikipedia.org/wiki/The_War_of_Art_(album)',\n",
       " 'https://en.wikipedia.org/wiki/Weezer_(Red_Album)',\n",
       " 'https://en.wikipedia.org/wiki/Wildflowers_(Tom_Petty_album)',\n",
       " 'https://en.wikipedia.org/wiki/World_Painted_Blood',\n",
       " 'https://en.wikipedia.org/wiki/Yeezus',\n",
       " 'https://en.wikipedia.org/wiki/Yo!_Bum_Rush_the_Show',\n",
       " 'https://en.wikipedia.org/wiki/Young_Lust:_The_Aerosmith_Anthology']"
      ]
     },
     "execution_count": 18,
     "metadata": {},
     "output_type": "execute_result"
    }
   ],
   "source": [
    "rr_albums"
   ]
  },
  {
   "cell_type": "code",
   "execution_count": 19,
   "metadata": {},
   "outputs": [
    {
     "name": "stdout",
     "output_type": "stream",
     "text": [
      "getting links from https://en.wikipedia.org/w/index.php?title=Category:Albums_by_producer&subcatfrom=Bellotte%2C+Pete%0AAlbums+produced+by+Pete+Bellotte#mw-subcategories\n",
      "getting links from https://en.wikipedia.org/w/index.php?title=Category:Albums_by_producer&subcatfrom=Chess%2C+Leonard%0AAlbums+produced+by+Leonard+Chess#mw-subcategories\n",
      "getting links from https://en.wikipedia.org/w/index.php?title=Category:Albums_by_producer&subcatfrom=Dj+Premier%0AAlbums+produced+by+DJ+Premier#mw-subcategories\n",
      "getting links from https://en.wikipedia.org/w/index.php?title=Category:Albums_by_producer&subcatfrom=Frayne%2C+George%0AAlbums+produced+by+George+Frayne#mw-subcategories\n",
      "getting links from https://en.wikipedia.org/w/index.php?title=Category:Albums_by_producer&subcatfrom=Hayton%2C+Lennie%0AAlbums+produced+by+Lennie+Hayton#mw-subcategories\n",
      "getting links from https://en.wikipedia.org/w/index.php?title=Category:Albums_by_producer&subcatfrom=Juicy+J%0AAlbums+produced+by+Juicy+J#mw-subcategories\n",
      "getting links from https://en.wikipedia.org/w/index.php?title=Category:Albums_by_producer&subcatfrom=Levine%2C+Stewart%0AAlbums+produced+by+Stewart+Levine#mw-subcategories\n",
      "getting links from https://en.wikipedia.org/w/index.php?title=Category:Albums_by_producer&subcatfrom=Mike+D%0AAlbums+produced+by+Mike+D#mw-subcategories\n",
      "getting links from https://en.wikipedia.org/w/index.php?title=Category:Albums_by_producer&subcatfrom=Pegg%2C+Dave%0AAlbums+produced+by+Dave+Pegg#mw-subcategories\n",
      "getting links from https://en.wikipedia.org/w/index.php?title=Category:Albums_by_producer&subcatfrom=Rose%2C+Wesley%0AAlbums+produced+by+Wesley+Rose#mw-subcategories\n",
      "getting links from https://en.wikipedia.org/w/index.php?title=Category:Albums_by_producer&subcatfrom=Springsteen%2C+Devo%0AAlbums+produced+by+Devo+Springsteen#mw-subcategories\n",
      "getting links from https://en.wikipedia.org/w/index.php?title=Category:Albums_by_producer&subcatfrom=Vaughn%2C+Ben%0AAlbums+produced+by+Ben+Vaughn#mw-subcategories\n"
     ]
    }
   ],
   "source": [
    "wiki_url2 = 'https://en.wikipedia.org/wiki/Category:Albums_by_producer'\n",
    "links = get_category_links(wiki_url2)"
   ]
  },
  {
   "cell_type": "code",
   "execution_count": 20,
   "metadata": {},
   "outputs": [
    {
     "data": {
      "text/plain": [
       "2581"
      ]
     },
     "execution_count": 20,
     "metadata": {},
     "output_type": "execute_result"
    }
   ],
   "source": [
    "len(links)"
   ]
  },
  {
   "cell_type": "markdown",
   "metadata": {},
   "source": [
    "Cool! We now have a way to get lists of albums. Can Spotify give us a list of songs in an album?"
   ]
  },
  {
   "cell_type": "code",
   "execution_count": 21,
   "metadata": {},
   "outputs": [
    {
     "name": "stdout",
     "output_type": "stream",
     "text": [
      "Drumming Song \t|\t 3DQGus4N9O9lk343trfNno\n",
      "Emotions \t|\t 2yrHacdhmKCntWO8pdfj6t\n",
      "Cry Me a River \t|\t 1rj6DjmbzgIj5muwrRvoX5\n",
      "Renegade \t|\t 2UlAJ40lg23zpfAF2fMhLL\n",
      "Robots \t|\t 4y6RREsxp7FFI0TWvDqkGm\n",
      "Valerie \t|\t 7r9CtQbliORexZwbOMeDgO\n",
      "Gone \t|\t 6SYptf8cpTTsVmmI0GWj2F\n",
      "Forget You \t|\t 0IqTlV1tMqAG7fhnv4xRcZ\n",
      "Mashup (Love the Way You Lie/Dynamite/Teenage Dream) \t|\t 1lZW1mmm6cQlHOG89Uoj4s\n",
      "Sparkling Diamonds \t|\t 12SEa6vgBhlpgwM8F91GQs\n"
     ]
    }
   ],
   "source": [
    "album_id = sp.search(q='album:just in capes',type='album')['albums']['items'][0]['id']\n",
    "for song in sp.album_tracks(album_id)['items']:\n",
    "    print(song['name'], '\\t|\\t', song['id'])"
   ]
  },
  {
   "cell_type": "markdown",
   "metadata": {},
   "source": [
    "Affirmative."
   ]
  },
  {
   "cell_type": "markdown",
   "metadata": {},
   "source": [
    "Two more things to do\n",
    "\n",
    "- Write code that takes an Album page and returns the Album Name and the Artist Name\n",
    "- Write code that takes an Album and Artist name and puts the audio analysis into the mongo DB (without duplicates)"
   ]
  },
  {
   "cell_type": "code",
   "execution_count": 33,
   "metadata": {},
   "outputs": [
    {
     "name": "stdout",
     "output_type": "stream",
     "text": [
      "Peasants, Pigs & Astronauts\n"
     ]
    }
   ],
   "source": [
    "# Find Album Name\n",
    "\n",
    "alb_url = 'https://en.wikipedia.org/wiki/Peasants,_Pigs_%26_Astronauts'\n",
    "alb_html = requests.get(alb_url).content\n",
    "alb_soup = BeautifulSoup(alb_html, 'html.parser')\n",
    "alb_name = alb_soup.find_all('th', class_='summary album')[0].text\n",
    "print(alb_name)"
   ]
  },
  {
   "cell_type": "code",
   "execution_count": 34,
   "metadata": {},
   "outputs": [
    {
     "name": "stdout",
     "output_type": "stream",
     "text": [
      "Great Hosannah \t|\t 4vxsWMxEMbmAPoCVdtUysm\n",
      "Mystical Machine Gun \t|\t 1to0i1rS29pUCdKQjDdMIF\n",
      "S.O.S. \t|\t 39cnQvXueMrwRkBsovBuxW\n",
      "Radhe Radhe \t|\t 1E7wdPm8dsZ6Tz3QjzEnUb\n",
      "I'm Still Here \t|\t 420bdNzSzj0EQI14yiLo0r\n",
      "Shower Your Love - With Shenai \t|\t 3SbocF4Hfqk10f3ZFTkfV8\n",
      "108 Battles (Of The Mind) \t|\t 2m6OoG5j12fu8vnLmNASyZ\n",
      "Sound Of Drums \t|\t 2GBVHsfTYgIT4x5yhToC3S\n",
      "Timeworm \t|\t 0fdNoDw9W5bu1rTiwgBWv8\n",
      "Last Farewell \t|\t 1kJHW1e87MkPhCadtPcfHX\n",
      "Golden Avatar \t|\t 3W0ttwJzW5XSVqO6pmCuWr\n",
      "Namami Nanda-Nandana \t|\t 2LF6nAg7CifHtL3OlYOunG\n",
      "Stotra \t|\t 5WGP42OpPRLk5Jru6DfBnU\n"
     ]
    }
   ],
   "source": [
    "# Can spotify's query handle the comma and ampersand?\n",
    "\n",
    "album_id = sp.search(q='album:{}'.format(alb_name),type='album')['albums']['items'][0]['id']\n",
    "for song in sp.album_tracks(album_id)['items']:\n",
    "    print(song['name'], '\\t|\\t', song['id'])\n",
    "    \n",
    "# That's a 10-4, roger."
   ]
  },
  {
   "cell_type": "markdown",
   "metadata": {},
   "source": [
    "Here's some issues with the data and doing data collection this way.  From wikipedia (**emphasis** mine):\n",
    "\n",
    "> Initial recording sessions for the album were produced by John Leckie but the band soon decided to bring in producers George Drakoulias and Rick Rubin instead.[1] Eventually **Drakoulias and Rubin were rejected by the band and Bob Ezrin was brought in to complete the album.[1] As a result of this, the production credits for the album's lead single, \"Sound of Drums\", name Drakoulias and Rubin as producers, while the rest of Peasants, Pigs & Astronauts is produced by Ezrin.** Like its predecessor, K, the album continues the band's hybrid of 1960s-style psychedelic rock, groovy indie pop, and Indian instrumentation, albeit with a more progressive rock slant than on previous releases.[1] Musically, many of the songs make use of Beatles-influenced psychedelic effects, swirling guitars, and Indian chants.[1] This musical eclecticism prompted the band themselves to refer to Peasants, Pigs & Astronauts as their \"kitchen sink album\".[2]"
   ]
  },
  {
   "cell_type": "code",
   "execution_count": 38,
   "metadata": {},
   "outputs": [
    {
     "data": {
      "text/plain": [
       "'Kula Shaker'"
      ]
     },
     "execution_count": 38,
     "metadata": {},
     "output_type": "execute_result"
    }
   ],
   "source": [
    "# Find Artist Name:\n",
    "\n",
    "alb_url = 'https://en.wikipedia.org/wiki/Peasants,_Pigs_%26_Astronauts'\n",
    "alb_html = requests.get(alb_url).content\n",
    "alb_soup = BeautifulSoup(alb_html, 'html.parser')\n",
    "art_name = alb_soup.find_all('div', class_='contributor')[0].text\n",
    "art_name"
   ]
  },
  {
   "cell_type": "markdown",
   "metadata": {},
   "source": [
    "As a reminder, the MongoDB data form is:\n",
    "\n",
    "            \n",
    "            new_entry = {'track':track,\n",
    "                         'artist':artist,\n",
    "                         'album':album,\n",
    "                         'producer':producer,\n",
    "                         'spotify_id':song_id,\n",
    "                         'track_info':song_info,\n",
    "                         'audio_analysis':song_analysis,\n",
    "                         'audio_features':song_features}"
   ]
  },
  {
   "cell_type": "code",
   "execution_count": 76,
   "metadata": {},
   "outputs": [],
   "source": [
    "\"\"\"Make a function that takes album_url and a spotipy object and returns the tuple \n",
    "(track, artist, album, producer, spotify_id, track_info, audio_analysis, Audio_features)\n",
    "\"\"\"\n",
    "\n",
    "def entry_from_wiki_album(album_url, sp, producer):\n",
    "    album_html = requests.get(album_url).content\n",
    "    alb_soup = BeautifulSoup(album_html, 'html.parser')\n",
    "    \n",
    "    album = alb_soup.find_all('th', class_='summary album')[0].text\n",
    "    artist = alb_soup.find_all('div', class_='contributor')[0].text\n",
    "    album_id = sp.search(q='album:{} artist:{}'.format(album, artist),type='album')['albums']['items'][0]['id']\n",
    "    \n",
    "    album_output = []\n",
    "    \n",
    "    for song in sp.album_tracks(album_id)['items']:\n",
    "        track = song['name']\n",
    "        spotify_id = song['id']\n",
    "        track_info = sp.track(spotify_id)\n",
    "        audio_analysis = sp.audio_analysis(spotify_id)\n",
    "        audio_features = sp.audio_features(spotify_id)\n",
    "        \n",
    "        album_output.append( (track, artist, album, producer, spotify_id, track_info, audio_analysis, audio_features) )\n",
    "        \n",
    "    return album_output"
   ]
  },
  {
   "cell_type": "code",
   "execution_count": 43,
   "metadata": {},
   "outputs": [
    {
     "name": "stdout",
     "output_type": "stream",
     "text": [
      "Time elapsed: 19.37245202064514 seconds\n"
     ]
    }
   ],
   "source": [
    "album_url = 'https://en.wikipedia.org/wiki/Peasants,_Pigs_%26_Astronauts'\n",
    "\n",
    "import time\n",
    "\n",
    "start = time.time()\n",
    "\n",
    "album_output = entry_from_wiki_album(album_url, sp, 'Rick Rubin')\n",
    "\n",
    "end = time.time()\n",
    "\n",
    "print(\"Time elapsed: {} seconds\".format(end - start))"
   ]
  },
  {
   "cell_type": "code",
   "execution_count": 47,
   "metadata": {},
   "outputs": [
    {
     "data": {
      "text/plain": [
       "192"
      ]
     },
     "execution_count": 47,
     "metadata": {},
     "output_type": "execute_result"
    }
   ],
   "source": [
    "# album_output\n",
    "sys.getsizeof(album_output)"
   ]
  },
  {
   "cell_type": "code",
   "execution_count": 49,
   "metadata": {},
   "outputs": [
    {
     "data": {
      "text/plain": [
       "19.597121238708496"
      ]
     },
     "execution_count": 49,
     "metadata": {},
     "output_type": "execute_result"
    }
   ],
   "source": [
    "def get_size(obj, seen=None):\n",
    "    \"\"\"Recursively finds size of objects\"\"\"\n",
    "    size = sys.getsizeof(obj)\n",
    "    if seen is None:\n",
    "        seen = set()\n",
    "    obj_id = id(obj)\n",
    "    if obj_id in seen:\n",
    "        return 0\n",
    "    # Important mark as seen *before* entering recursion to gracefully handle\n",
    "    # self-referential objects\n",
    "    seen.add(obj_id)\n",
    "    if isinstance(obj, dict):\n",
    "        size += sum([get_size(v, seen) for v in obj.values()])\n",
    "        size += sum([get_size(k, seen) for k in obj.keys()])\n",
    "    elif hasattr(obj, '__dict__'):\n",
    "        size += get_size(obj.__dict__, seen)\n",
    "    elif hasattr(obj, '__iter__') and not isinstance(obj, (str, bytes, bytearray)):\n",
    "        size += sum([get_size(i, seen) for i in obj])\n",
    "    return size\n",
    "\n",
    "get_size(album_output)/(2**20)"
   ]
  },
  {
   "cell_type": "markdown",
   "metadata": {},
   "source": [
    "One album is approximately 20Mb worth of data!"
   ]
  },
  {
   "cell_type": "code",
   "execution_count": 52,
   "metadata": {},
   "outputs": [
    {
     "data": {
      "text/plain": [
       "1033.2"
      ]
     },
     "execution_count": 52,
     "metadata": {},
     "output_type": "execute_result"
    }
   ],
   "source": [
    "# Sanity check:\n",
    "\n",
    "2583 * 20 * 20 / 1000 #number of gigabytes of data if I scrape everything. (Approximately)"
   ]
  },
  {
   "cell_type": "code",
   "execution_count": 62,
   "metadata": {},
   "outputs": [
    {
     "data": {
      "text/plain": [
       "0.70400435665649"
      ]
     },
     "execution_count": 62,
     "metadata": {},
     "output_type": "execute_result"
    }
   ],
   "source": [
    "segments = get_size(album_output[0][6]['segments'])\n",
    "song = get_size(album_output[0])\n",
    "segments/song\n",
    "#70% of a song's information is in the segments. Probably doesn't make sense to make the files smaller."
   ]
  },
  {
   "cell_type": "markdown",
   "metadata": {},
   "source": [
    "Now make a script that starts at the Lists of Albums and returns every album URL with producer name:\n"
   ]
  },
  {
   "cell_type": "code",
   "execution_count": 67,
   "metadata": {},
   "outputs": [],
   "source": [
    "def scrape_album_list(producer_url):\n",
    "    \n",
    "    \"\"\"\n",
    "    INPUT: producer_url (wikipedia)\n",
    "    OUTPUT: list of (album_url, producer) tuples\n",
    "    \"\"\"\n",
    "    \n",
    "    html = requests.get(producer_url).content\n",
    "    soup = BeautifulSoup(html, 'html.parser')\n",
    "    producer = soup.find_all('h1', {'id':\"firstHeading\"})[0].text.split('by ')[-1]\n",
    "    print('Producer: {}'.format(producer))\n",
    "    \n",
    "    album_url_list = get_category_links(producer_url)\n",
    "    \n",
    "    output = list(zip( album_url_list, [producer]*len(album_url_list) ))\n",
    "    \n",
    "    return output"
   ]
  },
  {
   "cell_type": "code",
   "execution_count": 66,
   "metadata": {},
   "outputs": [
    {
     "name": "stdout",
     "output_type": "stream",
     "text": [
      "Producer: Rick Rubin\n"
     ]
    },
    {
     "data": {
      "text/plain": [
       "[('https://en.wikipedia.org/wiki/12_Songs_(Neil_Diamond_album)', 'Rick Rubin'),\n",
       " ('https://en.wikipedia.org/wiki/13_(Black_Sabbath_album)', 'Rick Rubin'),\n",
       " ('https://en.wikipedia.org/wiki/21_(Adele_album)', 'Rick Rubin'),\n",
       " ('https://en.wikipedia.org/wiki/All_World_2', 'Rick Rubin'),\n",
       " ('https://en.wikipedia.org/wiki/All_World:_Greatest_Hits', 'Rick Rubin'),\n",
       " ('https://en.wikipedia.org/wiki/American_IV:_The_Man_Comes_Around',\n",
       "  'Rick Rubin'),\n",
       " ('https://en.wikipedia.org/wiki/American_Grafishy', 'Rick Rubin'),\n",
       " ('https://en.wikipedia.org/wiki/American_III:_Solitary_Man', 'Rick Rubin'),\n",
       " ('https://en.wikipedia.org/wiki/American_Recordings_(album)', 'Rick Rubin'),\n",
       " ('https://en.wikipedia.org/wiki/American_V:_A_Hundred_Highways',\n",
       "  'Rick Rubin'),\n",
       " ('https://en.wikipedia.org/wiki/American_VI:_Ain%27t_No_Grave', 'Rick Rubin'),\n",
       " ('https://en.wikipedia.org/wiki/Amethyst_Rock_Star', 'Rick Rubin'),\n",
       " ('https://en.wikipedia.org/wiki/Angus_%26_Julia_Stone_(album)', 'Rick Rubin'),\n",
       " ('https://en.wikipedia.org/wiki/Antennas_to_Hell', 'Rick Rubin'),\n",
       " ('https://en.wikipedia.org/wiki/Anthology:_Through_the_Years', 'Rick Rubin'),\n",
       " ('https://en.wikipedia.org/wiki/Armed_Love', 'Rick Rubin'),\n",
       " ('https://en.wikipedia.org/wiki/Artpop', 'Rick Rubin'),\n",
       " ('https://en.wikipedia.org/wiki/Audioslave_(album)', 'Rick Rubin'),\n",
       " ('https://en.wikipedia.org/wiki/Back_and_Fourth_(Pete_Yorn_album)',\n",
       "  'Rick Rubin'),\n",
       " ('https://en.wikipedia.org/wiki/Ballbreaker', 'Rick Rubin'),\n",
       " ('https://en.wikipedia.org/wiki/A_Better_Tomorrow_(album)', 'Rick Rubin'),\n",
       " ('https://en.wikipedia.org/wiki/Beyond_Magnetic', 'Rick Rubin'),\n",
       " ('https://en.wikipedia.org/wiki/The_Black_Album_(Jay-Z_album)', 'Rick Rubin'),\n",
       " ('https://en.wikipedia.org/wiki/Blood_Sugar_Sex_Magik', 'Rick Rubin'),\n",
       " ('https://en.wikipedia.org/wiki/Born_Free_(Kid_Rock_album)', 'Rick Rubin'),\n",
       " ('https://en.wikipedia.org/wiki/Born_to_Die:_The_Paradise_Edition',\n",
       "  'Rick Rubin'),\n",
       " ('https://en.wikipedia.org/wiki/By_the_Way', 'Rick Rubin'),\n",
       " ('https://en.wikipedia.org/wiki/Californication_(album)', 'Rick Rubin'),\n",
       " ('https://en.wikipedia.org/wiki/Chef_Aid:_The_South_Park_Album',\n",
       "  'Rick Rubin'),\n",
       " ('https://en.wikipedia.org/wiki/Chief_Boot_Knocka', 'Rick Rubin'),\n",
       " ('https://en.wikipedia.org/wiki/Christ_Illusion', 'Rick Rubin'),\n",
       " ('https://en.wikipedia.org/wiki/Collected_(Limp_Bizkit_album)', 'Rick Rubin'),\n",
       " ('https://en.wikipedia.org/wiki/The_Colour_in_Anything', 'Rick Rubin'),\n",
       " ('https://en.wikipedia.org/wiki/Coordinates_(The_Band_Perry_EP)',\n",
       "  'Rick Rubin'),\n",
       " ('https://en.wikipedia.org/wiki/The_Cross_of_My_Calling', 'Rick Rubin'),\n",
       " ('https://en.wikipedia.org/wiki/Crunk_Juice', 'Rick Rubin'),\n",
       " ('https://en.wikipedia.org/wiki/Dancing_for_the_Death_of_an_Imaginary_Enemy',\n",
       "  'Rick Rubin'),\n",
       " ('https://en.wikipedia.org/wiki/Danzig_(album)', 'Rick Rubin'),\n",
       " ('https://en.wikipedia.org/wiki/Danzig_4', 'Rick Rubin'),\n",
       " ('https://en.wikipedia.org/wiki/Danzig_II:_Lucifuge', 'Rick Rubin'),\n",
       " ('https://en.wikipedia.org/wiki/Danzig_III:_How_the_Gods_Kill', 'Rick Rubin'),\n",
       " ('https://en.wikipedia.org/wiki/The_Day_the_Laughter_Died', 'Rick Rubin'),\n",
       " ('https://en.wikipedia.org/wiki/The_Day_the_Laughter_Died,_Part_II',\n",
       "  'Rick Rubin'),\n",
       " ('https://en.wikipedia.org/wiki/De-Loused_in_the_Comatorium', 'Rick Rubin'),\n",
       " ('https://en.wikipedia.org/wiki/Death_Magnetic', 'Rick Rubin'),\n",
       " ('https://en.wikipedia.org/wiki/Decade_of_Aggression', 'Rick Rubin'),\n",
       " ('https://en.wikipedia.org/wiki/Diabolus_in_Musica', 'Rick Rubin'),\n",
       " ('https://en.wikipedia.org/wiki/Divine_Intervention_(album)', 'Rick Rubin'),\n",
       " ('https://en.wikipedia.org/wiki/Dynamite_Monster_Boogie_Concert',\n",
       "  'Rick Rubin'),\n",
       " ('https://en.wikipedia.org/wiki/Echo_(Tom_Petty_and_the_Heartbreakers_album)',\n",
       "  'Rick Rubin'),\n",
       " ('https://en.wikipedia.org/wiki/Electric_(The_Cult_album)', 'Rick Rubin'),\n",
       " ('https://en.wikipedia.org/wiki/Empty_(God_Lives_Underwater_album)',\n",
       "  'Rick Rubin'),\n",
       " ('https://en.wikipedia.org/wiki/The_End_(Black_Sabbath_EP)', 'Rick Rubin'),\n",
       " ('https://en.wikipedia.org/wiki/The_Essential_Bangles', 'Rick Rubin'),\n",
       " ('https://en.wikipedia.org/wiki/Fijaci%C3%B3n_Oral,_Vol._1', 'Rick Rubin'),\n",
       " ('https://en.wikipedia.org/wiki/Further_Down_the_Spiral', 'Rick Rubin'),\n",
       " ('https://en.wikipedia.org/wiki/FutureSex/LoveSounds', 'Rick Rubin'),\n",
       " ('https://en.wikipedia.org/wiki/The_Geto_Boys_(album)', 'Rick Rubin'),\n",
       " ('https://en.wikipedia.org/wiki/Give_Up_the_Ghost_(album)', 'Rick Rubin'),\n",
       " ('https://en.wikipedia.org/wiki/The_Globe_Sessions', 'Rick Rubin'),\n",
       " ('https://en.wikipedia.org/wiki/God_Hates_Us_All', 'Rick Rubin'),\n",
       " ('https://en.wikipedia.org/wiki/God_Lives_Underwater_(EP)', 'Rick Rubin'),\n",
       " ('https://en.wikipedia.org/wiki/The_Great_Adventures_of_Slick_Rick',\n",
       "  'Rick Rubin'),\n",
       " ('https://en.wikipedia.org/wiki/Greatest_Hits_(Jay-Z_album)', 'Rick Rubin'),\n",
       " ('https://en.wikipedia.org/wiki/Greatest_Hits_(Red_Hot_Chili_Peppers_album)',\n",
       "  'Rick Rubin'),\n",
       " ('https://en.wikipedia.org/wiki/Greatest_Hits_(The_Bangles_album)',\n",
       "  'Rick Rubin'),\n",
       " ('https://en.wikipedia.org/wiki/Greatest_Hits_(Tom_Petty_album)',\n",
       "  'Rick Rubin'),\n",
       " ('https://en.wikipedia.org/wiki/Greatest_Hitz_(Limp_Bizkit_album)',\n",
       "  'Rick Rubin'),\n",
       " ('https://en.wikipedia.org/wiki/Heroes_and_Villains_(album)', 'Rick Rubin'),\n",
       " ('https://en.wikipedia.org/wiki/Home_Before_Dark', 'Rick Rubin'),\n",
       " ('https://en.wikipedia.org/wiki/Hose_(album)', 'Rick Rubin'),\n",
       " ('https://en.wikipedia.org/wiki/Hypnotize_(album)', 'Rick Rubin'),\n",
       " ('https://en.wikipedia.org/wiki/I_and_Love_and_You', 'Rick Rubin'),\n",
       " ('https://en.wikipedia.org/wiki/I%27m_Beside_You', 'Rick Rubin'),\n",
       " ('https://en.wikipedia.org/wiki/I%27m_with_You_(album)', 'Rick Rubin'),\n",
       " ('https://en.wikipedia.org/wiki/I%27m_with_You_Sessions', 'Rick Rubin'),\n",
       " ('https://en.wikipedia.org/wiki/Icon_(Limp_Bizkit_album)', 'Rick Rubin'),\n",
       " ('https://en.wikipedia.org/wiki/Illuminations_(Josh_Groban_album)',\n",
       "  'Rick Rubin'),\n",
       " ('https://en.wikipedia.org/wiki/It_Takes_a_Nation_of_Millions_to_Hold_Us_Back',\n",
       "  'Rick Rubin'),\n",
       " ('https://en.wikipedia.org/wiki/Jay-Z:_The_Hits_Collection,_Volume_One',\n",
       "  'Rick Rubin'),\n",
       " ('https://en.wikipedia.org/wiki/Joe_Strummer_%26_the_Mescaleros:_The_Hellcat_Years',\n",
       "  'Rick Rubin'),\n",
       " ('https://en.wikipedia.org/wiki/King_King_(album)', 'Rick Rubin'),\n",
       " ('https://en.wikipedia.org/wiki/Krush_Groove', 'Rick Rubin'),\n",
       " ('https://en.wikipedia.org/wiki/La_Futura', 'Rick Rubin'),\n",
       " ('https://en.wikipedia.org/wiki/Less_Than_Zero_(soundtrack)', 'Rick Rubin'),\n",
       " ('https://en.wikipedia.org/wiki/Licensed_to_Ill', 'Rick Rubin'),\n",
       " ('https://en.wikipedia.org/wiki/The_Life_of_Pablo', 'Rick Rubin'),\n",
       " ('https://en.wikipedia.org/wiki/Live_at_the_Grand_Olympic_Auditorium',\n",
       "  'Rick Rubin'),\n",
       " ('https://en.wikipedia.org/wiki/Live_Fast,_Die_Fast', 'Rick Rubin'),\n",
       " ('https://en.wikipedia.org/wiki/Live_in_Cuba_(Audioslave_album)',\n",
       "  'Rick Rubin'),\n",
       " ('https://en.wikipedia.org/wiki/Live_Rare_Remix_Box', 'Rick Rubin'),\n",
       " ('https://en.wikipedia.org/wiki/Living_in_the_Present_Future', 'Rick Rubin'),\n",
       " ('https://en.wikipedia.org/wiki/Living_Things_(Linkin_Park_album)',\n",
       "  'Rick Rubin'),\n",
       " ('https://en.wikipedia.org/wiki/The_Lost_Tracks_of_Danzig', 'Rick Rubin'),\n",
       " ('https://en.wikipedia.org/wiki/Luna_Halo_(album)', 'Rick Rubin'),\n",
       " ('https://en.wikipedia.org/wiki/Mack_Daddy', 'Rick Rubin'),\n",
       " ('https://en.wikipedia.org/wiki/Magpie_and_the_Dandelion', 'Rick Rubin'),\n",
       " ('https://en.wikipedia.org/wiki/Make_Believe_(Weezer_album)', 'Rick Rubin'),\n",
       " ('https://en.wikipedia.org/wiki/Manic_Frustration', 'Rick Rubin'),\n",
       " ('https://en.wikipedia.org/wiki/The_Marshall_Mathers_LP_2', 'Rick Rubin'),\n",
       " ('https://en.wikipedia.org/wiki/Masters_of_Reality_(album)', 'Rick Rubin'),\n",
       " ('https://en.wikipedia.org/wiki/The_Metallica_Collection', 'Rick Rubin'),\n",
       " ('https://en.wikipedia.org/wiki/Mezmerize_(album)', 'Rick Rubin'),\n",
       " ('https://en.wikipedia.org/wiki/Minutes_to_Midnight_(Linkin_Park_album)',\n",
       "  'Rick Rubin'),\n",
       " ('https://en.wikipedia.org/wiki/Mr._Hankey%27s_Christmas_Classics',\n",
       "  'Rick Rubin'),\n",
       " ('https://en.wikipedia.org/wiki/Music_for_Men', 'Rick Rubin'),\n",
       " ('https://en.wikipedia.org/wiki/My_Favourite_Faded_Fantasy', 'Rick Rubin'),\n",
       " ('https://en.wikipedia.org/wiki/My_Mother%27s_Hymn_Book', 'Rick Rubin'),\n",
       " ('https://en.wikipedia.org/wiki/Northern_Star_(Melanie_C_album)',\n",
       "  'Rick Rubin'),\n",
       " ('https://en.wikipedia.org/wiki/O,_Yeah!_Ultimate_Aerosmith_Hits',\n",
       "  'Rick Rubin'),\n",
       " ('https://en.wikipedia.org/wiki/Ogilala', 'Rick Rubin'),\n",
       " ('https://en.wikipedia.org/wiki/One_Hot_Minute', 'Rick Rubin'),\n",
       " ('https://en.wikipedia.org/wiki/Oral_Fixation,_Vol._1_%26_2', 'Rick Rubin'),\n",
       " ('https://en.wikipedia.org/wiki/Oral_Fixation,_Vol._2', 'Rick Rubin'),\n",
       " ('https://en.wikipedia.org/wiki/Out_of_Exile', 'Rick Rubin'),\n",
       " ('https://en.wikipedia.org/wiki/Paloalto_(album)', 'Rick Rubin'),\n",
       " ('https://en.wikipedia.org/wiki/Paradise_(Lana_Del_Rey_EP)', 'Rick Rubin'),\n",
       " ('https://en.wikipedia.org/wiki/Peasants,_Pigs_%26_Astronauts', 'Rick Rubin'),\n",
       " ('https://en.wikipedia.org/wiki/Radio_(LL_Cool_J_album)', 'Rick Rubin'),\n",
       " ('https://en.wikipedia.org/wiki/Rainy_Day_Music', 'Rick Rubin'),\n",
       " ('https://en.wikipedia.org/wiki/Raising_Hell_(album)', 'Rick Rubin'),\n",
       " ('https://en.wikipedia.org/wiki/Recharged_(album)', 'Rick Rubin'),\n",
       " ('https://en.wikipedia.org/wiki/Reign_in_Blood', 'Rick Rubin'),\n",
       " ('https://en.wikipedia.org/wiki/Renegades_(Rage_Against_the_Machine_album)',\n",
       "  'Rick Rubin'),\n",
       " ('https://en.wikipedia.org/wiki/Results_May_Vary', 'Rick Rubin'),\n",
       " ('https://en.wikipedia.org/wiki/Return_of_the_Bumpasaurus', 'Rick Rubin'),\n",
       " ('https://en.wikipedia.org/wiki/Revival_(Eminem_album)', 'Rick Rubin'),\n",
       " ('https://en.wikipedia.org/wiki/Road_Trippin%27_Through_Time', 'Rick Rubin'),\n",
       " ('https://en.wikipedia.org/wiki/Rock_%26_Roll_Hall_of_Fame_Covers_EP',\n",
       "  'Rick Rubin'),\n",
       " ('https://en.wikipedia.org/wiki/Seasons_in_the_Abyss', 'Rick Rubin'),\n",
       " ('https://en.wikipedia.org/wiki/Seeing_Things_(album)', 'Rick Rubin'),\n",
       " ('https://en.wikipedia.org/wiki/Shake_Your_Money_Maker_(album)',\n",
       "  'Rick Rubin'),\n",
       " ('https://en.wikipedia.org/wiki/Shangri_La_(Jake_Bugg_album)', 'Rick Rubin'),\n",
       " ('https://en.wikipedia.org/wiki/Shiny_and_Oh_So_Bright,_Vol._1_/_LP:_No_Past._No_Future._No_Sun.',\n",
       "  'Rick Rubin'),\n",
       " ('https://en.wikipedia.org/wiki/Solid_Gold_Hits', 'Rick Rubin'),\n",
       " ('https://en.wikipedia.org/wiki/Songs_and_Music_from_%22She%27s_the_One%22',\n",
       "  'Rick Rubin'),\n",
       " ('https://en.wikipedia.org/wiki/Soundtrack_to_the_Apocalypse', 'Rick Rubin'),\n",
       " ('https://en.wikipedia.org/wiki/South_of_Heaven', 'Rick Rubin'),\n",
       " ('https://en.wikipedia.org/wiki/Stadium_Arcadium', 'Rick Rubin'),\n",
       " ('https://en.wikipedia.org/wiki/Star_Wars_Headspace', 'Rick Rubin'),\n",
       " ('https://en.wikipedia.org/wiki/Steal_This_Album!', 'Rick Rubin'),\n",
       " ('https://en.wikipedia.org/wiki/Streetcore', 'Rick Rubin'),\n",
       " ('https://en.wikipedia.org/wiki/Studio_Collection_2000%E2%80%932012',\n",
       "  'Rick Rubin'),\n",
       " ('https://en.wikipedia.org/wiki/Sutras_(album)', 'Rick Rubin'),\n",
       " ('https://en.wikipedia.org/wiki/System_of_a_Down_(album)', 'Rick Rubin'),\n",
       " ('https://en.wikipedia.org/wiki/Taking_the_Long_Way', 'Rick Rubin'),\n",
       " ('https://en.wikipedia.org/wiki/Tell_%27Em_I%27m_Gone', 'Rick Rubin'),\n",
       " ('https://en.wikipedia.org/wiki/That_Girl_(album)', 'Rick Rubin'),\n",
       " ('https://en.wikipedia.org/wiki/A_Thousand_Suns', 'Rick Rubin'),\n",
       " ('https://en.wikipedia.org/wiki/Thrall:_Demonsweatlive', 'Rick Rubin'),\n",
       " ('https://en.wikipedia.org/wiki/Tougher_Than_Leather', 'Rick Rubin'),\n",
       " ('https://en.wikipedia.org/wiki/Toxicity_(album)', 'Rick Rubin'),\n",
       " ('https://en.wikipedia.org/wiki/Trans-Continental_Hustle', 'Rick Rubin'),\n",
       " ('https://en.wikipedia.org/wiki/Trouble_(Trouble_album)', 'Rick Rubin'),\n",
       " ('https://en.wikipedia.org/wiki/True_Sadness', 'Rick Rubin'),\n",
       " ('https://en.wikipedia.org/wiki/U218_Singles', 'Rick Rubin'),\n",
       " ('https://en.wikipedia.org/wiki/Unchained_(Johnny_Cash_album)', 'Rick Rubin'),\n",
       " ('https://en.wikipedia.org/wiki/Undisputed_Attitude', 'Rick Rubin'),\n",
       " ('https://en.wikipedia.org/wiki/Unearthed_(Johnny_Cash_album)', 'Rick Rubin'),\n",
       " ('https://en.wikipedia.org/wiki/VH1_Storytellers:_Johnny_Cash_%26_Willie_Nelson',\n",
       "  'Rick Rubin'),\n",
       " ('https://en.wikipedia.org/wiki/Vol._3:_(The_Subliminal_Verses)',\n",
       "  'Rick Rubin'),\n",
       " ('https://en.wikipedia.org/wiki/Voodoo-U', 'Rick Rubin'),\n",
       " ('https://en.wikipedia.org/wiki/Walking_with_a_Panther', 'Rick Rubin'),\n",
       " ('https://en.wikipedia.org/wiki/Wandering_Spirit_(album)', 'Rick Rubin'),\n",
       " ('https://en.wikipedia.org/wiki/The_War_of_Art_(album)', 'Rick Rubin'),\n",
       " ('https://en.wikipedia.org/wiki/Weezer_(Red_Album)', 'Rick Rubin'),\n",
       " ('https://en.wikipedia.org/wiki/Wildflowers_(Tom_Petty_album)', 'Rick Rubin'),\n",
       " ('https://en.wikipedia.org/wiki/World_Painted_Blood', 'Rick Rubin'),\n",
       " ('https://en.wikipedia.org/wiki/Yeezus', 'Rick Rubin'),\n",
       " ('https://en.wikipedia.org/wiki/Yo!_Bum_Rush_the_Show', 'Rick Rubin'),\n",
       " ('https://en.wikipedia.org/wiki/Young_Lust:_The_Aerosmith_Anthology',\n",
       "  'Rick Rubin')]"
      ]
     },
     "execution_count": 66,
     "metadata": {},
     "output_type": "execute_result"
    }
   ],
   "source": [
    "scrape_album_list('https://en.wikipedia.org/wiki/Category:Albums_produced_by_Rick_Rubin')"
   ]
  },
  {
   "cell_type": "markdown",
   "metadata": {},
   "source": [
    "# Gameplan:\n",
    "\n",
    "    Get producer_url\n",
    "    scrape_album_list(producer_url)\n",
    "    for every album:\n",
    "        album_entry_list = entry_from_wiki_album(album url, sp, producer)\n",
    "        for track in album_entry_list:\n",
    "            update/upsert the database where spotify_id and producer match (some songs may have multiple producers)"
   ]
  },
  {
   "cell_type": "code",
   "execution_count": null,
   "metadata": {},
   "outputs": [],
   "source": [
    "# Load MongoDB\n",
    "\n",
    "from pymongo import MongoClient\n",
    "client = MongoClient()\n",
    "# Access/Initiate Database\n",
    "db = client['producer_db']\n",
    "# Access/Initiate Table\n",
    "tab = db['songs']\n",
    "collection = db.tab"
   ]
  },
  {
   "cell_type": "code",
   "execution_count": 75,
   "metadata": {},
   "outputs": [
    {
     "name": "stdout",
     "output_type": "stream",
     "text": [
      "Producer: Rick Rubin\n",
      "--------------------\n",
      "ALBUM: https://en.wikipedia.org/wiki/12_Songs_(Neil_Diamond_album) -- COMPLETE\n",
      "--------------------\n",
      "\n",
      "\t\tGreat Hosannah by Kula Shaker\n",
      "\t\tMystical Machine Gun by Kula Shaker\n",
      "\t\tS.O.S. by Kula Shaker\n",
      "\t\tRadhe Radhe by Kula Shaker\n",
      "\t\tI'm Still Here by Kula Shaker\n",
      "\t\tShower Your Love - With Shenai by Kula Shaker\n",
      "\t\t108 Battles (Of The Mind) by Kula Shaker\n",
      "\t\tSound Of Drums by Kula Shaker\n",
      "\t\tTimeworm by Kula Shaker\n",
      "\t\tLast Farewell by Kula Shaker\n",
      "\t\tGolden Avatar by Kula Shaker\n",
      "\t\tNamami Nanda-Nandana by Kula Shaker\n",
      "\t\tStotra by Kula Shaker\n",
      "--------------------\n",
      "ALBUM: https://en.wikipedia.org/wiki/13_(Black_Sabbath_album) -- COMPLETE\n",
      "--------------------\n",
      "\n",
      "\t\tGreat Hosannah by Kula Shaker\n",
      "\t\tMystical Machine Gun by Kula Shaker\n",
      "\t\tS.O.S. by Kula Shaker\n",
      "\t\tRadhe Radhe by Kula Shaker\n",
      "\t\tI'm Still Here by Kula Shaker\n",
      "\t\tShower Your Love - With Shenai by Kula Shaker\n",
      "\t\t108 Battles (Of The Mind) by Kula Shaker\n",
      "\t\tSound Of Drums by Kula Shaker\n",
      "\t\tTimeworm by Kula Shaker\n",
      "\t\tLast Farewell by Kula Shaker\n",
      "\t\tGolden Avatar by Kula Shaker\n",
      "\t\tNamami Nanda-Nandana by Kula Shaker\n",
      "\t\tStotra by Kula Shaker\n"
     ]
    },
    {
     "ename": "KeyboardInterrupt",
     "evalue": "",
     "output_type": "error",
     "traceback": [
      "\u001b[0;31m---------------------------------------------------------------------------\u001b[0m",
      "\u001b[0;31mTypeError\u001b[0m                                 Traceback (most recent call last)",
      "\u001b[0;32m~/anaconda3/lib/python3.7/site-packages/urllib3/connectionpool.py\u001b[0m in \u001b[0;36m_make_request\u001b[0;34m(self, conn, method, url, timeout, chunked, **httplib_request_kw)\u001b[0m\n\u001b[1;32m    376\u001b[0m             \u001b[0;32mtry\u001b[0m\u001b[0;34m:\u001b[0m  \u001b[0;31m# Python 2.7, use buffering of HTTP responses\u001b[0m\u001b[0;34m\u001b[0m\u001b[0;34m\u001b[0m\u001b[0m\n\u001b[0;32m--> 377\u001b[0;31m                 \u001b[0mhttplib_response\u001b[0m \u001b[0;34m=\u001b[0m \u001b[0mconn\u001b[0m\u001b[0;34m.\u001b[0m\u001b[0mgetresponse\u001b[0m\u001b[0;34m(\u001b[0m\u001b[0mbuffering\u001b[0m\u001b[0;34m=\u001b[0m\u001b[0;32mTrue\u001b[0m\u001b[0;34m)\u001b[0m\u001b[0;34m\u001b[0m\u001b[0;34m\u001b[0m\u001b[0m\n\u001b[0m\u001b[1;32m    378\u001b[0m             \u001b[0;32mexcept\u001b[0m \u001b[0mTypeError\u001b[0m\u001b[0;34m:\u001b[0m  \u001b[0;31m# Python 3\u001b[0m\u001b[0;34m\u001b[0m\u001b[0;34m\u001b[0m\u001b[0m\n",
      "\u001b[0;31mTypeError\u001b[0m: getresponse() got an unexpected keyword argument 'buffering'",
      "\nDuring handling of the above exception, another exception occurred:\n",
      "\u001b[0;31mKeyboardInterrupt\u001b[0m                         Traceback (most recent call last)",
      "\u001b[0;32m<ipython-input-75-aacad194a90b>\u001b[0m in \u001b[0;36m<module>\u001b[0;34m\u001b[0m\n\u001b[1;32m      4\u001b[0m \u001b[0;34m\u001b[0m\u001b[0m\n\u001b[1;32m      5\u001b[0m \u001b[0;32mfor\u001b[0m \u001b[0mi\u001b[0m\u001b[0;34m,\u001b[0m \u001b[0;34m(\u001b[0m\u001b[0malbum_url\u001b[0m\u001b[0;34m,\u001b[0m \u001b[0mproducer\u001b[0m\u001b[0;34m)\u001b[0m \u001b[0;32min\u001b[0m \u001b[0menumerate\u001b[0m\u001b[0;34m(\u001b[0m\u001b[0malbum_list\u001b[0m\u001b[0;34m)\u001b[0m\u001b[0;34m:\u001b[0m\u001b[0;34m\u001b[0m\u001b[0;34m\u001b[0m\u001b[0m\n\u001b[0;32m----> 6\u001b[0;31m     \u001b[0malbum_entry_list\u001b[0m \u001b[0;34m=\u001b[0m \u001b[0mentry_from_wiki_album\u001b[0m\u001b[0;34m(\u001b[0m\u001b[0malbum_url\u001b[0m\u001b[0;34m,\u001b[0m \u001b[0msp\u001b[0m\u001b[0;34m,\u001b[0m \u001b[0mproducer\u001b[0m\u001b[0;34m)\u001b[0m\u001b[0;34m\u001b[0m\u001b[0;34m\u001b[0m\u001b[0m\n\u001b[0m\u001b[1;32m      7\u001b[0m     \u001b[0malbum_name\u001b[0m \u001b[0;34m=\u001b[0m \u001b[0malbum_url\u001b[0m\u001b[0;34m\u001b[0m\u001b[0;34m\u001b[0m\u001b[0m\n\u001b[1;32m      8\u001b[0m     \u001b[0mprint\u001b[0m\u001b[0;34m(\u001b[0m\u001b[0;34m'-'\u001b[0m\u001b[0;34m*\u001b[0m\u001b[0;36m20\u001b[0m\u001b[0;34m)\u001b[0m\u001b[0;34m\u001b[0m\u001b[0;34m\u001b[0m\u001b[0m\n",
      "\u001b[0;32m<ipython-input-39-96418e2b20be>\u001b[0m in \u001b[0;36mentry_from_wiki_album\u001b[0;34m(album_url, sp, producer)\u001b[0m\n\u001b[1;32m     17\u001b[0m         \u001b[0mspotify_id\u001b[0m \u001b[0;34m=\u001b[0m \u001b[0msong\u001b[0m\u001b[0;34m[\u001b[0m\u001b[0;34m'id'\u001b[0m\u001b[0;34m]\u001b[0m\u001b[0;34m\u001b[0m\u001b[0;34m\u001b[0m\u001b[0m\n\u001b[1;32m     18\u001b[0m         \u001b[0mtrack_info\u001b[0m \u001b[0;34m=\u001b[0m \u001b[0msp\u001b[0m\u001b[0;34m.\u001b[0m\u001b[0mtrack\u001b[0m\u001b[0;34m(\u001b[0m\u001b[0mspotify_id\u001b[0m\u001b[0;34m)\u001b[0m\u001b[0;34m\u001b[0m\u001b[0;34m\u001b[0m\u001b[0m\n\u001b[0;32m---> 19\u001b[0;31m         \u001b[0maudio_analysis\u001b[0m \u001b[0;34m=\u001b[0m \u001b[0msp\u001b[0m\u001b[0;34m.\u001b[0m\u001b[0maudio_analysis\u001b[0m\u001b[0;34m(\u001b[0m\u001b[0mspotify_id\u001b[0m\u001b[0;34m)\u001b[0m\u001b[0;34m\u001b[0m\u001b[0;34m\u001b[0m\u001b[0m\n\u001b[0m\u001b[1;32m     20\u001b[0m         \u001b[0maudio_features\u001b[0m \u001b[0;34m=\u001b[0m \u001b[0msp\u001b[0m\u001b[0;34m.\u001b[0m\u001b[0maudio_features\u001b[0m\u001b[0;34m(\u001b[0m\u001b[0mspotify_id\u001b[0m\u001b[0;34m)\u001b[0m\u001b[0;34m\u001b[0m\u001b[0;34m\u001b[0m\u001b[0m\n\u001b[1;32m     21\u001b[0m \u001b[0;34m\u001b[0m\u001b[0m\n",
      "\u001b[0;32m~/anaconda3/lib/python3.7/site-packages/spotipy/client.py\u001b[0m in \u001b[0;36maudio_analysis\u001b[0;34m(self, id)\u001b[0m\n\u001b[1;32m    841\u001b[0m         '''\n\u001b[1;32m    842\u001b[0m         \u001b[0mid\u001b[0m \u001b[0;34m=\u001b[0m \u001b[0mself\u001b[0m\u001b[0;34m.\u001b[0m\u001b[0m_get_id\u001b[0m\u001b[0;34m(\u001b[0m\u001b[0;34m'track'\u001b[0m\u001b[0;34m,\u001b[0m \u001b[0mid\u001b[0m\u001b[0;34m)\u001b[0m\u001b[0;34m\u001b[0m\u001b[0;34m\u001b[0m\u001b[0m\n\u001b[0;32m--> 843\u001b[0;31m         \u001b[0;32mreturn\u001b[0m \u001b[0mself\u001b[0m\u001b[0;34m.\u001b[0m\u001b[0m_get\u001b[0m\u001b[0;34m(\u001b[0m\u001b[0;34m'audio-analysis/'\u001b[0m\u001b[0;34m+\u001b[0m\u001b[0mid\u001b[0m\u001b[0;34m)\u001b[0m\u001b[0;34m\u001b[0m\u001b[0;34m\u001b[0m\u001b[0m\n\u001b[0m\u001b[1;32m    844\u001b[0m \u001b[0;34m\u001b[0m\u001b[0m\n\u001b[1;32m    845\u001b[0m     \u001b[0;32mdef\u001b[0m \u001b[0m_get_id\u001b[0m\u001b[0;34m(\u001b[0m\u001b[0mself\u001b[0m\u001b[0;34m,\u001b[0m \u001b[0mtype\u001b[0m\u001b[0;34m,\u001b[0m \u001b[0mid\u001b[0m\u001b[0;34m)\u001b[0m\u001b[0;34m:\u001b[0m\u001b[0;34m\u001b[0m\u001b[0;34m\u001b[0m\u001b[0m\n",
      "\u001b[0;32m~/anaconda3/lib/python3.7/site-packages/spotipy/client.py\u001b[0m in \u001b[0;36m_get\u001b[0;34m(self, url, args, payload, **kwargs)\u001b[0m\n\u001b[1;32m    144\u001b[0m         \u001b[0;32mwhile\u001b[0m \u001b[0mretries\u001b[0m \u001b[0;34m>\u001b[0m \u001b[0;36m0\u001b[0m\u001b[0;34m:\u001b[0m\u001b[0;34m\u001b[0m\u001b[0;34m\u001b[0m\u001b[0m\n\u001b[1;32m    145\u001b[0m             \u001b[0;32mtry\u001b[0m\u001b[0;34m:\u001b[0m\u001b[0;34m\u001b[0m\u001b[0;34m\u001b[0m\u001b[0m\n\u001b[0;32m--> 146\u001b[0;31m                 \u001b[0;32mreturn\u001b[0m \u001b[0mself\u001b[0m\u001b[0;34m.\u001b[0m\u001b[0m_internal_call\u001b[0m\u001b[0;34m(\u001b[0m\u001b[0;34m'GET'\u001b[0m\u001b[0;34m,\u001b[0m \u001b[0murl\u001b[0m\u001b[0;34m,\u001b[0m \u001b[0mpayload\u001b[0m\u001b[0;34m,\u001b[0m \u001b[0mkwargs\u001b[0m\u001b[0;34m)\u001b[0m\u001b[0;34m\u001b[0m\u001b[0;34m\u001b[0m\u001b[0m\n\u001b[0m\u001b[1;32m    147\u001b[0m             \u001b[0;32mexcept\u001b[0m \u001b[0mSpotifyException\u001b[0m \u001b[0;32mas\u001b[0m \u001b[0me\u001b[0m\u001b[0;34m:\u001b[0m\u001b[0;34m\u001b[0m\u001b[0;34m\u001b[0m\u001b[0m\n\u001b[1;32m    148\u001b[0m                 \u001b[0mretries\u001b[0m \u001b[0;34m-=\u001b[0m \u001b[0;36m1\u001b[0m\u001b[0;34m\u001b[0m\u001b[0;34m\u001b[0m\u001b[0m\n",
      "\u001b[0;32m~/anaconda3/lib/python3.7/site-packages/spotipy/client.py\u001b[0m in \u001b[0;36m_internal_call\u001b[0;34m(self, method, url, payload, params)\u001b[0m\n\u001b[1;32m    106\u001b[0m         \u001b[0;32mif\u001b[0m \u001b[0mself\u001b[0m\u001b[0;34m.\u001b[0m\u001b[0mtrace_out\u001b[0m\u001b[0;34m:\u001b[0m\u001b[0;34m\u001b[0m\u001b[0;34m\u001b[0m\u001b[0m\n\u001b[1;32m    107\u001b[0m             \u001b[0mprint\u001b[0m\u001b[0;34m(\u001b[0m\u001b[0murl\u001b[0m\u001b[0;34m)\u001b[0m\u001b[0;34m\u001b[0m\u001b[0;34m\u001b[0m\u001b[0m\n\u001b[0;32m--> 108\u001b[0;31m         \u001b[0mr\u001b[0m \u001b[0;34m=\u001b[0m \u001b[0mself\u001b[0m\u001b[0;34m.\u001b[0m\u001b[0m_session\u001b[0m\u001b[0;34m.\u001b[0m\u001b[0mrequest\u001b[0m\u001b[0;34m(\u001b[0m\u001b[0mmethod\u001b[0m\u001b[0;34m,\u001b[0m \u001b[0murl\u001b[0m\u001b[0;34m,\u001b[0m \u001b[0mheaders\u001b[0m\u001b[0;34m=\u001b[0m\u001b[0mheaders\u001b[0m\u001b[0;34m,\u001b[0m \u001b[0mproxies\u001b[0m\u001b[0;34m=\u001b[0m\u001b[0mself\u001b[0m\u001b[0;34m.\u001b[0m\u001b[0mproxies\u001b[0m\u001b[0;34m,\u001b[0m \u001b[0;34m**\u001b[0m\u001b[0margs\u001b[0m\u001b[0;34m)\u001b[0m\u001b[0;34m\u001b[0m\u001b[0;34m\u001b[0m\u001b[0m\n\u001b[0m\u001b[1;32m    109\u001b[0m \u001b[0;34m\u001b[0m\u001b[0m\n\u001b[1;32m    110\u001b[0m         \u001b[0;32mif\u001b[0m \u001b[0mself\u001b[0m\u001b[0;34m.\u001b[0m\u001b[0mtrace\u001b[0m\u001b[0;34m:\u001b[0m  \u001b[0;31m# pragma: no cover\u001b[0m\u001b[0;34m\u001b[0m\u001b[0;34m\u001b[0m\u001b[0m\n",
      "\u001b[0;32m~/anaconda3/lib/python3.7/site-packages/requests/sessions.py\u001b[0m in \u001b[0;36mrequest\u001b[0;34m(self, method, url, params, data, headers, cookies, files, auth, timeout, allow_redirects, proxies, hooks, stream, verify, cert, json)\u001b[0m\n\u001b[1;32m    531\u001b[0m         }\n\u001b[1;32m    532\u001b[0m         \u001b[0msend_kwargs\u001b[0m\u001b[0;34m.\u001b[0m\u001b[0mupdate\u001b[0m\u001b[0;34m(\u001b[0m\u001b[0msettings\u001b[0m\u001b[0;34m)\u001b[0m\u001b[0;34m\u001b[0m\u001b[0;34m\u001b[0m\u001b[0m\n\u001b[0;32m--> 533\u001b[0;31m         \u001b[0mresp\u001b[0m \u001b[0;34m=\u001b[0m \u001b[0mself\u001b[0m\u001b[0;34m.\u001b[0m\u001b[0msend\u001b[0m\u001b[0;34m(\u001b[0m\u001b[0mprep\u001b[0m\u001b[0;34m,\u001b[0m \u001b[0;34m**\u001b[0m\u001b[0msend_kwargs\u001b[0m\u001b[0;34m)\u001b[0m\u001b[0;34m\u001b[0m\u001b[0;34m\u001b[0m\u001b[0m\n\u001b[0m\u001b[1;32m    534\u001b[0m \u001b[0;34m\u001b[0m\u001b[0m\n\u001b[1;32m    535\u001b[0m         \u001b[0;32mreturn\u001b[0m \u001b[0mresp\u001b[0m\u001b[0;34m\u001b[0m\u001b[0;34m\u001b[0m\u001b[0m\n",
      "\u001b[0;32m~/anaconda3/lib/python3.7/site-packages/requests/sessions.py\u001b[0m in \u001b[0;36msend\u001b[0;34m(self, request, **kwargs)\u001b[0m\n\u001b[1;32m    644\u001b[0m \u001b[0;34m\u001b[0m\u001b[0m\n\u001b[1;32m    645\u001b[0m         \u001b[0;31m# Send the request\u001b[0m\u001b[0;34m\u001b[0m\u001b[0;34m\u001b[0m\u001b[0;34m\u001b[0m\u001b[0m\n\u001b[0;32m--> 646\u001b[0;31m         \u001b[0mr\u001b[0m \u001b[0;34m=\u001b[0m \u001b[0madapter\u001b[0m\u001b[0;34m.\u001b[0m\u001b[0msend\u001b[0m\u001b[0;34m(\u001b[0m\u001b[0mrequest\u001b[0m\u001b[0;34m,\u001b[0m \u001b[0;34m**\u001b[0m\u001b[0mkwargs\u001b[0m\u001b[0;34m)\u001b[0m\u001b[0;34m\u001b[0m\u001b[0;34m\u001b[0m\u001b[0m\n\u001b[0m\u001b[1;32m    647\u001b[0m \u001b[0;34m\u001b[0m\u001b[0m\n\u001b[1;32m    648\u001b[0m         \u001b[0;31m# Total elapsed time of the request (approximately)\u001b[0m\u001b[0;34m\u001b[0m\u001b[0;34m\u001b[0m\u001b[0;34m\u001b[0m\u001b[0m\n",
      "\u001b[0;32m~/anaconda3/lib/python3.7/site-packages/requests/adapters.py\u001b[0m in \u001b[0;36msend\u001b[0;34m(self, request, stream, timeout, verify, cert, proxies)\u001b[0m\n\u001b[1;32m    447\u001b[0m                     \u001b[0mdecode_content\u001b[0m\u001b[0;34m=\u001b[0m\u001b[0;32mFalse\u001b[0m\u001b[0;34m,\u001b[0m\u001b[0;34m\u001b[0m\u001b[0;34m\u001b[0m\u001b[0m\n\u001b[1;32m    448\u001b[0m                     \u001b[0mretries\u001b[0m\u001b[0;34m=\u001b[0m\u001b[0mself\u001b[0m\u001b[0;34m.\u001b[0m\u001b[0mmax_retries\u001b[0m\u001b[0;34m,\u001b[0m\u001b[0;34m\u001b[0m\u001b[0;34m\u001b[0m\u001b[0m\n\u001b[0;32m--> 449\u001b[0;31m                     \u001b[0mtimeout\u001b[0m\u001b[0;34m=\u001b[0m\u001b[0mtimeout\u001b[0m\u001b[0;34m\u001b[0m\u001b[0;34m\u001b[0m\u001b[0m\n\u001b[0m\u001b[1;32m    450\u001b[0m                 )\n\u001b[1;32m    451\u001b[0m \u001b[0;34m\u001b[0m\u001b[0m\n",
      "\u001b[0;32m~/anaconda3/lib/python3.7/site-packages/urllib3/connectionpool.py\u001b[0m in \u001b[0;36murlopen\u001b[0;34m(self, method, url, body, headers, retries, redirect, assert_same_host, timeout, pool_timeout, release_conn, chunked, body_pos, **response_kw)\u001b[0m\n\u001b[1;32m    598\u001b[0m                                                   \u001b[0mtimeout\u001b[0m\u001b[0;34m=\u001b[0m\u001b[0mtimeout_obj\u001b[0m\u001b[0;34m,\u001b[0m\u001b[0;34m\u001b[0m\u001b[0;34m\u001b[0m\u001b[0m\n\u001b[1;32m    599\u001b[0m                                                   \u001b[0mbody\u001b[0m\u001b[0;34m=\u001b[0m\u001b[0mbody\u001b[0m\u001b[0;34m,\u001b[0m \u001b[0mheaders\u001b[0m\u001b[0;34m=\u001b[0m\u001b[0mheaders\u001b[0m\u001b[0;34m,\u001b[0m\u001b[0;34m\u001b[0m\u001b[0;34m\u001b[0m\u001b[0m\n\u001b[0;32m--> 600\u001b[0;31m                                                   chunked=chunked)\n\u001b[0m\u001b[1;32m    601\u001b[0m \u001b[0;34m\u001b[0m\u001b[0m\n\u001b[1;32m    602\u001b[0m             \u001b[0;31m# If we're going to release the connection in ``finally:``, then\u001b[0m\u001b[0;34m\u001b[0m\u001b[0;34m\u001b[0m\u001b[0;34m\u001b[0m\u001b[0m\n",
      "\u001b[0;32m~/anaconda3/lib/python3.7/site-packages/urllib3/connectionpool.py\u001b[0m in \u001b[0;36m_make_request\u001b[0;34m(self, conn, method, url, timeout, chunked, **httplib_request_kw)\u001b[0m\n\u001b[1;32m    378\u001b[0m             \u001b[0;32mexcept\u001b[0m \u001b[0mTypeError\u001b[0m\u001b[0;34m:\u001b[0m  \u001b[0;31m# Python 3\u001b[0m\u001b[0;34m\u001b[0m\u001b[0;34m\u001b[0m\u001b[0m\n\u001b[1;32m    379\u001b[0m                 \u001b[0;32mtry\u001b[0m\u001b[0;34m:\u001b[0m\u001b[0;34m\u001b[0m\u001b[0;34m\u001b[0m\u001b[0m\n\u001b[0;32m--> 380\u001b[0;31m                     \u001b[0mhttplib_response\u001b[0m \u001b[0;34m=\u001b[0m \u001b[0mconn\u001b[0m\u001b[0;34m.\u001b[0m\u001b[0mgetresponse\u001b[0m\u001b[0;34m(\u001b[0m\u001b[0;34m)\u001b[0m\u001b[0;34m\u001b[0m\u001b[0;34m\u001b[0m\u001b[0m\n\u001b[0m\u001b[1;32m    381\u001b[0m                 \u001b[0;32mexcept\u001b[0m \u001b[0mException\u001b[0m \u001b[0;32mas\u001b[0m \u001b[0me\u001b[0m\u001b[0;34m:\u001b[0m\u001b[0;34m\u001b[0m\u001b[0;34m\u001b[0m\u001b[0m\n\u001b[1;32m    382\u001b[0m                     \u001b[0;31m# Remove the TypeError from the exception chain in Python 3;\u001b[0m\u001b[0;34m\u001b[0m\u001b[0;34m\u001b[0m\u001b[0;34m\u001b[0m\u001b[0m\n",
      "\u001b[0;32m~/anaconda3/lib/python3.7/http/client.py\u001b[0m in \u001b[0;36mgetresponse\u001b[0;34m(self)\u001b[0m\n\u001b[1;32m   1319\u001b[0m         \u001b[0;32mtry\u001b[0m\u001b[0;34m:\u001b[0m\u001b[0;34m\u001b[0m\u001b[0;34m\u001b[0m\u001b[0m\n\u001b[1;32m   1320\u001b[0m             \u001b[0;32mtry\u001b[0m\u001b[0;34m:\u001b[0m\u001b[0;34m\u001b[0m\u001b[0;34m\u001b[0m\u001b[0m\n\u001b[0;32m-> 1321\u001b[0;31m                 \u001b[0mresponse\u001b[0m\u001b[0;34m.\u001b[0m\u001b[0mbegin\u001b[0m\u001b[0;34m(\u001b[0m\u001b[0;34m)\u001b[0m\u001b[0;34m\u001b[0m\u001b[0;34m\u001b[0m\u001b[0m\n\u001b[0m\u001b[1;32m   1322\u001b[0m             \u001b[0;32mexcept\u001b[0m \u001b[0mConnectionError\u001b[0m\u001b[0;34m:\u001b[0m\u001b[0;34m\u001b[0m\u001b[0;34m\u001b[0m\u001b[0m\n\u001b[1;32m   1323\u001b[0m                 \u001b[0mself\u001b[0m\u001b[0;34m.\u001b[0m\u001b[0mclose\u001b[0m\u001b[0;34m(\u001b[0m\u001b[0;34m)\u001b[0m\u001b[0;34m\u001b[0m\u001b[0;34m\u001b[0m\u001b[0m\n",
      "\u001b[0;32m~/anaconda3/lib/python3.7/http/client.py\u001b[0m in \u001b[0;36mbegin\u001b[0;34m(self)\u001b[0m\n\u001b[1;32m    294\u001b[0m         \u001b[0;31m# read until we get a non-100 response\u001b[0m\u001b[0;34m\u001b[0m\u001b[0;34m\u001b[0m\u001b[0;34m\u001b[0m\u001b[0m\n\u001b[1;32m    295\u001b[0m         \u001b[0;32mwhile\u001b[0m \u001b[0;32mTrue\u001b[0m\u001b[0;34m:\u001b[0m\u001b[0;34m\u001b[0m\u001b[0;34m\u001b[0m\u001b[0m\n\u001b[0;32m--> 296\u001b[0;31m             \u001b[0mversion\u001b[0m\u001b[0;34m,\u001b[0m \u001b[0mstatus\u001b[0m\u001b[0;34m,\u001b[0m \u001b[0mreason\u001b[0m \u001b[0;34m=\u001b[0m \u001b[0mself\u001b[0m\u001b[0;34m.\u001b[0m\u001b[0m_read_status\u001b[0m\u001b[0;34m(\u001b[0m\u001b[0;34m)\u001b[0m\u001b[0;34m\u001b[0m\u001b[0;34m\u001b[0m\u001b[0m\n\u001b[0m\u001b[1;32m    297\u001b[0m             \u001b[0;32mif\u001b[0m \u001b[0mstatus\u001b[0m \u001b[0;34m!=\u001b[0m \u001b[0mCONTINUE\u001b[0m\u001b[0;34m:\u001b[0m\u001b[0;34m\u001b[0m\u001b[0;34m\u001b[0m\u001b[0m\n\u001b[1;32m    298\u001b[0m                 \u001b[0;32mbreak\u001b[0m\u001b[0;34m\u001b[0m\u001b[0;34m\u001b[0m\u001b[0m\n",
      "\u001b[0;32m~/anaconda3/lib/python3.7/http/client.py\u001b[0m in \u001b[0;36m_read_status\u001b[0;34m(self)\u001b[0m\n\u001b[1;32m    255\u001b[0m \u001b[0;34m\u001b[0m\u001b[0m\n\u001b[1;32m    256\u001b[0m     \u001b[0;32mdef\u001b[0m \u001b[0m_read_status\u001b[0m\u001b[0;34m(\u001b[0m\u001b[0mself\u001b[0m\u001b[0;34m)\u001b[0m\u001b[0;34m:\u001b[0m\u001b[0;34m\u001b[0m\u001b[0;34m\u001b[0m\u001b[0m\n\u001b[0;32m--> 257\u001b[0;31m         \u001b[0mline\u001b[0m \u001b[0;34m=\u001b[0m \u001b[0mstr\u001b[0m\u001b[0;34m(\u001b[0m\u001b[0mself\u001b[0m\u001b[0;34m.\u001b[0m\u001b[0mfp\u001b[0m\u001b[0;34m.\u001b[0m\u001b[0mreadline\u001b[0m\u001b[0;34m(\u001b[0m\u001b[0m_MAXLINE\u001b[0m \u001b[0;34m+\u001b[0m \u001b[0;36m1\u001b[0m\u001b[0;34m)\u001b[0m\u001b[0;34m,\u001b[0m \u001b[0;34m\"iso-8859-1\"\u001b[0m\u001b[0;34m)\u001b[0m\u001b[0;34m\u001b[0m\u001b[0;34m\u001b[0m\u001b[0m\n\u001b[0m\u001b[1;32m    258\u001b[0m         \u001b[0;32mif\u001b[0m \u001b[0mlen\u001b[0m\u001b[0;34m(\u001b[0m\u001b[0mline\u001b[0m\u001b[0;34m)\u001b[0m \u001b[0;34m>\u001b[0m \u001b[0m_MAXLINE\u001b[0m\u001b[0;34m:\u001b[0m\u001b[0;34m\u001b[0m\u001b[0;34m\u001b[0m\u001b[0m\n\u001b[1;32m    259\u001b[0m             \u001b[0;32mraise\u001b[0m \u001b[0mLineTooLong\u001b[0m\u001b[0;34m(\u001b[0m\u001b[0;34m\"status line\"\u001b[0m\u001b[0;34m)\u001b[0m\u001b[0;34m\u001b[0m\u001b[0;34m\u001b[0m\u001b[0m\n",
      "\u001b[0;32m~/anaconda3/lib/python3.7/socket.py\u001b[0m in \u001b[0;36mreadinto\u001b[0;34m(self, b)\u001b[0m\n\u001b[1;32m    587\u001b[0m         \u001b[0;32mwhile\u001b[0m \u001b[0;32mTrue\u001b[0m\u001b[0;34m:\u001b[0m\u001b[0;34m\u001b[0m\u001b[0;34m\u001b[0m\u001b[0m\n\u001b[1;32m    588\u001b[0m             \u001b[0;32mtry\u001b[0m\u001b[0;34m:\u001b[0m\u001b[0;34m\u001b[0m\u001b[0;34m\u001b[0m\u001b[0m\n\u001b[0;32m--> 589\u001b[0;31m                 \u001b[0;32mreturn\u001b[0m \u001b[0mself\u001b[0m\u001b[0;34m.\u001b[0m\u001b[0m_sock\u001b[0m\u001b[0;34m.\u001b[0m\u001b[0mrecv_into\u001b[0m\u001b[0;34m(\u001b[0m\u001b[0mb\u001b[0m\u001b[0;34m)\u001b[0m\u001b[0;34m\u001b[0m\u001b[0;34m\u001b[0m\u001b[0m\n\u001b[0m\u001b[1;32m    590\u001b[0m             \u001b[0;32mexcept\u001b[0m \u001b[0mtimeout\u001b[0m\u001b[0;34m:\u001b[0m\u001b[0;34m\u001b[0m\u001b[0;34m\u001b[0m\u001b[0m\n\u001b[1;32m    591\u001b[0m                 \u001b[0mself\u001b[0m\u001b[0;34m.\u001b[0m\u001b[0m_timeout_occurred\u001b[0m \u001b[0;34m=\u001b[0m \u001b[0;32mTrue\u001b[0m\u001b[0;34m\u001b[0m\u001b[0;34m\u001b[0m\u001b[0m\n",
      "\u001b[0;32m~/anaconda3/lib/python3.7/site-packages/urllib3/contrib/pyopenssl.py\u001b[0m in \u001b[0;36mrecv_into\u001b[0;34m(self, *args, **kwargs)\u001b[0m\n\u001b[1;32m    292\u001b[0m     \u001b[0;32mdef\u001b[0m \u001b[0mrecv_into\u001b[0m\u001b[0;34m(\u001b[0m\u001b[0mself\u001b[0m\u001b[0;34m,\u001b[0m \u001b[0;34m*\u001b[0m\u001b[0margs\u001b[0m\u001b[0;34m,\u001b[0m \u001b[0;34m**\u001b[0m\u001b[0mkwargs\u001b[0m\u001b[0;34m)\u001b[0m\u001b[0;34m:\u001b[0m\u001b[0;34m\u001b[0m\u001b[0;34m\u001b[0m\u001b[0m\n\u001b[1;32m    293\u001b[0m         \u001b[0;32mtry\u001b[0m\u001b[0;34m:\u001b[0m\u001b[0;34m\u001b[0m\u001b[0;34m\u001b[0m\u001b[0m\n\u001b[0;32m--> 294\u001b[0;31m             \u001b[0;32mreturn\u001b[0m \u001b[0mself\u001b[0m\u001b[0;34m.\u001b[0m\u001b[0mconnection\u001b[0m\u001b[0;34m.\u001b[0m\u001b[0mrecv_into\u001b[0m\u001b[0;34m(\u001b[0m\u001b[0;34m*\u001b[0m\u001b[0margs\u001b[0m\u001b[0;34m,\u001b[0m \u001b[0;34m**\u001b[0m\u001b[0mkwargs\u001b[0m\u001b[0;34m)\u001b[0m\u001b[0;34m\u001b[0m\u001b[0;34m\u001b[0m\u001b[0m\n\u001b[0m\u001b[1;32m    295\u001b[0m         \u001b[0;32mexcept\u001b[0m \u001b[0mOpenSSL\u001b[0m\u001b[0;34m.\u001b[0m\u001b[0mSSL\u001b[0m\u001b[0;34m.\u001b[0m\u001b[0mSysCallError\u001b[0m \u001b[0;32mas\u001b[0m \u001b[0me\u001b[0m\u001b[0;34m:\u001b[0m\u001b[0;34m\u001b[0m\u001b[0;34m\u001b[0m\u001b[0m\n\u001b[1;32m    296\u001b[0m             \u001b[0;32mif\u001b[0m \u001b[0mself\u001b[0m\u001b[0;34m.\u001b[0m\u001b[0msuppress_ragged_eofs\u001b[0m \u001b[0;32mand\u001b[0m \u001b[0me\u001b[0m\u001b[0;34m.\u001b[0m\u001b[0margs\u001b[0m \u001b[0;34m==\u001b[0m \u001b[0;34m(\u001b[0m\u001b[0;34m-\u001b[0m\u001b[0;36m1\u001b[0m\u001b[0;34m,\u001b[0m \u001b[0;34m'Unexpected EOF'\u001b[0m\u001b[0;34m)\u001b[0m\u001b[0;34m:\u001b[0m\u001b[0;34m\u001b[0m\u001b[0;34m\u001b[0m\u001b[0m\n",
      "\u001b[0;32m~/anaconda3/lib/python3.7/site-packages/OpenSSL/SSL.py\u001b[0m in \u001b[0;36mrecv_into\u001b[0;34m(self, buffer, nbytes, flags)\u001b[0m\n\u001b[1;32m   1811\u001b[0m             \u001b[0mresult\u001b[0m \u001b[0;34m=\u001b[0m \u001b[0m_lib\u001b[0m\u001b[0;34m.\u001b[0m\u001b[0mSSL_peek\u001b[0m\u001b[0;34m(\u001b[0m\u001b[0mself\u001b[0m\u001b[0;34m.\u001b[0m\u001b[0m_ssl\u001b[0m\u001b[0;34m,\u001b[0m \u001b[0mbuf\u001b[0m\u001b[0;34m,\u001b[0m \u001b[0mnbytes\u001b[0m\u001b[0;34m)\u001b[0m\u001b[0;34m\u001b[0m\u001b[0;34m\u001b[0m\u001b[0m\n\u001b[1;32m   1812\u001b[0m         \u001b[0;32melse\u001b[0m\u001b[0;34m:\u001b[0m\u001b[0;34m\u001b[0m\u001b[0;34m\u001b[0m\u001b[0m\n\u001b[0;32m-> 1813\u001b[0;31m             \u001b[0mresult\u001b[0m \u001b[0;34m=\u001b[0m \u001b[0m_lib\u001b[0m\u001b[0;34m.\u001b[0m\u001b[0mSSL_read\u001b[0m\u001b[0;34m(\u001b[0m\u001b[0mself\u001b[0m\u001b[0;34m.\u001b[0m\u001b[0m_ssl\u001b[0m\u001b[0;34m,\u001b[0m \u001b[0mbuf\u001b[0m\u001b[0;34m,\u001b[0m \u001b[0mnbytes\u001b[0m\u001b[0;34m)\u001b[0m\u001b[0;34m\u001b[0m\u001b[0;34m\u001b[0m\u001b[0m\n\u001b[0m\u001b[1;32m   1814\u001b[0m         \u001b[0mself\u001b[0m\u001b[0;34m.\u001b[0m\u001b[0m_raise_ssl_error\u001b[0m\u001b[0;34m(\u001b[0m\u001b[0mself\u001b[0m\u001b[0;34m.\u001b[0m\u001b[0m_ssl\u001b[0m\u001b[0;34m,\u001b[0m \u001b[0mresult\u001b[0m\u001b[0;34m)\u001b[0m\u001b[0;34m\u001b[0m\u001b[0;34m\u001b[0m\u001b[0m\n\u001b[1;32m   1815\u001b[0m \u001b[0;34m\u001b[0m\u001b[0m\n",
      "\u001b[0;31mKeyboardInterrupt\u001b[0m: "
     ]
    }
   ],
   "source": [
    "producer_url = 'https://en.wikipedia.org/wiki/Category:Albums_produced_by_Rick_Rubin'\n",
    "\n",
    "album_list = scrape_album_list(producer_url)\n",
    "\n",
    "for i, (album_url, producer) in enumerate(album_list):\n",
    "    album_entry_list = entry_from_wiki_album(album_url, sp, producer)\n",
    "    album_name = album_entry_list[i][2]\n",
    "    print('-'*20)\n",
    "    print('ALBUM: {} -- COMPLETE'.format(album_name))\n",
    "    print('-'*20)\n",
    "    print()\n",
    "    for track, artist, album, producer, spotify_id, track_info, audio_analysis, audio_features in album_entry_list:\n",
    "        myquery = { \"producer\": producer,\n",
    "                    \"spotify_id\" : spotify_id }\n",
    "        \n",
    "        newvalues = { \"$set\": {'track':track,\n",
    "                               'artist':artist,\n",
    "                               'album':album,\n",
    "                               'producer':producer,\n",
    "                               'spotify_id':spotify_id,\n",
    "                               'track_info':track_info,\n",
    "                               'audio_analysis':audio_analysis,\n",
    "                               'audio_features':audio_features\n",
    "                              }\n",
    "                    }\n",
    "        \n",
    "        collection.update_one(myquery, newvalues, upsert = True)\n",
    "        \n",
    "        print('\\t\\t{} by {}'.format(track,artist))"
   ]
  },
  {
   "cell_type": "code",
   "execution_count": 73,
   "metadata": {},
   "outputs": [
    {
     "name": "stdout",
     "output_type": "stream",
     "text": [
      "0 1 2\n",
      "1 3 4\n"
     ]
    }
   ],
   "source": [
    "mlist = [(1,2),(3,4)]\n",
    "for i, (a,b) in enumerate(mlist):\n",
    "    print (i, a, b)"
   ]
  },
  {
   "cell_type": "code",
   "execution_count": null,
   "metadata": {},
   "outputs": [],
   "source": []
  }
 ],
 "metadata": {
  "kernelspec": {
   "display_name": "Python 3",
   "language": "python",
   "name": "python3"
  },
  "language_info": {
   "codemirror_mode": {
    "name": "ipython",
    "version": 3
   },
   "file_extension": ".py",
   "mimetype": "text/x-python",
   "name": "python",
   "nbconvert_exporter": "python",
   "pygments_lexer": "ipython3",
   "version": "3.7.1"
  }
 },
 "nbformat": 4,
 "nbformat_minor": 2
}
