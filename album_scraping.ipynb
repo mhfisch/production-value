{
 "cells": [
  {
   "cell_type": "markdown",
   "metadata": {},
   "source": [
    "# Scraping Spotify Data for All Songs from All Albums by a Producer"
   ]
  },
  {
   "cell_type": "markdown",
   "metadata": {},
   "source": [
    "## End Goal:\n",
    "\n",
    "Take All Pages in Wikipedia's [Category:Albums by producer](https://en.wikipedia.org/wiki/Category:Albums_by_producer) and scrape all album info and then call featurized audio from Spotify's API.\n",
    "\n",
    "\n",
    "### Goal for Today (March 28, 2019):\n",
    "\n",
    "Take a page like Wikipedia's [Category:Albums produced by Rick Rubin](https://en.wikipedia.org/wiki/Category:Albums_produced_by_Rick_Rubin) and return featurized audio from every song on every album in the list."
   ]
  },
  {
   "cell_type": "code",
   "execution_count": 1,
   "metadata": {},
   "outputs": [],
   "source": [
    "# Standard Imports\n",
    "\n",
    "import numpy as np\n",
    "import pandas as pd\n",
    "import os\n",
    "import sys\n",
    "from collections import defaultdict\n",
    "from importlib import reload\n",
    "from bs4 import BeautifulSoup\n",
    "import requests\n",
    "\n",
    "import matplotlib.pyplot as plt\n",
    "%matplotlib inline\n",
    "%config InlineBackend.figure_format = 'retina'\n",
    "\n",
    "\n",
    "# Load MongoDB\n",
    "\n",
    "from pymongo import MongoClient\n",
    "client = MongoClient()\n",
    "# Access/Initiate Database\n",
    "db = client['producer_db']\n",
    "# Access/Initiate Table\n",
    "tab = db['songs']\n",
    "collection = db.tab\n",
    "\n",
    "# Authorize Spotify API\n",
    "\n",
    "import spotipy\n",
    "from spotipy.oauth2 import SpotifyClientCredentials\n",
    "\n",
    "client_id = os.environ['SPOTIFY_CLIENT_ID']\n",
    "client_secret = os.environ['SPOTIFY_CLIENT_SECRET']\n",
    "client_credentials_manager = SpotifyClientCredentials(client_id=client_id, client_secret=client_secret)\n",
    "sp = spotipy.Spotify(client_credentials_manager=client_credentials_manager)"
   ]
  },
  {
   "cell_type": "code",
   "execution_count": 31,
   "metadata": {},
   "outputs": [],
   "source": [
    "def get_category_links(wiki_url):\n",
    "    \"\"\"\n",
    "    Takes a link to a category Wikipedia page and returns a list of urls to the hyperlinks\n",
    "    \"\"\"\n",
    "    \n",
    "    wiki_urls = []\n",
    "    domain = 'https://en.wikipedia.org'\n",
    "    \n",
    "    html = requests.get(wiki_url).content\n",
    "    soup = BeautifulSoup(html, 'html.parser')\n",
    "    \n",
    "    wiki_links = soup.find_all('div', class_=\"mw-category\")[0].find_all('a')\n",
    "    for link in wiki_links:\n",
    "        path = link['href']\n",
    "        url = domain + path\n",
    "        wiki_urls.append(url)\n",
    "        \n",
    "    # check for a \"next page\" button\n",
    "    next_page_url = ''\n",
    "    next_page_links = soup.find_all('div', {'id':\"mw-subcategories\"})[0].find_all('a')[:5] #next page like will be within the first 5 links\n",
    "    for link in next_page_links:\n",
    "        if link.text == 'next page':\n",
    "            next_page_path = link['href']\n",
    "            next_page_url = domain + next_page_path\n",
    "        \n",
    "    # Append links from next pages recursively\n",
    "    if next_page_url: \n",
    "        print('getting links from {}'.format(next_page_url))\n",
    "        next_page_wiki_urls = get_category_links(next_page_url)\n",
    "        wiki_urls = wiki_urls + next_page_wiki_urls\n",
    "    \n",
    "    \n",
    "    return wiki_urls"
   ]
  },
  {
   "cell_type": "code",
   "execution_count": 32,
   "metadata": {},
   "outputs": [
    {
     "name": "stdout",
     "output_type": "stream",
     "text": [
      "getting links from https://en.wikipedia.org/w/index.php?title=Category:Albums_by_producer&subcatfrom=Bellotte%2C+Pete%0AAlbums+produced+by+Pete+Bellotte#mw-subcategories\n",
      "getting links from https://en.wikipedia.org/w/index.php?title=Category:Albums_by_producer&subcatfrom=Chess%2C+Leonard%0AAlbums+produced+by+Leonard+Chess#mw-subcategories\n",
      "getting links from https://en.wikipedia.org/w/index.php?title=Category:Albums_by_producer&subcatfrom=Dj+Premier%0AAlbums+produced+by+DJ+Premier#mw-subcategories\n",
      "getting links from https://en.wikipedia.org/w/index.php?title=Category:Albums_by_producer&subcatfrom=Frayne%2C+George%0AAlbums+produced+by+George+Frayne#mw-subcategories\n",
      "getting links from https://en.wikipedia.org/w/index.php?title=Category:Albums_by_producer&subcatfrom=Hayton%2C+Lennie%0AAlbums+produced+by+Lennie+Hayton#mw-subcategories\n",
      "getting links from https://en.wikipedia.org/w/index.php?title=Category:Albums_by_producer&subcatfrom=Juicy+J%0AAlbums+produced+by+Juicy+J#mw-subcategories\n",
      "getting links from https://en.wikipedia.org/w/index.php?title=Category:Albums_by_producer&subcatfrom=Levine%2C+Stewart%0AAlbums+produced+by+Stewart+Levine#mw-subcategories\n",
      "getting links from https://en.wikipedia.org/w/index.php?title=Category:Albums_by_producer&subcatfrom=Mike+D%0AAlbums+produced+by+Mike+D#mw-subcategories\n",
      "getting links from https://en.wikipedia.org/w/index.php?title=Category:Albums_by_producer&subcatfrom=Pegg%2C+Dave%0AAlbums+produced+by+Dave+Pegg#mw-subcategories\n",
      "getting links from https://en.wikipedia.org/w/index.php?title=Category:Albums_by_producer&subcatfrom=Rose%2C+Wesley%0AAlbums+produced+by+Wesley+Rose#mw-subcategories\n",
      "getting links from https://en.wikipedia.org/w/index.php?title=Category:Albums_by_producer&subcatfrom=Springsteen%2C+Devo%0AAlbums+produced+by+Devo+Springsteen#mw-subcategories\n",
      "getting links from https://en.wikipedia.org/w/index.php?title=Category:Albums_by_producer&subcatfrom=Vaughn%2C+Ben%0AAlbums+produced+by+Ben+Vaughn#mw-subcategories\n"
     ]
    },
    {
     "data": {
      "text/plain": [
       "2581"
      ]
     },
     "execution_count": 32,
     "metadata": {},
     "output_type": "execute_result"
    }
   ],
   "source": [
    "wiki_url2 = 'https://en.wikipedia.org/wiki/Category:Albums_by_producer'\n",
    "links = get_category_links(wiki_url2)\n",
    "len(links)"
   ]
  },
  {
   "cell_type": "code",
   "execution_count": 33,
   "metadata": {},
   "outputs": [
    {
     "data": {
      "text/plain": [
       "['https://en.wikipedia.org/wiki/Category:Albums_produced_by_4th_Disciple',\n",
       " 'https://en.wikipedia.org/wiki/Category:Albums_produced_by_8Ball_%26_MJG',\n",
       " 'https://en.wikipedia.org/wiki/Category:Albums_produced_by_9th_Wonder',\n",
       " 'https://en.wikipedia.org/wiki/Category:Albums_produced_by_The_45_King',\n",
       " 'https://en.wikipedia.org/wiki/Category:Albums_produced_by_88-Keys',\n",
       " 'https://en.wikipedia.org/wiki/Category:Albums_produced_by_Kenny_Aaronson',\n",
       " 'https://en.wikipedia.org/wiki/Category:Albums_produced_by_Jim_Abbiss',\n",
       " 'https://en.wikipedia.org/wiki/Category:Albums_produced_by_Dave_Abbruzzese',\n",
       " 'https://en.wikipedia.org/wiki/Category:Albums_produced_by_Daniel_Abraham_(record_producer)',\n",
       " 'https://en.wikipedia.org/wiki/Category:Albums_produced_by_Josh_Abraham']"
      ]
     },
     "execution_count": 33,
     "metadata": {},
     "output_type": "execute_result"
    }
   ],
   "source": [
    "links[:10]"
   ]
  },
  {
   "cell_type": "code",
   "execution_count": 16,
   "metadata": {},
   "outputs": [
    {
     "name": "stdout",
     "output_type": "stream",
     "text": [
      "/w/index.php?title=Category:Albums_by_producer&subcatfrom=Chess%2C+Leonard%0AAlbums+produced+by+Leonard+Chess#mw-subcategories next page\n"
     ]
    }
   ],
   "source": [
    "wiki_url = 'https://en.wikipedia.org/w/index.php?title=Category:Albums_by_producer&subcatfrom=Bellotte%2C+Pete%0AAlbums+produced+by+Pete+Bellotte#mw-subcategories'\n",
    "wiki_urls = []\n",
    "domain = 'https://en.wikipedia.org'\n",
    "\n",
    "html = requests.get(wiki_url).content\n",
    "soup = BeautifulSoup(html, 'html.parser')\n",
    "\n",
    "wiki_links = soup.find_all('div', {'id':\"mw-subcategories\"})[0].find_all('a')[:5]\n",
    "\n",
    "for link in wiki_links:\n",
    "    if link.text == 'next page':\n",
    "        print (link['href'], link.text)"
   ]
  },
  {
   "cell_type": "code",
   "execution_count": 6,
   "metadata": {},
   "outputs": [],
   "source": [
    "wiki_url = 'https://en.wikipedia.org/wiki/Category:Albums_produced_by_Rick_Rubin'\n",
    "rr_albums = get_category_links(wiki_url)"
   ]
  },
  {
   "cell_type": "code",
   "execution_count": 7,
   "metadata": {},
   "outputs": [
    {
     "data": {
      "text/plain": [
       "['https://en.wikipedia.org/wiki/12_Songs_(Neil_Diamond_album)',\n",
       " 'https://en.wikipedia.org/wiki/13_(Black_Sabbath_album)',\n",
       " 'https://en.wikipedia.org/wiki/21_(Adele_album)',\n",
       " 'https://en.wikipedia.org/wiki/All_World_2',\n",
       " 'https://en.wikipedia.org/wiki/All_World:_Greatest_Hits',\n",
       " 'https://en.wikipedia.org/wiki/American_IV:_The_Man_Comes_Around',\n",
       " 'https://en.wikipedia.org/wiki/American_Grafishy',\n",
       " 'https://en.wikipedia.org/wiki/American_III:_Solitary_Man',\n",
       " 'https://en.wikipedia.org/wiki/American_Recordings_(album)',\n",
       " 'https://en.wikipedia.org/wiki/American_V:_A_Hundred_Highways',\n",
       " 'https://en.wikipedia.org/wiki/American_VI:_Ain%27t_No_Grave',\n",
       " 'https://en.wikipedia.org/wiki/Amethyst_Rock_Star',\n",
       " 'https://en.wikipedia.org/wiki/Angus_%26_Julia_Stone_(album)',\n",
       " 'https://en.wikipedia.org/wiki/Antennas_to_Hell',\n",
       " 'https://en.wikipedia.org/wiki/Anthology:_Through_the_Years',\n",
       " 'https://en.wikipedia.org/wiki/Armed_Love',\n",
       " 'https://en.wikipedia.org/wiki/Artpop',\n",
       " 'https://en.wikipedia.org/wiki/Audioslave_(album)',\n",
       " 'https://en.wikipedia.org/wiki/Back_and_Fourth_(Pete_Yorn_album)',\n",
       " 'https://en.wikipedia.org/wiki/Ballbreaker',\n",
       " 'https://en.wikipedia.org/wiki/A_Better_Tomorrow_(album)',\n",
       " 'https://en.wikipedia.org/wiki/Beyond_Magnetic',\n",
       " 'https://en.wikipedia.org/wiki/The_Black_Album_(Jay-Z_album)',\n",
       " 'https://en.wikipedia.org/wiki/Blood_Sugar_Sex_Magik',\n",
       " 'https://en.wikipedia.org/wiki/Born_Free_(Kid_Rock_album)',\n",
       " 'https://en.wikipedia.org/wiki/Born_to_Die:_The_Paradise_Edition',\n",
       " 'https://en.wikipedia.org/wiki/By_the_Way',\n",
       " 'https://en.wikipedia.org/wiki/Californication_(album)',\n",
       " 'https://en.wikipedia.org/wiki/Chef_Aid:_The_South_Park_Album',\n",
       " 'https://en.wikipedia.org/wiki/Chief_Boot_Knocka',\n",
       " 'https://en.wikipedia.org/wiki/Christ_Illusion',\n",
       " 'https://en.wikipedia.org/wiki/Collected_(Limp_Bizkit_album)',\n",
       " 'https://en.wikipedia.org/wiki/The_Colour_in_Anything',\n",
       " 'https://en.wikipedia.org/wiki/Coordinates_(The_Band_Perry_EP)',\n",
       " 'https://en.wikipedia.org/wiki/The_Cross_of_My_Calling',\n",
       " 'https://en.wikipedia.org/wiki/Crunk_Juice',\n",
       " 'https://en.wikipedia.org/wiki/Dancing_for_the_Death_of_an_Imaginary_Enemy',\n",
       " 'https://en.wikipedia.org/wiki/Danzig_(album)',\n",
       " 'https://en.wikipedia.org/wiki/Danzig_4',\n",
       " 'https://en.wikipedia.org/wiki/Danzig_II:_Lucifuge',\n",
       " 'https://en.wikipedia.org/wiki/Danzig_III:_How_the_Gods_Kill',\n",
       " 'https://en.wikipedia.org/wiki/The_Day_the_Laughter_Died',\n",
       " 'https://en.wikipedia.org/wiki/The_Day_the_Laughter_Died,_Part_II',\n",
       " 'https://en.wikipedia.org/wiki/De-Loused_in_the_Comatorium',\n",
       " 'https://en.wikipedia.org/wiki/Death_Magnetic',\n",
       " 'https://en.wikipedia.org/wiki/Decade_of_Aggression',\n",
       " 'https://en.wikipedia.org/wiki/Diabolus_in_Musica',\n",
       " 'https://en.wikipedia.org/wiki/Divine_Intervention_(album)',\n",
       " 'https://en.wikipedia.org/wiki/Dynamite_Monster_Boogie_Concert',\n",
       " 'https://en.wikipedia.org/wiki/Echo_(Tom_Petty_and_the_Heartbreakers_album)',\n",
       " 'https://en.wikipedia.org/wiki/Electric_(The_Cult_album)',\n",
       " 'https://en.wikipedia.org/wiki/Empty_(God_Lives_Underwater_album)',\n",
       " 'https://en.wikipedia.org/wiki/The_End_(Black_Sabbath_EP)',\n",
       " 'https://en.wikipedia.org/wiki/The_Essential_Bangles',\n",
       " 'https://en.wikipedia.org/wiki/Fijaci%C3%B3n_Oral,_Vol._1',\n",
       " 'https://en.wikipedia.org/wiki/Further_Down_the_Spiral',\n",
       " 'https://en.wikipedia.org/wiki/FutureSex/LoveSounds',\n",
       " 'https://en.wikipedia.org/wiki/The_Geto_Boys_(album)',\n",
       " 'https://en.wikipedia.org/wiki/Give_Up_the_Ghost_(album)',\n",
       " 'https://en.wikipedia.org/wiki/The_Globe_Sessions',\n",
       " 'https://en.wikipedia.org/wiki/God_Hates_Us_All',\n",
       " 'https://en.wikipedia.org/wiki/God_Lives_Underwater_(EP)',\n",
       " 'https://en.wikipedia.org/wiki/The_Great_Adventures_of_Slick_Rick',\n",
       " 'https://en.wikipedia.org/wiki/Greatest_Hits_(Jay-Z_album)',\n",
       " 'https://en.wikipedia.org/wiki/Greatest_Hits_(Red_Hot_Chili_Peppers_album)',\n",
       " 'https://en.wikipedia.org/wiki/Greatest_Hits_(The_Bangles_album)',\n",
       " 'https://en.wikipedia.org/wiki/Greatest_Hits_(Tom_Petty_album)',\n",
       " 'https://en.wikipedia.org/wiki/Greatest_Hitz_(Limp_Bizkit_album)',\n",
       " 'https://en.wikipedia.org/wiki/Heroes_and_Villains_(album)',\n",
       " 'https://en.wikipedia.org/wiki/Home_Before_Dark',\n",
       " 'https://en.wikipedia.org/wiki/Hose_(album)',\n",
       " 'https://en.wikipedia.org/wiki/Hypnotize_(album)',\n",
       " 'https://en.wikipedia.org/wiki/I_and_Love_and_You',\n",
       " 'https://en.wikipedia.org/wiki/I%27m_Beside_You',\n",
       " 'https://en.wikipedia.org/wiki/I%27m_with_You_(album)',\n",
       " 'https://en.wikipedia.org/wiki/I%27m_with_You_Sessions',\n",
       " 'https://en.wikipedia.org/wiki/Icon_(Limp_Bizkit_album)',\n",
       " 'https://en.wikipedia.org/wiki/Illuminations_(Josh_Groban_album)',\n",
       " 'https://en.wikipedia.org/wiki/It_Takes_a_Nation_of_Millions_to_Hold_Us_Back',\n",
       " 'https://en.wikipedia.org/wiki/Jay-Z:_The_Hits_Collection,_Volume_One',\n",
       " 'https://en.wikipedia.org/wiki/Joe_Strummer_%26_the_Mescaleros:_The_Hellcat_Years',\n",
       " 'https://en.wikipedia.org/wiki/King_King_(album)',\n",
       " 'https://en.wikipedia.org/wiki/Krush_Groove',\n",
       " 'https://en.wikipedia.org/wiki/La_Futura',\n",
       " 'https://en.wikipedia.org/wiki/Less_Than_Zero_(soundtrack)',\n",
       " 'https://en.wikipedia.org/wiki/Licensed_to_Ill',\n",
       " 'https://en.wikipedia.org/wiki/The_Life_of_Pablo',\n",
       " 'https://en.wikipedia.org/wiki/Live_at_the_Grand_Olympic_Auditorium',\n",
       " 'https://en.wikipedia.org/wiki/Live_Fast,_Die_Fast',\n",
       " 'https://en.wikipedia.org/wiki/Live_in_Cuba_(Audioslave_album)',\n",
       " 'https://en.wikipedia.org/wiki/Live_Rare_Remix_Box',\n",
       " 'https://en.wikipedia.org/wiki/Living_in_the_Present_Future',\n",
       " 'https://en.wikipedia.org/wiki/Living_Things_(Linkin_Park_album)',\n",
       " 'https://en.wikipedia.org/wiki/The_Lost_Tracks_of_Danzig',\n",
       " 'https://en.wikipedia.org/wiki/Luna_Halo_(album)',\n",
       " 'https://en.wikipedia.org/wiki/Mack_Daddy',\n",
       " 'https://en.wikipedia.org/wiki/Magpie_and_the_Dandelion',\n",
       " 'https://en.wikipedia.org/wiki/Make_Believe_(Weezer_album)',\n",
       " 'https://en.wikipedia.org/wiki/Manic_Frustration',\n",
       " 'https://en.wikipedia.org/wiki/The_Marshall_Mathers_LP_2',\n",
       " 'https://en.wikipedia.org/wiki/Masters_of_Reality_(album)',\n",
       " 'https://en.wikipedia.org/wiki/The_Metallica_Collection',\n",
       " 'https://en.wikipedia.org/wiki/Mezmerize_(album)',\n",
       " 'https://en.wikipedia.org/wiki/Minutes_to_Midnight_(Linkin_Park_album)',\n",
       " 'https://en.wikipedia.org/wiki/Mr._Hankey%27s_Christmas_Classics',\n",
       " 'https://en.wikipedia.org/wiki/Music_for_Men',\n",
       " 'https://en.wikipedia.org/wiki/My_Favourite_Faded_Fantasy',\n",
       " 'https://en.wikipedia.org/wiki/My_Mother%27s_Hymn_Book',\n",
       " 'https://en.wikipedia.org/wiki/Northern_Star_(Melanie_C_album)',\n",
       " 'https://en.wikipedia.org/wiki/O,_Yeah!_Ultimate_Aerosmith_Hits',\n",
       " 'https://en.wikipedia.org/wiki/Ogilala',\n",
       " 'https://en.wikipedia.org/wiki/One_Hot_Minute',\n",
       " 'https://en.wikipedia.org/wiki/Oral_Fixation,_Vol._1_%26_2',\n",
       " 'https://en.wikipedia.org/wiki/Oral_Fixation,_Vol._2',\n",
       " 'https://en.wikipedia.org/wiki/Out_of_Exile',\n",
       " 'https://en.wikipedia.org/wiki/Paloalto_(album)',\n",
       " 'https://en.wikipedia.org/wiki/Paradise_(Lana_Del_Rey_EP)',\n",
       " 'https://en.wikipedia.org/wiki/Peasants,_Pigs_%26_Astronauts',\n",
       " 'https://en.wikipedia.org/wiki/Radio_(LL_Cool_J_album)',\n",
       " 'https://en.wikipedia.org/wiki/Rainy_Day_Music',\n",
       " 'https://en.wikipedia.org/wiki/Raising_Hell_(album)',\n",
       " 'https://en.wikipedia.org/wiki/Recharged_(album)',\n",
       " 'https://en.wikipedia.org/wiki/Reign_in_Blood',\n",
       " 'https://en.wikipedia.org/wiki/Renegades_(Rage_Against_the_Machine_album)',\n",
       " 'https://en.wikipedia.org/wiki/Results_May_Vary',\n",
       " 'https://en.wikipedia.org/wiki/Return_of_the_Bumpasaurus',\n",
       " 'https://en.wikipedia.org/wiki/Revival_(Eminem_album)',\n",
       " 'https://en.wikipedia.org/wiki/Road_Trippin%27_Through_Time',\n",
       " 'https://en.wikipedia.org/wiki/Rock_%26_Roll_Hall_of_Fame_Covers_EP',\n",
       " 'https://en.wikipedia.org/wiki/Seasons_in_the_Abyss',\n",
       " 'https://en.wikipedia.org/wiki/Seeing_Things_(album)',\n",
       " 'https://en.wikipedia.org/wiki/Shake_Your_Money_Maker_(album)',\n",
       " 'https://en.wikipedia.org/wiki/Shangri_La_(Jake_Bugg_album)',\n",
       " 'https://en.wikipedia.org/wiki/Shiny_and_Oh_So_Bright,_Vol._1_/_LP:_No_Past._No_Future._No_Sun.',\n",
       " 'https://en.wikipedia.org/wiki/Solid_Gold_Hits',\n",
       " 'https://en.wikipedia.org/wiki/Songs_and_Music_from_%22She%27s_the_One%22',\n",
       " 'https://en.wikipedia.org/wiki/Soundtrack_to_the_Apocalypse',\n",
       " 'https://en.wikipedia.org/wiki/South_of_Heaven',\n",
       " 'https://en.wikipedia.org/wiki/Stadium_Arcadium',\n",
       " 'https://en.wikipedia.org/wiki/Star_Wars_Headspace',\n",
       " 'https://en.wikipedia.org/wiki/Steal_This_Album!',\n",
       " 'https://en.wikipedia.org/wiki/Streetcore',\n",
       " 'https://en.wikipedia.org/wiki/Studio_Collection_2000%E2%80%932012',\n",
       " 'https://en.wikipedia.org/wiki/Sutras_(album)',\n",
       " 'https://en.wikipedia.org/wiki/System_of_a_Down_(album)',\n",
       " 'https://en.wikipedia.org/wiki/Taking_the_Long_Way',\n",
       " 'https://en.wikipedia.org/wiki/Tell_%27Em_I%27m_Gone',\n",
       " 'https://en.wikipedia.org/wiki/That_Girl_(album)',\n",
       " 'https://en.wikipedia.org/wiki/A_Thousand_Suns',\n",
       " 'https://en.wikipedia.org/wiki/Thrall:_Demonsweatlive',\n",
       " 'https://en.wikipedia.org/wiki/Tougher_Than_Leather',\n",
       " 'https://en.wikipedia.org/wiki/Toxicity_(album)',\n",
       " 'https://en.wikipedia.org/wiki/Trans-Continental_Hustle',\n",
       " 'https://en.wikipedia.org/wiki/Trouble_(Trouble_album)',\n",
       " 'https://en.wikipedia.org/wiki/True_Sadness',\n",
       " 'https://en.wikipedia.org/wiki/U218_Singles',\n",
       " 'https://en.wikipedia.org/wiki/Unchained_(Johnny_Cash_album)',\n",
       " 'https://en.wikipedia.org/wiki/Undisputed_Attitude',\n",
       " 'https://en.wikipedia.org/wiki/Unearthed_(Johnny_Cash_album)',\n",
       " 'https://en.wikipedia.org/wiki/VH1_Storytellers:_Johnny_Cash_%26_Willie_Nelson',\n",
       " 'https://en.wikipedia.org/wiki/Vol._3:_(The_Subliminal_Verses)',\n",
       " 'https://en.wikipedia.org/wiki/Voodoo-U',\n",
       " 'https://en.wikipedia.org/wiki/Walking_with_a_Panther',\n",
       " 'https://en.wikipedia.org/wiki/Wandering_Spirit_(album)',\n",
       " 'https://en.wikipedia.org/wiki/The_War_of_Art_(album)',\n",
       " 'https://en.wikipedia.org/wiki/Weezer_(Red_Album)',\n",
       " 'https://en.wikipedia.org/wiki/Wildflowers_(Tom_Petty_album)',\n",
       " 'https://en.wikipedia.org/wiki/World_Painted_Blood',\n",
       " 'https://en.wikipedia.org/wiki/Yeezus',\n",
       " 'https://en.wikipedia.org/wiki/Yo!_Bum_Rush_the_Show',\n",
       " 'https://en.wikipedia.org/wiki/Young_Lust:_The_Aerosmith_Anthology']"
      ]
     },
     "execution_count": 7,
     "metadata": {},
     "output_type": "execute_result"
    }
   ],
   "source": [
    "rr_albums"
   ]
  },
  {
   "cell_type": "code",
   "execution_count": 26,
   "metadata": {},
   "outputs": [],
   "source": [
    "wiki_url2 = 'https://en.wikipedia.org/wiki/Category:Albums_by_producer'\n",
    "links = get_category_links(wiki_url2)"
   ]
  },
  {
   "cell_type": "code",
   "execution_count": 27,
   "metadata": {},
   "outputs": [
    {
     "data": {
      "text/plain": [
       "201"
      ]
     },
     "execution_count": 27,
     "metadata": {},
     "output_type": "execute_result"
    }
   ],
   "source": [
    "len(links)"
   ]
  },
  {
   "cell_type": "markdown",
   "metadata": {},
   "source": [
    "Cool! We now have a way to get lists of albums. Can Spotify give us a list of songs in an album?"
   ]
  },
  {
   "cell_type": "code",
   "execution_count": 47,
   "metadata": {},
   "outputs": [
    {
     "name": "stdout",
     "output_type": "stream",
     "text": [
      "Drumming Song \t|\t 3DQGus4N9O9lk343trfNno\n",
      "Emotions \t|\t 2yrHacdhmKCntWO8pdfj6t\n",
      "Cry Me a River \t|\t 1rj6DjmbzgIj5muwrRvoX5\n",
      "Renegade \t|\t 2UlAJ40lg23zpfAF2fMhLL\n",
      "Robots \t|\t 4y6RREsxp7FFI0TWvDqkGm\n",
      "Valerie \t|\t 7r9CtQbliORexZwbOMeDgO\n",
      "Gone \t|\t 6SYptf8cpTTsVmmI0GWj2F\n",
      "Forget You \t|\t 0IqTlV1tMqAG7fhnv4xRcZ\n",
      "Mashup (Love the Way You Lie/Dynamite/Teenage Dream) \t|\t 1lZW1mmm6cQlHOG89Uoj4s\n",
      "Sparkling Diamonds \t|\t 12SEa6vgBhlpgwM8F91GQs\n"
     ]
    }
   ],
   "source": [
    "album_id = sp.search(q='album:just in capes',type='album')['albums']['items'][0]['id']\n",
    "for song in sp.album_tracks(album_id)['items']:\n",
    "    print(song['name'], '\\t|\\t', song['id'])"
   ]
  },
  {
   "cell_type": "markdown",
   "metadata": {},
   "source": [
    "Affirmative."
   ]
  },
  {
   "cell_type": "code",
   "execution_count": null,
   "metadata": {},
   "outputs": [],
   "source": [
    "sp.audio_analysis()"
   ]
  }
 ],
 "metadata": {
  "kernelspec": {
   "display_name": "Python 3",
   "language": "python",
   "name": "python3"
  },
  "language_info": {
   "codemirror_mode": {
    "name": "ipython",
    "version": 3
   },
   "file_extension": ".py",
   "mimetype": "text/x-python",
   "name": "python",
   "nbconvert_exporter": "python",
   "pygments_lexer": "ipython3",
   "version": "3.7.1"
  }
 },
 "nbformat": 4,
 "nbformat_minor": 2
}
