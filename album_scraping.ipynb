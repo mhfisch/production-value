{
 "cells": [
  {
   "cell_type": "markdown",
   "metadata": {},
   "source": [
    "# Scraping Spotify Data for All Songs from All Albums by a Producer"
   ]
  },
  {
   "cell_type": "markdown",
   "metadata": {},
   "source": [
    "## End Goal:\n",
    "\n",
    "Take All Pages in Wikipedia's [Category:Albums by producer](https://en.wikipedia.org/wiki/Category:Albums_by_producer) and scrape all album info and then call featurized audio from Spotify's API.\n",
    "\n",
    "\n",
    "### Goal for Today (March 28, 2019):\n",
    "\n",
    "Take a page like Wikipedia's [Category:Albums produced by Rick Rubin](https://en.wikipedia.org/wiki/Category:Albums_produced_by_Rick_Rubin) and return featurized audio from every song on every album in the list."
   ]
  },
  {
   "cell_type": "code",
   "execution_count": 83,
   "metadata": {},
   "outputs": [],
   "source": [
    "# Standard Imports\n",
    "\n",
    "import numpy as np\n",
    "import pandas as pd\n",
    "import os\n",
    "import sys\n",
    "from collections import defaultdict\n",
    "from importlib import reload\n",
    "from bs4 import BeautifulSoup\n",
    "import requests\n",
    "from time import sleep\n",
    "import time\n",
    "\n",
    "import matplotlib.pyplot as plt\n",
    "%matplotlib inline\n",
    "%config InlineBackend.figure_format = 'retina'\n",
    "\n",
    "\n",
    "# Load MongoDB\n",
    "\n",
    "from pymongo import MongoClient\n",
    "client = MongoClient()\n",
    "# Access/Initiate Database\n",
    "db = client['producer_db']\n",
    "# Access/Initiate Table\n",
    "tab = db['songs']\n",
    "collection = db.tab\n",
    "\n",
    "# Authorize Spotify API\n",
    "\n",
    "import spotipy\n",
    "from spotipy.oauth2 import SpotifyClientCredentials\n",
    "\n",
    "client_id = os.environ['SPOTIFY_CLIENT_ID']\n",
    "client_secret = os.environ['SPOTIFY_CLIENT_SECRET']\n",
    "client_credentials_manager = SpotifyClientCredentials(client_id=client_id, client_secret=client_secret)\n",
    "sp = spotipy.Spotify(client_credentials_manager=client_credentials_manager)"
   ]
  },
  {
   "cell_type": "code",
   "execution_count": 84,
   "metadata": {},
   "outputs": [],
   "source": [
    "def get_category_links(wiki_url):\n",
    "    \"\"\"\n",
    "    Takes a link to a category Wikipedia page and returns a list of urls to the hyperlinks\n",
    "    \"\"\"\n",
    "    \n",
    "    wiki_urls = []\n",
    "    domain = 'https://en.wikipedia.org'\n",
    "    \n",
    "    html = requests.get(wiki_url).content\n",
    "    soup = BeautifulSoup(html, 'html.parser')\n",
    "    \n",
    "    wiki_links = soup.find_all('div', class_=\"mw-category\")[0].find_all('a')\n",
    "    for link in wiki_links:\n",
    "        path = link['href']\n",
    "        url = domain + path\n",
    "        wiki_urls.append(url)\n",
    "        \n",
    "    # check for a \"next page\" button\n",
    "    next_page_url = ''\n",
    "    if soup.find_all('div', {'id':\"mw-subcategories\"}):\n",
    "        next_page_links = soup.find_all('div', {'id':\"mw-subcategories\"})[0].find_all('a') #next page like will be within the first 5 links\n",
    "        for link in next_page_links:\n",
    "            if link.text == 'next page':\n",
    "                next_page_path = link['href']\n",
    "                next_page_url = domain + next_page_path\n",
    "        \n",
    "    # Append links from next pages recursively\n",
    "    if next_page_url: \n",
    "        print('getting links from {}'.format(next_page_url))\n",
    "        next_page_wiki_urls = get_category_links(next_page_url)\n",
    "        wiki_urls = wiki_urls + next_page_wiki_urls\n",
    "    \n",
    "    \n",
    "    return wiki_urls"
   ]
  },
  {
   "cell_type": "code",
   "execution_count": 15,
   "metadata": {},
   "outputs": [
    {
     "name": "stdout",
     "output_type": "stream",
     "text": [
      "getting links from https://en.wikipedia.org/w/index.php?title=Category:Albums_by_producer&subcatfrom=Bellotte%2C+Pete%0AAlbums+produced+by+Pete+Bellotte#mw-subcategories\n",
      "getting links from https://en.wikipedia.org/w/index.php?title=Category:Albums_by_producer&subcatfrom=Chess%2C+Leonard%0AAlbums+produced+by+Leonard+Chess#mw-subcategories\n",
      "getting links from https://en.wikipedia.org/w/index.php?title=Category:Albums_by_producer&subcatfrom=Dj+Premier%0AAlbums+produced+by+DJ+Premier#mw-subcategories\n",
      "getting links from https://en.wikipedia.org/w/index.php?title=Category:Albums_by_producer&subcatfrom=Frayne%2C+George%0AAlbums+produced+by+George+Frayne#mw-subcategories\n",
      "getting links from https://en.wikipedia.org/w/index.php?title=Category:Albums_by_producer&subcatfrom=Hayton%2C+Lennie%0AAlbums+produced+by+Lennie+Hayton#mw-subcategories\n",
      "getting links from https://en.wikipedia.org/w/index.php?title=Category:Albums_by_producer&subcatfrom=Juicy+J%0AAlbums+produced+by+Juicy+J#mw-subcategories\n",
      "getting links from https://en.wikipedia.org/w/index.php?title=Category:Albums_by_producer&subcatfrom=Levine%2C+Stewart%0AAlbums+produced+by+Stewart+Levine#mw-subcategories\n",
      "getting links from https://en.wikipedia.org/w/index.php?title=Category:Albums_by_producer&subcatfrom=Mike+D%0AAlbums+produced+by+Mike+D#mw-subcategories\n",
      "getting links from https://en.wikipedia.org/w/index.php?title=Category:Albums_by_producer&subcatfrom=Pegg%2C+Dave%0AAlbums+produced+by+Dave+Pegg#mw-subcategories\n",
      "getting links from https://en.wikipedia.org/w/index.php?title=Category:Albums_by_producer&subcatfrom=Rose%2C+Wesley%0AAlbums+produced+by+Wesley+Rose#mw-subcategories\n",
      "getting links from https://en.wikipedia.org/w/index.php?title=Category:Albums_by_producer&subcatfrom=Springsteen%2C+Devo%0AAlbums+produced+by+Devo+Springsteen#mw-subcategories\n",
      "getting links from https://en.wikipedia.org/w/index.php?title=Category:Albums_by_producer&subcatfrom=Vaughn%2C+Ben%0AAlbums+produced+by+Ben+Vaughn#mw-subcategories\n"
     ]
    },
    {
     "data": {
      "text/plain": [
       "2581"
      ]
     },
     "execution_count": 15,
     "metadata": {},
     "output_type": "execute_result"
    }
   ],
   "source": [
    "wiki_url2 = 'https://en.wikipedia.org/wiki/Category:Albums_by_producer'\n",
    "links = get_category_links(wiki_url2)\n",
    "len(links)"
   ]
  },
  {
   "cell_type": "code",
   "execution_count": 16,
   "metadata": {},
   "outputs": [
    {
     "data": {
      "text/plain": [
       "['https://en.wikipedia.org/wiki/Category:Albums_produced_by_4th_Disciple',\n",
       " 'https://en.wikipedia.org/wiki/Category:Albums_produced_by_8Ball_%26_MJG',\n",
       " 'https://en.wikipedia.org/wiki/Category:Albums_produced_by_9th_Wonder',\n",
       " 'https://en.wikipedia.org/wiki/Category:Albums_produced_by_The_45_King',\n",
       " 'https://en.wikipedia.org/wiki/Category:Albums_produced_by_88-Keys',\n",
       " 'https://en.wikipedia.org/wiki/Category:Albums_produced_by_Kenny_Aaronson',\n",
       " 'https://en.wikipedia.org/wiki/Category:Albums_produced_by_Jim_Abbiss',\n",
       " 'https://en.wikipedia.org/wiki/Category:Albums_produced_by_Dave_Abbruzzese',\n",
       " 'https://en.wikipedia.org/wiki/Category:Albums_produced_by_Daniel_Abraham_(record_producer)',\n",
       " 'https://en.wikipedia.org/wiki/Category:Albums_produced_by_Josh_Abraham']"
      ]
     },
     "execution_count": 16,
     "metadata": {},
     "output_type": "execute_result"
    }
   ],
   "source": [
    "links[:10]"
   ]
  },
  {
   "cell_type": "code",
   "execution_count": 17,
   "metadata": {},
   "outputs": [],
   "source": [
    "wiki_url = 'https://en.wikipedia.org/wiki/Category:Albums_produced_by_Rick_Rubin'\n",
    "rr_albums = get_category_links(wiki_url)"
   ]
  },
  {
   "cell_type": "code",
   "execution_count": 18,
   "metadata": {},
   "outputs": [
    {
     "data": {
      "text/plain": [
       "['https://en.wikipedia.org/wiki/12_Songs_(Neil_Diamond_album)',\n",
       " 'https://en.wikipedia.org/wiki/13_(Black_Sabbath_album)',\n",
       " 'https://en.wikipedia.org/wiki/21_(Adele_album)',\n",
       " 'https://en.wikipedia.org/wiki/All_World_2',\n",
       " 'https://en.wikipedia.org/wiki/All_World:_Greatest_Hits',\n",
       " 'https://en.wikipedia.org/wiki/American_IV:_The_Man_Comes_Around',\n",
       " 'https://en.wikipedia.org/wiki/American_Grafishy',\n",
       " 'https://en.wikipedia.org/wiki/American_III:_Solitary_Man',\n",
       " 'https://en.wikipedia.org/wiki/American_Recordings_(album)',\n",
       " 'https://en.wikipedia.org/wiki/American_V:_A_Hundred_Highways',\n",
       " 'https://en.wikipedia.org/wiki/American_VI:_Ain%27t_No_Grave',\n",
       " 'https://en.wikipedia.org/wiki/Amethyst_Rock_Star',\n",
       " 'https://en.wikipedia.org/wiki/Angus_%26_Julia_Stone_(album)',\n",
       " 'https://en.wikipedia.org/wiki/Antennas_to_Hell',\n",
       " 'https://en.wikipedia.org/wiki/Anthology:_Through_the_Years',\n",
       " 'https://en.wikipedia.org/wiki/Armed_Love',\n",
       " 'https://en.wikipedia.org/wiki/Artpop',\n",
       " 'https://en.wikipedia.org/wiki/Audioslave_(album)',\n",
       " 'https://en.wikipedia.org/wiki/Back_and_Fourth_(Pete_Yorn_album)',\n",
       " 'https://en.wikipedia.org/wiki/Ballbreaker',\n",
       " 'https://en.wikipedia.org/wiki/A_Better_Tomorrow_(album)',\n",
       " 'https://en.wikipedia.org/wiki/Beyond_Magnetic',\n",
       " 'https://en.wikipedia.org/wiki/The_Black_Album_(Jay-Z_album)',\n",
       " 'https://en.wikipedia.org/wiki/Blood_Sugar_Sex_Magik',\n",
       " 'https://en.wikipedia.org/wiki/Born_Free_(Kid_Rock_album)',\n",
       " 'https://en.wikipedia.org/wiki/Born_to_Die:_The_Paradise_Edition',\n",
       " 'https://en.wikipedia.org/wiki/By_the_Way',\n",
       " 'https://en.wikipedia.org/wiki/Californication_(album)',\n",
       " 'https://en.wikipedia.org/wiki/Chef_Aid:_The_South_Park_Album',\n",
       " 'https://en.wikipedia.org/wiki/Chief_Boot_Knocka',\n",
       " 'https://en.wikipedia.org/wiki/Christ_Illusion',\n",
       " 'https://en.wikipedia.org/wiki/Collected_(Limp_Bizkit_album)',\n",
       " 'https://en.wikipedia.org/wiki/The_Colour_in_Anything',\n",
       " 'https://en.wikipedia.org/wiki/Coordinates_(The_Band_Perry_EP)',\n",
       " 'https://en.wikipedia.org/wiki/The_Cross_of_My_Calling',\n",
       " 'https://en.wikipedia.org/wiki/Crunk_Juice',\n",
       " 'https://en.wikipedia.org/wiki/Dancing_for_the_Death_of_an_Imaginary_Enemy',\n",
       " 'https://en.wikipedia.org/wiki/Danzig_(album)',\n",
       " 'https://en.wikipedia.org/wiki/Danzig_4',\n",
       " 'https://en.wikipedia.org/wiki/Danzig_II:_Lucifuge',\n",
       " 'https://en.wikipedia.org/wiki/Danzig_III:_How_the_Gods_Kill',\n",
       " 'https://en.wikipedia.org/wiki/The_Day_the_Laughter_Died',\n",
       " 'https://en.wikipedia.org/wiki/The_Day_the_Laughter_Died,_Part_II',\n",
       " 'https://en.wikipedia.org/wiki/De-Loused_in_the_Comatorium',\n",
       " 'https://en.wikipedia.org/wiki/Death_Magnetic',\n",
       " 'https://en.wikipedia.org/wiki/Decade_of_Aggression',\n",
       " 'https://en.wikipedia.org/wiki/Diabolus_in_Musica',\n",
       " 'https://en.wikipedia.org/wiki/Divine_Intervention_(album)',\n",
       " 'https://en.wikipedia.org/wiki/Dynamite_Monster_Boogie_Concert',\n",
       " 'https://en.wikipedia.org/wiki/Echo_(Tom_Petty_and_the_Heartbreakers_album)',\n",
       " 'https://en.wikipedia.org/wiki/Electric_(The_Cult_album)',\n",
       " 'https://en.wikipedia.org/wiki/Empty_(God_Lives_Underwater_album)',\n",
       " 'https://en.wikipedia.org/wiki/The_End_(Black_Sabbath_EP)',\n",
       " 'https://en.wikipedia.org/wiki/The_Essential_Bangles',\n",
       " 'https://en.wikipedia.org/wiki/Fijaci%C3%B3n_Oral,_Vol._1',\n",
       " 'https://en.wikipedia.org/wiki/Further_Down_the_Spiral',\n",
       " 'https://en.wikipedia.org/wiki/FutureSex/LoveSounds',\n",
       " 'https://en.wikipedia.org/wiki/The_Geto_Boys_(album)',\n",
       " 'https://en.wikipedia.org/wiki/Give_Up_the_Ghost_(album)',\n",
       " 'https://en.wikipedia.org/wiki/The_Globe_Sessions',\n",
       " 'https://en.wikipedia.org/wiki/God_Hates_Us_All',\n",
       " 'https://en.wikipedia.org/wiki/God_Lives_Underwater_(EP)',\n",
       " 'https://en.wikipedia.org/wiki/The_Great_Adventures_of_Slick_Rick',\n",
       " 'https://en.wikipedia.org/wiki/Greatest_Hits_(Jay-Z_album)',\n",
       " 'https://en.wikipedia.org/wiki/Greatest_Hits_(Red_Hot_Chili_Peppers_album)',\n",
       " 'https://en.wikipedia.org/wiki/Greatest_Hits_(The_Bangles_album)',\n",
       " 'https://en.wikipedia.org/wiki/Greatest_Hits_(Tom_Petty_album)',\n",
       " 'https://en.wikipedia.org/wiki/Greatest_Hitz_(Limp_Bizkit_album)',\n",
       " 'https://en.wikipedia.org/wiki/Heroes_and_Villains_(album)',\n",
       " 'https://en.wikipedia.org/wiki/Home_Before_Dark',\n",
       " 'https://en.wikipedia.org/wiki/Hose_(album)',\n",
       " 'https://en.wikipedia.org/wiki/Hypnotize_(album)',\n",
       " 'https://en.wikipedia.org/wiki/I_and_Love_and_You',\n",
       " 'https://en.wikipedia.org/wiki/I%27m_Beside_You',\n",
       " 'https://en.wikipedia.org/wiki/I%27m_with_You_(album)',\n",
       " 'https://en.wikipedia.org/wiki/I%27m_with_You_Sessions',\n",
       " 'https://en.wikipedia.org/wiki/Icon_(Limp_Bizkit_album)',\n",
       " 'https://en.wikipedia.org/wiki/Illuminations_(Josh_Groban_album)',\n",
       " 'https://en.wikipedia.org/wiki/It_Takes_a_Nation_of_Millions_to_Hold_Us_Back',\n",
       " 'https://en.wikipedia.org/wiki/Jay-Z:_The_Hits_Collection,_Volume_One',\n",
       " 'https://en.wikipedia.org/wiki/Joe_Strummer_%26_the_Mescaleros:_The_Hellcat_Years',\n",
       " 'https://en.wikipedia.org/wiki/King_King_(album)',\n",
       " 'https://en.wikipedia.org/wiki/Krush_Groove',\n",
       " 'https://en.wikipedia.org/wiki/La_Futura',\n",
       " 'https://en.wikipedia.org/wiki/Less_Than_Zero_(soundtrack)',\n",
       " 'https://en.wikipedia.org/wiki/Licensed_to_Ill',\n",
       " 'https://en.wikipedia.org/wiki/The_Life_of_Pablo',\n",
       " 'https://en.wikipedia.org/wiki/Live_at_the_Grand_Olympic_Auditorium',\n",
       " 'https://en.wikipedia.org/wiki/Live_Fast,_Die_Fast',\n",
       " 'https://en.wikipedia.org/wiki/Live_in_Cuba_(Audioslave_album)',\n",
       " 'https://en.wikipedia.org/wiki/Live_Rare_Remix_Box',\n",
       " 'https://en.wikipedia.org/wiki/Living_in_the_Present_Future',\n",
       " 'https://en.wikipedia.org/wiki/Living_Things_(Linkin_Park_album)',\n",
       " 'https://en.wikipedia.org/wiki/The_Lost_Tracks_of_Danzig',\n",
       " 'https://en.wikipedia.org/wiki/Luna_Halo_(album)',\n",
       " 'https://en.wikipedia.org/wiki/Mack_Daddy',\n",
       " 'https://en.wikipedia.org/wiki/Magpie_and_the_Dandelion',\n",
       " 'https://en.wikipedia.org/wiki/Make_Believe_(Weezer_album)',\n",
       " 'https://en.wikipedia.org/wiki/Manic_Frustration',\n",
       " 'https://en.wikipedia.org/wiki/The_Marshall_Mathers_LP_2',\n",
       " 'https://en.wikipedia.org/wiki/Masters_of_Reality_(album)',\n",
       " 'https://en.wikipedia.org/wiki/The_Metallica_Collection',\n",
       " 'https://en.wikipedia.org/wiki/Mezmerize_(album)',\n",
       " 'https://en.wikipedia.org/wiki/Minutes_to_Midnight_(Linkin_Park_album)',\n",
       " 'https://en.wikipedia.org/wiki/Mr._Hankey%27s_Christmas_Classics',\n",
       " 'https://en.wikipedia.org/wiki/Music_for_Men',\n",
       " 'https://en.wikipedia.org/wiki/My_Favourite_Faded_Fantasy',\n",
       " 'https://en.wikipedia.org/wiki/My_Mother%27s_Hymn_Book',\n",
       " 'https://en.wikipedia.org/wiki/Northern_Star_(Melanie_C_album)',\n",
       " 'https://en.wikipedia.org/wiki/O,_Yeah!_Ultimate_Aerosmith_Hits',\n",
       " 'https://en.wikipedia.org/wiki/Ogilala',\n",
       " 'https://en.wikipedia.org/wiki/One_Hot_Minute',\n",
       " 'https://en.wikipedia.org/wiki/Oral_Fixation,_Vol._1_%26_2',\n",
       " 'https://en.wikipedia.org/wiki/Oral_Fixation,_Vol._2',\n",
       " 'https://en.wikipedia.org/wiki/Out_of_Exile',\n",
       " 'https://en.wikipedia.org/wiki/Paloalto_(album)',\n",
       " 'https://en.wikipedia.org/wiki/Paradise_(Lana_Del_Rey_EP)',\n",
       " 'https://en.wikipedia.org/wiki/Peasants,_Pigs_%26_Astronauts',\n",
       " 'https://en.wikipedia.org/wiki/Radio_(LL_Cool_J_album)',\n",
       " 'https://en.wikipedia.org/wiki/Rainy_Day_Music',\n",
       " 'https://en.wikipedia.org/wiki/Raising_Hell_(album)',\n",
       " 'https://en.wikipedia.org/wiki/Recharged_(album)',\n",
       " 'https://en.wikipedia.org/wiki/Reign_in_Blood',\n",
       " 'https://en.wikipedia.org/wiki/Renegades_(Rage_Against_the_Machine_album)',\n",
       " 'https://en.wikipedia.org/wiki/Results_May_Vary',\n",
       " 'https://en.wikipedia.org/wiki/Return_of_the_Bumpasaurus',\n",
       " 'https://en.wikipedia.org/wiki/Revival_(Eminem_album)',\n",
       " 'https://en.wikipedia.org/wiki/Road_Trippin%27_Through_Time',\n",
       " 'https://en.wikipedia.org/wiki/Rock_%26_Roll_Hall_of_Fame_Covers_EP',\n",
       " 'https://en.wikipedia.org/wiki/Seasons_in_the_Abyss',\n",
       " 'https://en.wikipedia.org/wiki/Seeing_Things_(album)',\n",
       " 'https://en.wikipedia.org/wiki/Shake_Your_Money_Maker_(album)',\n",
       " 'https://en.wikipedia.org/wiki/Shangri_La_(Jake_Bugg_album)',\n",
       " 'https://en.wikipedia.org/wiki/Shiny_and_Oh_So_Bright,_Vol._1_/_LP:_No_Past._No_Future._No_Sun.',\n",
       " 'https://en.wikipedia.org/wiki/Solid_Gold_Hits',\n",
       " 'https://en.wikipedia.org/wiki/Songs_and_Music_from_%22She%27s_the_One%22',\n",
       " 'https://en.wikipedia.org/wiki/Soundtrack_to_the_Apocalypse',\n",
       " 'https://en.wikipedia.org/wiki/South_of_Heaven',\n",
       " 'https://en.wikipedia.org/wiki/Stadium_Arcadium',\n",
       " 'https://en.wikipedia.org/wiki/Star_Wars_Headspace',\n",
       " 'https://en.wikipedia.org/wiki/Steal_This_Album!',\n",
       " 'https://en.wikipedia.org/wiki/Streetcore',\n",
       " 'https://en.wikipedia.org/wiki/Studio_Collection_2000%E2%80%932012',\n",
       " 'https://en.wikipedia.org/wiki/Sutras_(album)',\n",
       " 'https://en.wikipedia.org/wiki/System_of_a_Down_(album)',\n",
       " 'https://en.wikipedia.org/wiki/Taking_the_Long_Way',\n",
       " 'https://en.wikipedia.org/wiki/Tell_%27Em_I%27m_Gone',\n",
       " 'https://en.wikipedia.org/wiki/That_Girl_(album)',\n",
       " 'https://en.wikipedia.org/wiki/A_Thousand_Suns',\n",
       " 'https://en.wikipedia.org/wiki/Thrall:_Demonsweatlive',\n",
       " 'https://en.wikipedia.org/wiki/Tougher_Than_Leather',\n",
       " 'https://en.wikipedia.org/wiki/Toxicity_(album)',\n",
       " 'https://en.wikipedia.org/wiki/Trans-Continental_Hustle',\n",
       " 'https://en.wikipedia.org/wiki/Trouble_(Trouble_album)',\n",
       " 'https://en.wikipedia.org/wiki/True_Sadness',\n",
       " 'https://en.wikipedia.org/wiki/U218_Singles',\n",
       " 'https://en.wikipedia.org/wiki/Unchained_(Johnny_Cash_album)',\n",
       " 'https://en.wikipedia.org/wiki/Undisputed_Attitude',\n",
       " 'https://en.wikipedia.org/wiki/Unearthed_(Johnny_Cash_album)',\n",
       " 'https://en.wikipedia.org/wiki/VH1_Storytellers:_Johnny_Cash_%26_Willie_Nelson',\n",
       " 'https://en.wikipedia.org/wiki/Vol._3:_(The_Subliminal_Verses)',\n",
       " 'https://en.wikipedia.org/wiki/Voodoo-U',\n",
       " 'https://en.wikipedia.org/wiki/Walking_with_a_Panther',\n",
       " 'https://en.wikipedia.org/wiki/Wandering_Spirit_(album)',\n",
       " 'https://en.wikipedia.org/wiki/The_War_of_Art_(album)',\n",
       " 'https://en.wikipedia.org/wiki/Weezer_(Red_Album)',\n",
       " 'https://en.wikipedia.org/wiki/Wildflowers_(Tom_Petty_album)',\n",
       " 'https://en.wikipedia.org/wiki/World_Painted_Blood',\n",
       " 'https://en.wikipedia.org/wiki/Yeezus',\n",
       " 'https://en.wikipedia.org/wiki/Yo!_Bum_Rush_the_Show',\n",
       " 'https://en.wikipedia.org/wiki/Young_Lust:_The_Aerosmith_Anthology']"
      ]
     },
     "execution_count": 18,
     "metadata": {},
     "output_type": "execute_result"
    }
   ],
   "source": [
    "rr_albums"
   ]
  },
  {
   "cell_type": "code",
   "execution_count": 19,
   "metadata": {},
   "outputs": [
    {
     "name": "stdout",
     "output_type": "stream",
     "text": [
      "getting links from https://en.wikipedia.org/w/index.php?title=Category:Albums_by_producer&subcatfrom=Bellotte%2C+Pete%0AAlbums+produced+by+Pete+Bellotte#mw-subcategories\n",
      "getting links from https://en.wikipedia.org/w/index.php?title=Category:Albums_by_producer&subcatfrom=Chess%2C+Leonard%0AAlbums+produced+by+Leonard+Chess#mw-subcategories\n",
      "getting links from https://en.wikipedia.org/w/index.php?title=Category:Albums_by_producer&subcatfrom=Dj+Premier%0AAlbums+produced+by+DJ+Premier#mw-subcategories\n",
      "getting links from https://en.wikipedia.org/w/index.php?title=Category:Albums_by_producer&subcatfrom=Frayne%2C+George%0AAlbums+produced+by+George+Frayne#mw-subcategories\n",
      "getting links from https://en.wikipedia.org/w/index.php?title=Category:Albums_by_producer&subcatfrom=Hayton%2C+Lennie%0AAlbums+produced+by+Lennie+Hayton#mw-subcategories\n",
      "getting links from https://en.wikipedia.org/w/index.php?title=Category:Albums_by_producer&subcatfrom=Juicy+J%0AAlbums+produced+by+Juicy+J#mw-subcategories\n",
      "getting links from https://en.wikipedia.org/w/index.php?title=Category:Albums_by_producer&subcatfrom=Levine%2C+Stewart%0AAlbums+produced+by+Stewart+Levine#mw-subcategories\n",
      "getting links from https://en.wikipedia.org/w/index.php?title=Category:Albums_by_producer&subcatfrom=Mike+D%0AAlbums+produced+by+Mike+D#mw-subcategories\n",
      "getting links from https://en.wikipedia.org/w/index.php?title=Category:Albums_by_producer&subcatfrom=Pegg%2C+Dave%0AAlbums+produced+by+Dave+Pegg#mw-subcategories\n",
      "getting links from https://en.wikipedia.org/w/index.php?title=Category:Albums_by_producer&subcatfrom=Rose%2C+Wesley%0AAlbums+produced+by+Wesley+Rose#mw-subcategories\n",
      "getting links from https://en.wikipedia.org/w/index.php?title=Category:Albums_by_producer&subcatfrom=Springsteen%2C+Devo%0AAlbums+produced+by+Devo+Springsteen#mw-subcategories\n",
      "getting links from https://en.wikipedia.org/w/index.php?title=Category:Albums_by_producer&subcatfrom=Vaughn%2C+Ben%0AAlbums+produced+by+Ben+Vaughn#mw-subcategories\n"
     ]
    }
   ],
   "source": [
    "wiki_url2 = 'https://en.wikipedia.org/wiki/Category:Albums_by_producer'\n",
    "links = get_category_links(wiki_url2)"
   ]
  },
  {
   "cell_type": "code",
   "execution_count": 20,
   "metadata": {},
   "outputs": [
    {
     "data": {
      "text/plain": [
       "2581"
      ]
     },
     "execution_count": 20,
     "metadata": {},
     "output_type": "execute_result"
    }
   ],
   "source": [
    "len(links)"
   ]
  },
  {
   "cell_type": "markdown",
   "metadata": {},
   "source": [
    "Cool! We now have a way to get lists of albums. Can Spotify give us a list of songs in an album?"
   ]
  },
  {
   "cell_type": "code",
   "execution_count": 21,
   "metadata": {},
   "outputs": [
    {
     "name": "stdout",
     "output_type": "stream",
     "text": [
      "Drumming Song \t|\t 3DQGus4N9O9lk343trfNno\n",
      "Emotions \t|\t 2yrHacdhmKCntWO8pdfj6t\n",
      "Cry Me a River \t|\t 1rj6DjmbzgIj5muwrRvoX5\n",
      "Renegade \t|\t 2UlAJ40lg23zpfAF2fMhLL\n",
      "Robots \t|\t 4y6RREsxp7FFI0TWvDqkGm\n",
      "Valerie \t|\t 7r9CtQbliORexZwbOMeDgO\n",
      "Gone \t|\t 6SYptf8cpTTsVmmI0GWj2F\n",
      "Forget You \t|\t 0IqTlV1tMqAG7fhnv4xRcZ\n",
      "Mashup (Love the Way You Lie/Dynamite/Teenage Dream) \t|\t 1lZW1mmm6cQlHOG89Uoj4s\n",
      "Sparkling Diamonds \t|\t 12SEa6vgBhlpgwM8F91GQs\n"
     ]
    }
   ],
   "source": [
    "album_id = sp.search(q='album:just in capes',type='album')['albums']['items'][0]['id']\n",
    "for song in sp.album_tracks(album_id)['items']:\n",
    "    print(song['name'], '\\t|\\t', song['id'])"
   ]
  },
  {
   "cell_type": "markdown",
   "metadata": {},
   "source": [
    "Affirmative."
   ]
  },
  {
   "cell_type": "markdown",
   "metadata": {},
   "source": [
    "Two more things to do\n",
    "\n",
    "- Write code that takes an Album page and returns the Album Name and the Artist Name\n",
    "- Write code that takes an Album and Artist name and puts the audio analysis into the mongo DB (without duplicates)"
   ]
  },
  {
   "cell_type": "code",
   "execution_count": 33,
   "metadata": {},
   "outputs": [
    {
     "name": "stdout",
     "output_type": "stream",
     "text": [
      "Peasants, Pigs & Astronauts\n"
     ]
    }
   ],
   "source": [
    "# Find Album Name\n",
    "\n",
    "alb_url = 'https://en.wikipedia.org/wiki/Peasants,_Pigs_%26_Astronauts'\n",
    "alb_html = requests.get(alb_url).content\n",
    "alb_soup = BeautifulSoup(alb_html, 'html.parser')\n",
    "alb_name = alb_soup.find_all('th', class_='summary album')[0].text\n",
    "print(alb_name)"
   ]
  },
  {
   "cell_type": "code",
   "execution_count": 34,
   "metadata": {},
   "outputs": [
    {
     "name": "stdout",
     "output_type": "stream",
     "text": [
      "Great Hosannah \t|\t 4vxsWMxEMbmAPoCVdtUysm\n",
      "Mystical Machine Gun \t|\t 1to0i1rS29pUCdKQjDdMIF\n",
      "S.O.S. \t|\t 39cnQvXueMrwRkBsovBuxW\n",
      "Radhe Radhe \t|\t 1E7wdPm8dsZ6Tz3QjzEnUb\n",
      "I'm Still Here \t|\t 420bdNzSzj0EQI14yiLo0r\n",
      "Shower Your Love - With Shenai \t|\t 3SbocF4Hfqk10f3ZFTkfV8\n",
      "108 Battles (Of The Mind) \t|\t 2m6OoG5j12fu8vnLmNASyZ\n",
      "Sound Of Drums \t|\t 2GBVHsfTYgIT4x5yhToC3S\n",
      "Timeworm \t|\t 0fdNoDw9W5bu1rTiwgBWv8\n",
      "Last Farewell \t|\t 1kJHW1e87MkPhCadtPcfHX\n",
      "Golden Avatar \t|\t 3W0ttwJzW5XSVqO6pmCuWr\n",
      "Namami Nanda-Nandana \t|\t 2LF6nAg7CifHtL3OlYOunG\n",
      "Stotra \t|\t 5WGP42OpPRLk5Jru6DfBnU\n"
     ]
    }
   ],
   "source": [
    "# Can spotify's query handle the comma and ampersand?\n",
    "\n",
    "album_id = sp.search(q='album:{}'.format(alb_name),type='album')['albums']['items'][0]['id']\n",
    "for song in sp.album_tracks(album_id)['items']:\n",
    "    print(song['name'], '\\t|\\t', song['id'])\n",
    "    \n",
    "# That's a 10-4, roger."
   ]
  },
  {
   "cell_type": "markdown",
   "metadata": {},
   "source": [
    "Here's some issues with the data and doing data collection this way.  From wikipedia (**emphasis** mine):\n",
    "\n",
    "> Initial recording sessions for the album were produced by John Leckie but the band soon decided to bring in producers George Drakoulias and Rick Rubin instead.[1] Eventually **Drakoulias and Rubin were rejected by the band and Bob Ezrin was brought in to complete the album.[1] As a result of this, the production credits for the album's lead single, \"Sound of Drums\", name Drakoulias and Rubin as producers, while the rest of Peasants, Pigs & Astronauts is produced by Ezrin.** Like its predecessor, K, the album continues the band's hybrid of 1960s-style psychedelic rock, groovy indie pop, and Indian instrumentation, albeit with a more progressive rock slant than on previous releases.[1] Musically, many of the songs make use of Beatles-influenced psychedelic effects, swirling guitars, and Indian chants.[1] This musical eclecticism prompted the band themselves to refer to Peasants, Pigs & Astronauts as their \"kitchen sink album\".[2]"
   ]
  },
  {
   "cell_type": "code",
   "execution_count": 38,
   "metadata": {},
   "outputs": [
    {
     "data": {
      "text/plain": [
       "'Kula Shaker'"
      ]
     },
     "execution_count": 38,
     "metadata": {},
     "output_type": "execute_result"
    }
   ],
   "source": [
    "# Find Artist Name:\n",
    "\n",
    "alb_url = 'https://en.wikipedia.org/wiki/Peasants,_Pigs_%26_Astronauts'\n",
    "alb_html = requests.get(alb_url).content\n",
    "alb_soup = BeautifulSoup(alb_html, 'html.parser')\n",
    "art_name = alb_soup.find_all('div', class_='contributor')[0].text\n",
    "art_name"
   ]
  },
  {
   "cell_type": "markdown",
   "metadata": {},
   "source": [
    "As a reminder, the MongoDB data form is:\n",
    "\n",
    "            \n",
    "            new_entry = {'track':track,\n",
    "                         'artist':artist,\n",
    "                         'album':album,\n",
    "                         'producer':producer,\n",
    "                         'spotify_id':song_id,\n",
    "                         'track_info':song_info,\n",
    "                         'audio_analysis':song_analysis,\n",
    "                         'audio_features':song_features}"
   ]
  },
  {
   "cell_type": "code",
   "execution_count": 85,
   "metadata": {},
   "outputs": [],
   "source": [
    "\"\"\"Make a function that takes album_url and a spotipy object and returns the tuple \n",
    "(track, artist, album, producer, spotify_id, track_info, audio_analysis, Audio_features)\n",
    "\"\"\"\n",
    "\n",
    "def entry_from_wiki_album(album_url, sp, producer):\n",
    "    album_html = requests.get(album_url).content\n",
    "    alb_soup = BeautifulSoup(album_html, 'html.parser')\n",
    "    \n",
    "    album = alb_soup.find_all('th', class_='summary album')[0].text\n",
    "    artist = alb_soup.find_all('div', class_='contributor')[0].text\n",
    "    \n",
    "    print()\n",
    "    print('- '*10)\n",
    "    print('Pinging Spotify for {} by {}...'.format(album,artist))\n",
    "    print('- '*10)\n",
    "    print()\n",
    "    try:\n",
    "        album_results = sp.search(q='album:{} artist:{}'.format(album, artist),type='album')\n",
    "        album_id = album_results['albums']['items'][0]['id']\n",
    "\n",
    "        album_output = []\n",
    "\n",
    "        for song in sp.album_tracks(album_id)['items']:\n",
    "            track = song['name']\n",
    "            spotify_id = song['id']\n",
    "            track_info = sp.track(spotify_id)\n",
    "            audio_analysis = sp.audio_analysis(spotify_id)\n",
    "            audio_features = sp.audio_features(spotify_id)\n",
    "\n",
    "            album_output.append( (track, artist, album, producer, spotify_id, track_info, audio_analysis, audio_features) )\n",
    "\n",
    "        return album_output\n",
    "    \n",
    "\n",
    "    except Exception as ex:\n",
    "        print( ex )\n",
    "        print(album_results)\n",
    "        print()\n",
    "        if album_results == None:\n",
    "            sleep(60)\n",
    "            sp = spotipy.Spotify(client_credentials_manager=client_credentials_manager)\n",
    "            try:\n",
    "                results = entry_from_wiki_album(album_url, sp, producer)\n",
    "                return results\n",
    "            except:\n",
    "                raise Exception('Album {} not scraped'.format(album_url))"
   ]
  },
  {
   "cell_type": "code",
   "execution_count": 43,
   "metadata": {},
   "outputs": [
    {
     "name": "stdout",
     "output_type": "stream",
     "text": [
      "Time elapsed: 19.37245202064514 seconds\n"
     ]
    }
   ],
   "source": [
    "album_url = 'https://en.wikipedia.org/wiki/Peasants,_Pigs_%26_Astronauts'\n",
    "\n",
    "import time\n",
    "\n",
    "start = time.time()\n",
    "\n",
    "album_output = entry_from_wiki_album(album_url, sp, 'Rick Rubin')\n",
    "\n",
    "end = time.time()\n",
    "\n",
    "print(\"Time elapsed: {} seconds\".format(end - start))"
   ]
  },
  {
   "cell_type": "code",
   "execution_count": 47,
   "metadata": {},
   "outputs": [
    {
     "data": {
      "text/plain": [
       "192"
      ]
     },
     "execution_count": 47,
     "metadata": {},
     "output_type": "execute_result"
    }
   ],
   "source": [
    "# album_output\n",
    "sys.getsizeof(album_output)"
   ]
  },
  {
   "cell_type": "code",
   "execution_count": 5,
   "metadata": {},
   "outputs": [
    {
     "ename": "NameError",
     "evalue": "name 'album_output' is not defined",
     "output_type": "error",
     "traceback": [
      "\u001b[0;31m---------------------------------------------------------------------------\u001b[0m",
      "\u001b[0;31mNameError\u001b[0m                                 Traceback (most recent call last)",
      "\u001b[0;32m<ipython-input-5-50cd177c885e>\u001b[0m in \u001b[0;36m<module>\u001b[0;34m\u001b[0m\n\u001b[1;32m     19\u001b[0m     \u001b[0;32mreturn\u001b[0m \u001b[0msize\u001b[0m\u001b[0;34m\u001b[0m\u001b[0;34m\u001b[0m\u001b[0m\n\u001b[1;32m     20\u001b[0m \u001b[0;34m\u001b[0m\u001b[0m\n\u001b[0;32m---> 21\u001b[0;31m \u001b[0mget_size\u001b[0m\u001b[0;34m(\u001b[0m\u001b[0malbum_output\u001b[0m\u001b[0;34m)\u001b[0m\u001b[0;34m/\u001b[0m\u001b[0;34m(\u001b[0m\u001b[0;36m2\u001b[0m\u001b[0;34m**\u001b[0m\u001b[0;36m20\u001b[0m\u001b[0;34m)\u001b[0m\u001b[0;34m\u001b[0m\u001b[0;34m\u001b[0m\u001b[0m\n\u001b[0m",
      "\u001b[0;31mNameError\u001b[0m: name 'album_output' is not defined"
     ]
    }
   ],
   "source": [
    "def get_size(obj, seen=None):\n",
    "    \"\"\"Recursively finds size of objects\"\"\"\n",
    "    size = sys.getsizeof(obj)\n",
    "    if seen is None:\n",
    "        seen = set()\n",
    "    obj_id = id(obj)\n",
    "    if obj_id in seen:\n",
    "        return 0\n",
    "    # Important mark as seen *before* entering recursion to gracefully handle\n",
    "    # self-referential objects\n",
    "    seen.add(obj_id)\n",
    "    if isinstance(obj, dict):\n",
    "        size += sum([get_size(v, seen) for v in obj.values()])\n",
    "        size += sum([get_size(k, seen) for k in obj.keys()])\n",
    "    elif hasattr(obj, '__dict__'):\n",
    "        size += get_size(obj.__dict__, seen)\n",
    "    elif hasattr(obj, '__iter__') and not isinstance(obj, (str, bytes, bytearray)):\n",
    "        size += sum([get_size(i, seen) for i in obj])\n",
    "    return size\n",
    "\n",
    "get_size(album_output)/(2**20)"
   ]
  },
  {
   "cell_type": "markdown",
   "metadata": {},
   "source": [
    "One album is approximately 20Mb worth of data!"
   ]
  },
  {
   "cell_type": "code",
   "execution_count": 52,
   "metadata": {},
   "outputs": [
    {
     "data": {
      "text/plain": [
       "1033.2"
      ]
     },
     "execution_count": 52,
     "metadata": {},
     "output_type": "execute_result"
    }
   ],
   "source": [
    "# Sanity check:\n",
    "\n",
    "2583 * 20 * 20 / 1000 #number of gigabytes of data if I scrape everything. (Approximately)"
   ]
  },
  {
   "cell_type": "code",
   "execution_count": 62,
   "metadata": {},
   "outputs": [
    {
     "data": {
      "text/plain": [
       "0.70400435665649"
      ]
     },
     "execution_count": 62,
     "metadata": {},
     "output_type": "execute_result"
    }
   ],
   "source": [
    "segments = get_size(album_output[0][6]['segments'])\n",
    "song = get_size(album_output[0])\n",
    "segments/song\n",
    "#70% of a song's information is in the segments. Probably doesn't make sense to make the files smaller."
   ]
  },
  {
   "cell_type": "markdown",
   "metadata": {},
   "source": [
    "Now make a script that starts at the Lists of Albums and returns every album URL with producer name:\n"
   ]
  },
  {
   "cell_type": "code",
   "execution_count": 86,
   "metadata": {},
   "outputs": [],
   "source": [
    "def scrape_album_list(producer_url):\n",
    "    \n",
    "    \"\"\"\n",
    "    INPUT: producer_url (wikipedia)\n",
    "    OUTPUT: list of (album_url, producer) tuples\n",
    "    \"\"\"\n",
    "    \n",
    "    html = requests.get(producer_url).content\n",
    "    soup = BeautifulSoup(html, 'html.parser')\n",
    "    producer = soup.find_all('h1', {'id':\"firstHeading\"})[0].text.split('by ')[-1]\n",
    "    print('Producer: {}'.format(producer))\n",
    "    \n",
    "    album_url_list = get_category_links(producer_url)\n",
    "    \n",
    "    output = list(zip( album_url_list, [producer]*len(album_url_list) ))\n",
    "    \n",
    "    return output"
   ]
  },
  {
   "cell_type": "code",
   "execution_count": 66,
   "metadata": {},
   "outputs": [
    {
     "name": "stdout",
     "output_type": "stream",
     "text": [
      "Producer: Rick Rubin\n"
     ]
    },
    {
     "data": {
      "text/plain": [
       "[('https://en.wikipedia.org/wiki/12_Songs_(Neil_Diamond_album)', 'Rick Rubin'),\n",
       " ('https://en.wikipedia.org/wiki/13_(Black_Sabbath_album)', 'Rick Rubin'),\n",
       " ('https://en.wikipedia.org/wiki/21_(Adele_album)', 'Rick Rubin'),\n",
       " ('https://en.wikipedia.org/wiki/All_World_2', 'Rick Rubin'),\n",
       " ('https://en.wikipedia.org/wiki/All_World:_Greatest_Hits', 'Rick Rubin'),\n",
       " ('https://en.wikipedia.org/wiki/American_IV:_The_Man_Comes_Around',\n",
       "  'Rick Rubin'),\n",
       " ('https://en.wikipedia.org/wiki/American_Grafishy', 'Rick Rubin'),\n",
       " ('https://en.wikipedia.org/wiki/American_III:_Solitary_Man', 'Rick Rubin'),\n",
       " ('https://en.wikipedia.org/wiki/American_Recordings_(album)', 'Rick Rubin'),\n",
       " ('https://en.wikipedia.org/wiki/American_V:_A_Hundred_Highways',\n",
       "  'Rick Rubin'),\n",
       " ('https://en.wikipedia.org/wiki/American_VI:_Ain%27t_No_Grave', 'Rick Rubin'),\n",
       " ('https://en.wikipedia.org/wiki/Amethyst_Rock_Star', 'Rick Rubin'),\n",
       " ('https://en.wikipedia.org/wiki/Angus_%26_Julia_Stone_(album)', 'Rick Rubin'),\n",
       " ('https://en.wikipedia.org/wiki/Antennas_to_Hell', 'Rick Rubin'),\n",
       " ('https://en.wikipedia.org/wiki/Anthology:_Through_the_Years', 'Rick Rubin'),\n",
       " ('https://en.wikipedia.org/wiki/Armed_Love', 'Rick Rubin'),\n",
       " ('https://en.wikipedia.org/wiki/Artpop', 'Rick Rubin'),\n",
       " ('https://en.wikipedia.org/wiki/Audioslave_(album)', 'Rick Rubin'),\n",
       " ('https://en.wikipedia.org/wiki/Back_and_Fourth_(Pete_Yorn_album)',\n",
       "  'Rick Rubin'),\n",
       " ('https://en.wikipedia.org/wiki/Ballbreaker', 'Rick Rubin'),\n",
       " ('https://en.wikipedia.org/wiki/A_Better_Tomorrow_(album)', 'Rick Rubin'),\n",
       " ('https://en.wikipedia.org/wiki/Beyond_Magnetic', 'Rick Rubin'),\n",
       " ('https://en.wikipedia.org/wiki/The_Black_Album_(Jay-Z_album)', 'Rick Rubin'),\n",
       " ('https://en.wikipedia.org/wiki/Blood_Sugar_Sex_Magik', 'Rick Rubin'),\n",
       " ('https://en.wikipedia.org/wiki/Born_Free_(Kid_Rock_album)', 'Rick Rubin'),\n",
       " ('https://en.wikipedia.org/wiki/Born_to_Die:_The_Paradise_Edition',\n",
       "  'Rick Rubin'),\n",
       " ('https://en.wikipedia.org/wiki/By_the_Way', 'Rick Rubin'),\n",
       " ('https://en.wikipedia.org/wiki/Californication_(album)', 'Rick Rubin'),\n",
       " ('https://en.wikipedia.org/wiki/Chef_Aid:_The_South_Park_Album',\n",
       "  'Rick Rubin'),\n",
       " ('https://en.wikipedia.org/wiki/Chief_Boot_Knocka', 'Rick Rubin'),\n",
       " ('https://en.wikipedia.org/wiki/Christ_Illusion', 'Rick Rubin'),\n",
       " ('https://en.wikipedia.org/wiki/Collected_(Limp_Bizkit_album)', 'Rick Rubin'),\n",
       " ('https://en.wikipedia.org/wiki/The_Colour_in_Anything', 'Rick Rubin'),\n",
       " ('https://en.wikipedia.org/wiki/Coordinates_(The_Band_Perry_EP)',\n",
       "  'Rick Rubin'),\n",
       " ('https://en.wikipedia.org/wiki/The_Cross_of_My_Calling', 'Rick Rubin'),\n",
       " ('https://en.wikipedia.org/wiki/Crunk_Juice', 'Rick Rubin'),\n",
       " ('https://en.wikipedia.org/wiki/Dancing_for_the_Death_of_an_Imaginary_Enemy',\n",
       "  'Rick Rubin'),\n",
       " ('https://en.wikipedia.org/wiki/Danzig_(album)', 'Rick Rubin'),\n",
       " ('https://en.wikipedia.org/wiki/Danzig_4', 'Rick Rubin'),\n",
       " ('https://en.wikipedia.org/wiki/Danzig_II:_Lucifuge', 'Rick Rubin'),\n",
       " ('https://en.wikipedia.org/wiki/Danzig_III:_How_the_Gods_Kill', 'Rick Rubin'),\n",
       " ('https://en.wikipedia.org/wiki/The_Day_the_Laughter_Died', 'Rick Rubin'),\n",
       " ('https://en.wikipedia.org/wiki/The_Day_the_Laughter_Died,_Part_II',\n",
       "  'Rick Rubin'),\n",
       " ('https://en.wikipedia.org/wiki/De-Loused_in_the_Comatorium', 'Rick Rubin'),\n",
       " ('https://en.wikipedia.org/wiki/Death_Magnetic', 'Rick Rubin'),\n",
       " ('https://en.wikipedia.org/wiki/Decade_of_Aggression', 'Rick Rubin'),\n",
       " ('https://en.wikipedia.org/wiki/Diabolus_in_Musica', 'Rick Rubin'),\n",
       " ('https://en.wikipedia.org/wiki/Divine_Intervention_(album)', 'Rick Rubin'),\n",
       " ('https://en.wikipedia.org/wiki/Dynamite_Monster_Boogie_Concert',\n",
       "  'Rick Rubin'),\n",
       " ('https://en.wikipedia.org/wiki/Echo_(Tom_Petty_and_the_Heartbreakers_album)',\n",
       "  'Rick Rubin'),\n",
       " ('https://en.wikipedia.org/wiki/Electric_(The_Cult_album)', 'Rick Rubin'),\n",
       " ('https://en.wikipedia.org/wiki/Empty_(God_Lives_Underwater_album)',\n",
       "  'Rick Rubin'),\n",
       " ('https://en.wikipedia.org/wiki/The_End_(Black_Sabbath_EP)', 'Rick Rubin'),\n",
       " ('https://en.wikipedia.org/wiki/The_Essential_Bangles', 'Rick Rubin'),\n",
       " ('https://en.wikipedia.org/wiki/Fijaci%C3%B3n_Oral,_Vol._1', 'Rick Rubin'),\n",
       " ('https://en.wikipedia.org/wiki/Further_Down_the_Spiral', 'Rick Rubin'),\n",
       " ('https://en.wikipedia.org/wiki/FutureSex/LoveSounds', 'Rick Rubin'),\n",
       " ('https://en.wikipedia.org/wiki/The_Geto_Boys_(album)', 'Rick Rubin'),\n",
       " ('https://en.wikipedia.org/wiki/Give_Up_the_Ghost_(album)', 'Rick Rubin'),\n",
       " ('https://en.wikipedia.org/wiki/The_Globe_Sessions', 'Rick Rubin'),\n",
       " ('https://en.wikipedia.org/wiki/God_Hates_Us_All', 'Rick Rubin'),\n",
       " ('https://en.wikipedia.org/wiki/God_Lives_Underwater_(EP)', 'Rick Rubin'),\n",
       " ('https://en.wikipedia.org/wiki/The_Great_Adventures_of_Slick_Rick',\n",
       "  'Rick Rubin'),\n",
       " ('https://en.wikipedia.org/wiki/Greatest_Hits_(Jay-Z_album)', 'Rick Rubin'),\n",
       " ('https://en.wikipedia.org/wiki/Greatest_Hits_(Red_Hot_Chili_Peppers_album)',\n",
       "  'Rick Rubin'),\n",
       " ('https://en.wikipedia.org/wiki/Greatest_Hits_(The_Bangles_album)',\n",
       "  'Rick Rubin'),\n",
       " ('https://en.wikipedia.org/wiki/Greatest_Hits_(Tom_Petty_album)',\n",
       "  'Rick Rubin'),\n",
       " ('https://en.wikipedia.org/wiki/Greatest_Hitz_(Limp_Bizkit_album)',\n",
       "  'Rick Rubin'),\n",
       " ('https://en.wikipedia.org/wiki/Heroes_and_Villains_(album)', 'Rick Rubin'),\n",
       " ('https://en.wikipedia.org/wiki/Home_Before_Dark', 'Rick Rubin'),\n",
       " ('https://en.wikipedia.org/wiki/Hose_(album)', 'Rick Rubin'),\n",
       " ('https://en.wikipedia.org/wiki/Hypnotize_(album)', 'Rick Rubin'),\n",
       " ('https://en.wikipedia.org/wiki/I_and_Love_and_You', 'Rick Rubin'),\n",
       " ('https://en.wikipedia.org/wiki/I%27m_Beside_You', 'Rick Rubin'),\n",
       " ('https://en.wikipedia.org/wiki/I%27m_with_You_(album)', 'Rick Rubin'),\n",
       " ('https://en.wikipedia.org/wiki/I%27m_with_You_Sessions', 'Rick Rubin'),\n",
       " ('https://en.wikipedia.org/wiki/Icon_(Limp_Bizkit_album)', 'Rick Rubin'),\n",
       " ('https://en.wikipedia.org/wiki/Illuminations_(Josh_Groban_album)',\n",
       "  'Rick Rubin'),\n",
       " ('https://en.wikipedia.org/wiki/It_Takes_a_Nation_of_Millions_to_Hold_Us_Back',\n",
       "  'Rick Rubin'),\n",
       " ('https://en.wikipedia.org/wiki/Jay-Z:_The_Hits_Collection,_Volume_One',\n",
       "  'Rick Rubin'),\n",
       " ('https://en.wikipedia.org/wiki/Joe_Strummer_%26_the_Mescaleros:_The_Hellcat_Years',\n",
       "  'Rick Rubin'),\n",
       " ('https://en.wikipedia.org/wiki/King_King_(album)', 'Rick Rubin'),\n",
       " ('https://en.wikipedia.org/wiki/Krush_Groove', 'Rick Rubin'),\n",
       " ('https://en.wikipedia.org/wiki/La_Futura', 'Rick Rubin'),\n",
       " ('https://en.wikipedia.org/wiki/Less_Than_Zero_(soundtrack)', 'Rick Rubin'),\n",
       " ('https://en.wikipedia.org/wiki/Licensed_to_Ill', 'Rick Rubin'),\n",
       " ('https://en.wikipedia.org/wiki/The_Life_of_Pablo', 'Rick Rubin'),\n",
       " ('https://en.wikipedia.org/wiki/Live_at_the_Grand_Olympic_Auditorium',\n",
       "  'Rick Rubin'),\n",
       " ('https://en.wikipedia.org/wiki/Live_Fast,_Die_Fast', 'Rick Rubin'),\n",
       " ('https://en.wikipedia.org/wiki/Live_in_Cuba_(Audioslave_album)',\n",
       "  'Rick Rubin'),\n",
       " ('https://en.wikipedia.org/wiki/Live_Rare_Remix_Box', 'Rick Rubin'),\n",
       " ('https://en.wikipedia.org/wiki/Living_in_the_Present_Future', 'Rick Rubin'),\n",
       " ('https://en.wikipedia.org/wiki/Living_Things_(Linkin_Park_album)',\n",
       "  'Rick Rubin'),\n",
       " ('https://en.wikipedia.org/wiki/The_Lost_Tracks_of_Danzig', 'Rick Rubin'),\n",
       " ('https://en.wikipedia.org/wiki/Luna_Halo_(album)', 'Rick Rubin'),\n",
       " ('https://en.wikipedia.org/wiki/Mack_Daddy', 'Rick Rubin'),\n",
       " ('https://en.wikipedia.org/wiki/Magpie_and_the_Dandelion', 'Rick Rubin'),\n",
       " ('https://en.wikipedia.org/wiki/Make_Believe_(Weezer_album)', 'Rick Rubin'),\n",
       " ('https://en.wikipedia.org/wiki/Manic_Frustration', 'Rick Rubin'),\n",
       " ('https://en.wikipedia.org/wiki/The_Marshall_Mathers_LP_2', 'Rick Rubin'),\n",
       " ('https://en.wikipedia.org/wiki/Masters_of_Reality_(album)', 'Rick Rubin'),\n",
       " ('https://en.wikipedia.org/wiki/The_Metallica_Collection', 'Rick Rubin'),\n",
       " ('https://en.wikipedia.org/wiki/Mezmerize_(album)', 'Rick Rubin'),\n",
       " ('https://en.wikipedia.org/wiki/Minutes_to_Midnight_(Linkin_Park_album)',\n",
       "  'Rick Rubin'),\n",
       " ('https://en.wikipedia.org/wiki/Mr._Hankey%27s_Christmas_Classics',\n",
       "  'Rick Rubin'),\n",
       " ('https://en.wikipedia.org/wiki/Music_for_Men', 'Rick Rubin'),\n",
       " ('https://en.wikipedia.org/wiki/My_Favourite_Faded_Fantasy', 'Rick Rubin'),\n",
       " ('https://en.wikipedia.org/wiki/My_Mother%27s_Hymn_Book', 'Rick Rubin'),\n",
       " ('https://en.wikipedia.org/wiki/Northern_Star_(Melanie_C_album)',\n",
       "  'Rick Rubin'),\n",
       " ('https://en.wikipedia.org/wiki/O,_Yeah!_Ultimate_Aerosmith_Hits',\n",
       "  'Rick Rubin'),\n",
       " ('https://en.wikipedia.org/wiki/Ogilala', 'Rick Rubin'),\n",
       " ('https://en.wikipedia.org/wiki/One_Hot_Minute', 'Rick Rubin'),\n",
       " ('https://en.wikipedia.org/wiki/Oral_Fixation,_Vol._1_%26_2', 'Rick Rubin'),\n",
       " ('https://en.wikipedia.org/wiki/Oral_Fixation,_Vol._2', 'Rick Rubin'),\n",
       " ('https://en.wikipedia.org/wiki/Out_of_Exile', 'Rick Rubin'),\n",
       " ('https://en.wikipedia.org/wiki/Paloalto_(album)', 'Rick Rubin'),\n",
       " ('https://en.wikipedia.org/wiki/Paradise_(Lana_Del_Rey_EP)', 'Rick Rubin'),\n",
       " ('https://en.wikipedia.org/wiki/Peasants,_Pigs_%26_Astronauts', 'Rick Rubin'),\n",
       " ('https://en.wikipedia.org/wiki/Radio_(LL_Cool_J_album)', 'Rick Rubin'),\n",
       " ('https://en.wikipedia.org/wiki/Rainy_Day_Music', 'Rick Rubin'),\n",
       " ('https://en.wikipedia.org/wiki/Raising_Hell_(album)', 'Rick Rubin'),\n",
       " ('https://en.wikipedia.org/wiki/Recharged_(album)', 'Rick Rubin'),\n",
       " ('https://en.wikipedia.org/wiki/Reign_in_Blood', 'Rick Rubin'),\n",
       " ('https://en.wikipedia.org/wiki/Renegades_(Rage_Against_the_Machine_album)',\n",
       "  'Rick Rubin'),\n",
       " ('https://en.wikipedia.org/wiki/Results_May_Vary', 'Rick Rubin'),\n",
       " ('https://en.wikipedia.org/wiki/Return_of_the_Bumpasaurus', 'Rick Rubin'),\n",
       " ('https://en.wikipedia.org/wiki/Revival_(Eminem_album)', 'Rick Rubin'),\n",
       " ('https://en.wikipedia.org/wiki/Road_Trippin%27_Through_Time', 'Rick Rubin'),\n",
       " ('https://en.wikipedia.org/wiki/Rock_%26_Roll_Hall_of_Fame_Covers_EP',\n",
       "  'Rick Rubin'),\n",
       " ('https://en.wikipedia.org/wiki/Seasons_in_the_Abyss', 'Rick Rubin'),\n",
       " ('https://en.wikipedia.org/wiki/Seeing_Things_(album)', 'Rick Rubin'),\n",
       " ('https://en.wikipedia.org/wiki/Shake_Your_Money_Maker_(album)',\n",
       "  'Rick Rubin'),\n",
       " ('https://en.wikipedia.org/wiki/Shangri_La_(Jake_Bugg_album)', 'Rick Rubin'),\n",
       " ('https://en.wikipedia.org/wiki/Shiny_and_Oh_So_Bright,_Vol._1_/_LP:_No_Past._No_Future._No_Sun.',\n",
       "  'Rick Rubin'),\n",
       " ('https://en.wikipedia.org/wiki/Solid_Gold_Hits', 'Rick Rubin'),\n",
       " ('https://en.wikipedia.org/wiki/Songs_and_Music_from_%22She%27s_the_One%22',\n",
       "  'Rick Rubin'),\n",
       " ('https://en.wikipedia.org/wiki/Soundtrack_to_the_Apocalypse', 'Rick Rubin'),\n",
       " ('https://en.wikipedia.org/wiki/South_of_Heaven', 'Rick Rubin'),\n",
       " ('https://en.wikipedia.org/wiki/Stadium_Arcadium', 'Rick Rubin'),\n",
       " ('https://en.wikipedia.org/wiki/Star_Wars_Headspace', 'Rick Rubin'),\n",
       " ('https://en.wikipedia.org/wiki/Steal_This_Album!', 'Rick Rubin'),\n",
       " ('https://en.wikipedia.org/wiki/Streetcore', 'Rick Rubin'),\n",
       " ('https://en.wikipedia.org/wiki/Studio_Collection_2000%E2%80%932012',\n",
       "  'Rick Rubin'),\n",
       " ('https://en.wikipedia.org/wiki/Sutras_(album)', 'Rick Rubin'),\n",
       " ('https://en.wikipedia.org/wiki/System_of_a_Down_(album)', 'Rick Rubin'),\n",
       " ('https://en.wikipedia.org/wiki/Taking_the_Long_Way', 'Rick Rubin'),\n",
       " ('https://en.wikipedia.org/wiki/Tell_%27Em_I%27m_Gone', 'Rick Rubin'),\n",
       " ('https://en.wikipedia.org/wiki/That_Girl_(album)', 'Rick Rubin'),\n",
       " ('https://en.wikipedia.org/wiki/A_Thousand_Suns', 'Rick Rubin'),\n",
       " ('https://en.wikipedia.org/wiki/Thrall:_Demonsweatlive', 'Rick Rubin'),\n",
       " ('https://en.wikipedia.org/wiki/Tougher_Than_Leather', 'Rick Rubin'),\n",
       " ('https://en.wikipedia.org/wiki/Toxicity_(album)', 'Rick Rubin'),\n",
       " ('https://en.wikipedia.org/wiki/Trans-Continental_Hustle', 'Rick Rubin'),\n",
       " ('https://en.wikipedia.org/wiki/Trouble_(Trouble_album)', 'Rick Rubin'),\n",
       " ('https://en.wikipedia.org/wiki/True_Sadness', 'Rick Rubin'),\n",
       " ('https://en.wikipedia.org/wiki/U218_Singles', 'Rick Rubin'),\n",
       " ('https://en.wikipedia.org/wiki/Unchained_(Johnny_Cash_album)', 'Rick Rubin'),\n",
       " ('https://en.wikipedia.org/wiki/Undisputed_Attitude', 'Rick Rubin'),\n",
       " ('https://en.wikipedia.org/wiki/Unearthed_(Johnny_Cash_album)', 'Rick Rubin'),\n",
       " ('https://en.wikipedia.org/wiki/VH1_Storytellers:_Johnny_Cash_%26_Willie_Nelson',\n",
       "  'Rick Rubin'),\n",
       " ('https://en.wikipedia.org/wiki/Vol._3:_(The_Subliminal_Verses)',\n",
       "  'Rick Rubin'),\n",
       " ('https://en.wikipedia.org/wiki/Voodoo-U', 'Rick Rubin'),\n",
       " ('https://en.wikipedia.org/wiki/Walking_with_a_Panther', 'Rick Rubin'),\n",
       " ('https://en.wikipedia.org/wiki/Wandering_Spirit_(album)', 'Rick Rubin'),\n",
       " ('https://en.wikipedia.org/wiki/The_War_of_Art_(album)', 'Rick Rubin'),\n",
       " ('https://en.wikipedia.org/wiki/Weezer_(Red_Album)', 'Rick Rubin'),\n",
       " ('https://en.wikipedia.org/wiki/Wildflowers_(Tom_Petty_album)', 'Rick Rubin'),\n",
       " ('https://en.wikipedia.org/wiki/World_Painted_Blood', 'Rick Rubin'),\n",
       " ('https://en.wikipedia.org/wiki/Yeezus', 'Rick Rubin'),\n",
       " ('https://en.wikipedia.org/wiki/Yo!_Bum_Rush_the_Show', 'Rick Rubin'),\n",
       " ('https://en.wikipedia.org/wiki/Young_Lust:_The_Aerosmith_Anthology',\n",
       "  'Rick Rubin')]"
      ]
     },
     "execution_count": 66,
     "metadata": {},
     "output_type": "execute_result"
    }
   ],
   "source": [
    "scrape_album_list('https://en.wikipedia.org/wiki/Category:Albums_produced_by_Rick_Rubin')"
   ]
  },
  {
   "cell_type": "markdown",
   "metadata": {},
   "source": [
    "# Gameplan:\n",
    "\n",
    "    Get producer_url\n",
    "    scrape_album_list(producer_url)\n",
    "    for every album:\n",
    "        album_entry_list = entry_from_wiki_album(album url, sp, producer)\n",
    "        for track in album_entry_list:\n",
    "            update/upsert the database where spotify_id and producer match (some songs may have multiple producers)"
   ]
  },
  {
   "cell_type": "code",
   "execution_count": 87,
   "metadata": {},
   "outputs": [],
   "source": [
    "# Load MongoDB\n",
    "\n",
    "from pymongo import MongoClient\n",
    "client = MongoClient()\n",
    "# Access/Initiate Database\n",
    "db = client['producer_db']\n",
    "# Access/Initiate Table\n",
    "tab = db['songs']\n",
    "collection = db.tab"
   ]
  },
  {
   "cell_type": "code",
   "execution_count": 94,
   "metadata": {},
   "outputs": [
    {
     "name": "stdout",
     "output_type": "stream",
     "text": [
      "Producer: Rick Rubin\n",
      "\n",
      "- - - - - - - - - - \n",
      "Pinging Spotify for 12 Songs by Neil Diamond...\n",
      "- - - - - - - - - - \n",
      "\n",
      "\n",
      "album_entry_list length: 12\n",
      "--------------------\n",
      "ALBUM: 12 Songs -- COMPLETE\n",
      "--------------------\n",
      "\n",
      "\t\tOh Mary by Neil Diamond\n",
      "\t\tHell Yeah by Neil Diamond\n",
      "\t\tCaptain Of A Shipwreck by Neil Diamond\n",
      "\t\tEvermore by Neil Diamond\n",
      "\t\tSave Me A Saturday Night by Neil Diamond\n",
      "\t\tDelirious Love by Neil Diamond\n",
      "\t\tI'm On To You by Neil Diamond\n",
      "\t\tWhat's It Gonna Be by Neil Diamond\n",
      "\t\tMan Of God by Neil Diamond\n",
      "\t\tCreate Me by Neil Diamond\n",
      "\t\tFace Me by Neil Diamond\n",
      "\t\tWe by Neil Diamond\n",
      "\n",
      "\n",
      "- - - - - - - - - - \n",
      "Pinging Spotify for 13 by Black Sabbath...\n",
      "- - - - - - - - - - \n",
      "\n",
      "\n",
      "album_entry_list length: 12\n",
      "--------------------\n",
      "ALBUM: 13 -- COMPLETE\n",
      "--------------------\n",
      "\n",
      "\t\tEnd Of The Beginning by Black Sabbath\n",
      "\t\tGod Is Dead? by Black Sabbath\n",
      "\t\tLoner by Black Sabbath\n",
      "\t\tZeitgeist by Black Sabbath\n",
      "\t\tAge Of Reason by Black Sabbath\n",
      "\t\tLive Forever by Black Sabbath\n",
      "\t\tDamaged Soul by Black Sabbath\n",
      "\t\tDear Father by Black Sabbath\n",
      "\t\tMethademic by Black Sabbath\n",
      "\t\tPeace Of Mind by Black Sabbath\n",
      "\t\tPariah by Black Sabbath\n",
      "\t\tDirty Women - Live in Australia / 2013 by Black Sabbath\n",
      "\n",
      "\n",
      "- - - - - - - - - - \n",
      "Pinging Spotify for 21 by Adele...\n",
      "- - - - - - - - - - \n",
      "\n",
      "\n",
      "album_entry_list length: 11\n",
      "--------------------\n",
      "ALBUM: 21 -- COMPLETE\n",
      "--------------------\n",
      "\n",
      "\t\tRolling in the Deep by Adele\n",
      "\t\tRumour Has It by Adele\n",
      "\t\tTurning Tables by Adele\n",
      "\t\tDon't You Remember by Adele\n",
      "\t\tSet Fire to the Rain by Adele\n",
      "\t\tHe Won't Go by Adele\n",
      "\t\tTake It All by Adele\n",
      "\t\tI'll Be Waiting by Adele\n",
      "\t\tOne And Only by Adele\n",
      "\t\tLovesong by Adele\n",
      "\t\tSomeone Like You by Adele\n",
      "\n",
      "\n",
      "- - - - - - - - - - \n",
      "Pinging Spotify for All World 2 by LL Cool J...\n",
      "- - - - - - - - - - \n",
      "\n",
      "\n",
      "album_entry_list length: 17\n",
      "--------------------\n",
      "ALBUM: All World 2 -- COMPLETE\n",
      "--------------------\n",
      "\n",
      "\t\tRock The Bells by LL Cool J\n",
      "\t\tDear Yvette by LL Cool J\n",
      "\t\tI'm That Type Of Guy by LL Cool J\n",
      "\t\tBig Ole Butt by LL Cool J\n",
      "\t\tPink Cookies In A Plastic Bag Getting Crushed By Buildings by LL Cool J\n",
      "\t\tAround The Way Girl by LL Cool J\n",
      "\t\tJack The Ripper by LL Cool J\n",
      "\t\tTo Da Break Of Dawn by LL Cool J\n",
      "\t\tI Shot Ya - Remix by LL Cool J\n",
      "\t\tIll Bomb by LL Cool J\n",
      "\t\tPhenomenon by LL Cool J\n",
      "\t\t4,3,2,1 - Video Version by LL Cool J\n",
      "\t\tLuv U Better by LL Cool J\n",
      "\t\tParadise by LL Cool J\n",
      "\t\tHeadsprung by LL Cool J\n",
      "\t\tHush by LL Cool J\n",
      "\t\tBaby by LL Cool J\n",
      "\n",
      "\n",
      "- - - - - - - - - - \n",
      "Pinging Spotify for All World: The Greatest Hits by LL Cool J...\n",
      "- - - - - - - - - - \n",
      "\n",
      "list index out of range\n",
      "{'albums': {'href': 'https://api.spotify.com/v1/search?query=album%3AAll+World%3A+The+Greatest+Hits+artist%3ALL+Cool+J&type=album&offset=0&limit=10', 'items': [], 'limit': 10, 'next': None, 'offset': 0, 'previous': None, 'total': 0}}\n",
      "\n",
      "object of type 'NoneType' has no len()\n",
      "\n",
      "xxxxxxxxxxxxxxxxxxxx\n",
      "ALBUM FAILURE: https://en.wikipedia.org/wiki/All_World:_Greatest_Hits\n",
      "album_entry_list:\n",
      "None\n",
      "\n",
      "xxxxxxxxxxxxxxxxxxxx\n",
      "\n",
      "\n",
      "- - - - - - - - - - \n",
      "Pinging Spotify for American IV: The Man Comes Around by Johnny Cash...\n",
      "- - - - - - - - - - \n",
      "\n",
      "\n",
      "album_entry_list length: 15\n",
      "--------------------\n",
      "ALBUM: American IV: The Man Comes Around -- COMPLETE\n",
      "--------------------\n",
      "\n",
      "\t\tThe Man Comes Around by Johnny Cash\n",
      "\t\tHurt by Johnny Cash\n",
      "\t\tGive My Love To Rose by Johnny Cash\n",
      "\t\tBridge Over Troubled Water by Johnny Cash\n",
      "\t\tI Hung My Head by Johnny Cash\n",
      "\t\tFirst Time Ever I Saw Your Face by Johnny Cash\n",
      "\t\tPersonal Jesus by Johnny Cash\n",
      "\t\tIn My Life by Johnny Cash\n",
      "\t\tSam Hall by Johnny Cash\n",
      "\t\tDanny Boy by Johnny Cash\n",
      "\t\tDesperado by Johnny Cash\n",
      "\t\tI'm So Lonesome I Could Cry by Johnny Cash\n",
      "\t\tTear Stained Letter by Johnny Cash\n",
      "\t\tStreets Of Laredo by Johnny Cash\n",
      "\t\tWe'll Meet Again by Johnny Cash\n",
      "\n",
      "\n",
      "- - - - - - - - - - \n",
      "Pinging Spotify for American Grafishy by Flipper...\n",
      "- - - - - - - - - - \n",
      "\n",
      "\n",
      "album_entry_list length: 10\n",
      "--------------------\n",
      "ALBUM: American Grafishy -- COMPLETE\n",
      "--------------------\n",
      "\n",
      "\t\tSomeday by Flipper\n",
      "\t\tFlipper Twist by Flipper\n",
      "\t\tMay The Truth Be Known by Flipper\n",
      "\t\tWe're Not Crazy by Flipper\n",
      "\t\tFucked Up Once Again by Flipper\n",
      "\t\tExist Or Else by Flipper\n",
      "\t\tDistant Illusion by Flipper\n",
      "\t\tTelephone by Flipper\n",
      "\t\tIt Pays To Know by Flipper\n",
      "\t\tFull Speed Ahead by Flipper\n",
      "\n",
      "\n",
      "- - - - - - - - - - \n",
      "Pinging Spotify for American III: Solitary Man by Johnny Cash...\n",
      "- - - - - - - - - - \n",
      "\n",
      "\n",
      "album_entry_list length: 14\n",
      "--------------------\n",
      "ALBUM: American III: Solitary Man -- COMPLETE\n",
      "--------------------\n",
      "\n",
      "\t\tI Won't Back Down by Johnny Cash\n",
      "\t\tSolitary Man by Johnny Cash\n",
      "\t\tThat Lucky Old Sun (Just Rolls Around Heaven All Day) by Johnny Cash\n",
      "\t\tOne by Johnny Cash\n",
      "\t\tNobody by Johnny Cash\n",
      "\t\tI See A Darkness by Johnny Cash\n",
      "\t\tThe Mercy Seat by Johnny Cash\n",
      "\t\tWould You Lay With Me (In A Field Of Stone) by Johnny Cash\n",
      "\t\tField Of Diamonds by Johnny Cash\n",
      "\t\tBefore My Time by Johnny Cash\n",
      "\t\tCountry Trash by Johnny Cash\n",
      "\t\tMary Of The Wild Moor by Johnny Cash\n",
      "\t\tI'm Leavin' Now by Johnny Cash\n",
      "\t\tWayfaring Stranger by Johnny Cash\n",
      "\n",
      "\n",
      "- - - - - - - - - - \n",
      "Pinging Spotify for American Recordings by Johnny Cash...\n",
      "- - - - - - - - - - \n",
      "\n",
      "\n",
      "album_entry_list length: 13\n",
      "--------------------\n",
      "ALBUM: American Recordings -- COMPLETE\n",
      "--------------------\n",
      "\n",
      "\t\tDelia's Gone by Johnny Cash\n",
      "\t\tLet The Train Blow The Whistle by Johnny Cash\n",
      "\t\tThe Beast In Me by Johnny Cash\n",
      "\t\tDrive On by Johnny Cash\n",
      "\t\tWhy Me Lord by Johnny Cash\n",
      "\t\tThirteen by Johnny Cash\n",
      "\t\tOh, Bury Me Not (Introduction: A Cowboy's Prayer) by Johnny Cash\n",
      "\t\tBird On A Wire by Johnny Cash\n",
      "\t\tTennessee Stud by Johnny Cash\n",
      "\t\tDown There By The Train by Johnny Cash\n",
      "\t\tRedemption by Johnny Cash\n",
      "\t\tLike A Soldier by Johnny Cash\n",
      "\t\tThe Man Who Couldn't Cry by Johnny Cash\n",
      "\n",
      "\n",
      "- - - - - - - - - - \n",
      "Pinging Spotify for American V: A Hundred Highways by Johnny Cash...\n",
      "- - - - - - - - - - \n",
      "\n",
      "\n",
      "album_entry_list length: 12\n",
      "--------------------\n",
      "ALBUM: American V: A Hundred Highways -- COMPLETE\n",
      "--------------------\n",
      "\n",
      "\t\tHelp Me by Johnny Cash\n",
      "\t\tGod's Gonna Cut You Down by Johnny Cash\n",
      "\t\tLike The 309 by Johnny Cash\n",
      "\t\tIf You Could Read My Mind by Johnny Cash\n",
      "\t\tFurther On Up The Road by Johnny Cash\n",
      "\t\tOn The Evening Train by Johnny Cash\n",
      "\t\tI Came To Believe by Johnny Cash\n",
      "\t\tLove's Been Good To Me by Johnny Cash\n",
      "\t\tA Legend In My Time by Johnny Cash\n",
      "\t\tRose Of My Heart by Johnny Cash\n",
      "\t\tFour Strong Winds by Johnny Cash\n",
      "\t\tI'm Free From The Chain Gang Now by Johnny Cash\n",
      "\n",
      "\n",
      "- - - - - - - - - - \n",
      "Pinging Spotify for American VI: Ain't No Grave by Johnny Cash...\n",
      "- - - - - - - - - - \n",
      "\n"
     ]
    },
    {
     "name": "stderr",
     "output_type": "stream",
     "text": [
      "IOPub data rate exceeded.\n",
      "The notebook server will temporarily stop sending output\n",
      "to the client in order to avoid crashing it.\n",
      "To change this limit, set the config variable\n",
      "`--NotebookApp.iopub_data_rate_limit`.\n",
      "\n",
      "Current values:\n",
      "NotebookApp.iopub_data_rate_limit=1000000.0 (bytes/sec)\n",
      "NotebookApp.rate_limit_window=3.0 (secs)\n",
      "\n"
     ]
    },
    {
     "name": "stdout",
     "output_type": "stream",
     "text": [
      "\n",
      "- - - - - - - - - - \n",
      "Pinging Spotify for Amethyst Rock Star by Saul Williams...\n",
      "- - - - - - - - - - \n",
      "\n"
     ]
    },
    {
     "name": "stderr",
     "output_type": "stream",
     "text": [
      "IOPub data rate exceeded.\n",
      "The notebook server will temporarily stop sending output\n",
      "to the client in order to avoid crashing it.\n",
      "To change this limit, set the config variable\n",
      "`--NotebookApp.iopub_data_rate_limit`.\n",
      "\n",
      "Current values:\n",
      "NotebookApp.iopub_data_rate_limit=1000000.0 (bytes/sec)\n",
      "NotebookApp.rate_limit_window=3.0 (secs)\n",
      "\n"
     ]
    },
    {
     "name": "stdout",
     "output_type": "stream",
     "text": [
      "\n",
      "- - - - - - - - - - \n",
      "Pinging Spotify for Angus & Julia Stone by Angus & Julia Stone...\n",
      "- - - - - - - - - - \n",
      "\n",
      "\n",
      "album_entry_list length: 16\n",
      "--------------------\n",
      "ALBUM: Angus & Julia Stone -- COMPLETE\n",
      "--------------------\n",
      "\n",
      "\t\tA Heartbreak by Angus & Julia Stone\n",
      "\t\tMy Word For It by Angus & Julia Stone\n",
      "\t\tGrizzly Bear by Angus & Julia Stone\n",
      "\t\tHeart Beats Slow by Angus & Julia Stone\n",
      "\t\tWherever You Are by Angus & Julia Stone\n",
      "\t\tGet Home by Angus & Julia Stone\n",
      "\t\tDeath Defying Acts by Angus & Julia Stone\n",
      "\t\tLittle Whiskey by Angus & Julia Stone\n",
      "\t\tFrom The Stalls by Angus & Julia Stone\n",
      "\t\tOther Things by Angus & Julia Stone\n",
      "\t\tPlease You by Angus & Julia Stone\n",
      "\t\tMain Street by Angus & Julia Stone\n",
      "\t\tCrash And Burn by Angus & Julia Stone\n",
      "\t\tDo Without by Angus & Julia Stone\n",
      "\t\tAll This Love by Angus & Julia Stone\n",
      "\t\tRoses by Angus & Julia Stone\n",
      "\n",
      "\n",
      "- - - - - - - - - - \n",
      "Pinging Spotify for Antennas to Hell by Slipknot...\n",
      "- - - - - - - - - - \n",
      "\n",
      "\n",
      "album_entry_list length: 36\n",
      "--------------------\n",
      "ALBUM: Antennas to Hell -- COMPLETE\n",
      "--------------------\n",
      "\n",
      "\t\t(sic) by Slipknot\n",
      "\t\tEyeless by Slipknot\n",
      "\t\tWait and Bleed by Slipknot\n",
      "\t\tSpit It Out by Slipknot\n",
      "\t\tSurfacing by Slipknot\n",
      "\t\tPeople = Shit by Slipknot\n",
      "\t\tDisasterpiece by Slipknot\n",
      "\t\tLeft Behind by Slipknot\n",
      "\t\tMy Plague - New Abuse Mix by Slipknot\n",
      "\t\tThe Heretic Anthem - Live by Slipknot\n",
      "\t\tPurity - Live by Slipknot\n",
      "\t\tPulse of the Maggots by Slipknot\n",
      "\t\tDuality by Slipknot\n",
      "\t\tBefore I Forget by Slipknot\n",
      "\t\tVermilion - Terry Date Mix by Slipknot\n",
      "\t\tSulfur - Remastered by Slipknot\n",
      "\t\tPsychosocial - Remastered by Slipknot\n",
      "\t\tDead Memories - Radio Mix by Slipknot\n",
      "\t\tSnuff - Remastered by Slipknot\n",
      "\t\t(sic) - Live At Download Festival 2009 by Slipknot\n",
      "\t\tEyeless - Live at Download Festival 2009 by Slipknot\n",
      "\t\tWait and Bleed - Live at Download Festival 2009 by Slipknot\n",
      "\t\tGet This - Live at Download Festival 2009 by Slipknot\n",
      "\t\tBefore I Forget - Live at Download Festival 2009 by Slipknot\n",
      "\t\tSulfur - Live at Download Festival 2009 by Slipknot\n",
      "\t\tThe Blister Exists - Live at Download Festival 2009 by Slipknot\n",
      "\t\tDead Memories - Live at Download Festival 2009 by Slipknot\n",
      "\t\tLeft Behind - Live at Download Festival 2009 by Slipknot\n",
      "\t\tDisasterpiece - Live at Download Festival 2009 by Slipknot\n",
      "\t\tVermilion - Live at Download Festival 2009 by Slipknot\n",
      "\t\tEverything Ends - Live at Download Festival 2009 by Slipknot\n",
      "\t\tPsychosocial - Live at Download Festival 2009 by Slipknot\n",
      "\t\tDuality - Live at Download Festival 2009 by Slipknot\n",
      "\t\tPeople = Shit - Live at Download Festival 2009 by Slipknot\n",
      "\t\tSurfacing - Live at Download Festival 2009 by Slipknot\n",
      "\t\tSpit It Out - Live at Download Festival 2009 by Slipknot\n",
      "\n",
      "\n",
      "- - - - - - - - - - \n",
      "Pinging Spotify for Anthology: Through the Years by Tom Petty and the Heartbreakers...\n",
      "- - - - - - - - - - \n",
      "\n",
      "list index out of range\n",
      "{'albums': {'href': 'https://api.spotify.com/v1/search?query=album%3AAnthology%3A+Through+the+Years+artist%3ATom+Petty+and+the+Heartbreakers&type=album&offset=0&limit=10', 'items': [], 'limit': 10, 'next': None, 'offset': 0, 'previous': None, 'total': 0}}\n",
      "\n",
      "object of type 'NoneType' has no len()\n",
      "\n",
      "xxxxxxxxxxxxxxxxxxxx\n",
      "ALBUM FAILURE: https://en.wikipedia.org/wiki/Anthology:_Through_the_Years\n",
      "album_entry_list:\n",
      "None\n",
      "\n",
      "xxxxxxxxxxxxxxxxxxxx\n",
      "\n",
      "\n",
      "- - - - - - - - - - \n",
      "Pinging Spotify for Armed Love by The (International) Noise Conspiracy...\n",
      "- - - - - - - - - - \n",
      "\n",
      "list index out of range\n",
      "{'albums': {'href': 'https://api.spotify.com/v1/search?query=album%3AArmed+Love+artist%3AThe+%28International%29+Noise+Conspiracy&type=album&offset=0&limit=10', 'items': [], 'limit': 10, 'next': None, 'offset': 0, 'previous': None, 'total': 0}}\n",
      "\n",
      "object of type 'NoneType' has no len()\n",
      "\n",
      "xxxxxxxxxxxxxxxxxxxx\n",
      "ALBUM FAILURE: https://en.wikipedia.org/wiki/Armed_Love\n",
      "album_entry_list:\n",
      "None\n",
      "\n",
      "xxxxxxxxxxxxxxxxxxxx\n",
      "\n",
      "\n",
      "- - - - - - - - - - \n",
      "Pinging Spotify for Artpop by Lady Gaga...\n",
      "- - - - - - - - - - \n",
      "\n"
     ]
    },
    {
     "name": "stderr",
     "output_type": "stream",
     "text": [
      "IOPub data rate exceeded.\n",
      "The notebook server will temporarily stop sending output\n",
      "to the client in order to avoid crashing it.\n",
      "To change this limit, set the config variable\n",
      "`--NotebookApp.iopub_data_rate_limit`.\n",
      "\n",
      "Current values:\n",
      "NotebookApp.iopub_data_rate_limit=1000000.0 (bytes/sec)\n",
      "NotebookApp.rate_limit_window=3.0 (secs)\n",
      "\n"
     ]
    },
    {
     "name": "stdout",
     "output_type": "stream",
     "text": [
      "\n",
      "- - - - - - - - - - \n",
      "Pinging Spotify for Audioslave by Audioslave...\n",
      "- - - - - - - - - - \n",
      "\n"
     ]
    },
    {
     "name": "stderr",
     "output_type": "stream",
     "text": [
      "IOPub data rate exceeded.\n",
      "The notebook server will temporarily stop sending output\n",
      "to the client in order to avoid crashing it.\n",
      "To change this limit, set the config variable\n",
      "`--NotebookApp.iopub_data_rate_limit`.\n",
      "\n",
      "Current values:\n",
      "NotebookApp.iopub_data_rate_limit=1000000.0 (bytes/sec)\n",
      "NotebookApp.rate_limit_window=3.0 (secs)\n",
      "\n"
     ]
    },
    {
     "name": "stdout",
     "output_type": "stream",
     "text": [
      "\n",
      "- - - - - - - - - - \n",
      "Pinging Spotify for Back & Fourth by Pete Yorn...\n",
      "- - - - - - - - - - \n",
      "\n"
     ]
    },
    {
     "name": "stderr",
     "output_type": "stream",
     "text": [
      "IOPub data rate exceeded.\n",
      "The notebook server will temporarily stop sending output\n",
      "to the client in order to avoid crashing it.\n",
      "To change this limit, set the config variable\n",
      "`--NotebookApp.iopub_data_rate_limit`.\n",
      "\n",
      "Current values:\n",
      "NotebookApp.iopub_data_rate_limit=1000000.0 (bytes/sec)\n",
      "NotebookApp.rate_limit_window=3.0 (secs)\n",
      "\n"
     ]
    },
    {
     "name": "stdout",
     "output_type": "stream",
     "text": [
      "\n",
      "- - - - - - - - - - \n",
      "Pinging Spotify for Ballbreaker by AC/DC...\n",
      "- - - - - - - - - - \n",
      "\n"
     ]
    },
    {
     "name": "stderr",
     "output_type": "stream",
     "text": [
      "IOPub data rate exceeded.\n",
      "The notebook server will temporarily stop sending output\n",
      "to the client in order to avoid crashing it.\n",
      "To change this limit, set the config variable\n",
      "`--NotebookApp.iopub_data_rate_limit`.\n",
      "\n",
      "Current values:\n",
      "NotebookApp.iopub_data_rate_limit=1000000.0 (bytes/sec)\n",
      "NotebookApp.rate_limit_window=3.0 (secs)\n",
      "\n"
     ]
    },
    {
     "name": "stdout",
     "output_type": "stream",
     "text": [
      "\n",
      "- - - - - - - - - - \n",
      "Pinging Spotify for A Better Tomorrow by Wu-Tang Clan...\n",
      "- - - - - - - - - - \n",
      "\n"
     ]
    },
    {
     "name": "stderr",
     "output_type": "stream",
     "text": [
      "IOPub data rate exceeded.\n",
      "The notebook server will temporarily stop sending output\n",
      "to the client in order to avoid crashing it.\n",
      "To change this limit, set the config variable\n",
      "`--NotebookApp.iopub_data_rate_limit`.\n",
      "\n",
      "Current values:\n",
      "NotebookApp.iopub_data_rate_limit=1000000.0 (bytes/sec)\n",
      "NotebookApp.rate_limit_window=3.0 (secs)\n",
      "\n"
     ]
    },
    {
     "name": "stdout",
     "output_type": "stream",
     "text": [
      "\n",
      "- - - - - - - - - - \n",
      "Pinging Spotify for Beyond Magnetic by Metallica...\n",
      "- - - - - - - - - - \n",
      "\n"
     ]
    },
    {
     "name": "stderr",
     "output_type": "stream",
     "text": [
      "IOPub data rate exceeded.\n",
      "The notebook server will temporarily stop sending output\n",
      "to the client in order to avoid crashing it.\n",
      "To change this limit, set the config variable\n",
      "`--NotebookApp.iopub_data_rate_limit`.\n",
      "\n",
      "Current values:\n",
      "NotebookApp.iopub_data_rate_limit=1000000.0 (bytes/sec)\n",
      "NotebookApp.rate_limit_window=3.0 (secs)\n",
      "\n"
     ]
    },
    {
     "name": "stdout",
     "output_type": "stream",
     "text": [
      "\n",
      "- - - - - - - - - - \n",
      "Pinging Spotify for The Black Album by Jay-Z...\n",
      "- - - - - - - - - - \n",
      "\n",
      "list index out of range\n",
      "{'albums': {'href': 'https://api.spotify.com/v1/search?query=album%3AThe+Black+Album+artist%3AJay-Z&type=album&offset=0&limit=10', 'items': [], 'limit': 10, 'next': None, 'offset': 0, 'previous': None, 'total': 0}}\n",
      "\n",
      "object of type 'NoneType' has no len()\n",
      "\n",
      "xxxxxxxxxxxxxxxxxxxx\n",
      "ALBUM FAILURE: https://en.wikipedia.org/wiki/The_Black_Album_(Jay-Z_album)\n",
      "album_entry_list:\n",
      "None\n",
      "\n",
      "xxxxxxxxxxxxxxxxxxxx\n",
      "\n",
      "\n",
      "- - - - - - - - - - \n",
      "Pinging Spotify for Blood Sugar Sex Magik by Red Hot Chili Peppers...\n",
      "- - - - - - - - - - \n",
      "\n"
     ]
    },
    {
     "name": "stderr",
     "output_type": "stream",
     "text": [
      "IOPub data rate exceeded.\n",
      "The notebook server will temporarily stop sending output\n",
      "to the client in order to avoid crashing it.\n",
      "To change this limit, set the config variable\n",
      "`--NotebookApp.iopub_data_rate_limit`.\n",
      "\n",
      "Current values:\n",
      "NotebookApp.iopub_data_rate_limit=1000000.0 (bytes/sec)\n",
      "NotebookApp.rate_limit_window=3.0 (secs)\n",
      "\n"
     ]
    },
    {
     "name": "stdout",
     "output_type": "stream",
     "text": [
      "\n",
      "- - - - - - - - - - \n",
      "Pinging Spotify for Born Free by Kid Rock...\n",
      "- - - - - - - - - - \n",
      "\n"
     ]
    },
    {
     "name": "stderr",
     "output_type": "stream",
     "text": [
      "IOPub data rate exceeded.\n",
      "The notebook server will temporarily stop sending output\n",
      "to the client in order to avoid crashing it.\n",
      "To change this limit, set the config variable\n",
      "`--NotebookApp.iopub_data_rate_limit`.\n",
      "\n",
      "Current values:\n",
      "NotebookApp.iopub_data_rate_limit=1000000.0 (bytes/sec)\n",
      "NotebookApp.rate_limit_window=3.0 (secs)\n",
      "\n"
     ]
    },
    {
     "name": "stdout",
     "output_type": "stream",
     "text": [
      "\n",
      "- - - - - - - - - - \n",
      "Pinging Spotify for Born to Die: The Paradise Edition by Lana Del Rey...\n",
      "- - - - - - - - - - \n",
      "\n"
     ]
    },
    {
     "name": "stderr",
     "output_type": "stream",
     "text": [
      "IOPub data rate exceeded.\n",
      "The notebook server will temporarily stop sending output\n",
      "to the client in order to avoid crashing it.\n",
      "To change this limit, set the config variable\n",
      "`--NotebookApp.iopub_data_rate_limit`.\n",
      "\n",
      "Current values:\n",
      "NotebookApp.iopub_data_rate_limit=1000000.0 (bytes/sec)\n",
      "NotebookApp.rate_limit_window=3.0 (secs)\n",
      "\n"
     ]
    },
    {
     "name": "stdout",
     "output_type": "stream",
     "text": [
      "\n",
      "- - - - - - - - - - \n",
      "Pinging Spotify for By the Way by Red Hot Chili Peppers...\n",
      "- - - - - - - - - - \n",
      "\n"
     ]
    },
    {
     "name": "stderr",
     "output_type": "stream",
     "text": [
      "IOPub data rate exceeded.\n",
      "The notebook server will temporarily stop sending output\n",
      "to the client in order to avoid crashing it.\n",
      "To change this limit, set the config variable\n",
      "`--NotebookApp.iopub_data_rate_limit`.\n",
      "\n",
      "Current values:\n",
      "NotebookApp.iopub_data_rate_limit=1000000.0 (bytes/sec)\n",
      "NotebookApp.rate_limit_window=3.0 (secs)\n",
      "\n"
     ]
    },
    {
     "name": "stdout",
     "output_type": "stream",
     "text": [
      "\n",
      "- - - - - - - - - - \n",
      "Pinging Spotify for Californication by Red Hot Chili Peppers...\n",
      "- - - - - - - - - - \n",
      "\n"
     ]
    },
    {
     "ename": "KeyboardInterrupt",
     "evalue": "",
     "output_type": "error",
     "traceback": [
      "\u001b[0;31m---------------------------------------------------------------------------\u001b[0m",
      "\u001b[0;31mTypeError\u001b[0m                                 Traceback (most recent call last)",
      "\u001b[0;32m~/anaconda3/lib/python3.7/site-packages/urllib3/connectionpool.py\u001b[0m in \u001b[0;36m_make_request\u001b[0;34m(self, conn, method, url, timeout, chunked, **httplib_request_kw)\u001b[0m\n\u001b[1;32m    376\u001b[0m             \u001b[0;32mtry\u001b[0m\u001b[0;34m:\u001b[0m  \u001b[0;31m# Python 2.7, use buffering of HTTP responses\u001b[0m\u001b[0;34m\u001b[0m\u001b[0;34m\u001b[0m\u001b[0m\n\u001b[0;32m--> 377\u001b[0;31m                 \u001b[0mhttplib_response\u001b[0m \u001b[0;34m=\u001b[0m \u001b[0mconn\u001b[0m\u001b[0;34m.\u001b[0m\u001b[0mgetresponse\u001b[0m\u001b[0;34m(\u001b[0m\u001b[0mbuffering\u001b[0m\u001b[0;34m=\u001b[0m\u001b[0;32mTrue\u001b[0m\u001b[0;34m)\u001b[0m\u001b[0;34m\u001b[0m\u001b[0;34m\u001b[0m\u001b[0m\n\u001b[0m\u001b[1;32m    378\u001b[0m             \u001b[0;32mexcept\u001b[0m \u001b[0mTypeError\u001b[0m\u001b[0;34m:\u001b[0m  \u001b[0;31m# Python 3\u001b[0m\u001b[0;34m\u001b[0m\u001b[0;34m\u001b[0m\u001b[0m\n",
      "\u001b[0;31mTypeError\u001b[0m: getresponse() got an unexpected keyword argument 'buffering'",
      "\nDuring handling of the above exception, another exception occurred:\n",
      "\u001b[0;31mKeyboardInterrupt\u001b[0m                         Traceback (most recent call last)",
      "\u001b[0;32m<ipython-input-94-0c701b7b91f7>\u001b[0m in \u001b[0;36m<module>\u001b[0;34m\u001b[0m\n\u001b[1;32m     12\u001b[0m         \u001b[0msp\u001b[0m \u001b[0;34m=\u001b[0m \u001b[0mspotipy\u001b[0m\u001b[0;34m.\u001b[0m\u001b[0mSpotify\u001b[0m\u001b[0;34m(\u001b[0m\u001b[0mclient_credentials_manager\u001b[0m\u001b[0;34m=\u001b[0m\u001b[0mclient_credentials_manager\u001b[0m\u001b[0;34m)\u001b[0m\u001b[0;34m\u001b[0m\u001b[0;34m\u001b[0m\u001b[0m\n\u001b[1;32m     13\u001b[0m         \u001b[0;32mtry\u001b[0m\u001b[0;34m:\u001b[0m\u001b[0;34m\u001b[0m\u001b[0;34m\u001b[0m\u001b[0m\n\u001b[0;32m---> 14\u001b[0;31m             \u001b[0malbum_entry_list\u001b[0m \u001b[0;34m=\u001b[0m \u001b[0mentry_from_wiki_album\u001b[0m\u001b[0;34m(\u001b[0m\u001b[0malbum_url\u001b[0m\u001b[0;34m,\u001b[0m \u001b[0msp\u001b[0m\u001b[0;34m,\u001b[0m \u001b[0mproducer\u001b[0m\u001b[0;34m)\u001b[0m\u001b[0;34m\u001b[0m\u001b[0;34m\u001b[0m\u001b[0m\n\u001b[0m\u001b[1;32m     15\u001b[0m             \u001b[0mprint\u001b[0m\u001b[0;34m(\u001b[0m\u001b[0;34m'\\nalbum_entry_list length: {}'\u001b[0m\u001b[0;34m.\u001b[0m\u001b[0mformat\u001b[0m\u001b[0;34m(\u001b[0m\u001b[0mlen\u001b[0m\u001b[0;34m(\u001b[0m\u001b[0malbum_entry_list\u001b[0m\u001b[0;34m)\u001b[0m\u001b[0;34m)\u001b[0m\u001b[0;34m)\u001b[0m\u001b[0;34m\u001b[0m\u001b[0;34m\u001b[0m\u001b[0m\n\u001b[1;32m     16\u001b[0m             \u001b[0malbum_name\u001b[0m \u001b[0;34m=\u001b[0m \u001b[0malbum_entry_list\u001b[0m\u001b[0;34m[\u001b[0m\u001b[0mi\u001b[0m\u001b[0;34m]\u001b[0m\u001b[0;34m[\u001b[0m\u001b[0;36m2\u001b[0m\u001b[0;34m]\u001b[0m\u001b[0;34m\u001b[0m\u001b[0;34m\u001b[0m\u001b[0m\n",
      "\u001b[0;32m<ipython-input-85-0cf699a1fbb7>\u001b[0m in \u001b[0;36mentry_from_wiki_album\u001b[0;34m(album_url, sp, producer)\u001b[0m\n\u001b[1;32m     25\u001b[0m             \u001b[0mspotify_id\u001b[0m \u001b[0;34m=\u001b[0m \u001b[0msong\u001b[0m\u001b[0;34m[\u001b[0m\u001b[0;34m'id'\u001b[0m\u001b[0;34m]\u001b[0m\u001b[0;34m\u001b[0m\u001b[0;34m\u001b[0m\u001b[0m\n\u001b[1;32m     26\u001b[0m             \u001b[0mtrack_info\u001b[0m \u001b[0;34m=\u001b[0m \u001b[0msp\u001b[0m\u001b[0;34m.\u001b[0m\u001b[0mtrack\u001b[0m\u001b[0;34m(\u001b[0m\u001b[0mspotify_id\u001b[0m\u001b[0;34m)\u001b[0m\u001b[0;34m\u001b[0m\u001b[0;34m\u001b[0m\u001b[0m\n\u001b[0;32m---> 27\u001b[0;31m             \u001b[0maudio_analysis\u001b[0m \u001b[0;34m=\u001b[0m \u001b[0msp\u001b[0m\u001b[0;34m.\u001b[0m\u001b[0maudio_analysis\u001b[0m\u001b[0;34m(\u001b[0m\u001b[0mspotify_id\u001b[0m\u001b[0;34m)\u001b[0m\u001b[0;34m\u001b[0m\u001b[0;34m\u001b[0m\u001b[0m\n\u001b[0m\u001b[1;32m     28\u001b[0m             \u001b[0maudio_features\u001b[0m \u001b[0;34m=\u001b[0m \u001b[0msp\u001b[0m\u001b[0;34m.\u001b[0m\u001b[0maudio_features\u001b[0m\u001b[0;34m(\u001b[0m\u001b[0mspotify_id\u001b[0m\u001b[0;34m)\u001b[0m\u001b[0;34m\u001b[0m\u001b[0;34m\u001b[0m\u001b[0m\n\u001b[1;32m     29\u001b[0m \u001b[0;34m\u001b[0m\u001b[0m\n",
      "\u001b[0;32m~/anaconda3/lib/python3.7/site-packages/spotipy/client.py\u001b[0m in \u001b[0;36maudio_analysis\u001b[0;34m(self, id)\u001b[0m\n\u001b[1;32m    841\u001b[0m         '''\n\u001b[1;32m    842\u001b[0m         \u001b[0mid\u001b[0m \u001b[0;34m=\u001b[0m \u001b[0mself\u001b[0m\u001b[0;34m.\u001b[0m\u001b[0m_get_id\u001b[0m\u001b[0;34m(\u001b[0m\u001b[0;34m'track'\u001b[0m\u001b[0;34m,\u001b[0m \u001b[0mid\u001b[0m\u001b[0;34m)\u001b[0m\u001b[0;34m\u001b[0m\u001b[0;34m\u001b[0m\u001b[0m\n\u001b[0;32m--> 843\u001b[0;31m         \u001b[0;32mreturn\u001b[0m \u001b[0mself\u001b[0m\u001b[0;34m.\u001b[0m\u001b[0m_get\u001b[0m\u001b[0;34m(\u001b[0m\u001b[0;34m'audio-analysis/'\u001b[0m\u001b[0;34m+\u001b[0m\u001b[0mid\u001b[0m\u001b[0;34m)\u001b[0m\u001b[0;34m\u001b[0m\u001b[0;34m\u001b[0m\u001b[0m\n\u001b[0m\u001b[1;32m    844\u001b[0m \u001b[0;34m\u001b[0m\u001b[0m\n\u001b[1;32m    845\u001b[0m     \u001b[0;32mdef\u001b[0m \u001b[0m_get_id\u001b[0m\u001b[0;34m(\u001b[0m\u001b[0mself\u001b[0m\u001b[0;34m,\u001b[0m \u001b[0mtype\u001b[0m\u001b[0;34m,\u001b[0m \u001b[0mid\u001b[0m\u001b[0;34m)\u001b[0m\u001b[0;34m:\u001b[0m\u001b[0;34m\u001b[0m\u001b[0;34m\u001b[0m\u001b[0m\n",
      "\u001b[0;32m~/anaconda3/lib/python3.7/site-packages/spotipy/client.py\u001b[0m in \u001b[0;36m_get\u001b[0;34m(self, url, args, payload, **kwargs)\u001b[0m\n\u001b[1;32m    144\u001b[0m         \u001b[0;32mwhile\u001b[0m \u001b[0mretries\u001b[0m \u001b[0;34m>\u001b[0m \u001b[0;36m0\u001b[0m\u001b[0;34m:\u001b[0m\u001b[0;34m\u001b[0m\u001b[0;34m\u001b[0m\u001b[0m\n\u001b[1;32m    145\u001b[0m             \u001b[0;32mtry\u001b[0m\u001b[0;34m:\u001b[0m\u001b[0;34m\u001b[0m\u001b[0;34m\u001b[0m\u001b[0m\n\u001b[0;32m--> 146\u001b[0;31m                 \u001b[0;32mreturn\u001b[0m \u001b[0mself\u001b[0m\u001b[0;34m.\u001b[0m\u001b[0m_internal_call\u001b[0m\u001b[0;34m(\u001b[0m\u001b[0;34m'GET'\u001b[0m\u001b[0;34m,\u001b[0m \u001b[0murl\u001b[0m\u001b[0;34m,\u001b[0m \u001b[0mpayload\u001b[0m\u001b[0;34m,\u001b[0m \u001b[0mkwargs\u001b[0m\u001b[0;34m)\u001b[0m\u001b[0;34m\u001b[0m\u001b[0;34m\u001b[0m\u001b[0m\n\u001b[0m\u001b[1;32m    147\u001b[0m             \u001b[0;32mexcept\u001b[0m \u001b[0mSpotifyException\u001b[0m \u001b[0;32mas\u001b[0m \u001b[0me\u001b[0m\u001b[0;34m:\u001b[0m\u001b[0;34m\u001b[0m\u001b[0;34m\u001b[0m\u001b[0m\n\u001b[1;32m    148\u001b[0m                 \u001b[0mretries\u001b[0m \u001b[0;34m-=\u001b[0m \u001b[0;36m1\u001b[0m\u001b[0;34m\u001b[0m\u001b[0;34m\u001b[0m\u001b[0m\n",
      "\u001b[0;32m~/anaconda3/lib/python3.7/site-packages/spotipy/client.py\u001b[0m in \u001b[0;36m_internal_call\u001b[0;34m(self, method, url, payload, params)\u001b[0m\n\u001b[1;32m    106\u001b[0m         \u001b[0;32mif\u001b[0m \u001b[0mself\u001b[0m\u001b[0;34m.\u001b[0m\u001b[0mtrace_out\u001b[0m\u001b[0;34m:\u001b[0m\u001b[0;34m\u001b[0m\u001b[0;34m\u001b[0m\u001b[0m\n\u001b[1;32m    107\u001b[0m             \u001b[0mprint\u001b[0m\u001b[0;34m(\u001b[0m\u001b[0murl\u001b[0m\u001b[0;34m)\u001b[0m\u001b[0;34m\u001b[0m\u001b[0;34m\u001b[0m\u001b[0m\n\u001b[0;32m--> 108\u001b[0;31m         \u001b[0mr\u001b[0m \u001b[0;34m=\u001b[0m \u001b[0mself\u001b[0m\u001b[0;34m.\u001b[0m\u001b[0m_session\u001b[0m\u001b[0;34m.\u001b[0m\u001b[0mrequest\u001b[0m\u001b[0;34m(\u001b[0m\u001b[0mmethod\u001b[0m\u001b[0;34m,\u001b[0m \u001b[0murl\u001b[0m\u001b[0;34m,\u001b[0m \u001b[0mheaders\u001b[0m\u001b[0;34m=\u001b[0m\u001b[0mheaders\u001b[0m\u001b[0;34m,\u001b[0m \u001b[0mproxies\u001b[0m\u001b[0;34m=\u001b[0m\u001b[0mself\u001b[0m\u001b[0;34m.\u001b[0m\u001b[0mproxies\u001b[0m\u001b[0;34m,\u001b[0m \u001b[0;34m**\u001b[0m\u001b[0margs\u001b[0m\u001b[0;34m)\u001b[0m\u001b[0;34m\u001b[0m\u001b[0;34m\u001b[0m\u001b[0m\n\u001b[0m\u001b[1;32m    109\u001b[0m \u001b[0;34m\u001b[0m\u001b[0m\n\u001b[1;32m    110\u001b[0m         \u001b[0;32mif\u001b[0m \u001b[0mself\u001b[0m\u001b[0;34m.\u001b[0m\u001b[0mtrace\u001b[0m\u001b[0;34m:\u001b[0m  \u001b[0;31m# pragma: no cover\u001b[0m\u001b[0;34m\u001b[0m\u001b[0;34m\u001b[0m\u001b[0m\n",
      "\u001b[0;32m~/anaconda3/lib/python3.7/site-packages/requests/sessions.py\u001b[0m in \u001b[0;36mrequest\u001b[0;34m(self, method, url, params, data, headers, cookies, files, auth, timeout, allow_redirects, proxies, hooks, stream, verify, cert, json)\u001b[0m\n\u001b[1;32m    531\u001b[0m         }\n\u001b[1;32m    532\u001b[0m         \u001b[0msend_kwargs\u001b[0m\u001b[0;34m.\u001b[0m\u001b[0mupdate\u001b[0m\u001b[0;34m(\u001b[0m\u001b[0msettings\u001b[0m\u001b[0;34m)\u001b[0m\u001b[0;34m\u001b[0m\u001b[0;34m\u001b[0m\u001b[0m\n\u001b[0;32m--> 533\u001b[0;31m         \u001b[0mresp\u001b[0m \u001b[0;34m=\u001b[0m \u001b[0mself\u001b[0m\u001b[0;34m.\u001b[0m\u001b[0msend\u001b[0m\u001b[0;34m(\u001b[0m\u001b[0mprep\u001b[0m\u001b[0;34m,\u001b[0m \u001b[0;34m**\u001b[0m\u001b[0msend_kwargs\u001b[0m\u001b[0;34m)\u001b[0m\u001b[0;34m\u001b[0m\u001b[0;34m\u001b[0m\u001b[0m\n\u001b[0m\u001b[1;32m    534\u001b[0m \u001b[0;34m\u001b[0m\u001b[0m\n\u001b[1;32m    535\u001b[0m         \u001b[0;32mreturn\u001b[0m \u001b[0mresp\u001b[0m\u001b[0;34m\u001b[0m\u001b[0;34m\u001b[0m\u001b[0m\n",
      "\u001b[0;32m~/anaconda3/lib/python3.7/site-packages/requests/sessions.py\u001b[0m in \u001b[0;36msend\u001b[0;34m(self, request, **kwargs)\u001b[0m\n\u001b[1;32m    644\u001b[0m \u001b[0;34m\u001b[0m\u001b[0m\n\u001b[1;32m    645\u001b[0m         \u001b[0;31m# Send the request\u001b[0m\u001b[0;34m\u001b[0m\u001b[0;34m\u001b[0m\u001b[0;34m\u001b[0m\u001b[0m\n\u001b[0;32m--> 646\u001b[0;31m         \u001b[0mr\u001b[0m \u001b[0;34m=\u001b[0m \u001b[0madapter\u001b[0m\u001b[0;34m.\u001b[0m\u001b[0msend\u001b[0m\u001b[0;34m(\u001b[0m\u001b[0mrequest\u001b[0m\u001b[0;34m,\u001b[0m \u001b[0;34m**\u001b[0m\u001b[0mkwargs\u001b[0m\u001b[0;34m)\u001b[0m\u001b[0;34m\u001b[0m\u001b[0;34m\u001b[0m\u001b[0m\n\u001b[0m\u001b[1;32m    647\u001b[0m \u001b[0;34m\u001b[0m\u001b[0m\n\u001b[1;32m    648\u001b[0m         \u001b[0;31m# Total elapsed time of the request (approximately)\u001b[0m\u001b[0;34m\u001b[0m\u001b[0;34m\u001b[0m\u001b[0;34m\u001b[0m\u001b[0m\n",
      "\u001b[0;32m~/anaconda3/lib/python3.7/site-packages/requests/adapters.py\u001b[0m in \u001b[0;36msend\u001b[0;34m(self, request, stream, timeout, verify, cert, proxies)\u001b[0m\n\u001b[1;32m    447\u001b[0m                     \u001b[0mdecode_content\u001b[0m\u001b[0;34m=\u001b[0m\u001b[0;32mFalse\u001b[0m\u001b[0;34m,\u001b[0m\u001b[0;34m\u001b[0m\u001b[0;34m\u001b[0m\u001b[0m\n\u001b[1;32m    448\u001b[0m                     \u001b[0mretries\u001b[0m\u001b[0;34m=\u001b[0m\u001b[0mself\u001b[0m\u001b[0;34m.\u001b[0m\u001b[0mmax_retries\u001b[0m\u001b[0;34m,\u001b[0m\u001b[0;34m\u001b[0m\u001b[0;34m\u001b[0m\u001b[0m\n\u001b[0;32m--> 449\u001b[0;31m                     \u001b[0mtimeout\u001b[0m\u001b[0;34m=\u001b[0m\u001b[0mtimeout\u001b[0m\u001b[0;34m\u001b[0m\u001b[0;34m\u001b[0m\u001b[0m\n\u001b[0m\u001b[1;32m    450\u001b[0m                 )\n\u001b[1;32m    451\u001b[0m \u001b[0;34m\u001b[0m\u001b[0m\n",
      "\u001b[0;32m~/anaconda3/lib/python3.7/site-packages/urllib3/connectionpool.py\u001b[0m in \u001b[0;36murlopen\u001b[0;34m(self, method, url, body, headers, retries, redirect, assert_same_host, timeout, pool_timeout, release_conn, chunked, body_pos, **response_kw)\u001b[0m\n\u001b[1;32m    598\u001b[0m                                                   \u001b[0mtimeout\u001b[0m\u001b[0;34m=\u001b[0m\u001b[0mtimeout_obj\u001b[0m\u001b[0;34m,\u001b[0m\u001b[0;34m\u001b[0m\u001b[0;34m\u001b[0m\u001b[0m\n\u001b[1;32m    599\u001b[0m                                                   \u001b[0mbody\u001b[0m\u001b[0;34m=\u001b[0m\u001b[0mbody\u001b[0m\u001b[0;34m,\u001b[0m \u001b[0mheaders\u001b[0m\u001b[0;34m=\u001b[0m\u001b[0mheaders\u001b[0m\u001b[0;34m,\u001b[0m\u001b[0;34m\u001b[0m\u001b[0;34m\u001b[0m\u001b[0m\n\u001b[0;32m--> 600\u001b[0;31m                                                   chunked=chunked)\n\u001b[0m\u001b[1;32m    601\u001b[0m \u001b[0;34m\u001b[0m\u001b[0m\n\u001b[1;32m    602\u001b[0m             \u001b[0;31m# If we're going to release the connection in ``finally:``, then\u001b[0m\u001b[0;34m\u001b[0m\u001b[0;34m\u001b[0m\u001b[0;34m\u001b[0m\u001b[0m\n",
      "\u001b[0;32m~/anaconda3/lib/python3.7/site-packages/urllib3/connectionpool.py\u001b[0m in \u001b[0;36m_make_request\u001b[0;34m(self, conn, method, url, timeout, chunked, **httplib_request_kw)\u001b[0m\n\u001b[1;32m    378\u001b[0m             \u001b[0;32mexcept\u001b[0m \u001b[0mTypeError\u001b[0m\u001b[0;34m:\u001b[0m  \u001b[0;31m# Python 3\u001b[0m\u001b[0;34m\u001b[0m\u001b[0;34m\u001b[0m\u001b[0m\n\u001b[1;32m    379\u001b[0m                 \u001b[0;32mtry\u001b[0m\u001b[0;34m:\u001b[0m\u001b[0;34m\u001b[0m\u001b[0;34m\u001b[0m\u001b[0m\n\u001b[0;32m--> 380\u001b[0;31m                     \u001b[0mhttplib_response\u001b[0m \u001b[0;34m=\u001b[0m \u001b[0mconn\u001b[0m\u001b[0;34m.\u001b[0m\u001b[0mgetresponse\u001b[0m\u001b[0;34m(\u001b[0m\u001b[0;34m)\u001b[0m\u001b[0;34m\u001b[0m\u001b[0;34m\u001b[0m\u001b[0m\n\u001b[0m\u001b[1;32m    381\u001b[0m                 \u001b[0;32mexcept\u001b[0m \u001b[0mException\u001b[0m \u001b[0;32mas\u001b[0m \u001b[0me\u001b[0m\u001b[0;34m:\u001b[0m\u001b[0;34m\u001b[0m\u001b[0;34m\u001b[0m\u001b[0m\n\u001b[1;32m    382\u001b[0m                     \u001b[0;31m# Remove the TypeError from the exception chain in Python 3;\u001b[0m\u001b[0;34m\u001b[0m\u001b[0;34m\u001b[0m\u001b[0;34m\u001b[0m\u001b[0m\n",
      "\u001b[0;32m~/anaconda3/lib/python3.7/http/client.py\u001b[0m in \u001b[0;36mgetresponse\u001b[0;34m(self)\u001b[0m\n\u001b[1;32m   1319\u001b[0m         \u001b[0;32mtry\u001b[0m\u001b[0;34m:\u001b[0m\u001b[0;34m\u001b[0m\u001b[0;34m\u001b[0m\u001b[0m\n\u001b[1;32m   1320\u001b[0m             \u001b[0;32mtry\u001b[0m\u001b[0;34m:\u001b[0m\u001b[0;34m\u001b[0m\u001b[0;34m\u001b[0m\u001b[0m\n\u001b[0;32m-> 1321\u001b[0;31m                 \u001b[0mresponse\u001b[0m\u001b[0;34m.\u001b[0m\u001b[0mbegin\u001b[0m\u001b[0;34m(\u001b[0m\u001b[0;34m)\u001b[0m\u001b[0;34m\u001b[0m\u001b[0;34m\u001b[0m\u001b[0m\n\u001b[0m\u001b[1;32m   1322\u001b[0m             \u001b[0;32mexcept\u001b[0m \u001b[0mConnectionError\u001b[0m\u001b[0;34m:\u001b[0m\u001b[0;34m\u001b[0m\u001b[0;34m\u001b[0m\u001b[0m\n\u001b[1;32m   1323\u001b[0m                 \u001b[0mself\u001b[0m\u001b[0;34m.\u001b[0m\u001b[0mclose\u001b[0m\u001b[0;34m(\u001b[0m\u001b[0;34m)\u001b[0m\u001b[0;34m\u001b[0m\u001b[0;34m\u001b[0m\u001b[0m\n",
      "\u001b[0;32m~/anaconda3/lib/python3.7/http/client.py\u001b[0m in \u001b[0;36mbegin\u001b[0;34m(self)\u001b[0m\n\u001b[1;32m    294\u001b[0m         \u001b[0;31m# read until we get a non-100 response\u001b[0m\u001b[0;34m\u001b[0m\u001b[0;34m\u001b[0m\u001b[0;34m\u001b[0m\u001b[0m\n\u001b[1;32m    295\u001b[0m         \u001b[0;32mwhile\u001b[0m \u001b[0;32mTrue\u001b[0m\u001b[0;34m:\u001b[0m\u001b[0;34m\u001b[0m\u001b[0;34m\u001b[0m\u001b[0m\n\u001b[0;32m--> 296\u001b[0;31m             \u001b[0mversion\u001b[0m\u001b[0;34m,\u001b[0m \u001b[0mstatus\u001b[0m\u001b[0;34m,\u001b[0m \u001b[0mreason\u001b[0m \u001b[0;34m=\u001b[0m \u001b[0mself\u001b[0m\u001b[0;34m.\u001b[0m\u001b[0m_read_status\u001b[0m\u001b[0;34m(\u001b[0m\u001b[0;34m)\u001b[0m\u001b[0;34m\u001b[0m\u001b[0;34m\u001b[0m\u001b[0m\n\u001b[0m\u001b[1;32m    297\u001b[0m             \u001b[0;32mif\u001b[0m \u001b[0mstatus\u001b[0m \u001b[0;34m!=\u001b[0m \u001b[0mCONTINUE\u001b[0m\u001b[0;34m:\u001b[0m\u001b[0;34m\u001b[0m\u001b[0;34m\u001b[0m\u001b[0m\n\u001b[1;32m    298\u001b[0m                 \u001b[0;32mbreak\u001b[0m\u001b[0;34m\u001b[0m\u001b[0;34m\u001b[0m\u001b[0m\n",
      "\u001b[0;32m~/anaconda3/lib/python3.7/http/client.py\u001b[0m in \u001b[0;36m_read_status\u001b[0;34m(self)\u001b[0m\n\u001b[1;32m    255\u001b[0m \u001b[0;34m\u001b[0m\u001b[0m\n\u001b[1;32m    256\u001b[0m     \u001b[0;32mdef\u001b[0m \u001b[0m_read_status\u001b[0m\u001b[0;34m(\u001b[0m\u001b[0mself\u001b[0m\u001b[0;34m)\u001b[0m\u001b[0;34m:\u001b[0m\u001b[0;34m\u001b[0m\u001b[0;34m\u001b[0m\u001b[0m\n\u001b[0;32m--> 257\u001b[0;31m         \u001b[0mline\u001b[0m \u001b[0;34m=\u001b[0m \u001b[0mstr\u001b[0m\u001b[0;34m(\u001b[0m\u001b[0mself\u001b[0m\u001b[0;34m.\u001b[0m\u001b[0mfp\u001b[0m\u001b[0;34m.\u001b[0m\u001b[0mreadline\u001b[0m\u001b[0;34m(\u001b[0m\u001b[0m_MAXLINE\u001b[0m \u001b[0;34m+\u001b[0m \u001b[0;36m1\u001b[0m\u001b[0;34m)\u001b[0m\u001b[0;34m,\u001b[0m \u001b[0;34m\"iso-8859-1\"\u001b[0m\u001b[0;34m)\u001b[0m\u001b[0;34m\u001b[0m\u001b[0;34m\u001b[0m\u001b[0m\n\u001b[0m\u001b[1;32m    258\u001b[0m         \u001b[0;32mif\u001b[0m \u001b[0mlen\u001b[0m\u001b[0;34m(\u001b[0m\u001b[0mline\u001b[0m\u001b[0;34m)\u001b[0m \u001b[0;34m>\u001b[0m \u001b[0m_MAXLINE\u001b[0m\u001b[0;34m:\u001b[0m\u001b[0;34m\u001b[0m\u001b[0;34m\u001b[0m\u001b[0m\n\u001b[1;32m    259\u001b[0m             \u001b[0;32mraise\u001b[0m \u001b[0mLineTooLong\u001b[0m\u001b[0;34m(\u001b[0m\u001b[0;34m\"status line\"\u001b[0m\u001b[0;34m)\u001b[0m\u001b[0;34m\u001b[0m\u001b[0;34m\u001b[0m\u001b[0m\n",
      "\u001b[0;32m~/anaconda3/lib/python3.7/socket.py\u001b[0m in \u001b[0;36mreadinto\u001b[0;34m(self, b)\u001b[0m\n\u001b[1;32m    587\u001b[0m         \u001b[0;32mwhile\u001b[0m \u001b[0;32mTrue\u001b[0m\u001b[0;34m:\u001b[0m\u001b[0;34m\u001b[0m\u001b[0;34m\u001b[0m\u001b[0m\n\u001b[1;32m    588\u001b[0m             \u001b[0;32mtry\u001b[0m\u001b[0;34m:\u001b[0m\u001b[0;34m\u001b[0m\u001b[0;34m\u001b[0m\u001b[0m\n\u001b[0;32m--> 589\u001b[0;31m                 \u001b[0;32mreturn\u001b[0m \u001b[0mself\u001b[0m\u001b[0;34m.\u001b[0m\u001b[0m_sock\u001b[0m\u001b[0;34m.\u001b[0m\u001b[0mrecv_into\u001b[0m\u001b[0;34m(\u001b[0m\u001b[0mb\u001b[0m\u001b[0;34m)\u001b[0m\u001b[0;34m\u001b[0m\u001b[0;34m\u001b[0m\u001b[0m\n\u001b[0m\u001b[1;32m    590\u001b[0m             \u001b[0;32mexcept\u001b[0m \u001b[0mtimeout\u001b[0m\u001b[0;34m:\u001b[0m\u001b[0;34m\u001b[0m\u001b[0;34m\u001b[0m\u001b[0m\n\u001b[1;32m    591\u001b[0m                 \u001b[0mself\u001b[0m\u001b[0;34m.\u001b[0m\u001b[0m_timeout_occurred\u001b[0m \u001b[0;34m=\u001b[0m \u001b[0;32mTrue\u001b[0m\u001b[0;34m\u001b[0m\u001b[0;34m\u001b[0m\u001b[0m\n",
      "\u001b[0;32m~/anaconda3/lib/python3.7/site-packages/urllib3/contrib/pyopenssl.py\u001b[0m in \u001b[0;36mrecv_into\u001b[0;34m(self, *args, **kwargs)\u001b[0m\n\u001b[1;32m    292\u001b[0m     \u001b[0;32mdef\u001b[0m \u001b[0mrecv_into\u001b[0m\u001b[0;34m(\u001b[0m\u001b[0mself\u001b[0m\u001b[0;34m,\u001b[0m \u001b[0;34m*\u001b[0m\u001b[0margs\u001b[0m\u001b[0;34m,\u001b[0m \u001b[0;34m**\u001b[0m\u001b[0mkwargs\u001b[0m\u001b[0;34m)\u001b[0m\u001b[0;34m:\u001b[0m\u001b[0;34m\u001b[0m\u001b[0;34m\u001b[0m\u001b[0m\n\u001b[1;32m    293\u001b[0m         \u001b[0;32mtry\u001b[0m\u001b[0;34m:\u001b[0m\u001b[0;34m\u001b[0m\u001b[0;34m\u001b[0m\u001b[0m\n\u001b[0;32m--> 294\u001b[0;31m             \u001b[0;32mreturn\u001b[0m \u001b[0mself\u001b[0m\u001b[0;34m.\u001b[0m\u001b[0mconnection\u001b[0m\u001b[0;34m.\u001b[0m\u001b[0mrecv_into\u001b[0m\u001b[0;34m(\u001b[0m\u001b[0;34m*\u001b[0m\u001b[0margs\u001b[0m\u001b[0;34m,\u001b[0m \u001b[0;34m**\u001b[0m\u001b[0mkwargs\u001b[0m\u001b[0;34m)\u001b[0m\u001b[0;34m\u001b[0m\u001b[0;34m\u001b[0m\u001b[0m\n\u001b[0m\u001b[1;32m    295\u001b[0m         \u001b[0;32mexcept\u001b[0m \u001b[0mOpenSSL\u001b[0m\u001b[0;34m.\u001b[0m\u001b[0mSSL\u001b[0m\u001b[0;34m.\u001b[0m\u001b[0mSysCallError\u001b[0m \u001b[0;32mas\u001b[0m \u001b[0me\u001b[0m\u001b[0;34m:\u001b[0m\u001b[0;34m\u001b[0m\u001b[0;34m\u001b[0m\u001b[0m\n\u001b[1;32m    296\u001b[0m             \u001b[0;32mif\u001b[0m \u001b[0mself\u001b[0m\u001b[0;34m.\u001b[0m\u001b[0msuppress_ragged_eofs\u001b[0m \u001b[0;32mand\u001b[0m \u001b[0me\u001b[0m\u001b[0;34m.\u001b[0m\u001b[0margs\u001b[0m \u001b[0;34m==\u001b[0m \u001b[0;34m(\u001b[0m\u001b[0;34m-\u001b[0m\u001b[0;36m1\u001b[0m\u001b[0;34m,\u001b[0m \u001b[0;34m'Unexpected EOF'\u001b[0m\u001b[0;34m)\u001b[0m\u001b[0;34m:\u001b[0m\u001b[0;34m\u001b[0m\u001b[0;34m\u001b[0m\u001b[0m\n",
      "\u001b[0;32m~/anaconda3/lib/python3.7/site-packages/OpenSSL/SSL.py\u001b[0m in \u001b[0;36mrecv_into\u001b[0;34m(self, buffer, nbytes, flags)\u001b[0m\n\u001b[1;32m   1811\u001b[0m             \u001b[0mresult\u001b[0m \u001b[0;34m=\u001b[0m \u001b[0m_lib\u001b[0m\u001b[0;34m.\u001b[0m\u001b[0mSSL_peek\u001b[0m\u001b[0;34m(\u001b[0m\u001b[0mself\u001b[0m\u001b[0;34m.\u001b[0m\u001b[0m_ssl\u001b[0m\u001b[0;34m,\u001b[0m \u001b[0mbuf\u001b[0m\u001b[0;34m,\u001b[0m \u001b[0mnbytes\u001b[0m\u001b[0;34m)\u001b[0m\u001b[0;34m\u001b[0m\u001b[0;34m\u001b[0m\u001b[0m\n\u001b[1;32m   1812\u001b[0m         \u001b[0;32melse\u001b[0m\u001b[0;34m:\u001b[0m\u001b[0;34m\u001b[0m\u001b[0;34m\u001b[0m\u001b[0m\n\u001b[0;32m-> 1813\u001b[0;31m             \u001b[0mresult\u001b[0m \u001b[0;34m=\u001b[0m \u001b[0m_lib\u001b[0m\u001b[0;34m.\u001b[0m\u001b[0mSSL_read\u001b[0m\u001b[0;34m(\u001b[0m\u001b[0mself\u001b[0m\u001b[0;34m.\u001b[0m\u001b[0m_ssl\u001b[0m\u001b[0;34m,\u001b[0m \u001b[0mbuf\u001b[0m\u001b[0;34m,\u001b[0m \u001b[0mnbytes\u001b[0m\u001b[0;34m)\u001b[0m\u001b[0;34m\u001b[0m\u001b[0;34m\u001b[0m\u001b[0m\n\u001b[0m\u001b[1;32m   1814\u001b[0m         \u001b[0mself\u001b[0m\u001b[0;34m.\u001b[0m\u001b[0m_raise_ssl_error\u001b[0m\u001b[0;34m(\u001b[0m\u001b[0mself\u001b[0m\u001b[0;34m.\u001b[0m\u001b[0m_ssl\u001b[0m\u001b[0;34m,\u001b[0m \u001b[0mresult\u001b[0m\u001b[0;34m)\u001b[0m\u001b[0;34m\u001b[0m\u001b[0;34m\u001b[0m\u001b[0m\n\u001b[1;32m   1815\u001b[0m \u001b[0;34m\u001b[0m\u001b[0m\n",
      "\u001b[0;31mKeyboardInterrupt\u001b[0m: "
     ]
    }
   ],
   "source": [
    "producer_urls = ['https://en.wikipedia.org/wiki/Category:Albums_produced_by_Rick_Rubin',\n",
    "                 'https://en.wikipedia.org/wiki/Category:Albums_produced_by_George_Martin']\n",
    "\n",
    "failed_albums = defaultdict(list)\n",
    "interval = 5\n",
    "\n",
    "for producer_url in producer_urls:\n",
    "    album_list = scrape_album_list(producer_url)\n",
    "\n",
    "    for i, (album_url, producer) in enumerate(album_list):\n",
    "        sleep(interval)\n",
    "        sp = spotipy.Spotify(client_credentials_manager=client_credentials_manager)\n",
    "        try:\n",
    "            album_entry_list = entry_from_wiki_album(album_url, sp, producer)\n",
    "            print('\\nalbum_entry_list length: {}'.format(len(album_entry_list)))\n",
    "            album_name = album_entry_list[i][2]\n",
    "            print('-'*20)\n",
    "            print('ALBUM: {} -- COMPLETE'.format(album_name))\n",
    "            print('-'*20)\n",
    "            print()\n",
    "            for track, artist, album, producer, spotify_id, track_info, audio_analysis, audio_features in album_entry_list:\n",
    "                myquery = { \"producer\": producer,\n",
    "                            \"spotify_id\" : spotify_id }\n",
    "\n",
    "                newvalues = { \"$set\": {'track':track,\n",
    "                                       'artist':artist,\n",
    "                                       'album':album,\n",
    "                                       'producer':producer,\n",
    "                                       'spotify_id':spotify_id,\n",
    "                                       'track_info':track_info,\n",
    "                                       'audio_analysis':audio_analysis,\n",
    "                                       'audio_features':audio_features\n",
    "                                      }\n",
    "                            }\n",
    "\n",
    "                collection.update_one(myquery, newvalues, upsert = True)\n",
    "\n",
    "                print('\\t\\t{} by {}'.format(track,artist))\n",
    "            print()\n",
    "            \n",
    "        except Exception as ex:\n",
    "            failed_albums[producer].append((i,album_url,producer))\n",
    "            print( ex )\n",
    "            print()\n",
    "            print('x'*20)\n",
    "            print('ALBUM FAILURE: {}'.format(album_url))\n",
    "            print('album_entry_list:')\n",
    "            print(album_entry_list)\n",
    "            print()\n",
    "            print('x'*20)\n",
    "            print()"
   ]
  },
  {
   "cell_type": "markdown",
   "metadata": {},
   "source": [
    "I'm getting a new error:\n",
    "\n",
    "```\n",
    "    IOPub data rate exceeded.\n",
    "    The notebook server will temporarily stop sending output\n",
    "    to the client in order to avoid crashing it.\n",
    "    To change this limit, set the config variable\n",
    "    `--NotebookApp.iopub_data_rate_limit`.\n",
    "\n",
    "    Current values:\n",
    "    NotebookApp.iopub_data_rate_limit=1000000.0 (bytes/sec)\n",
    "    NotebookApp.rate_limit_window=3.0 (secs)\n",
    "```"
   ]
  },
  {
   "cell_type": "code",
   "execution_count": 23,
   "metadata": {},
   "outputs": [
    {
     "data": {
      "text/plain": [
       "b'{\\n  \"error\": {\\n    \"status\": 401,\\n    \"message\": \"No token provided\"\\n  }\\n}'"
      ]
     },
     "execution_count": 23,
     "metadata": {},
     "output_type": "execute_result"
    }
   ],
   "source": [
    "requests.get(\"https://api.spotify.com/v1/search?q=tania%20bowra&type=artist&client_id={}&client_secret={}&token_type=Bearer\".format(client_id, client_secret)).content"
   ]
  },
  {
   "cell_type": "code",
   "execution_count": 28,
   "metadata": {},
   "outputs": [
    {
     "data": {
      "text/plain": [
       "<Response [401]>"
      ]
     },
     "execution_count": 28,
     "metadata": {},
     "output_type": "execute_result"
    }
   ],
   "source": [
    "payload = {'client_id':client_id,\n",
    "           'client_secret':client_secret,\n",
    "           'response_type':'code',\n",
    "           'request_uri':'https://example.com/callback'}\n",
    "requests.get(\"https://api.spotify.com/v1/search?q=one+love\", params = payload)"
   ]
  },
  {
   "cell_type": "code",
   "execution_count": 35,
   "metadata": {},
   "outputs": [
    {
     "name": "stdout",
     "output_type": "stream",
     "text": [
      "\n",
      "<!DOCTYPE html>\n",
      "<html lang=\"en\" dir=\"ltr\" ng-app=\"accounts\" ng-csp ng-strict-di>\n",
      "<head>\n",
      "  <meta charset=\"utf-8\">\n",
      "  <title ng-bind=\"(&#39;loginTitle&#39; | localize) + &#39; - Spotify&#39;\">Spotify</title>\n",
      "  <meta name=\"viewport\" content=\"width=device-width, initial-scale=1.0, maximum-scale=1.0, user-scalable=no\">\n",
      "  <base href=\"/\">\n",
      "  <link rel=\"icon\" href=\"https://accounts.scdn.co/images/favicon.ace4d8543bbb017893402a1e9d1ac1fa.ico\">\n",
      "  <link href=\"https://accounts.scdn.co/css/index.b7c0c683a2e34523a979.css\" media=\"screen\" rel=\"stylesheet\">\n",
      "\n",
      "  <script defer src=\"https://accounts.scdn.co/js/index.b7c0c683a2e34523a979.js\" sp-bootstrap></script>\n",
      "  <meta ng-non-bindable sp-bootstrap-data='{\"phoneFeatureEnabled\":false,\"user\":false,\"BON\":[\"0\",\"0\",-849195668]}'>\n",
      "</head>\n",
      "<body ng-controller=\"LoginController\">\n",
      "  <div ng-include=\"template\"></div>\n",
      "</body>\n",
      "</html>\n",
      "\n"
     ]
    }
   ],
   "source": [
    "print(requests.Session().get(\"https://accounts.spotify.com/authorize\",  params = payload).content.decode())"
   ]
  },
  {
   "cell_type": "code",
   "execution_count": 89,
   "metadata": {},
   "outputs": [
    {
     "name": "stdout",
     "output_type": "stream",
     "text": [
      "BQCuL1z9A92TuESfEf9fycHdXc4snvio1nFxyGMCDF8sPWMuSujpFEBPoPHS1EOfMRL0R3tghu-KtXSuDs0\n"
     ]
    }
   ],
   "source": [
    "# client_id = # Enter your client id here\n",
    "# client_secret = # Enter your client secret here\n",
    "\n",
    "grant_type = 'client_credentials'\n",
    "\n",
    "#Request based on Client Credentials Flow from https://developer.spotify.com/web-api/authorization-guide/\n",
    "\n",
    "#Request body parameter: grant_type Value: Required. Set it to client_credentials\n",
    "body_params = {'grant_type' : grant_type}\n",
    "\n",
    "url='https://accounts.spotify.com/api/token'\n",
    "\n",
    "response=requests.post(url, data=body_params, auth = (client_id, client_secret)) \n",
    "print (response.content.decode().split('\"')[3])"
   ]
  },
  {
   "cell_type": "code",
   "execution_count": 41,
   "metadata": {},
   "outputs": [],
   "source": [
    "response = requests.get(\"https://api.spotify.com/v1/search?q=one+love\", data=body_params, auth = (client_id, client_secret)).content.decode()"
   ]
  },
  {
   "cell_type": "code",
   "execution_count": 91,
   "metadata": {},
   "outputs": [
    {
     "name": "stdout",
     "output_type": "stream",
     "text": [
      "200\n"
     ]
    }
   ],
   "source": [
    "# THIS WORKS FINALLY\n",
    "\n",
    "# client_id = # Enter your client id here\n",
    "# client_secret = # Enter your client secret here\n",
    "\n",
    "grant_type = 'client_credentials'\n",
    "#Request based on Client Credentials Flow from https://developer.spotify.com/web-api/authorization-guide/\n",
    "\n",
    "#Request body parameter: grant_type Value: Required. Set it to client_credentials\n",
    "body_params = {'grant_type' : grant_type}\n",
    "\n",
    "url = 'https://accounts.spotify.com/api/token'\n",
    "\n",
    "response = requests.post(url, data=body_params, auth = (client_id, client_secret)) \n",
    "access_token = response.content.decode().split('\"')[3]\n",
    "\n",
    "payload = {'client_id':client_id,\n",
    "           'client_secret':client_secret,\n",
    "           'response_type':'code',\n",
    "           'request_uri':'https://example.com/callback',\n",
    "           'access_token':access_token,\n",
    "           'token_type':'Bearer'}\n",
    "a = requests.get(\"https://api.spotify.com/v1/search?q=one+love&type=track\", params = payload)\n",
    "print((a.status_code))"
   ]
  },
  {
   "cell_type": "code",
   "execution_count": 42,
   "metadata": {},
   "outputs": [
    {
     "data": {
      "text/html": [
       "<!DOCTYPE html>\n",
       "<html lang=en>\n",
       "  <meta charset=utf-8>\n",
       "  <meta name=viewport content=\"initial-scale=1, minimum-scale=1, width=device-width\">\n",
       "  <title>Error 400 (Bad Request)!!1</title>\n",
       "  <style>\n",
       "    *{margin:0;padding:0}html,code{font:15px/22px arial,sans-serif}html{background:#fff;color:#222;padding:15px}body{margin:7% auto 0;max-width:390px;min-height:180px;padding:30px 0 15px}* > body{background:url(//www.google.com/images/errors/robot.png) 100% 5px no-repeat;padding-right:205px}p{margin:11px 0 22px;overflow:hidden}ins{color:#777;text-decoration:none}a img{border:0}@media screen and (max-width:772px){body{background:none;margin-top:0;max-width:none;padding-right:0}}#logo{background:url(//www.google.com/images/branding/googlelogo/1x/googlelogo_color_150x54dp.png) no-repeat;margin-left:-5px}@media only screen and (min-resolution:192dpi){#logo{background:url(//www.google.com/images/branding/googlelogo/2x/googlelogo_color_150x54dp.png) no-repeat 0% 0%/100% 100%;-moz-border-image:url(//www.google.com/images/branding/googlelogo/2x/googlelogo_color_150x54dp.png) 0}}@media only screen and (-webkit-min-device-pixel-ratio:2){#logo{background:url(//www.google.com/images/branding/googlelogo/2x/googlelogo_color_150x54dp.png) no-repeat;-webkit-background-size:100% 100%}}#logo{display:inline-block;height:54px;width:150px}\n",
       "  </style>\n",
       "  <a href=//www.google.com/><span id=logo aria-label=Google></span></a>\n",
       "  <p><b>400.</b> <ins>That’s an error.</ins>\n",
       "  <p>Your client has issued a malformed or illegal request.  <ins>That’s all we know.</ins>\n"
      ],
      "text/plain": [
       "<IPython.core.display.HTML object>"
      ]
     },
     "metadata": {},
     "output_type": "display_data"
    }
   ],
   "source": [
    "from IPython.core.display import display, HTML\n",
    "display(HTML(response))"
   ]
  },
  {
   "cell_type": "code",
   "execution_count": 80,
   "metadata": {},
   "outputs": [],
   "source": [
    "def spam_spotify():\n",
    "    # THIS WORKS FINALLY\n",
    "\n",
    "    start = time.time()\n",
    "    \n",
    "    client_id = os.environ['SPOTIFY_CLIENT_ID']\n",
    "    client_secret = os.environ['SPOTIFY_CLIENT_SECRET']\n",
    "    grant_type = 'client_credentials'\n",
    "    body_params = {'grant_type' : grant_type}\n",
    "    \n",
    "    url = 'https://accounts.spotify.com/api/token'\n",
    "\n",
    "    response = requests.post(url, data=body_params, auth = (client_id, client_secret)) \n",
    "    access_token = response.content.decode().split('\"')[3]\n",
    "\n",
    "    payload = {'client_id':client_id,\n",
    "               'client_secret':client_secret,\n",
    "               'response_type':'code',\n",
    "               'request_uri':'https://example.com/callback',\n",
    "               'access_token':access_token,\n",
    "               'token_type':'Bearer'}\n",
    "    a = requests.get(\"https://api.spotify.com/v1/search?q=one+love&type=track\", params = payload)\n",
    "    i = 0\n",
    "    \n",
    "    while a.status_code == 200:\n",
    "        a = requests.get(\"https://api.spotify.com/v1/audio-analysis/3JIxjvbbDrA9ztYlNcp3yL\", params = payload)\n",
    "        i += 1\n",
    "        if i%100 == 0:\n",
    "            end = time.time()\n",
    "            print (i, '\\t Time Elapsed: {} seconds'.format(end - start))\n",
    "            \n",
    "    return a"
   ]
  },
  {
   "cell_type": "code",
   "execution_count": 81,
   "metadata": {},
   "outputs": [
    {
     "name": "stdout",
     "output_type": "stream",
     "text": [
      "100 \t Time Elapsed: 117.40444421768188 seconds\n",
      "200 \t Time Elapsed: 239.66219520568848 seconds\n",
      "300 \t Time Elapsed: 344.2402923107147 seconds\n",
      "400 \t Time Elapsed: 448.9668791294098 seconds\n",
      "500 \t Time Elapsed: 544.3206331729889 seconds\n",
      "600 \t Time Elapsed: 643.7038731575012 seconds\n",
      "700 \t Time Elapsed: 759.9725451469421 seconds\n",
      "800 \t Time Elapsed: 860.5243241786957 seconds\n",
      "900 \t Time Elapsed: 956.285539150238 seconds\n",
      "1000 \t Time Elapsed: 1050.4048414230347 seconds\n",
      "1100 \t Time Elapsed: 1146.1569411754608 seconds\n",
      "1200 \t Time Elapsed: 1233.4902153015137 seconds\n",
      "1300 \t Time Elapsed: 1336.8394391536713 seconds\n",
      "1400 \t Time Elapsed: 1432.9915771484375 seconds\n",
      "1500 \t Time Elapsed: 1525.8727941513062 seconds\n",
      "1600 \t Time Elapsed: 1614.4290702342987 seconds\n",
      "1700 \t Time Elapsed: 1733.32932138443 seconds\n",
      "1800 \t Time Elapsed: 1839.305159330368 seconds\n",
      "1900 \t Time Elapsed: 1943.6623454093933 seconds\n",
      "2000 \t Time Elapsed: 2045.2463171482086 seconds\n",
      "2100 \t Time Elapsed: 2145.29558300972 seconds\n",
      "2200 \t Time Elapsed: 2243.3419971466064 seconds\n",
      "2300 \t Time Elapsed: 2340.7785453796387 seconds\n",
      "2400 \t Time Elapsed: 2427.0168001651764 seconds\n",
      "2500 \t Time Elapsed: 2521.1247062683105 seconds\n",
      "2600 \t Time Elapsed: 2625.8748784065247 seconds\n",
      "2700 \t Time Elapsed: 2741.887003183365 seconds\n",
      "2800 \t Time Elapsed: 2864.694023370743 seconds\n",
      "2900 \t Time Elapsed: 2985.5281801223755 seconds\n",
      "3000 \t Time Elapsed: 3094.685173034668 seconds\n",
      "3100 \t Time Elapsed: 3199.2359611988068 seconds\n",
      "3200 \t Time Elapsed: 3301.9659762382507 seconds\n",
      "3300 \t Time Elapsed: 3409.2620441913605 seconds\n",
      "3400 \t Time Elapsed: 3520.6260092258453 seconds\n"
     ]
    }
   ],
   "source": [
    "response = spam_spotify()"
   ]
  },
  {
   "cell_type": "code",
   "execution_count": 82,
   "metadata": {},
   "outputs": [
    {
     "data": {
      "text/plain": [
       "'{\\n  \"error\": {\\n    \"status\": 401,\\n    \"message\": \"The access token expired\"\\n  }\\n}'"
      ]
     },
     "execution_count": 82,
     "metadata": {},
     "output_type": "execute_result"
    }
   ],
   "source": [
    "response.content.decode()"
   ]
  },
  {
   "cell_type": "code",
   "execution_count": null,
   "metadata": {},
   "outputs": [],
   "source": []
  }
 ],
 "metadata": {
  "kernelspec": {
   "display_name": "Python 3",
   "language": "python",
   "name": "python3"
  },
  "language_info": {
   "codemirror_mode": {
    "name": "ipython",
    "version": 3
   },
   "file_extension": ".py",
   "mimetype": "text/x-python",
   "name": "python",
   "nbconvert_exporter": "python",
   "pygments_lexer": "ipython3",
   "version": "3.7.1"
  }
 },
 "nbformat": 4,
 "nbformat_minor": 2
}
