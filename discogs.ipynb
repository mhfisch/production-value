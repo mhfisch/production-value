{
 "cells": [
  {
   "cell_type": "markdown",
   "metadata": {},
   "source": [
    "# Attempting to get the Discogs API to work"
   ]
  },
  {
   "cell_type": "code",
   "execution_count": 9,
   "metadata": {},
   "outputs": [
    {
     "name": "stdout",
     "output_type": "stream",
     "text": [
      "{\"status\": \"Accepted\", \"videos\": [{\"duration\": 213, \"embed\": true, \"title\": \"Rick Astley - Never Gonna Give You Up (Video)\", \"description\": \"Rick Astley - Never Gonna Give You Up (Video)\", \"uri\": \"https://www.youtube.com/watch?v=dQw4w9WgXcQ\"}, {\"duration\": 387, \"embed\": true, \"title\": \"Never Gonna Give You Up (Escape From Newton Mix) - Rick Astley\", \"description\": \"Never Gonna Give You Up (Escape From Newton Mix) - Rick Astley\", \"uri\": \"https://www.youtube.com/watch?v=SjlIuoMFPww\"}, {\"duration\": 346, \"embed\": true, \"title\": \"Never Gonna Give You Up (Cake Mix)    Rick Astley 1987\", \"description\": \"Never Gonna Give You Up (Cake Mix)    Rick Astley 1987\", \"uri\": \"https://www.youtube.com/watch?v=1lN2bSlL5SE\"}, {\"duration\": 393, \"embed\": true, \"title\": \"Rick Astley - Never Gonna Give You Up (The Extra Beat Boys Escape From Newton Mix)\", \"description\": \"Rick Astley - Never Gonna Give You Up (The Extra Beat Boys Escape From Newton Mix)\", \"uri\": \"https://www.youtube.com/watch?v=N9bPdPNcB2A\"}, {\"duration\": 436, \"embed\": true, \"title\": \"Rick Astley - Never Gonna Give You Up (Stephen Gilham - PHD Extended Mix)\", \"description\": \"Rick Astley - Never Gonna Give You Up (Stephen Gilham - PHD Extended Mix)\", \"uri\": \"https://www.youtube.com/watch?v=afKTEsELh_s\"}, {\"duration\": 422, \"embed\": true, \"title\": \"Never Gonna Give You Up (Escape to NY Mix)\", \"description\": \"Never Gonna Give You Up (Escape to NY Mix)\", \"uri\": \"https://www.youtube.com/watch?v=xoPIl7xvK5Q\"}], \"series\": [], \"labels\": [{\"name\": \"RCA\", \"entity_type\": \"1\", \"catno\": \"PB 41447\", \"resource_url\": \"https://api.discogs.com/labels/895\", \"id\": 895, \"entity_type_name\": \"Label\"}], \"year\": 1987, \"community\": {\"status\": \"Accepted\", \"rating\": {\"count\": 113, \"average\": 3.69}, \"want\": 231, \"contributors\": [{\"username\": \"memory\", \"resource_url\": \"https://api.discogs.com/users/memory\"}, {\"username\": \"vargind\", \"resource_url\": \"https://api.discogs.com/users/vargind\"}, {\"username\": \"alistairk\", \"resource_url\": \"https://api.discogs.com/users/alistairk\"}, {\"username\": \"hog\", \"resource_url\": \"https://api.discogs.com/users/hog\"}, {\"username\": \"rwrackham\", \"resource_url\": \"https://api.discogs.com/users/rwrackham\"}, {\"username\": \"jan_marian\", \"resource_url\": \"https://api.discogs.com/users/jan_marian\"}, {\"username\": \"_80_\", \"resource_url\": \"https://api.discogs.com/users/_80_\"}, {\"username\": \"chillyboy64\", \"resource_url\": \"https://api.discogs.com/users/chillyboy64\"}, {\"username\": \"perlator\", \"resource_url\": \"https://api.discogs.com/users/perlator\"}, {\"username\": \"djcarbines\", \"resource_url\": \"https://api.discogs.com/users/djcarbines\"}, {\"username\": \"Skinheadmate\", \"resource_url\": \"https://api.discogs.com/users/Skinheadmate\"}], \"have\": 1302, \"submitter\": {\"username\": \"memory\", \"resource_url\": \"https://api.discogs.com/users/memory\"}, \"data_quality\": \"Needs Vote\"}, \"artists\": [{\"join\": \"\", \"name\": \"Rick Astley\", \"anv\": \"\", \"tracks\": \"\", \"role\": \"\", \"resource_url\": \"https://api.discogs.com/artists/72872\", \"id\": 72872}], \"images\": [{\"uri\": \"\", \"height\": 600, \"width\": 600, \"resource_url\": \"\", \"type\": \"primary\", \"uri150\": \"\"}, {\"uri\": \"\", \"height\": 600, \"width\": 600, \"resource_url\": \"\", \"type\": \"secondary\", \"uri150\": \"\"}, {\"uri\": \"\", \"height\": 600, \"width\": 600, \"resource_url\": \"\", \"type\": \"secondary\", \"uri150\": \"\"}, {\"uri\": \"\", \"height\": 600, \"width\": 600, \"resource_url\": \"\", \"type\": \"secondary\", \"uri150\": \"\"}], \"format_quantity\": 1, \"id\": 249504, \"artists_sort\": \"Rick Astley\", \"genres\": [\"Electronic\", \"Pop\"], \"thumb\": \"\", \"num_for_sale\": 73, \"title\": \"Never Gonna Give You Up\", \"date_changed\": \"2018-03-10T02:55:31-08:00\", \"master_id\": 96559, \"lowest_price\": 1.3, \"styles\": [\"Euro-Disco\"], \"released_formatted\": \"Jul 1987\", \"formats\": [{\"qty\": \"1\", \"descriptions\": [\"7\\\"\", \"45 RPM\", \"Single\"], \"name\": \"Vinyl\"}], \"estimated_weight\": 60, \"master_url\": \"https://api.discogs.com/masters/96559\", \"released\": \"1987-07-00\", \"date_added\": \"2004-04-30T08:10:05-07:00\", \"extraartists\": [{\"join\": \"\", \"name\": \"Me Company\", \"anv\": \"Me Co\", \"tracks\": \"\", \"role\": \"Design\", \"resource_url\": \"https://api.discogs.com/artists/547352\", \"id\": 547352}, {\"join\": \"\", \"name\": \"Mark McGuire\", \"anv\": \"\", \"tracks\": \"\", \"role\": \"Engineer\", \"resource_url\": \"https://api.discogs.com/artists/78275\", \"id\": 78275}, {\"join\": \"\", \"name\": \"Mike Duffy\", \"anv\": \"\", \"tracks\": \"\", \"role\": \"Engineer\", \"resource_url\": \"https://api.discogs.com/artists/95941\", \"id\": 95941}, {\"join\": \"\", \"name\": \"Miles Showell\", \"anv\": \"MS\", \"tracks\": \"\", \"role\": \"Lacquer Cut By\", \"resource_url\": \"https://api.discogs.com/artists/383408\", \"id\": 383408}, {\"join\": \"\", \"name\": \"Pete Hammond\", \"anv\": \"Mixmaster Pete Hammond\", \"tracks\": \"\", \"role\": \"Mixed By\", \"resource_url\": \"https://api.discogs.com/artists/34067\", \"id\": 34067}, {\"join\": \"\", \"name\": \"Stock, Aitken & Waterman\", \"anv\": \"Stock / Aitken / Waterman\", \"tracks\": \"\", \"role\": \"Producer, Written-By\", \"resource_url\": \"https://api.discogs.com/artists/20942\", \"id\": 20942}], \"tracklist\": [{\"duration\": \"3:32\", \"position\": \"A\", \"type_\": \"track\", \"title\": \"Never Gonna Give You Up\"}, {\"duration\": \"3:30\", \"position\": \"B\", \"type_\": \"track\", \"title\": \"Never Gonna Give You Up (Instrumental)\"}], \"notes\": \"UK Release has a black label with the text \\\"Manufactured In England\\\" printed on it.\\n\\nSleeve:\\n\\u2117 1987 \\u2022 BMG Records (UK) Ltd. \\u00a9 1987 \\u2022 BMG Records (UK) Ltd.\\nDistributed in the UK by BMG Records \\u2022  Distribu\\u00e9 en Europe par BMG/Ariola \\u2022 Vertrieb en Europa d\\u00fcrch BMG/Ariola.\\n\\nCenter labels:\\n\\u2117 1987 Pete Waterman Ltd.\\nOriginal Sound Recording made by PWL.\\nBMG Records (UK) Ltd. are the exclusive licensees for the world.\\n\\nDurations do not appear on the release.\\n\", \"identifiers\": [{\"type\": \"Barcode\", \"value\": \"5012394144777\"}, {\"type\": \"Label Code\", \"value\": \"LC 0316\"}, {\"type\": \"Matrix / Runout\", \"description\": \"A side runout etchings, variants 1&3\", \"value\": \"PB 41447 A2 UTOPIA MS [encircled]\"}, {\"type\": \"Matrix / Runout\", \"description\": \"B side runout etchings, variant 1&3\", \"value\": \"PB 41447-B.2 UTOPIA MS [encircled]\"}, {\"type\": \"Matrix / Runout\", \"description\": \"A side runout etchings, variant 2\", \"value\": \"PB 41447 A4 UTOPIA MS.\"}, {\"type\": \"Matrix / Runout\", \"description\": \"B side runout etchings, variant 2\", \"value\": \"PB 41447 B4 UTOPIA MS \\u2665 RD.\"}, {\"type\": \"Matrix / Runout\", \"description\": \"A&B side runouts, stamped, variant 3\", \"value\": \"B\"}, {\"type\": \"Matrix / Runout\", \"description\": \"A side label\", \"value\": \"PB 41447 A\\u2021\"}, {\"type\": \"Matrix / Runout\", \"description\": \"B side label\", \"value\": \"PB 41447 B\\u2021\"}, {\"type\": \"Distribution Code\", \"description\": \"D\", \"value\": \"AC\"}, {\"type\": \"Distribution Code\", \"description\": \"F\", \"value\": \"RC110\"}, {\"type\": \"Distribution Code\", \"description\": \"UK\", \"value\": \"AA\"}], \"companies\": [{\"name\": \"BMG Records (UK) Ltd.\", \"entity_type\": \"13\", \"catno\": \"\", \"resource_url\": \"https://api.discogs.com/labels/82835\", \"id\": 82835, \"entity_type_name\": \"Phonographic Copyright (p)\"}, {\"name\": \"BMG Records (UK) Ltd.\", \"entity_type\": \"14\", \"catno\": \"\", \"resource_url\": \"https://api.discogs.com/labels/82835\", \"id\": 82835, \"entity_type_name\": \"Copyright (c)\"}, {\"name\": \"Pete Waterman Ltd.\", \"entity_type\": \"13\", \"catno\": \"\", \"resource_url\": \"https://api.discogs.com/labels/301937\", \"id\": 301937, \"entity_type_name\": \"Phonographic Copyright (p)\"}, {\"name\": \"All Boys Music Ltd.\", \"entity_type\": \"21\", \"catno\": \"\", \"resource_url\": \"https://api.discogs.com/labels/273945\", \"id\": 273945, \"entity_type_name\": \"Published By\"}, {\"name\": \"BMG Records\", \"entity_type\": \"9\", \"catno\": \"\", \"resource_url\": \"https://api.discogs.com/labels/26385\", \"id\": 26385, \"entity_type_name\": \"Distributed By\"}, {\"name\": \"BMG Ariola\", \"entity_type\": \"9\", \"catno\": \"\", \"resource_url\": \"https://api.discogs.com/labels/33652\", \"id\": 33652, \"entity_type_name\": \"Distributed By\"}, {\"name\": \"RCA Records\", \"entity_type\": \"8\", \"catno\": \"\", \"resource_url\": \"https://api.discogs.com/labels/29656\", \"id\": 29656, \"entity_type_name\": \"Marketed By\"}, {\"name\": \"Utopia Studios\", \"entity_type\": \"30\", \"catno\": \"\", \"resource_url\": \"https://api.discogs.com/labels/266218\", \"id\": 266218, \"entity_type_name\": \"Lacquer Cut At\"}, {\"name\": \"BMG Records (UK) Ltd.\", \"entity_type\": \"5\", \"catno\": \"\", \"resource_url\": \"https://api.discogs.com/labels/82835\", \"id\": 82835, \"entity_type_name\": \"Licensed To\"}, {\"name\": \"PWL\", \"entity_type\": \"4\", \"catno\": \"\", \"resource_url\": \"https://api.discogs.com/labels/30024\", \"id\": 30024, \"entity_type_name\": \"Record Company\"}, {\"name\": \"CBS Pressing Plant, Aston Clinton\", \"entity_type\": \"17\", \"catno\": \"\", \"resource_url\": \"https://api.discogs.com/labels/553982\", \"id\": 553982, \"entity_type_name\": \"Pressed By\"}], \"uri\": \"https://www.discogs.com/Rick-Astley-Never-Gonna-Give-You-Up/release/249504\", \"country\": \"UK\", \"resource_url\": \"https://api.discogs.com/releases/249504\", \"data_quality\": \"Needs Vote\"}"
     ]
    }
   ],
   "source": [
    "a = ! curl https://api.discogs.com/releases/249504 --user-agent \"FooBarApp/3.0\""
   ]
  },
  {
   "cell_type": "code",
   "execution_count": 7,
   "metadata": {},
   "outputs": [
    {
     "data": {
      "text/plain": [
       "['  % Total    % Received % Xferd  Average Speed   Time    Time     Time  Current',\n",
       " '                                 Dload  Upload   Total   Spent    Left  Speed',\n",
       " '',\n",
       " '  0     0    0     0    0     0      0      0 --:--:-- --:--:-- --:--:--     0',\n",
       " '100  8900  100  8900    0     0  54938      0 --:--:-- --:--:-- --:--:-- 55279',\n",
       " '{\"status\": \"Accepted\", \"videos\": [{\"duration\": 213, \"embed\": true, \"title\": \"Rick Astley - Never Gonna Give You Up (Video)\", \"description\": \"Rick Astley - Never Gonna Give You Up (Video)\", \"uri\": \"https://www.youtube.com/watch?v=dQw4w9WgXcQ\"}, {\"duration\": 387, \"embed\": true, \"title\": \"Never Gonna Give You Up (Escape From Newton Mix) - Rick Astley\", \"description\": \"Never Gonna Give You Up (Escape From Newton Mix) - Rick Astley\", \"uri\": \"https://www.youtube.com/watch?v=SjlIuoMFPww\"}, {\"duration\": 346, \"embed\": true, \"title\": \"Never Gonna Give You Up (Cake Mix)    Rick Astley 1987\", \"description\": \"Never Gonna Give You Up (Cake Mix)    Rick Astley 1987\", \"uri\": \"https://www.youtube.com/watch?v=1lN2bSlL5SE\"}, {\"duration\": 393, \"embed\": true, \"title\": \"Rick Astley - Never Gonna Give You Up (The Extra Beat Boys Escape From Newton Mix)\", \"description\": \"Rick Astley - Never Gonna Give You Up (The Extra Beat Boys Escape From Newton Mix)\", \"uri\": \"https://www.youtube.com/watch?v=N9bPdPNcB2A\"}, {\"duration\": 436, \"embed\": true, \"title\": \"Rick Astley - Never Gonna Give You Up (Stephen Gilham - PHD Extended Mix)\", \"description\": \"Rick Astley - Never Gonna Give You Up (Stephen Gilham - PHD Extended Mix)\", \"uri\": \"https://www.youtube.com/watch?v=afKTEsELh_s\"}, {\"duration\": 422, \"embed\": true, \"title\": \"Never Gonna Give You Up (Escape to NY Mix)\", \"description\": \"Never Gonna Give You Up (Escape to NY Mix)\", \"uri\": \"https://www.youtube.com/watch?v=xoPIl7xvK5Q\"}], \"series\": [], \"labels\": [{\"name\": \"RCA\", \"entity_type\": \"1\", \"catno\": \"PB 41447\", \"resource_url\": \"https://api.discogs.com/labels/895\", \"id\": 895, \"entity_type_name\": \"Label\"}], \"year\": 1987, \"community\": {\"status\": \"Accepted\", \"rating\": {\"count\": 113, \"average\": 3.69}, \"want\": 231, \"contributors\": [{\"username\": \"memory\", \"resource_url\": \"https://api.discogs.com/users/memory\"}, {\"username\": \"vargind\", \"resource_url\": \"https://api.discogs.com/users/vargind\"}, {\"username\": \"alistairk\", \"resource_url\": \"https://api.discogs.com/users/alistairk\"}, {\"username\": \"hog\", \"resource_url\": \"https://api.discogs.com/users/hog\"}, {\"username\": \"rwrackham\", \"resource_url\": \"https://api.discogs.com/users/rwrackham\"}, {\"username\": \"jan_marian\", \"resource_url\": \"https://api.discogs.com/users/jan_marian\"}, {\"username\": \"_80_\", \"resource_url\": \"https://api.discogs.com/users/_80_\"}, {\"username\": \"chillyboy64\", \"resource_url\": \"https://api.discogs.com/users/chillyboy64\"}, {\"username\": \"perlator\", \"resource_url\": \"https://api.discogs.com/users/perlator\"}, {\"username\": \"djcarbines\", \"resource_url\": \"https://api.discogs.com/users/djcarbines\"}, {\"username\": \"Skinheadmate\", \"resource_url\": \"https://api.discogs.com/users/Skinheadmate\"}], \"have\": 1302, \"submitter\": {\"username\": \"memory\", \"resource_url\": \"https://api.discogs.com/users/memory\"}, \"data_quality\": \"Needs Vote\"}, \"artists\": [{\"join\": \"\", \"name\": \"Rick Astley\", \"anv\": \"\", \"tracks\": \"\", \"role\": \"\", \"resource_url\": \"https://api.discogs.com/artists/72872\", \"id\": 72872}], \"images\": [{\"uri\": \"\", \"height\": 600, \"width\": 600, \"resource_url\": \"\", \"type\": \"primary\", \"uri150\": \"\"}, {\"uri\": \"\", \"height\": 600, \"width\": 600, \"resource_url\": \"\", \"type\": \"secondary\", \"uri150\": \"\"}, {\"uri\": \"\", \"height\": 600, \"width\": 600, \"resource_url\": \"\", \"type\": \"secondary\", \"uri150\": \"\"}, {\"uri\": \"\", \"height\": 600, \"width\": 600, \"resource_url\": \"\", \"type\": \"secondary\", \"uri150\": \"\"}], \"format_quantity\": 1, \"id\": 249504, \"artists_sort\": \"Rick Astley\", \"genres\": [\"Electronic\", \"Pop\"], \"thumb\": \"\", \"num_for_sale\": 73, \"title\": \"Never Gonna Give You Up\", \"date_changed\": \"2018-03-10T02:55:31-08:00\", \"master_id\": 96559, \"lowest_price\": 1.3, \"styles\": [\"Euro-Disco\"], \"released_formatted\": \"Jul 1987\", \"formats\": [{\"qty\": \"1\", \"descriptions\": [\"7\\\\\"\", \"45 RPM\", \"Single\"], \"name\": \"Vinyl\"}], \"estimated_weight\": 60, \"master_url\": \"https://api.discogs.com/masters/96559\", \"released\": \"1987-07-00\", \"date_added\": \"2004-04-30T08:10:05-07:00\", \"extraartists\": [{\"join\": \"\", \"name\": \"Me Company\", \"anv\": \"Me Co\", \"tracks\": \"\", \"role\": \"Design\", \"resource_url\": \"https://api.discogs.com/artists/547352\", \"id\": 547352}, {\"join\": \"\", \"name\": \"Mark McGuire\", \"anv\": \"\", \"tracks\": \"\", \"role\": \"Engineer\", \"resource_url\": \"https://api.discogs.com/artists/78275\", \"id\": 78275}, {\"join\": \"\", \"name\": \"Mike Duffy\", \"anv\": \"\", \"tracks\": \"\", \"role\": \"Engineer\", \"resource_url\": \"https://api.discogs.com/artists/95941\", \"id\": 95941}, {\"join\": \"\", \"name\": \"Miles Showell\", \"anv\": \"MS\", \"tracks\": \"\", \"role\": \"Lacquer Cut By\", \"resource_url\": \"https://api.discogs.com/artists/383408\", \"id\": 383408}, {\"join\": \"\", \"name\": \"Pete Hammond\", \"anv\": \"Mixmaster Pete Hammond\", \"tracks\": \"\", \"role\": \"Mixed By\", \"resource_url\": \"https://api.discogs.com/artists/34067\", \"id\": 34067}, {\"join\": \"\", \"name\": \"Stock, Aitken & Waterman\", \"anv\": \"Stock / Aitken / Waterman\", \"tracks\": \"\", \"role\": \"Producer, Written-By\", \"resource_url\": \"https://api.discogs.com/artists/20942\", \"id\": 20942}], \"tracklist\": [{\"duration\": \"3:32\", \"position\": \"A\", \"type_\": \"track\", \"title\": \"Never Gonna Give You Up\"}, {\"duration\": \"3:30\", \"position\": \"B\", \"type_\": \"track\", \"title\": \"Never Gonna Give You Up (Instrumental)\"}], \"notes\": \"UK Release has a black label with the text \\\\\"Manufactured In England\\\\\" printed on it.\\\\n\\\\nSleeve:\\\\n\\\\u2117 1987 \\\\u2022 BMG Records (UK) Ltd. \\\\u00a9 1987 \\\\u2022 BMG Records (UK) Ltd.\\\\nDistributed in the UK by BMG Records \\\\u2022  Distribu\\\\u00e9 en Europe par BMG/Ariola \\\\u2022 Vertrieb en Europa d\\\\u00fcrch BMG/Ariola.\\\\n\\\\nCenter labels:\\\\n\\\\u2117 1987 Pete Waterman Ltd.\\\\nOriginal Sound Recording made by PWL.\\\\nBMG Records (UK) Ltd. are the exclusive licensees for the world.\\\\n\\\\nDurations do not appear on the release.\\\\n\", \"identifiers\": [{\"type\": \"Barcode\", \"value\": \"5012394144777\"}, {\"type\": \"Label Code\", \"value\": \"LC 0316\"}, {\"type\": \"Matrix / Runout\", \"description\": \"A side runout etchings, variants 1&3\", \"value\": \"PB 41447 A2 UTOPIA MS [encircled]\"}, {\"type\": \"Matrix / Runout\", \"description\": \"B side runout etchings, variant 1&3\", \"value\": \"PB 41447-B.2 UTOPIA MS [encircled]\"}, {\"type\": \"Matrix / Runout\", \"description\": \"A side runout etchings, variant 2\", \"value\": \"PB 41447 A4 UTOPIA MS.\"}, {\"type\": \"Matrix / Runout\", \"description\": \"B side runout etchings, variant 2\", \"value\": \"PB 41447 B4 UTOPIA MS \\\\u2665 RD.\"}, {\"type\": \"Matrix / Runout\", \"description\": \"A&B side runouts, stamped, variant 3\", \"value\": \"B\"}, {\"type\": \"Matrix / Runout\", \"description\": \"A side label\", \"value\": \"PB 41447 A\\\\u2021\"}, {\"type\": \"Matrix / Runout\", \"description\": \"B side label\", \"value\": \"PB 41447 B\\\\u2021\"}, {\"type\": \"Distribution Code\", \"description\": \"D\", \"value\": \"AC\"}, {\"type\": \"Distribution Code\", \"description\": \"F\", \"value\": \"RC110\"}, {\"type\": \"Distribution Code\", \"description\": \"UK\", \"value\": \"AA\"}], \"companies\": [{\"name\": \"BMG Records (UK) Ltd.\", \"entity_type\": \"13\", \"catno\": \"\", \"resource_url\": \"https://api.discogs.com/labels/82835\", \"id\": 82835, \"entity_type_name\": \"Phonographic Copyright (p)\"}, {\"name\": \"BMG Records (UK) Ltd.\", \"entity_type\": \"14\", \"catno\": \"\", \"resource_url\": \"https://api.discogs.com/labels/82835\", \"id\": 82835, \"entity_type_name\": \"Copyright (c)\"}, {\"name\": \"Pete Waterman Ltd.\", \"entity_type\": \"13\", \"catno\": \"\", \"resource_url\": \"https://api.discogs.com/labels/301937\", \"id\": 301937, \"entity_type_name\": \"Phonographic Copyright (p)\"}, {\"name\": \"All Boys Music Ltd.\", \"entity_type\": \"21\", \"catno\": \"\", \"resource_url\": \"https://api.discogs.com/labels/273945\", \"id\": 273945, \"entity_type_name\": \"Published By\"}, {\"name\": \"BMG Records\", \"entity_type\": \"9\", \"catno\": \"\", \"resource_url\": \"https://api.discogs.com/labels/26385\", \"id\": 26385, \"entity_type_name\": \"Distributed By\"}, {\"name\": \"BMG Ariola\", \"entity_type\": \"9\", \"catno\": \"\", \"resource_url\": \"https://api.discogs.com/labels/33652\", \"id\": 33652, \"entity_type_name\": \"Distributed By\"}, {\"name\": \"RCA Records\", \"entity_type\": \"8\", \"catno\": \"\", \"resource_url\": \"https://api.discogs.com/labels/29656\", \"id\": 29656, \"entity_type_name\": \"Marketed By\"}, {\"name\": \"Utopia Studios\", \"entity_type\": \"30\", \"catno\": \"\", \"resource_url\": \"https://api.discogs.com/labels/266218\", \"id\": 266218, \"entity_type_name\": \"Lacquer Cut At\"}, {\"name\": \"BMG Records (UK) Ltd.\", \"entity_type\": \"5\", \"catno\": \"\", \"resource_url\": \"https://api.discogs.com/labels/82835\", \"id\": 82835, \"entity_type_name\": \"Licensed To\"}, {\"name\": \"PWL\", \"entity_type\": \"4\", \"catno\": \"\", \"resource_url\": \"https://api.discogs.com/labels/30024\", \"id\": 30024, \"entity_type_name\": \"Record Company\"}, {\"name\": \"CBS Pressing Plant, Aston Clinton\", \"entity_type\": \"17\", \"catno\": \"\", \"resource_url\": \"https://api.discogs.com/labels/553982\", \"id\": 553982, \"entity_type_name\": \"Pressed By\"}], \"uri\": \"https://www.discogs.com/Rick-Astley-Never-Gonna-Give-You-Up/release/249504\", \"country\": \"UK\", \"resource_url\": \"https://api.discogs.com/releases/249504\", \"data_quality\": \"Needs Vote\"}']"
      ]
     },
     "execution_count": 7,
     "metadata": {},
     "output_type": "execute_result"
    }
   ],
   "source": [
    "a"
   ]
  },
  {
   "cell_type": "code",
   "execution_count": 10,
   "metadata": {},
   "outputs": [],
   "source": [
    "import discogs_client\n",
    "d = discogs_client.Client('ExampleApplication/0.1')"
   ]
  },
  {
   "cell_type": "code",
   "execution_count": 11,
   "metadata": {},
   "outputs": [
    {
     "data": {
      "text/plain": [
       "<discogs_client.client.Client at 0x1125776d8>"
      ]
     },
     "execution_count": 11,
     "metadata": {},
     "output_type": "execute_result"
    }
   ],
   "source": [
    "d"
   ]
  },
  {
   "cell_type": "code",
   "execution_count": 13,
   "metadata": {},
   "outputs": [],
   "source": [
    "d.set_consumer_key('key-here', 'secret-here')"
   ]
  },
  {
   "cell_type": "code",
   "execution_count": 15,
   "metadata": {},
   "outputs": [
    {
     "ename": "AuthorizationError",
     "evalue": "401: Could not get request token. Response: b'Invalid consumer.'",
     "output_type": "error",
     "traceback": [
      "\u001b[0;31m---------------------------------------------------------------------------\u001b[0m",
      "\u001b[0;31mAuthorizationError\u001b[0m                        Traceback (most recent call last)",
      "\u001b[0;32m<ipython-input-15-85f9d3eac24c>\u001b[0m in \u001b[0;36m<module>\u001b[0;34m\u001b[0m\n\u001b[0;32m----> 1\u001b[0;31m \u001b[0md\u001b[0m\u001b[0;34m.\u001b[0m\u001b[0mget_authorize_url\u001b[0m\u001b[0;34m(\u001b[0m\u001b[0;34m)\u001b[0m\u001b[0;34m\u001b[0m\u001b[0;34m\u001b[0m\u001b[0m\n\u001b[0m",
      "\u001b[0;32m~/anaconda3/lib/python3.7/site-packages/discogs_client/client.py\u001b[0m in \u001b[0;36mget_authorize_url\u001b[0;34m(self, callback_url)\u001b[0m\n\u001b[1;32m     61\u001b[0m         \u001b[0mcontent\u001b[0m\u001b[0;34m,\u001b[0m \u001b[0mstatus_code\u001b[0m \u001b[0;34m=\u001b[0m \u001b[0mself\u001b[0m\u001b[0;34m.\u001b[0m\u001b[0m_fetcher\u001b[0m\u001b[0;34m.\u001b[0m\u001b[0mfetch\u001b[0m\u001b[0;34m(\u001b[0m\u001b[0mself\u001b[0m\u001b[0;34m,\u001b[0m \u001b[0;34m'POST'\u001b[0m\u001b[0;34m,\u001b[0m \u001b[0mself\u001b[0m\u001b[0;34m.\u001b[0m\u001b[0m_request_token_url\u001b[0m\u001b[0;34m,\u001b[0m \u001b[0mdata\u001b[0m\u001b[0;34m=\u001b[0m\u001b[0mpostdata\u001b[0m\u001b[0;34m,\u001b[0m \u001b[0mheaders\u001b[0m\u001b[0;34m=\u001b[0m\u001b[0mparams\u001b[0m\u001b[0;34m)\u001b[0m\u001b[0;34m\u001b[0m\u001b[0;34m\u001b[0m\u001b[0m\n\u001b[1;32m     62\u001b[0m         \u001b[0;32mif\u001b[0m \u001b[0mstatus_code\u001b[0m \u001b[0;34m!=\u001b[0m \u001b[0;36m200\u001b[0m\u001b[0;34m:\u001b[0m\u001b[0;34m\u001b[0m\u001b[0;34m\u001b[0m\u001b[0m\n\u001b[0;32m---> 63\u001b[0;31m             \u001b[0;32mraise\u001b[0m \u001b[0mAuthorizationError\u001b[0m\u001b[0;34m(\u001b[0m\u001b[0;34m'Could not get request token.'\u001b[0m\u001b[0;34m,\u001b[0m \u001b[0mstatus_code\u001b[0m\u001b[0;34m,\u001b[0m \u001b[0mcontent\u001b[0m\u001b[0;34m)\u001b[0m\u001b[0;34m\u001b[0m\u001b[0;34m\u001b[0m\u001b[0m\n\u001b[0m\u001b[1;32m     64\u001b[0m \u001b[0;34m\u001b[0m\u001b[0m\n\u001b[1;32m     65\u001b[0m         \u001b[0mtoken\u001b[0m\u001b[0;34m,\u001b[0m \u001b[0msecret\u001b[0m \u001b[0;34m=\u001b[0m \u001b[0mself\u001b[0m\u001b[0;34m.\u001b[0m\u001b[0m_fetcher\u001b[0m\u001b[0;34m.\u001b[0m\u001b[0mstore_token_from_qs\u001b[0m\u001b[0;34m(\u001b[0m\u001b[0mcontent\u001b[0m\u001b[0;34m)\u001b[0m\u001b[0;34m\u001b[0m\u001b[0;34m\u001b[0m\u001b[0m\n",
      "\u001b[0;31mAuthorizationError\u001b[0m: 401: Could not get request token. Response: b'Invalid consumer.'"
     ]
    }
   ],
   "source": [
    "d.get_authorize_url()"
   ]
  },
  {
   "cell_type": "code",
   "execution_count": 17,
   "metadata": {},
   "outputs": [],
   "source": [
    "import requests\n",
    "import os "
   ]
  },
  {
   "cell_type": "code",
   "execution_count": 22,
   "metadata": {},
   "outputs": [],
   "source": [
    "rickroll = requests.get('https://api.discogs.com/releases/249504').json()"
   ]
  },
  {
   "cell_type": "code",
   "execution_count": 36,
   "metadata": {},
   "outputs": [
    {
     "name": "stdout",
     "output_type": "stream",
     "text": [
      "Producer, Written-By\n",
      "Stock, Aitken & Waterman\n"
     ]
    }
   ],
   "source": [
    "for artist in rickroll['extraartists']:\n",
    "    if 'produc' in artist['role'].lower():\n",
    "        print (artist['role'])\n",
    "        print (artist['name'])"
   ]
  },
  {
   "cell_type": "code",
   "execution_count": 16,
   "metadata": {},
   "outputs": [
    {
     "ename": "NameError",
     "evalue": "name 'os' is not defined",
     "output_type": "error",
     "traceback": [
      "\u001b[0;31m---------------------------------------------------------------------------\u001b[0m",
      "\u001b[0;31mNameError\u001b[0m                                 Traceback (most recent call last)",
      "\u001b[0;32m<ipython-input-16-8d6772eab79a>\u001b[0m in \u001b[0;36m<module>\u001b[0;34m\u001b[0m\n\u001b[1;32m      9\u001b[0m \u001b[0;32mif\u001b[0m \u001b[0m__name__\u001b[0m \u001b[0;34m==\u001b[0m \u001b[0;34m'__main__'\u001b[0m\u001b[0;34m:\u001b[0m\u001b[0;34m\u001b[0m\u001b[0;34m\u001b[0m\u001b[0m\n\u001b[1;32m     10\u001b[0m     \u001b[0mlink\u001b[0m \u001b[0;34m=\u001b[0m \u001b[0;34m'http://api.nytimes.com/svc/search/v2/articlesearch.json'\u001b[0m\u001b[0;34m\u001b[0m\u001b[0;34m\u001b[0m\u001b[0m\n\u001b[0;32m---> 11\u001b[0;31m     \u001b[0mpayload\u001b[0m \u001b[0;34m=\u001b[0m \u001b[0;34m{\u001b[0m\u001b[0;34m'api-key'\u001b[0m\u001b[0;34m:\u001b[0m \u001b[0mos\u001b[0m\u001b[0;34m.\u001b[0m\u001b[0menviron\u001b[0m\u001b[0;34m[\u001b[0m\u001b[0;34m'NYT_API_KEY'\u001b[0m\u001b[0;34m]\u001b[0m\u001b[0;34m}\u001b[0m\u001b[0;34m\u001b[0m\u001b[0;34m\u001b[0m\u001b[0m\n\u001b[0m\u001b[1;32m     12\u001b[0m     \u001b[0mhtml_str\u001b[0m \u001b[0;34m=\u001b[0m \u001b[0msingle_query\u001b[0m\u001b[0;34m(\u001b[0m\u001b[0mlink\u001b[0m\u001b[0;34m,\u001b[0m \u001b[0mpayload\u001b[0m\u001b[0;34m)\u001b[0m\u001b[0;34m\u001b[0m\u001b[0;34m\u001b[0m\u001b[0m\n",
      "\u001b[0;31mNameError\u001b[0m: name 'os' is not defined"
     ]
    }
   ],
   "source": [
    "def single_query(link, payload):\n",
    "    response = requests.get(link, params=payload)\n",
    "    if response.status_code != 200:\n",
    "        print('WARNING', response.status_code)\n",
    "    else:\n",
    "        return response.json()\n",
    "    \n",
    "    \n",
    "if __name__ == '__main__':\n",
    "    link = 'http://api.nytimes.com/svc/search/v2/articlesearch.json'\n",
    "    payload = {'api-key': os.environ['NYT_API_KEY']}\n",
    "    html_str = single_query(link, payload)"
   ]
  },
  {
   "cell_type": "code",
   "execution_count": null,
   "metadata": {},
   "outputs": [],
   "source": []
  }
 ],
 "metadata": {
  "kernelspec": {
   "display_name": "Python 3",
   "language": "python",
   "name": "python3"
  },
  "language_info": {
   "codemirror_mode": {
    "name": "ipython",
    "version": 3
   },
   "file_extension": ".py",
   "mimetype": "text/x-python",
   "name": "python",
   "nbconvert_exporter": "python",
   "pygments_lexer": "ipython3",
   "version": "3.7.1"
  }
 },
 "nbformat": 4,
 "nbformat_minor": 2
}
