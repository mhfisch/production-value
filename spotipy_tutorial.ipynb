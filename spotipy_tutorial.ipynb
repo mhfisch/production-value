{
 "cells": [
  {
   "cell_type": "code",
   "execution_count": 18,
   "metadata": {},
   "outputs": [],
   "source": [
    "import h5py\n",
    "import numpy as np\n",
    "import pandas as pd\n",
    "from collections import defaultdict\n",
    "import h5py\n",
    "import os\n",
    "import sys\n",
    "import h5py\n",
    "from importlib import reload\n",
    "import src.MSDS_conversion as msds\n",
    "import matplotlib.pyplot as plt\n",
    "\n",
    "%matplotlib inline\n",
    "%config InlineBackend.figure_format = 'retina'"
   ]
  },
  {
   "cell_type": "code",
   "execution_count": 20,
   "metadata": {},
   "outputs": [],
   "source": [
    "import spotipy\n",
    "\n",
    "client_id = os.environ['SPOTIFY_CLIENT_ID']\n",
    "client_secret = os.environ['SPOTIFY_CLIENT_SECRET']\n",
    "client_credentials_manager = SpotifyClientCredentials(client_id=client_id, client_secret=client_secret)\n",
    "sp = spotipy.Spotify(client_credentials_manager=client_credentials_manager)"
   ]
  },
  {
   "cell_type": "markdown",
   "metadata": {},
   "source": [
    "The following examples come from https://spotipy.readthedocs.io/en/latest/"
   ]
  },
  {
   "cell_type": "code",
   "execution_count": 22,
   "metadata": {},
   "outputs": [
    {
     "name": "stdout",
     "output_type": "stream",
     "text": [
      "Beautiful Lies\n",
      "Beautiful Lies\n",
      "Beautiful Lies (Deluxe)\n",
      "Beautiful Lies (Deluxe)\n",
      "Fire Within\n",
      "Fire Within\n",
      "Fire Within (Deluxe)\n",
      "Fire Within (Deluxe)\n",
      "Fire Within (Deluxe)\n",
      "Live In London\n",
      "Birdy\n",
      "Birdy\n",
      "Birdy (Spotify Exclusive)\n",
      "Birdy\n",
      "Birdy (Deluxe Version)\n"
     ]
    }
   ],
   "source": [
    "#Here’s a quick example of using Spotipy to list the names of all the albums released by the artist ‘Birdy’:\n",
    "\n",
    "birdy_uri = 'spotify:artist:2WX2uTcsvV5OnS0inACecP'\n",
    "\n",
    "results = sp.artist_albums(birdy_uri, album_type='album')\n",
    "albums = results['items']\n",
    "while results['next']:\n",
    "    results = sp.next(results)\n",
    "    albums.extend(results['items'])\n",
    "\n",
    "for album in albums:\n",
    "    print(album['name'])"
   ]
  },
  {
   "cell_type": "code",
   "execution_count": 23,
   "metadata": {},
   "outputs": [
    {
     "name": "stdout",
     "output_type": "stream",
     "text": [
      "track    : Stairway to Heaven - Remaster\n",
      "audio    : https://p.scdn.co/mp3-preview/8226164717312bc411f8635580562d67e191a754?cid=5157426229ce47aea8e1a6c56e231ddf\n",
      "cover art: https://i.scdn.co/image/557a6058e3de72bf37ffcd2c12dd5932276df344\n",
      "\n",
      "track    : Immigrant Song - Remaster\n",
      "audio    : https://p.scdn.co/mp3-preview/8455599677a13017978dcd3f4b210937f0a16bcb?cid=5157426229ce47aea8e1a6c56e231ddf\n",
      "cover art: https://i.scdn.co/image/e6e513e68c4eefdfc7bc213b35061c9c30b42dfa\n",
      "\n",
      "track    : Whole Lotta Love - 1990 Remaster\n",
      "audio    : https://p.scdn.co/mp3-preview/ce11b19a4d2de9976d7626df0717d0073863909c?cid=5157426229ce47aea8e1a6c56e231ddf\n",
      "cover art: https://i.scdn.co/image/5fa3a6cc1848ea743a293d2088046746d1b09608\n",
      "\n",
      "track    : Black Dog - Remaster\n",
      "audio    : https://p.scdn.co/mp3-preview/9b76619fd9d563a48d38cc90ca00c3008327b52e?cid=5157426229ce47aea8e1a6c56e231ddf\n",
      "cover art: https://i.scdn.co/image/557a6058e3de72bf37ffcd2c12dd5932276df344\n",
      "\n",
      "track    : Good Times Bad Times - 1993 Remaster\n",
      "audio    : https://p.scdn.co/mp3-preview/c1f024eb57b569b926c8e68cab0a6056dc7d9654?cid=5157426229ce47aea8e1a6c56e231ddf\n",
      "cover art: https://i.scdn.co/image/71e6a72a1b3a00d2ddabee9a3e2d5ade3be25409\n",
      "\n",
      "track    : Ramble On - 1990 Remaster\n",
      "audio    : https://p.scdn.co/mp3-preview/83383aceb01ea27b0bffdedfaebe55e29b33aca2?cid=5157426229ce47aea8e1a6c56e231ddf\n",
      "cover art: https://i.scdn.co/image/5fa3a6cc1848ea743a293d2088046746d1b09608\n",
      "\n",
      "track    : Kashmir\n",
      "audio    : https://p.scdn.co/mp3-preview/13b2c47c98132f80a5ce12d8a4ceb192ba7a4345?cid=5157426229ce47aea8e1a6c56e231ddf\n",
      "cover art: https://i.scdn.co/image/e9e82cfa89aaeb1f6b1f8756a98e40ccc65e8a01\n",
      "\n",
      "track    : Rock and Roll - Remaster\n",
      "audio    : https://p.scdn.co/mp3-preview/e7ea8a13f7caf6942c5447e9cd96aac2a076d85a?cid=5157426229ce47aea8e1a6c56e231ddf\n",
      "cover art: https://i.scdn.co/image/557a6058e3de72bf37ffcd2c12dd5932276df344\n",
      "\n",
      "track    : Going to California - Remaster\n",
      "audio    : https://p.scdn.co/mp3-preview/4bdae56c6a9f7a8ec42b753cb7bea2c77ec68f1e?cid=5157426229ce47aea8e1a6c56e231ddf\n",
      "cover art: https://i.scdn.co/image/557a6058e3de72bf37ffcd2c12dd5932276df344\n",
      "\n",
      "track    : Babe I'm Gonna Leave You - 1990 Remaster\n",
      "audio    : https://p.scdn.co/mp3-preview/e82d356bea5c8244cee4e6d5447b46b87852dc11?cid=5157426229ce47aea8e1a6c56e231ddf\n",
      "cover art: https://i.scdn.co/image/71e6a72a1b3a00d2ddabee9a3e2d5ade3be25409\n",
      "\n"
     ]
    }
   ],
   "source": [
    "#Here’s another example showing how to get 30 second samples and cover art for the top 10 tracks for Led Zeppelin:\n",
    "\n",
    "lz_uri = 'spotify:artist:36QJpDe2go2KgaRleHCDTp'\n",
    "\n",
    "results = sp.artist_top_tracks(lz_uri)\n",
    "\n",
    "for track in results['tracks'][:10]:\n",
    "    print ('track    : ' + track['name'])\n",
    "    print ('audio    : ' + track['preview_url'])\n",
    "    print ('cover art: ' + track['album']['images'][0]['url'])\n",
    "    print ()"
   ]
  },
  {
   "cell_type": "code",
   "execution_count": 35,
   "metadata": {},
   "outputs": [],
   "source": [
    "stairway_to_heaven_audio = requests.get('https://p.scdn.co/mp3-preview/8226164717312bc411f8635580562d67e191a754?cid=5157426229ce47aea8e1a6c56e231ddf')\n",
    "stairway_to_heaven_art = requests.get('https://i.scdn.co/image/557a6058e3de72bf37ffcd2c12dd5932276df344')"
   ]
  },
  {
   "cell_type": "code",
   "execution_count": 30,
   "metadata": {},
   "outputs": [],
   "source": [
    "client_id = os.environ['SPOTIFY_CLIENT_ID']\n",
    "client_secret = os.environ['SPOTIFY_CLIENT_SECRET']\n",
    "client_credentials_manager = SpotifyClientCredentials(client_id=client_id, client_secret=client_secret)\n",
    "sp = spotipy.Spotify(client_credentials_manager=client_credentials_manager)"
   ]
  },
  {
   "cell_type": "code",
   "execution_count": 38,
   "metadata": {},
   "outputs": [
    {
     "name": "stdout",
     "output_type": "stream",
     "text": [
      "   1 spotify:playlist:7n0MoJT91mBv9dafQAlYMM Have Yourself A Merry Little Christmas – Sam Smith\n",
      "   2 spotify:playlist:6cdo5E84vzyxE3WpIb7RcF Carros flyg spellista \n",
      "   3 spotify:playlist:37i9dQZEVXbLoATJ81JYXz Sweden Top 50\n",
      "   4 spotify:playlist:3QWmU2TQXJ7QgBx9qCw2Me Soft\n",
      "   5 spotify:playlist:61JoVU0gltK7hKWlKz4zph My Shazam Tracks\n",
      "   6 spotify:playlist:5NtPlB10QMucn5qa8eKQtF tjejmiddag 2016\n",
      "   7 spotify:playlist:30MHritF57BPbtK6NQvSWo bil/tåg/buss/ tunnelbana/flygplan\n",
      "   8 spotify:playlist:37i9dQZF1DWVYZVgDjIR7c Soft vår\n",
      "   9 spotify:playlist:37i9dQZF1DXci7j0DJQgGp Hanging Out and Relaxing\n",
      "  10 spotify:playlist:37i9dQZF1DWXRvPx3nttRN Feeling Acoustically Good\n",
      "  11 spotify:playlist:3fSB0lu9fV5jspidl73IyI sb\n",
      "  12 spotify:playlist:04yxRd4FJEtaxS2VYiY7Kd George Harrison – Somewhere In England\n",
      "  13 spotify:playlist:37i9dQZF1DX4E3UdUs7fUx Afternoon Acoustic\n",
      "  14 spotify:playlist:777p4DfxP56ojiSkr8JteW Tjejdisco oktober 2015\n",
      "  15 spotify:playlist:6q02mDtpupMTZNKOYIAOJU Svenskt\n",
      "  16 spotify:playlist:7MFpXb8jRIKAgnkU4PDUxf Carina 20141120\n",
      "  17 spotify:playlist:2fNT6klZJ9kaJHMp0iBxzq När vi gräver guld i USA\n",
      "  18 spotify:playlist:1uNdXJacJn3Rup97rUVTsB Buddha-Bar (by Ravin) - Buddha Bar X\n",
      "  19 spotify:playlist:6COsU6Ir6OXPFsU7WNbzZp Pink Floyd - The Wall - 2011 - Remaster\n",
      "  20 spotify:playlist:083xhaPzj5jHjZCKqeulie Pink Floyd - Meddle - 2011 - Remaster\n",
      "  21 spotify:playlist:5GQctVXK0pSiSUH0wXeXRY Pink Floyd - Wish You Were Here - 2011 - Remaster\n",
      "  22 spotify:playlist:2BSsxw7Oqvfuti3c9CHe1c Pink Floyd - The Dark Side Of The Moon - 2011 - Remaster\n",
      "  23 spotify:playlist:6Ax0XHUV6duI1RdIyfyDJW Pink Floyd - The Division Bell - 2011 - Remaster\n",
      "  24 spotify:playlist:7zX1uFk3BnM1deb3pRL2pg Pink Floyd - Animals - 2011 - Remaster\n",
      "  25 spotify:playlist:2fN3tp1ZmZv5MY7obZMSCH OMFO - Siddharta, Spirit of Buddha Bar vol.5 : Budapest\n",
      "  26 spotify:playlist:2KVehtQAhMzaPsT9RrJKfb Jef Stott - Siddharta, Spirit of Buddha Bar vol.4 : Praha\n",
      "  27 spotify:playlist:0ylMb2796qc8Dsk36Ygjsk David Visan - Buddha Bar XIII\n",
      "  28 spotify:playlist:3PS3mDYpOGCF3IlmHI1OwA Nicos - Best of Ravin\n",
      "  29 spotify:playlist:52YuN6S057zRRFBZiE7Ijw Starred\n",
      "  30 spotify:playlist:1s3C0nDegAcmFujplBrhhO Ebony & Ivory - Buddha Chill Sessions - The Bar Lounge Edition\n",
      "  31 spotify:playlist:5ctfl5EXgTAmxzd6wpXNN9 W.A.S.P. – The Crimson Idol\n",
      "  32 spotify:playlist:40xrkap19TeeFY3qSwJk6z Ana Gabriel - Mexicanisimo-Bicentenario / Ana Gabriel\n",
      "  33 spotify:playlist:7wbQ03p30kHnziAEqZN6cH Jacqueline\n",
      "  34 spotify:playlist:6dOLT28b3mdeA9HQcRyial Orphei Drangar - Choral Christmas - 30 Christmas Choir Classics\n",
      "  35 spotify:playlist:5EN0yVS0NnNWcMU1wvZxTp The Jam - Direction Reaction Creation\n"
     ]
    }
   ],
   "source": [
    "### THIS WORKS ###\n",
    "\n",
    "\n",
    "import spotipy\n",
    "from spotipy.oauth2 import SpotifyClientCredentials\n",
    "\n",
    "client_credentials_manager = SpotifyClientCredentials(client_id=client_id, client_secret=client_secret)\n",
    "sp = spotipy.Spotify(client_credentials_manager=client_credentials_manager)\n",
    "\n",
    "playlists = sp.user_playlists('jeff')\n",
    "\n",
    "while playlists:\n",
    "    for i, playlist in enumerate(playlists['items']):\n",
    "        print(\"%4d %s %s\" % (i + 1 + playlists['offset'], playlist['uri'],  playlist['name']))\n",
    "    if playlists['next']:\n",
    "        playlists = sp.next(playlists)\n",
    "    else:\n",
    "        playlists = None"
   ]
  },
  {
   "cell_type": "code",
   "execution_count": 39,
   "metadata": {},
   "outputs": [
    {
     "name": "stdout",
     "output_type": "stream",
     "text": [
      "Beautiful Lies\n",
      "Beautiful Lies\n",
      "Beautiful Lies (Deluxe)\n",
      "Beautiful Lies (Deluxe)\n",
      "Fire Within\n",
      "Fire Within\n",
      "Fire Within (Deluxe)\n",
      "Fire Within (Deluxe)\n",
      "Fire Within (Deluxe)\n",
      "Live In London\n",
      "Birdy\n",
      "Birdy\n",
      "Birdy (Spotify Exclusive)\n",
      "Birdy\n",
      "Birdy (Deluxe Version)\n"
     ]
    }
   ],
   "source": [
    "birdy_uri = 'spotify:artist:2WX2uTcsvV5OnS0inACecP'\n",
    "\n",
    "results = sp.artist_albums(birdy_uri, album_type='album')\n",
    "albums = results['items']\n",
    "while results['next']:\n",
    "    results = sp.next(results)\n",
    "    albums.extend(results['items'])\n",
    "\n",
    "for album in albums:\n",
    "    print(album['name'])"
   ]
  },
  {
   "cell_type": "code",
   "execution_count": null,
   "metadata": {},
   "outputs": [],
   "source": []
  },
  {
   "cell_type": "code",
   "execution_count": 44,
   "metadata": {},
   "outputs": [
    {
     "name": "stdout",
     "output_type": "stream",
     "text": [
      "Lady Gaga https://i.scdn.co/image/ea76c82c05174105751f850c8a1db426dd03aa78\n"
     ]
    }
   ],
   "source": [
    "import sys\n",
    "\n",
    "if len(sys.argv) > 1:\n",
    "    name = ' '.join(sys.argv[1:])\n",
    "else:\n",
    "    name = 'Radiohead'\n",
    "\n",
    "name = 'Lady Gaga'\n",
    "results = sp.search(q='artist:' + name, type='artist')\n",
    "items = results['artists']['items']\n",
    "if len(items) > 0:\n",
    "    artist = items[0]\n",
    "    print (artist['name'], artist['images'][0]['url'])"
   ]
  },
  {
   "cell_type": "code",
   "execution_count": 62,
   "metadata": {},
   "outputs": [],
   "source": [
    "results = sp.search(q='bohemian rhapsody', type='track')\n",
    "bohemian_rhapsody_id = results['tracks']['items'][0]['id']\n",
    "br_analysis = sp.audio_analysis(bohemian_rhapsody_id)\n",
    "br_features = sp.audio_features(bohemian_rhapsody_id)"
   ]
  },
  {
   "cell_type": "code",
   "execution_count": 63,
   "metadata": {},
   "outputs": [
    {
     "data": {
      "text/plain": [
       "[{'danceability': 0.397,\n",
       "  'energy': 0.396,\n",
       "  'key': 3,\n",
       "  'loudness': -9.91,\n",
       "  'mode': 1,\n",
       "  'speechiness': 0.05,\n",
       "  'acousticness': 0.254,\n",
       "  'instrumentalness': 0,\n",
       "  'liveness': 0.268,\n",
       "  'valence': 0.227,\n",
       "  'tempo': 142.913,\n",
       "  'type': 'audio_features',\n",
       "  'id': '7tFiyTwD0nx5a1eklYtX2J',\n",
       "  'uri': 'spotify:track:7tFiyTwD0nx5a1eklYtX2J',\n",
       "  'track_href': 'https://api.spotify.com/v1/tracks/7tFiyTwD0nx5a1eklYtX2J',\n",
       "  'analysis_url': 'https://api.spotify.com/v1/audio-analysis/7tFiyTwD0nx5a1eklYtX2J',\n",
       "  'duration_ms': 354320,\n",
       "  'time_signature': 4}]"
      ]
     },
     "execution_count": 63,
     "metadata": {},
     "output_type": "execute_result"
    }
   ],
   "source": [
    "br_features"
   ]
  },
  {
   "cell_type": "code",
   "execution_count": null,
   "metadata": {},
   "outputs": [],
   "source": []
  }
 ],
 "metadata": {
  "kernelspec": {
   "display_name": "Python 3",
   "language": "python",
   "name": "python3"
  },
  "language_info": {
   "codemirror_mode": {
    "name": "ipython",
    "version": 3
   },
   "file_extension": ".py",
   "mimetype": "text/x-python",
   "name": "python",
   "nbconvert_exporter": "python",
   "pygments_lexer": "ipython3",
   "version": "3.7.1"
  }
 },
 "nbformat": 4,
 "nbformat_minor": 2
}
